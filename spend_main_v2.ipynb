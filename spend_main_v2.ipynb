{
 "cells": [
  {
   "cell_type": "code",
   "execution_count": 1,
   "metadata": {
    "execution": {
     "iopub.execute_input": "2024-02-29T19:03:56.856000Z",
     "iopub.status.busy": "2024-02-29T19:03:56.855703Z",
     "iopub.status.idle": "2024-02-29T19:04:34.698822Z",
     "shell.execute_reply": "2024-02-29T19:04:34.698232Z",
     "shell.execute_reply.started": "2024-02-29T19:03:56.855975Z"
    },
    "tags": []
   },
   "outputs": [
    {
     "data": {
      "application/vnd.jupyter.widget-view+json": {
       "model_id": "11d09e5f10e24af1b6b806aca1dbb2b5",
       "version_major": 2,
       "version_minor": 0
      },
      "text/plain": [
       "VBox()"
      ]
     },
     "metadata": {},
     "output_type": "display_data"
    },
    {
     "name": "stdout",
     "output_type": "stream",
     "text": [
      "Starting Spark application\n"
     ]
    },
    {
     "data": {
      "text/html": [
       "<table>\n<tbody><tr><th>ID</th><th>YARN Application ID</th><th>Kind</th><th>State</th><th>Spark UI</th><th>Driver log</th><th>User</th><th>Current session?</th></tr><tr><td>4</td><td>application_1709223206931_0005</td><td>pyspark</td><td>idle</td><td><a target=\"_blank\" href=\"http://ip-172-31-44-23.ec2.internal:20888/proxy/application_1709223206931_0005/\" class=\"emr-proxy-link j-199GMEIT8NIF4 application_1709223206931_0005\" emr-resource=\"j-199GMEIT8NIF4\n\" application-id=\"application_1709223206931_0005\">Link</a></td><td><a target=\"_blank\" href=\"http://ip-172-31-40-78.ec2.internal:8042/node/containerlogs/container_1709223206931_0005_01_000001/livy\">Link</a></td><td>None</td><td>✔</td></tr></tbody></table>"
      ],
      "text/plain": [
       "<IPython.core.display.HTML object>"
      ]
     },
     "metadata": {},
     "output_type": "display_data"
    },
    {
     "data": {
      "application/vnd.jupyter.widget-view+json": {
       "model_id": "",
       "version_major": 2,
       "version_minor": 0
      },
      "text/plain": [
       "FloatProgress(value=0.0, bar_style='info', description='Progress:', layout=Layout(height='25px', width='50%'),…"
      ]
     },
     "metadata": {},
     "output_type": "display_data"
    },
    {
     "name": "stdout",
     "output_type": "stream",
     "text": [
      "SparkSession available as 'spark'.\n"
     ]
    },
    {
     "data": {
      "application/vnd.jupyter.widget-view+json": {
       "model_id": "",
       "version_major": 2,
       "version_minor": 0
      },
      "text/plain": [
       "FloatProgress(value=0.0, bar_style='info', description='Progress:', layout=Layout(height='25px', width='50%'),…"
      ]
     },
     "metadata": {},
     "output_type": "display_data"
    }
   ],
   "source": [
    "\"\"\" Filter based on h3 hexagons mapped to polygons\n",
    "\n",
    "aws emr add-steps --cluster-id <Your EMR cluster id> --steps Type=spark,Name=TestJob,Args=[--deploy-mode,cluster,--master,yarn,--conf,spark.yarn.submit.waitAppCompletion=true,s3a://your-source-bucket/code/pythonjob.py,s3a://your-source-bucket/data/data.csv,s3a://your-destination-bucket/test-output/],ActionOnFailure=CONTINUE\n",
    "\"\"\"\n",
    "\n",
    "from collections import namedtuple\n",
    "import logging\n",
    "import sys\n",
    "\n",
    "from sedona.register import SedonaRegistrator  \n",
    "from sedona.utils import SedonaKryoRegistrator, KryoSerializer\n",
    "from pyspark.sql.functions import udf\n",
    "from sedona.utils.adapter import Adapter\n",
    "#from sedona.core.formatMapper.geojsonReader import GeoJsonReader\n",
    "from sedona.core.formatMapper.shapefileParser import ShapefileReader\n",
    "from sedona.core.SpatialRDD import PointRDD, SpatialRDD, CircleRDD\n",
    "from sedona.sql.types import GeometryType\n",
    "from sedona.core.enums import GridType\n",
    "from sedona.core.spatialOperator import JoinQueryRaw\n",
    "from sedona.core.spatialOperator import JoinQuery\n",
    "from sedona.core.enums import IndexType\n",
    "from sedona.core.formatMapper.disc_utils import load_spatial_rdd_from_disc, GeoType\n",
    "from sedona.core.formatMapper import WktReader\n",
    "\n",
    "\n",
    "import pyproj\n",
    "\n",
    "from geopy.distance import great_circle\n",
    "import pandas as pd\n",
    "import geopandas as gpd\n",
    "import os\n",
    "\n",
    "from datetime import timedelta, date, datetime\n",
    "from statistics import *\n",
    "\n",
    "from pyspark import SparkContext\n",
    "\n",
    "from pyspark.sql import SQLContext, SparkSession\n",
    "from pyspark.sql.window import Window\n",
    "from pyspark.sql.types import (\n",
    "    StructType,\n",
    "    LongType,\n",
    "    StructField,\n",
    "    IntegerType,\n",
    "    StringType,\n",
    "    DoubleType,\n",
    "    TimestampType,\n",
    "    ArrayType\n",
    ")\n",
    "from pyspark.sql.functions import (\n",
    "    from_utc_timestamp,\n",
    "    to_utc_timestamp,\n",
    "    dayofyear,\n",
    "    col,\n",
    "    unix_timestamp,\n",
    "    monotonically_increasing_id,\n",
    "    pandas_udf,\n",
    "    PandasUDFType,\n",
    "    col,\n",
    "    asc,\n",
    "    lit,\n",
    "    countDistinct,\n",
    ")\n",
    "import pyspark.sql.functions as F\n",
    "from math import *\n",
    "import time\n",
    "\n",
    "from shapely.wkt import loads as wkt_loads\n",
    "from shapely.geometry import Point, Polygon, shape\n",
    "from shapely.ops import transform\n",
    "import shapely\n",
    "\n",
    "from matplotlib import pyplot as plt\n",
    "\n",
    "spark = (SparkSession.builder.appName(\"sedona\")\n",
    "                 .config(\"spark.serializer\", KryoSerializer.getName)          \n",
    "        .config(\"spark.kryo.registrator\",     \n",
    "                  SedonaKryoRegistrator.getName)    \n",
    "         .config(\"spark.driver.maxResultSize\", \"3g\")\n",
    "    .getOrCreate() \n",
    "        )\n",
    "\n",
    "\n",
    "# Register Sedona UDTs and UDFs\n",
    "SedonaRegistrator.registerAll(spark)\n",
    "\n",
    "spark.sparkContext.addPyFile(\"s3://ipsos-dvd/scripts/utils.py\")\n",
    "from utils import *\n",
    "import h3_pyspark as h3s\n",
    "#import h3pandas \n",
    "import h3 as h3\n",
    "import io\n",
    "\n",
    "\n",
    "\n",
    "@udf(\"boolean\")\n",
    "def pip_filter(poly_wkt, point_x, point_y):\n",
    "    from shapely import wkt\n",
    "    from shapely import geometry\n",
    "    polygon = wkt.loads(poly_wkt)\n",
    "    point = geometry.Point(point_x, point_y)\n",
    "    return polygon.contains(point)\n",
    "\n",
    "schema = StructType([\n",
    "    StructField(\"dirty\", ArrayType(StringType()), False),\n",
    "    StructField(\"hexes\", ArrayType(StringType()), False)\n",
    "])\n",
    "\n",
    "\n",
    "def parse_dates(x):\n",
    "    if \"/\" in x:\n",
    "        start_date = datetime.strptime(x.split('/')[0], \"%Y-%m-%d\")\n",
    "        end_date = datetime.strptime(x.split('/')[1], \"%Y-%m-%d\")\n",
    "        delta = end_date - start_date\n",
    "        date_list = []\n",
    "        for i in range(delta.days + 1):\n",
    "            date = start_date + timedelta(days = i)\n",
    "            date_list.append(date.strftime(\"%Y/%m/%d\"))\n",
    "        return(date_list)\n",
    "    else: \n",
    "        return([x.replace(\"-\", \"/\")])\n",
    "    \n",
    "def create_point(longitude: float, latitude: float):\n",
    "    return Point(longitude, latitude)\n",
    "\n",
    "create_point_udf = udf(create_point, GeometryType())\n",
    "\n",
    "\n",
    "def create_polygon(wkt: str):\n",
    "    return wkt_loads(wkt)\n",
    "\n",
    "create_polygon_udf = udf(create_polygon, GeometryType())\n",
    "\n",
    "def transform_geometry(geom, crs_from = 'EPSG:4326', crs_to = 'EPSG:9311'):\n",
    "    wgs84 = pyproj.CRS(crs_from)\n",
    "    utm = pyproj.CRS(crs_to)\n",
    "\n",
    "    project = pyproj.Transformer.from_crs(wgs84, utm, always_xy=True).transform\n",
    "\n",
    "    # Ensure that the input geometry is a shapely geometry object\n",
    "    if not isinstance(geom, (shapely.geometry.base.BaseGeometry, shapely.geometry.base.BaseMultipartGeometry)):\n",
    "        geom = shape(geom)\n",
    "\n",
    "    utm_point = transform(project, geom)\n",
    "    \n",
    "    return utm_point\n",
    "\n",
    "transform_geometry_udf = udf(transform_geometry, GeometryType())\n",
    "\n",
    "\n",
    "def shared_polygon(long, lat):\n",
    "    return Point(long, lat).buffer(35)\n",
    "shared_polygon_udf = udf(shared_polygon, GeometryType())\n",
    "\n",
    "def buffer(geom, meters):\n",
    "    return geom.buffer(meters)\n",
    "buffer_udf = udf(buffer, GeometryType())\n",
    "\n",
    "def parse_dates(x):\n",
    "    if \"/\" in x:\n",
    "        start_date = datetime.strptime(x.split('/')[0], \"%Y-%m-%d\")\n",
    "        end_date = datetime.strptime(x.split('/')[1], \"%Y-%m-%d\")\n",
    "        delta = end_date - start_date\n",
    "        date_list = []\n",
    "        for i in range(delta.days + 1):\n",
    "            date = start_date + timedelta(days = i)\n",
    "            date_list.append(date.strftime(\"%Y/%m/%d\"))\n",
    "        return(date_list)\n",
    "    else: \n",
    "        return([x.replace(\"-\", \"/\")])\n",
    "    \n",
    "def saveFigS3(fn, fig):\n",
    "    \n",
    "    # Create an s3 client\n",
    "    s3 = boto3.resource('s3')\n",
    "\n",
    "    # Set the bucket name and object name\n",
    "    bucket = s3.Bucket('ipsos-dvd')\n",
    "\n",
    "    img_data = io.BytesIO()\n",
    "    fig.savefig(img_data, format='png', bbox_inches='tight')\n",
    "    img_data.seek(0)\n",
    "    \n",
    "\n",
    "    # Upload the plot to s3\n",
    "    bucket.put_object(Body=img_data, ContentType='image/png', Key=fn)\n",
    "    \n",
    "essential_fields = [\n",
    "        StructField(\"utc_timestamp\",LongType(),False),\n",
    "        StructField(\"caid\",StringType(),False),\n",
    "        StructField(\"latitude\",DoubleType(),False),\n",
    "        StructField(\"longitude\",DoubleType(),False),\n",
    "        StructField(\"altitude\",DoubleType(),False),\n",
    "]\n",
    "raw_schema = StructType(\n",
    "    essential_fields + [\n",
    "        StructField(\"id_type\",StringType(),False),\n",
    "        StructField(\"geo_hash\",StringType(),False),\n",
    "        StructField(\"horizontal_accuracy\",DoubleType(),False),\n",
    "        StructField(\"ip_address\",StringType(),False),\n",
    "        #StructField(\"altitude\",DoubleType(),False),\n",
    "        StructField(\"iso_country_code\",StringType(),False)]\n",
    ")\n",
    "\n",
    "#------\n",
    "# parameters\n",
    "#------\n",
    "\n",
    "data_dir = \"s3://external-safegraph/\"\n",
    "data_dyn = \"s3://ipsos-dvd/dyn/data/\"\n",
    "figs_dir = \"s3://ipsos-dvd/dyn/results/figs/\"\n",
    "data_veraset = \"s3://external-veraset-data-us-west-2/us/\"\n",
    "\n",
    "\n"
   ]
  },
  {
   "cell_type": "code",
   "execution_count": null,
   "metadata": {},
   "outputs": [
    {
     "data": {
      "application/vnd.jupyter.widget-view+json": {
       "model_id": "45dfb0a83abd48cfa20e7a92f4dc7866",
       "version_major": 2,
       "version_minor": 0
      },
      "text/plain": [
       "VBox()"
      ]
     },
     "metadata": {},
     "output_type": "display_data"
    },
    {
     "data": {
      "application/vnd.jupyter.widget-view+json": {
       "model_id": "",
       "version_major": 2,
       "version_minor": 0
      },
      "text/plain": [
       "FloatProgress(value=0.0, bar_style='info', description='Progress:', layout=Layout(height='25px', width='50%'),…"
      ]
     },
     "metadata": {},
     "output_type": "display_data"
    }
   ],
   "source": [
    "# configurations = spark.sparkContext.getConf().getAll()\n",
    "# for item in configurations: print(item)\n"
   ]
  },
  {
   "cell_type": "markdown",
   "metadata": {},
   "source": [
    "## Join Places and Spend and Filter on Grocery Stores"
   ]
  },
  {
   "cell_type": "code",
   "execution_count": null,
   "metadata": {},
   "outputs": [
    {
     "data": {
      "application/vnd.jupyter.widget-view+json": {
       "model_id": "4ff2255fb7414c50be2963c631fe02ab",
       "version_major": 2,
       "version_minor": 0
      },
      "text/plain": [
       "VBox()"
      ]
     },
     "metadata": {},
     "output_type": "display_data"
    },
    {
     "data": {
      "application/vnd.jupyter.widget-view+json": {
       "model_id": "",
       "version_major": 2,
       "version_minor": 0
      },
      "text/plain": [
       "FloatProgress(value=0.0, bar_style='info', description='Progress:', layout=Layout(height='25px', width='50%'),…"
      ]
     },
     "metadata": {},
     "output_type": "display_data"
    }
   ],
   "source": [
    "schema = StructType([\n",
    "    StructField(\"placekey\", StringType(), True),\n",
    "    StructField(\"parent_placekey\", StringType(), True),\n",
    "    StructField(\"safegraph_brand_ids\", StringType(), True),\n",
    "    StructField(\"location_name\", StringType(), True),\n",
    "    StructField(\"brands\", StringType(), True),\n",
    "    StructField(\"store_id\", StringType(), True),\n",
    "    StructField(\"top_category\", StringType(), True),\n",
    "    StructField(\"sub_category\", StringType(), True),\n",
    "    StructField(\"naics_code\", StringType(), True),\n",
    "    StructField(\"latitude\", StringType(), True),\n",
    "    StructField(\"longitude\", StringType(), True),\n",
    "    StructField(\"street_address\", StringType(), True),\n",
    "    StructField(\"city\", StringType(), True),\n",
    "    StructField(\"region\", StringType(), True),\n",
    "    StructField(\"postal_code\", StringType(), True),\n",
    "    StructField(\"open_hours\", StringType(), True),\n",
    "    StructField(\"category_tags\", StringType(), True),\n",
    "    StructField(\"opened_on\", StringType(), True),\n",
    "    StructField(\"closed_on\", StringType(), True),\n",
    "    StructField(\"tracking_closed_since\", StringType(), True),\n",
    "    StructField(\"websites\", StringType(), True),\n",
    "    StructField(\"geometry_type\", StringType(), True),\n",
    "    StructField(\"polygon_wkt\", StringType(), True),\n",
    "    StructField(\"polygon_class\", StringType(), True),\n",
    "    StructField(\"enclosed\", StringType(), True),\n",
    "    StructField(\"phone_number\", StringType(), True),\n",
    "    StructField(\"is_synthetic\", StringType(), True),\n",
    "    StructField(\"includes_parking_lot\", StringType(), True),\n",
    "    StructField(\"iso_country_code\", StringType(), True),\n",
    "    StructField(\"wkt_area_sq_meters\", StringType(), True)\n",
    "])\n",
    "\n",
    "places = (sqlContext.read.format('com.databricks.spark.csv')\n",
    "         .options(header='true', inferschema='true')\n",
    "         .option('escape','\"') # this is necessary because the fields contain \",\" as well but dont have quotes around them\n",
    "         .load(data_dir + \"places/*.gz\"))\n",
    "places = places.cache()"
   ]
  },
  {
   "cell_type": "code",
   "execution_count": null,
   "metadata": {},
   "outputs": [
    {
     "data": {
      "application/vnd.jupyter.widget-view+json": {
       "model_id": "1e94b15c9e7d4428b3990ce48c327c6c",
       "version_major": 2,
       "version_minor": 0
      },
      "text/plain": [
       "VBox()"
      ]
     },
     "metadata": {},
     "output_type": "display_data"
    },
    {
     "data": {
      "application/vnd.jupyter.widget-view+json": {
       "model_id": "",
       "version_major": 2,
       "version_minor": 0
      },
      "text/plain": [
       "FloatProgress(value=0.0, bar_style='info', description='Progress:', layout=Layout(height='25px', width='50%'),…"
      ]
     },
     "metadata": {},
     "output_type": "display_data"
    }
   ],
   "source": [
    "schema = StructType([\n",
    "    StructField(\"placekey\", StringType(), True),\n",
    "    StructField(\"safegraph_brand_ids\", StringType(), True),\n",
    "    StructField(\"brands\", StringType(), True),\n",
    "    StructField(\"spend_date_range_start\", StringType(), True),\n",
    "    StructField(\"spend_date_range_end\", StringType(), True),\n",
    "    StructField(\"raw_total_spend\", StringType(), True),\n",
    "    StructField(\"raw_num_transactions\", StringType(), True),\n",
    "    StructField(\"raw_num_customers\", StringType(), True),\n",
    "    StructField(\"median_spend_per_transaction\", StringType(), True),\n",
    "    StructField(\"median_spend_per_customer\", StringType(), True),\n",
    "    StructField(\"spend_per_transaction_percentiles\", StringType(), True),\n",
    "    StructField(\"spend_by_day\", StringType(), True),\n",
    "    StructField(\"spend_per_transaction_by_day\", StringType(), True),\n",
    "    StructField(\"spend_by_day_of_week\", StringType(), True),\n",
    "    StructField(\"day_counts\", StringType(), True),\n",
    "    StructField(\"spend_pct_change_vs_prev_month\", StringType(), True),\n",
    "    StructField(\"spend_pct_change_vs_prev_year\", StringType(), True),\n",
    "    StructField(\"online_transactions\", StringType(), True),\n",
    "    StructField(\"online_spend\", StringType(), True),\n",
    "    StructField(\"transaction_intermediary\", StringType(), True),\n",
    "    StructField(\"spend_by_transaction_intermediary\", StringType(), True),\n",
    "    StructField(\"bucketed_customer_frequency\", StringType(), True),\n",
    "    StructField(\"mean_spend_per_customer_by_frequency\", StringType(), True),\n",
    "    StructField(\"bucketed_customer_incomes\", StringType(), True),\n",
    "    StructField(\"mean_spend_per_customer_by_income\", StringType(), True),\n",
    "    StructField(\"customer_home_city\", StringType(), True),\n",
    "    StructField(\"related_cross_shopping_physical_brands_pct\", StringType(), True),\n",
    "    StructField(\"related_cross_shopping_online_merchants_pct\", StringType(), True),\n",
    "    StructField(\"related_cross_shopping_same_category_brands_pct\", StringType(), True),\n",
    "    StructField(\"related_cross_shopping_local_brands_pct\", StringType(), True),\n",
    "    StructField(\"related_wireless_carrier_pct\", StringType(), True),\n",
    "    StructField(\"related_streaming_cable_pct\", StringType(), True),\n",
    "    StructField(\"related_delivery_service_pct\", StringType(), True),\n",
    "    StructField(\"related_rideshare_service_pct\", StringType(), True),\n",
    "    StructField(\"related_buynowpaylater_service_pct\", StringType(), True),\n",
    "    StructField(\"related_payment_platform_pct\", StringType(), True)\n",
    "])\n",
    "spend = (sqlContext.read.format('com.databricks.spark.csv')\n",
    "         .options(header='true', inferschema='true')\n",
    "         .option('escape','\"') # this is necessary because the fields contain \",\" as well but dont have quotes around them\n",
    "         .load(data_dir + \"spend/*.gz\"))\n",
    "spend = spend.cache()"
   ]
  },
  {
   "cell_type": "code",
   "execution_count": null,
   "metadata": {},
   "outputs": [
    {
     "data": {
      "application/vnd.jupyter.widget-view+json": {
       "model_id": "75336e200fd74810a43e6ba1e419316f",
       "version_major": 2,
       "version_minor": 0
      },
      "text/plain": [
       "VBox()"
      ]
     },
     "metadata": {},
     "output_type": "display_data"
    },
    {
     "data": {
      "application/vnd.jupyter.widget-view+json": {
       "model_id": "",
       "version_major": 2,
       "version_minor": 0
      },
      "text/plain": [
       "FloatProgress(value=0.0, bar_style='info', description='Progress:', layout=Layout(height='25px', width='50%'),…"
      ]
     },
     "metadata": {},
     "output_type": "display_data"
    }
   ],
   "source": [
    "colskeep = [x for x in places.columns if x not in spend.columns or x == \"placekey\"]\n",
    "places = places.select(colskeep)"
   ]
  },
  {
   "cell_type": "code",
   "execution_count": null,
   "metadata": {},
   "outputs": [
    {
     "data": {
      "application/vnd.jupyter.widget-view+json": {
       "model_id": "9f4507f359b440e4b8f6c3e7a8296604",
       "version_major": 2,
       "version_minor": 0
      },
      "text/plain": [
       "VBox()"
      ]
     },
     "metadata": {},
     "output_type": "display_data"
    },
    {
     "data": {
      "application/vnd.jupyter.widget-view+json": {
       "model_id": "",
       "version_major": 2,
       "version_minor": 0
      },
      "text/plain": [
       "FloatProgress(value=0.0, bar_style='info', description='Progress:', layout=Layout(height='25px', width='50%'),…"
      ]
     },
     "metadata": {},
     "output_type": "display_data"
    }
   ],
   "source": [
    "spend = spend.join(places, on = \"placekey\", how = \"left\")"
   ]
  },
  {
   "cell_type": "code",
   "execution_count": null,
   "metadata": {},
   "outputs": [
    {
     "data": {
      "application/vnd.jupyter.widget-view+json": {
       "model_id": "e40ef98d65d94c5b910e6384713cd89e",
       "version_major": 2,
       "version_minor": 0
      },
      "text/plain": [
       "VBox()"
      ]
     },
     "metadata": {},
     "output_type": "display_data"
    },
    {
     "data": {
      "application/vnd.jupyter.widget-view+json": {
       "model_id": "",
       "version_major": 2,
       "version_minor": 0
      },
      "text/plain": [
       "FloatProgress(value=0.0, bar_style='info', description='Progress:', layout=Layout(height='25px', width='50%'),…"
      ]
     },
     "metadata": {},
     "output_type": "display_data"
    }
   ],
   "source": [
    "# filter on grocery stores\n",
    "category_list =  [\"Grocery Stores\", 'Grocery and Related Product Merchant Wholesalers', \n",
    "              \"General Merchandise Stores, including Warehouse Clubs and Supercenters\", \n",
    "              ]\n",
    "\n",
    "spend = spend.filter(F.col(\"top_category\").isin(category_list))"
   ]
  },
  {
   "cell_type": "code",
   "execution_count": null,
   "metadata": {},
   "outputs": [
    {
     "data": {
      "application/vnd.jupyter.widget-view+json": {
       "model_id": "d33a460bdd664a64ac71923976f0ff66",
       "version_major": 2,
       "version_minor": 0
      },
      "text/plain": [
       "VBox()"
      ]
     },
     "metadata": {},
     "output_type": "display_data"
    },
    {
     "data": {
      "application/vnd.jupyter.widget-view+json": {
       "model_id": "",
       "version_major": 2,
       "version_minor": 0
      },
      "text/plain": [
       "FloatProgress(value=0.0, bar_style='info', description='Progress:', layout=Layout(height='25px', width='50%'),…"
      ]
     },
     "metadata": {},
     "output_type": "display_data"
    }
   ],
   "source": [
    "spend.write.mode(\"overwrite\").parquet(os.path.join(data_dyn, \"spend_places\"))"
   ]
  },
  {
   "cell_type": "code",
   "execution_count": null,
   "metadata": {},
   "outputs": [
    {
     "data": {
      "application/vnd.jupyter.widget-view+json": {
       "model_id": "fd5b20b556164f218d975cfc8a2e9259",
       "version_major": 2,
       "version_minor": 0
      },
      "text/plain": [
       "VBox()"
      ]
     },
     "metadata": {},
     "output_type": "display_data"
    },
    {
     "data": {
      "application/vnd.jupyter.widget-view+json": {
       "model_id": "",
       "version_major": 2,
       "version_minor": 0
      },
      "text/plain": [
       "FloatProgress(value=0.0, bar_style='info', description='Progress:', layout=Layout(height='25px', width='50%'),…"
      ]
     },
     "metadata": {},
     "output_type": "display_data"
    },
    {
     "name": "stdout",
     "output_type": "stream",
     "text": [
      "['2022/06/01', '2022/06/02', '2022/06/03', '2022/06/04', '2022/06/05', '2022/06/06', '2022/06/07', '2022/06/08', '2022/06/09', '2022/06/10', '2022/06/11', '2022/06/12', '2022/06/13', '2022/06/14', '2022/06/15', '2022/06/16', '2022/06/17', '2022/06/18', '2022/06/19', '2022/06/20', '2022/06/21', '2022/06/22', '2022/06/23', '2022/06/24', '2022/06/25', '2022/06/26', '2022/06/27', '2022/06/28', '2022/06/29', '2022/06/30']"
     ]
    }
   ],
   "source": [
    "START_DATE = \"2022-06-01\"\n",
    "END_DATE = \"2022-06-30\"\n",
    "dates = [START_DATE + \"/\" + END_DATE]\n",
    "\n",
    "# set up date ranges in path form\n",
    "datelist = []\n",
    "for arg in dates:\n",
    "    temp = parse_dates(arg)\n",
    "    datelist.extend(temp)\n",
    "datelist"
   ]
  },
  {
   "cell_type": "markdown",
   "metadata": {},
   "source": [
    "## Find Veraset devices visiting shops"
   ]
  },
  {
   "cell_type": "code",
   "execution_count": null,
   "metadata": {},
   "outputs": [
    {
     "data": {
      "application/vnd.jupyter.widget-view+json": {
       "model_id": "e19a393742854e6f9b94c8adaf38cf78",
       "version_major": 2,
       "version_minor": 0
      },
      "text/plain": [
       "VBox()"
      ]
     },
     "metadata": {},
     "output_type": "display_data"
    },
    {
     "data": {
      "application/vnd.jupyter.widget-view+json": {
       "model_id": "",
       "version_major": 2,
       "version_minor": 0
      },
      "text/plain": [
       "FloatProgress(value=0.0, bar_style='info', description='Progress:', layout=Layout(height='25px', width='50%'),…"
      ]
     },
     "metadata": {},
     "output_type": "display_data"
    }
   ],
   "source": [
    "reload_polys = True\n",
    "\n",
    "if reload_polys:\n",
    "    # store polygons to sedona\n",
    "    spend = spark.read.parquet(os.path.join(data_dyn, \"spend_places\")).select(\"placekey\", \"polygon_wkt\", 'wkt_area_sq_meters',\n",
    "                                                                         \"polygon_class\", \"latitude\", \"longitude\")\n",
    "    # transform to local crs in meters\n",
    "    polys = (spend.dropDuplicates([\"polygon_wkt\"])\n",
    "                .withColumn(\"polygon\", transform_geometry_udf(create_polygon_udf(F.col(\"polygon_wkt\"))))\n",
    "            )\n",
    "\n",
    "    # use buffered centroid for shared polygons like malls\n",
    "    polys = (polys.withColumn(\"polygon\", when(F.col(\"polygon_class\") == \"SHARED_POLYGON\", \n",
    "                                             shared_polygon_udf(F.col(\"longitude\"), F.col(\"latitude\")))\n",
    "                                        .otherwise(F.col(\"polygon\"))\n",
    "                            )\n",
    "                 .withColumn(\"polygon\", transform_geometry_udf(buffer_udf(F.col(\"polygon\"), lit(25)), lit(\"epsg:9311\"), lit(\"epsg:4326\"))\n",
    "                            )\n",
    "                 .select(\"placekey\", \"polygon\")\n",
    "        )\n",
    "\n",
    "    # polygons to spatial rdd\n",
    "    polygons_rdd = Adapter.toSpatialRdd(polys.drop(\"polys_wkt\"), \"polygon\")#.transform('epsg:4326', 'epsg:9311')\n",
    "\n",
    "    polygons_rdd.saveAsWKT(data_dyn + \"polygons_rdd/polygons_rdd\")\n",
    "\n",
    "polygons_rdd = WktReader.readToGeometryRDD(sc, data_dyn + \"polygons_rdd/polygons_rdd\", 0, True, False)\n"
   ]
  },
  {
   "cell_type": "code",
   "execution_count": null,
   "metadata": {},
   "outputs": [
    {
     "data": {
      "application/vnd.jupyter.widget-view+json": {
       "model_id": "22d0b7ca1a544c54be24d5660f5cc61c",
       "version_major": 2,
       "version_minor": 0
      },
      "text/plain": [
       "VBox()"
      ]
     },
     "metadata": {},
     "output_type": "display_data"
    },
    {
     "data": {
      "application/vnd.jupyter.widget-view+json": {
       "model_id": "a4ee484bcfa2465b95b3eae086a07885",
       "version_major": 2,
       "version_minor": 0
      },
      "text/plain": [
       "FloatProgress(value=0.0, bar_style='info', description='Progress:', layout=Layout(height='25px', width='50%'),…"
      ]
     },
     "metadata": {},
     "output_type": "display_data"
    }
   ],
   "source": [
    "# count the data for the paper\n",
    "\n",
    "redo_count = True\n",
    "\n",
    "#path = \"s3://ipsos-dvd/dyn/data/pings/2022/09/01/part-00000-22976405-43c9-4222-a04b-d07840d3c9e9-c000.snappy.parquet\"\n",
    "if redo_count:\n",
    "\n",
    "    essential_fields = [\n",
    "            StructField(\"utc_timestamp\",LongType(),False),\n",
    "            StructField(\"caid\",StringType(),False),\n",
    "            StructField(\"latitude\",DoubleType(),False),\n",
    "            StructField(\"longitude\",DoubleType(),False),\n",
    "            StructField(\"altitude\",DoubleType(),False),\n",
    "    ]\n",
    "    raw_schema = StructType(\n",
    "        essential_fields + [\n",
    "            StructField(\"id_type\",StringType(),False),\n",
    "            StructField(\"geo_hash\",StringType(),False),\n",
    "            StructField(\"horizontal_accuracy\",DoubleType(),False),\n",
    "            StructField(\"ip_address\",StringType(),False),\n",
    "            #StructField(\"altitude\",DoubleType(),False),\n",
    "            StructField(\"iso_country_code\",StringType(),False)]\n",
    "    )\n",
    "    pings = (spark.read.schema(raw_schema).option(\"recursiveFileLookup\",\"true\")\n",
    "             .parquet(data_veraset + \"2022\").select(\"latitude\", \"longitude\", \"caid\", \"utc_timestamp\")# .limit(1000)\n",
    "            )\n",
    "    print(pings.count())\n",
    "    print(pings.dropDuplicates([\"caid\"]).count())\n",
    "\n",
    "    \n"
   ]
  },
  {
   "cell_type": "markdown",
   "metadata": {},
   "source": [
    "### Testing Sedona"
   ]
  },
  {
   "cell_type": "code",
   "execution_count": null,
   "metadata": {},
   "outputs": [
    {
     "data": {
      "application/vnd.jupyter.widget-view+json": {
       "model_id": "584e7e3ab9a04cf092711298e7ffc721",
       "version_major": 2,
       "version_minor": 0
      },
      "text/plain": [
       "VBox()"
      ]
     },
     "metadata": {},
     "output_type": "display_data"
    },
    {
     "data": {
      "application/vnd.jupyter.widget-view+json": {
       "model_id": "",
       "version_major": 2,
       "version_minor": 0
      },
      "text/plain": [
       "FloatProgress(value=0.0, bar_style='info', description='Progress:', layout=Layout(height='25px', width='50%'),…"
      ]
     },
     "metadata": {},
     "output_type": "display_data"
    },
    {
     "name": "stdout",
     "output_type": "stream",
     "text": [
      "2022/06/25\n",
      "True\n",
      "True\n",
      "True\n",
      "[('3.0', '2.12', '1.4.0')]\n",
      "DataFrame[point: udt, caid: string, utc_timestamp: bigint]\n",
      "2022/06/26\n",
      "True\n",
      "True\n",
      "True\n",
      "DataFrame[point: udt, caid: string, utc_timestamp: bigint]\n",
      "2022/06/27\n",
      "True\n",
      "True\n",
      "True\n",
      "DataFrame[point: udt, caid: string, utc_timestamp: bigint]\n",
      "2022/06/28\n",
      "True\n",
      "True\n",
      "True\n",
      "DataFrame[point: udt, caid: string, utc_timestamp: bigint]\n",
      "2022/06/29\n",
      "True\n",
      "True\n",
      "True\n",
      "DataFrame[point: udt, caid: string, utc_timestamp: bigint]\n",
      "2022/06/30\n",
      "True\n",
      "True\n",
      "True\n",
      "DataFrame[point: udt, caid: string, utc_timestamp: bigint]"
     ]
    }
   ],
   "source": [
    "# use spatial partitioning\n",
    "grid_type = GridType.KDBTREE\n",
    "\n",
    "\n",
    "\n",
    "START_DATE = \"2022-06-25\"\n",
    "END_DATE = \"2022-06-30\"\n",
    "dates = [START_DATE + \"/\" + END_DATE]\n",
    "\n",
    "# set up date ranges in path form\n",
    "datelist = []\n",
    "\n",
    "for arg in dates:\n",
    "    temp = parse_dates(arg)\n",
    "    datelist.extend(temp)\n",
    "# create list of s3 folders for dates to get\n",
    "base_bucket = f\"s3://external-veraset-data-us-west-2/us/\" # f\"s3://external-veraset-data-us-west-2/us/\" # f\"s3://external-veraset-data-us-west-2/movement/\"\n",
    "#base_bucket = f\"/home/antonvocalis/ipsos/data/in/veraset/\"\n",
    "\n",
    "for date in datelist:\n",
    "    print(date)\n",
    "    path = data_veraset + date\n",
    "    redo_points = True\n",
    "\n",
    "    if redo_points:\n",
    "        pings = spark.read.schema(raw_schema).parquet(path).select(\"latitude\", \"longitude\", \"caid\", \"utc_timestamp\")# .limit(1000)\n",
    "        pings.createOrReplaceTempView(\"pings\")\n",
    "\n",
    "        # Read Hive table\n",
    "        pings = spark.sql(\n",
    "              \"\"\"SELECT ST_Point(cast(pings.longitude as Decimal(24,20)), cast(pings.latitude as Decimal(24,20))) AS point, \n",
    "              utc_timestamp, caid\n",
    "              FROM pings;\n",
    "              \"\"\"\n",
    "        )\n",
    "        pings.write.mode(\"overwrite\").parquet(data_dyn + \"pings/\" + date)\n",
    "\n",
    "    \n",
    "    pings = spark.read.parquet(data_dyn + \"pings/\" + date).select(\"point\", \"caid\", \"utc_timestamp\") #.limit(1000000)\n",
    "    pings = pings.repartition(10000, \"caid\")\n",
    "\n",
    "    \n",
    "    # convert to spatial rdds\n",
    "    points_rdd = Adapter.toSpatialRdd(pings, \"point\")#.transform('epsg:4326', 'epsg:9311')\n",
    "    \n",
    "\n",
    "    points_rdd.analyze()\n",
    "    points_rdd.spatialPartitioning(grid_type)\n",
    "\n",
    "    polygons_rdd = WktReader.readToGeometryRDD(sc, data_dyn + \"polygons_rdd/polygons_rdd\", 0, True, False)\n",
    "    polygons_rdd.analyze()\n",
    "    polygons_rdd.spatialPartitioning(points_rdd.getPartitioner())\n",
    "\n",
    "    build_on_spatial_partitioned_rdd = True ## Set to TRUE only if run join query\n",
    "    using_index = True\n",
    "    points_rdd.buildIndex(IndexType.QUADTREE, build_on_spatial_partitioned_rdd)\n",
    "    \n",
    "    # try with indexing\n",
    "    # spatial join\n",
    "    result = JoinQueryRaw.SpatialJoinQueryFlat(points_rdd,polygons_rdd, using_index, True)\n",
    "\n",
    "    # (result.indexedRawRDD.saveAsObjectFile(\"hdfs://PATH\") #saveAsTextFile(data_dyn + \"temp/spatial_join_test\")\n",
    "    # )\n",
    "    # (result.write\n",
    "    #   .option(\"header\", \"true\")\n",
    "    #   .csv(data_dyn + \"spatial_join_test\")\n",
    "    # )\n",
    "    (Adapter.toDf(result, polygons_rdd.fieldNames, points_rdd.fieldNames, spark)#.show(5)\n",
    "        .write.mode(\"overwrite\").parquet(os.path.join(data_dyn, 'pings_stores', date))\n",
    "    ) # this is currently slow, may need to remove unrealistically large polygons?\n",
    "    \n",
    "    pings.unpersist()\n",
    "    del points_rdd\n",
    "    "
   ]
  },
  {
   "cell_type": "markdown",
   "metadata": {},
   "source": [
    "### Filter on devices that visited multiple hours in a day, then calculate dwells for those"
   ]
  },
  {
   "cell_type": "code",
   "execution_count": null,
   "metadata": {},
   "outputs": [
    {
     "data": {
      "application/vnd.jupyter.widget-view+json": {
       "model_id": "05d9faff21ca4d29beefe1ef06fa05ff",
       "version_major": 2,
       "version_minor": 0
      },
      "text/plain": [
       "VBox()"
      ]
     },
     "metadata": {},
     "output_type": "display_data"
    },
    {
     "data": {
      "application/vnd.jupyter.widget-view+json": {
       "model_id": "",
       "version_major": 2,
       "version_minor": 0
      },
      "text/plain": [
       "FloatProgress(value=0.0, bar_style='info', description='Progress:', layout=Layout(height='25px', width='50%'),…"
      ]
     },
     "metadata": {},
     "output_type": "display_data"
    }
   ],
   "source": [
    "pings = (spark.read.option(\"recursiveFileLookup\", \"true\")\n",
    "            .parquet(os.path.join(data_dyn, 'pings_stores'))\n",
    "        )\n",
    "\n",
    "pings = pings.filter(F.col(\"placekey\").isNotNull())\n",
    "\n",
    "\n"
   ]
  },
  {
   "cell_type": "code",
   "execution_count": null,
   "metadata": {},
   "outputs": [
    {
     "data": {
      "application/vnd.jupyter.widget-view+json": {
       "model_id": "1418ab3e24c441b4852f814620198057",
       "version_major": 2,
       "version_minor": 0
      },
      "text/plain": [
       "VBox()"
      ]
     },
     "metadata": {},
     "output_type": "display_data"
    },
    {
     "data": {
      "application/vnd.jupyter.widget-view+json": {
       "model_id": "",
       "version_major": 2,
       "version_minor": 0
      },
      "text/plain": [
       "FloatProgress(value=0.0, bar_style='info', description='Progress:', layout=Layout(height='25px', width='50%'),…"
      ]
     },
     "metadata": {},
     "output_type": "display_data"
    }
   ],
   "source": [
    "# get timezone\n",
    "\n",
    "fn = \"s3://ipsos-dvd/data/Time_Zones/\"\n",
    "\n",
    "# timezone shapefile to hive\n",
    "test = gpd.read_file(\"s3://ipsos-dvd/data/Time_Zones/\")\n",
    "test = test.to_crs(\"epsg:4326\")[['utc', 'geometry']]\n",
    "shpf = spark.createDataFrame(test)\n",
    "shpf = shpf.withColumn(\"utc\", F.concat(lit(\"UTC\"), F.col(\"utc\")))\n",
    "shpf = shpf.cache()\n",
    "\n",
    "# broadcast join\n",
    "pings = pings.alias(\"pings\").join(F.broadcast(shpf).alias(\"shpf\"), F.expr(\n",
    "  f\"\"\"ST_Within(pings.rightgeometry, shpf.geometry) \"\"\"\n",
    ")).select(\"pings.placekey\", \"pings.caid\", \"pings.utc_timestamp\", \"pings.rightgeometry\", \"shpf.utc\")\n",
    "\n"
   ]
  },
  {
   "cell_type": "code",
   "execution_count": null,
   "metadata": {},
   "outputs": [
    {
     "data": {
      "application/vnd.jupyter.widget-view+json": {
       "model_id": "4e2580db5b82449da3f975f698924575",
       "version_major": 2,
       "version_minor": 0
      },
      "text/plain": [
       "VBox()"
      ]
     },
     "metadata": {},
     "output_type": "display_data"
    },
    {
     "data": {
      "application/vnd.jupyter.widget-view+json": {
       "model_id": "",
       "version_major": 2,
       "version_minor": 0
      },
      "text/plain": [
       "FloatProgress(value=0.0, bar_style='info', description='Progress:', layout=Layout(height='25px', width='50%'),…"
      ]
     },
     "metadata": {},
     "output_type": "display_data"
    }
   ],
   "source": [
    "# filter on devices that appear at two different hours in any given day\n",
    "pings = (pings.withColumn(\"date\", F.from_utc_timestamp(F.col(\"utc_timestamp\").cast(DoubleType()).cast(TimestampType()), F.expr(\"utc\")))\n",
    "            .withColumn(\"hour\", F.date_trunc( \"hour\", F.col(\"date\")))\n",
    "            .withColumn(\"day\", F.date_trunc(\"day\", F.col(\"date\")))\n",
    "    )\n",
    "\n",
    "temp = pings.groupBy([\"day\", \"caid\"]).agg(F.countDistinct(\"hour\").alias(\"count\"))\n",
    "temp = temp.filter(F.col(\"count\") > 1).dropDuplicates(['caid'])\n",
    " \n",
    "pings = pings.join(temp, how = \"inner\", on = [\"caid\"])\n",
    " "
   ]
  },
  {
   "cell_type": "code",
   "execution_count": null,
   "metadata": {},
   "outputs": [
    {
     "data": {
      "application/vnd.jupyter.widget-view+json": {
       "model_id": "05c1cb9e32ce4c73b58a62291c0019ad",
       "version_major": 2,
       "version_minor": 0
      },
      "text/plain": [
       "VBox()"
      ]
     },
     "metadata": {},
     "output_type": "display_data"
    },
    {
     "data": {
      "application/vnd.jupyter.widget-view+json": {
       "model_id": "",
       "version_major": 2,
       "version_minor": 0
      },
      "text/plain": [
       "FloatProgress(value=0.0, bar_style='info', description='Progress:', layout=Layout(height='25px', width='50%'),…"
      ]
     },
     "metadata": {},
     "output_type": "display_data"
    }
   ],
   "source": [
    "pings.dropDuplicates(['caid']).select(\"caid\").write.mode(\"overwrite\").parquet(os.path.join(data_dyn, \"caids_stores_candidates\"))\n",
    "\n"
   ]
  },
  {
   "cell_type": "markdown",
   "metadata": {},
   "source": [
    "### Now calculate dwells for subset of candidate devices "
   ]
  },
  {
   "cell_type": "code",
   "execution_count": null,
   "metadata": {},
   "outputs": [
    {
     "data": {
      "application/vnd.jupyter.widget-view+json": {
       "model_id": "ebd76822498d49c0aadf144d4d0ddefd",
       "version_major": 2,
       "version_minor": 0
      },
      "text/plain": [
       "VBox()"
      ]
     },
     "metadata": {},
     "output_type": "display_data"
    },
    {
     "data": {
      "application/vnd.jupyter.widget-view+json": {
       "model_id": "",
       "version_major": 2,
       "version_minor": 0
      },
      "text/plain": [
       "FloatProgress(value=0.0, bar_style='info', description='Progress:', layout=Layout(height='25px', width='50%'),…"
      ]
     },
     "metadata": {},
     "output_type": "display_data"
    }
   ],
   "source": [
    "# get list of caids\n",
    "caid = spark.read.parquet(os.path.join(data_dyn, \"caids_stores_candidates\"))\n",
    "caid = caid.cache()\n",
    "\n",
    "# loop over dates\n",
    "START_DATE = \"2022-06-01\"\n",
    "END_DATE = \"2022-06-30\"\n",
    "dates = [START_DATE + \"/\" + END_DATE]\n",
    "\n",
    "# set up date ranges in path form\n",
    "datelist = []\n",
    "\n",
    "for arg in dates:\n",
    "    temp = parse_dates(arg)\n",
    "    datelist.extend(temp)\n",
    "\n",
    "for date in datelist:\n",
    "    path = data_veraset + date\n",
    "    pings = (spark.read.schema(raw_schema).parquet(path).select(\"latitude\", \"longitude\", \"caid\", \"utc_timestamp\")# .limit(1000)\n",
    "            )\n",
    "    pings = pings.join(caid, how = \"inner\", on = \"caid\")\n",
    "\n",
    "    pings.write.mode(\"overwrite\").parquet(os.path.join(data_dyn, \"pings_stores_candidates\", date))\n",
    "    "
   ]
  },
  {
   "cell_type": "code",
   "execution_count": null,
   "metadata": {},
   "outputs": [
    {
     "data": {
      "application/vnd.jupyter.widget-view+json": {
       "model_id": "fc5c2c7cd32044a095e89497b22d40e6",
       "version_major": 2,
       "version_minor": 0
      },
      "text/plain": [
       "VBox()"
      ]
     },
     "metadata": {},
     "output_type": "display_data"
    },
    {
     "data": {
      "application/vnd.jupyter.widget-view+json": {
       "model_id": "67541af445d247e2b2461b37f2a99e04",
       "version_major": 2,
       "version_minor": 0
      },
      "text/plain": [
       "FloatProgress(value=0.0, bar_style='info', description='Progress:', layout=Layout(height='25px', width='50%'),…"
      ]
     },
     "metadata": {},
     "output_type": "display_data"
    }
   ],
   "source": [
    "# calculate dwells\n",
    "spark.sparkContext.addPyFile(\"s3://ipsos-dvd/scripts/grab_veraset_v2.py\") # import dwells helper functions\n",
    "\n",
    "cluster_schema = StructType(\n",
    "    [\n",
    "        StructField(\"caid\", StringType(), False),\n",
    "        StructField(\"latitude\", DoubleType(), False),\n",
    "        StructField(\"longitude\", DoubleType(), False),\n",
    "        StructField(\"utc_timestamp_start\", LongType(), False),\n",
    "        StructField(\"stay_length_sec\", IntegerType(), False),\n",
    "    ]\n",
    ")\n",
    "clusters = (spark.read.option(\"recursiveFileLookup\", \"true\").parquet(os.path.join(data_dyn, 'pings_stores_candidates')).repartition(10000, \"caid\")\n",
    "                .sortWithinPartitions('utc_timestamp', ascending = True)\n",
    "                .groupby(\"caid\").applyInPandas(dstar_agg, schema = cluster_schema))\n",
    "\n",
    "clusters.write.mode(\"overwrite\").parquet(\n",
    "    os.path.join(data_dyn, \"dwells_candidates\")\n",
    ")\n"
   ]
  },
  {
   "cell_type": "markdown",
   "metadata": {},
   "source": [
    "### Calculate homes for these dwells and then match to stores"
   ]
  },
  {
   "cell_type": "code",
   "execution_count": null,
   "metadata": {},
   "outputs": [
    {
     "data": {
      "application/vnd.jupyter.widget-view+json": {
       "model_id": "07f004a1135a4abdaf099878758e6f9a",
       "version_major": 2,
       "version_minor": 0
      },
      "text/plain": [
       "VBox()"
      ]
     },
     "metadata": {},
     "output_type": "display_data"
    },
    {
     "data": {
      "application/vnd.jupyter.widget-view+json": {
       "model_id": "",
       "version_major": 2,
       "version_minor": 0
      },
      "text/plain": [
       "FloatProgress(value=0.0, bar_style='info', description='Progress:', layout=Layout(height='25px', width='50%'),…"
      ]
     },
     "metadata": {},
     "output_type": "display_data"
    }
   ],
   "source": [
    "dwells = spark.read.parquet(os.path.join(data_dyn, \"dwells_candidates\"))\n",
    "\n",
    "\n",
    "dwells = dwells.withColumn(\"point\", F.expr(\"ST_Point(longitude, latitude)\"))\n"
   ]
  },
  {
   "cell_type": "code",
   "execution_count": null,
   "metadata": {},
   "outputs": [
    {
     "data": {
      "application/vnd.jupyter.widget-view+json": {
       "model_id": "b46d093f9aae4a3e98bb0ffdb97c0de2",
       "version_major": 2,
       "version_minor": 0
      },
      "text/plain": [
       "VBox()"
      ]
     },
     "metadata": {},
     "output_type": "display_data"
    },
    {
     "data": {
      "application/vnd.jupyter.widget-view+json": {
       "model_id": "",
       "version_major": 2,
       "version_minor": 0
      },
      "text/plain": [
       "FloatProgress(value=0.0, bar_style='info', description='Progress:', layout=Layout(height='25px', width='50%'),…"
      ]
     },
     "metadata": {},
     "output_type": "display_data"
    }
   ],
   "source": [
    "# get timezones\n",
    "fn = \"s3://ipsos-dvd/data/Time_Zones/\"\n",
    "\n",
    "# timezone shapefile to hive\n",
    "test = gpd.read_file(\"s3://ipsos-dvd/data/Time_Zones/\")\n",
    "test = test.to_crs(\"epsg:4326\")[['utc', 'geometry']]\n",
    "shpf = spark.createDataFrame(test)\n",
    "shpf = shpf.withColumn(\"utc\", F.concat(lit(\"UTC\"), F.col(\"utc\")))\n",
    "shpf = shpf.cache()\n",
    "\n",
    "# broadcast join\n",
    "dwells = dwells.alias(\"dwells\").join(F.broadcast(shpf).alias(\"shpf\"), F.expr(\n",
    "  f\"\"\"ST_Within(dwells.point, shpf.geometry) \"\"\"\n",
    ")).drop(\"geometry\")\n"
   ]
  },
  {
   "cell_type": "code",
   "execution_count": null,
   "metadata": {},
   "outputs": [
    {
     "data": {
      "application/vnd.jupyter.widget-view+json": {
       "model_id": "81bd8c7cc2b44df68e32e292508180cf",
       "version_major": 2,
       "version_minor": 0
      },
      "text/plain": [
       "VBox()"
      ]
     },
     "metadata": {},
     "output_type": "display_data"
    },
    {
     "data": {
      "application/vnd.jupyter.widget-view+json": {
       "model_id": "",
       "version_major": 2,
       "version_minor": 0
      },
      "text/plain": [
       "FloatProgress(value=0.0, bar_style='info', description='Progress:', layout=Layout(height='25px', width='50%'),…"
      ]
     },
     "metadata": {},
     "output_type": "display_data"
    }
   ],
   "source": [
    "dwells.write.mode(\"overwrite\").parquet(os.path.join(data_dyn, 'dwells_with_timezone'))"
   ]
  },
  {
   "cell_type": "code",
   "execution_count": null,
   "metadata": {},
   "outputs": [
    {
     "data": {
      "application/vnd.jupyter.widget-view+json": {
       "model_id": "c7e8682254034f5e9e53a0c571054b08",
       "version_major": 2,
       "version_minor": 0
      },
      "text/plain": [
       "VBox()"
      ]
     },
     "metadata": {},
     "output_type": "display_data"
    },
    {
     "data": {
      "application/vnd.jupyter.widget-view+json": {
       "model_id": "",
       "version_major": 2,
       "version_minor": 0
      },
      "text/plain": [
       "FloatProgress(value=0.0, bar_style='info', description='Progress:', layout=Layout(height='25px', width='50%'),…"
      ]
     },
     "metadata": {},
     "output_type": "display_data"
    },
    {
     "name": "stdout",
     "output_type": "stream",
     "text": [
      "Requirement already satisfied: scikit-learn in /usr/local/lib64/python3.7/site-packages\n",
      "Requirement already satisfied: scipy>=1.1.0 in /usr/local/lib64/python3.7/site-packages (from scikit-learn)\n",
      "Requirement already satisfied: numpy>=1.14.6 in /usr/local/lib64/python3.7/site-packages (from scikit-learn)\n",
      "Requirement already satisfied: threadpoolctl>=2.0.0 in /usr/local/lib/python3.7/site-packages (from scikit-learn)\n",
      "Requirement already satisfied: joblib>=0.11 in /usr/local/lib64/python3.7/site-packages (from scikit-learn)\n",
      "\n",
      "The directory '/home/.cache/pip/http' or its parent directory is not owned by the current user and the cache has been disabled. Please check the permissions and owner of that directory. If executing pip with sudo, you may want sudo's -H flag.\n",
      "The directory '/home/.cache/pip' or its parent directory is not owned by the current user and caching wheels has been disabled. check the permissions and owner of that directory. If executing pip with sudo, you may want sudo's -H flag.\n",
      "You are using pip version 9.0.1, however version 23.0.1 is available.\n",
      "You should consider upgrading via the 'pip install --upgrade pip' command."
     ]
    }
   ],
   "source": [
    "sc.install_pypi_package(\"scikit-learn\")"
   ]
  },
  {
   "cell_type": "code",
   "execution_count": null,
   "metadata": {},
   "outputs": [
    {
     "data": {
      "application/vnd.jupyter.widget-view+json": {
       "model_id": "6af7c067884a458f8da0afa82eb04411",
       "version_major": 2,
       "version_minor": 0
      },
      "text/plain": [
       "VBox()"
      ]
     },
     "metadata": {},
     "output_type": "display_data"
    },
    {
     "data": {
      "application/vnd.jupyter.widget-view+json": {
       "model_id": "",
       "version_major": 2,
       "version_minor": 0
      },
      "text/plain": [
       "FloatProgress(value=0.0, bar_style='info', description='Progress:', layout=Layout(height='25px', width='50%'),…"
      ]
     },
     "metadata": {},
     "output_type": "display_data"
    }
   ],
   "source": [
    "import pandas as pd\n",
    "import numpy as np\n",
    "from sklearn.cluster import dbscan\n",
    "\n",
    "def floor_date(day):\n",
    "    ''' Returns start of week (Sunday before) for compatibility with R's lubridate::floor_date\n",
    "    @day: datetime object\n",
    "    '''\n",
    "    return day - timedelta(days=day.weekday() + 1)\n",
    "\n",
    "\n",
    "def get_dwell_cluster(data: pd.DataFrame) -> pd.DataFrame:\n",
    "    \"\"\"Find a cluster if it exists and return the center and classification. For\n",
    "    cases where there are more than one cluster, \n",
    "    \n",
    "    all clusters are returned along with\n",
    "    the counts of number of members (overnight dwells)\n",
    "\n",
    "    Returns:\n",
    "      pandas.DataFrame: results\n",
    "\n",
    "    \"\"\"\n",
    "    caid = data.iloc[0].caid\n",
    "    temp = data.copy()\n",
    "    coords = np.radians(temp[[\"latitude\", \"longitude\"]].values)\n",
    "    # choose appropriate epsilon values\n",
    "    # here we use ~50 meters\n",
    "    kms_per_radian = 6371\n",
    "    epsilon = 0.05 / kms_per_radian\n",
    "\n",
    "    # calculate clusters\n",
    "    # use haversine metric for calculating approximate distances on earth's\n",
    "    #  surface (crow fly)\n",
    "    _, cluster_labels = dbscan(\n",
    "        coords, eps=epsilon, min_samples=3, algorithm=\"ball_tree\", metric=\"haversine\",\n",
    "    )\n",
    "    temp[\"cluster_labels\"] = [f\"l{l}\" for l in cluster_labels]\n",
    "    temp = temp[temp.cluster_labels != \"l-1\"]\n",
    "    cluster_centers = (\n",
    "        temp.groupby(\"cluster_labels\")\n",
    "        .agg({\"latitude\": \"mean\", \"longitude\": \"mean\", \"caid\": \"count\"})\n",
    "        .reset_index()\n",
    "        .rename(columns={\"caid\": \"num_members\"})\n",
    "        .sort_values(\"num_members\", ascending=False)\n",
    "    )\n",
    "    cluster_centers[\"caid\"] = caid\n",
    "    # select the top one (ordered by num_members)\n",
    "    return cluster_centers[[\"caid\", \"latitude\", \"longitude\"]].iloc[0:1]\n",
    "\n",
    "def dwell_exploder(row):\n",
    "    \"\"\"Wrapper for dstar_clusters\"\"\"\n",
    "    temp = row.iloc[0]\n",
    "\n",
    "    return pd.DataFrame(\n",
    "        [\n",
    "            {\n",
    "                \"caid\": temp.caid,\n",
    "                \"latitude\": temp.latitude,\n",
    "                \"longitude\": temp.longitude,\n",
    "            }\n",
    "            for idx in range(temp.num_days)\n",
    "        ]\n",
    "    )\n",
    "\n",
    "def cluster_getter(data):\n",
    "    \"\"\"Wrapper for get_dwell_cluster\"\"\"\n",
    "    return get_dwell_cluster(data)"
   ]
  },
  {
   "cell_type": "code",
   "execution_count": null,
   "metadata": {},
   "outputs": [
    {
     "data": {
      "application/vnd.jupyter.widget-view+json": {
       "model_id": "6eefcc89ec2f4774b20a5cb79640e87b",
       "version_major": 2,
       "version_minor": 0
      },
      "text/plain": [
       "VBox()"
      ]
     },
     "metadata": {},
     "output_type": "display_data"
    },
    {
     "data": {
      "application/vnd.jupyter.widget-view+json": {
       "model_id": "",
       "version_major": 2,
       "version_minor": 0
      },
      "text/plain": [
       "FloatProgress(value=0.0, bar_style='info', description='Progress:', layout=Layout(height='25px', width='50%'),…"
      ]
     },
     "metadata": {},
     "output_type": "display_data"
    }
   ],
   "source": [
    "N_PARTITIONS = 10000\n",
    "\n",
    "# calculate home locations\n",
    "\n",
    "# Load data for period of interest, computing number of days spent overnight at each dwell location\n",
    "overnight_dwells = (\n",
    "    dwells\n",
    "    .where(\"stay_length_sec > 7200\") # more than 2 hours\n",
    "    .withColumn( \"date\", \n",
    "            from_utc_timestamp(\n",
    "                col(\"utc_timestamp_start\").cast(DoubleType()).cast(TimestampType()),\n",
    "                F.col('utc'),\n",
    "            )\n",
    "    )\n",
    "    #.withColumn('hour', hour(col('date')))\n",
    "    .withColumn(\n",
    "        \"doy_start\",\n",
    "        dayofyear(\n",
    "            col(\"date\")\n",
    "        ),\n",
    "    )\n",
    "    .withColumn(\n",
    "        \"doy_end\",\n",
    "        dayofyear(\n",
    "            from_utc_timestamp(\n",
    "                (col(\"utc_timestamp_start\") + col(\"stay_length_sec\")).cast(\n",
    "                    dataType=TimestampType()\n",
    "                ),\n",
    "                col('utc'),\n",
    "            )\n",
    "        ),\n",
    "    )\n",
    "    .where(\"doy_start != doy_end\")\n",
    "    #.where((col('hour').between(18,24)) | (col('hour').between(0,7))) # between 6pm and 7am\n",
    "    .withColumn(\"rowid\", monotonically_increasing_id())\n",
    "    .withColumn(\"num_days\", col(\"doy_end\") - col(\"doy_start\"))\n",
    "    .select(\"caid\", \"latitude\", \"longitude\", \"num_days\", \"rowid\", \"date\")\n",
    ")\n",
    "\n",
    "\n",
    "# explode dwells into multiple overnight stays\n",
    "out_schema = StructType(\n",
    "    [\n",
    "        StructField(\"caid\", StringType(), False),\n",
    "        StructField(\"latitude\", DoubleType(), False),\n",
    "        StructField(\"longitude\", DoubleType(), False),\n",
    "    ]\n",
    ")\n",
    "\n",
    "\n",
    "exploded = (\n",
    "    overnight_dwells.groupby(\"rowid\")\n",
    "    .applyInPandas(dwell_exploder, schema = out_schema)\n",
    "    .select(\"caid\", \"latitude\", \"longitude\")\n",
    "    .cache()\n",
    ")\n",
    "\n",
    "# caids with sufficient night dwells\n",
    "keepers = (\n",
    "    exploded.groupby(\"caid\")\n",
    "    .agg({\"latitude\": \"count\"})\n",
    "    .where(col(\"count(latitude)\") >= lit(4))\n",
    "    .select(\"caid\")\n",
    ")\n",
    "final = (\n",
    "    exploded.join(keepers, exploded.caid == keepers.caid, how=\"inner\")\n",
    "    .drop(keepers.caid)\n",
    "    .repartition(N_PARTITIONS, \"caid\")\n",
    ")\n",
    "\n",
    "# Cluster exploded overnight dwells \n",
    "cluster_schema = StructType(\n",
    "    [\n",
    "        StructField(\"caid\", StringType(), False),\n",
    "        StructField(\"latitude\", DoubleType(), False),\n",
    "        StructField(\"longitude\", DoubleType(), False),\n",
    "    ]\n",
    ")\n",
    "\n",
    "final.write.mode(\"overwrite\").parquet(os.path.join(data_dyn, \"temp\"))\n",
    "\n",
    "\n",
    "\n"
   ]
  },
  {
   "cell_type": "code",
   "execution_count": null,
   "metadata": {},
   "outputs": [
    {
     "data": {
      "application/vnd.jupyter.widget-view+json": {
       "model_id": "04c7eee1b9624cfd9aa058798f28509c",
       "version_major": 2,
       "version_minor": 0
      },
      "text/plain": [
       "VBox()"
      ]
     },
     "metadata": {},
     "output_type": "display_data"
    },
    {
     "data": {
      "application/vnd.jupyter.widget-view+json": {
       "model_id": "",
       "version_major": 2,
       "version_minor": 0
      },
      "text/plain": [
       "FloatProgress(value=0.0, bar_style='info', description='Progress:', layout=Layout(height='25px', width='50%'),…"
      ]
     },
     "metadata": {},
     "output_type": "display_data"
    }
   ],
   "source": [
    "final = spark.read.parquet(os.path.join(data_dyn, \"temp\"))\n",
    "\n",
    "\n",
    "home_locations = final.groupby(\"caid\").applyInPandas(cluster_getter, schema = cluster_schema)\n",
    "\n",
    "\n",
    "\n",
    "# writing home dwell dwell data\n",
    "\n",
    "home_locations.write.csv(\n",
    "    os.path.join(data_dyn, 'homes_candidates_stores'), compression=\"gzip\", mode = \"overwrite\", header = True\n",
    ")\n",
    "\n"
   ]
  },
  {
   "cell_type": "markdown",
   "metadata": {},
   "source": [
    "### Now match workers and shoppers to stores"
   ]
  },
  {
   "cell_type": "code",
   "execution_count": null,
   "metadata": {},
   "outputs": [
    {
     "data": {
      "application/vnd.jupyter.widget-view+json": {
       "model_id": "57ad312117a841c9951062bd380d3a07",
       "version_major": 2,
       "version_minor": 0
      },
      "text/plain": [
       "VBox()"
      ]
     },
     "metadata": {},
     "output_type": "display_data"
    },
    {
     "data": {
      "application/vnd.jupyter.widget-view+json": {
       "model_id": "",
       "version_major": 2,
       "version_minor": 0
      },
      "text/plain": [
       "FloatProgress(value=0.0, bar_style='info', description='Progress:', layout=Layout(height='25px', width='50%'),…"
      ]
     },
     "metadata": {},
     "output_type": "display_data"
    }
   ],
   "source": [
    "# select devices that have home\n",
    "\n",
    "home_locations = spark.read.csv(\n",
    "    os.path.join(data_dyn, 'homes_candidates_stores'), header = True, inferSchema = True\n",
    ").withColumnRenamed('latitude', 'latitude_home').withColumnRenamed('longitude', 'longitude_home')\n",
    "\n",
    "dwells = spark.read.parquet(os.path.join(data_dyn, 'dwells_with_timezone'))\n",
    "\n",
    "\n",
    "dwells = dwells.join(home_locations, on = \"caid\", how = \"inner\")\n"
   ]
  },
  {
   "cell_type": "code",
   "execution_count": null,
   "metadata": {},
   "outputs": [
    {
     "data": {
      "application/vnd.jupyter.widget-view+json": {
       "model_id": "c098c457172644eab99a5d90327952b3",
       "version_major": 2,
       "version_minor": 0
      },
      "text/plain": [
       "VBox()"
      ]
     },
     "metadata": {},
     "output_type": "display_data"
    },
    {
     "data": {
      "application/vnd.jupyter.widget-view+json": {
       "model_id": "",
       "version_major": 2,
       "version_minor": 0
      },
      "text/plain": [
       "FloatProgress(value=0.0, bar_style='info', description='Progress:', layout=Layout(height='25px', width='50%'),…"
      ]
     },
     "metadata": {},
     "output_type": "display_data"
    },
    {
     "name": "stdout",
     "output_type": "stream",
     "text": [
      "[('3.0', '2.12', '1.4.0')]"
     ]
    }
   ],
   "source": [
    "# intersect dwells for those devices with grocery stores\n",
    "grid_type = GridType.KDBTREE\n",
    "\n",
    "# convert to spatial rdds\n",
    "points_rdd = Adapter.toSpatialRdd(dwells, \"point\")#.transform('epsg:4326', 'epsg:9311')\n",
    "\n",
    "\n",
    "points_rdd.analyze()\n",
    "points_rdd.spatialPartitioning(grid_type)\n",
    "\n",
    "polygons_rdd = WktReader.readToGeometryRDD(sc, data_dyn + \"polygons_rdd/polygons_rdd\", 0, True, False)\n",
    "polygons_rdd.analyze()\n",
    "polygons_rdd.spatialPartitioning(points_rdd.getPartitioner())\n",
    "\n",
    "build_on_spatial_partitioned_rdd = True ## Set to TRUE only if run join query\n",
    "using_index = True\n",
    "points_rdd.buildIndex(IndexType.QUADTREE, build_on_spatial_partitioned_rdd)\n",
    "\n",
    "# try with indexing\n",
    "# spatial join\n",
    "result = JoinQueryRaw.SpatialJoinQueryFlat(points_rdd,polygons_rdd, using_index, True)\n",
    "\n",
    "(Adapter.toDf(result, polygons_rdd.fieldNames, points_rdd.fieldNames, spark)#.show(5)\n",
    "    .write.mode(\"overwrite\").parquet(os.path.join(data_dyn, 'dwells_stores_homes'))\n",
    ") # this is currently slow, may need to remove unrealistically large polygons?\n"
   ]
  },
  {
   "cell_type": "markdown",
   "metadata": {},
   "source": [
    "### Restart from here"
   ]
  },
  {
   "cell_type": "code",
   "execution_count": null,
   "metadata": {},
   "outputs": [
    {
     "data": {
      "application/vnd.jupyter.widget-view+json": {
       "model_id": "578583fbcb7845d79fe348d4289ad934",
       "version_major": 2,
       "version_minor": 0
      },
      "text/plain": [
       "VBox()"
      ]
     },
     "metadata": {},
     "output_type": "display_data"
    },
    {
     "data": {
      "application/vnd.jupyter.widget-view+json": {
       "model_id": "",
       "version_major": 2,
       "version_minor": 0
      },
      "text/plain": [
       "FloatProgress(value=0.0, bar_style='info', description='Progress:', layout=Layout(height='25px', width='50%'),…"
      ]
     },
     "metadata": {},
     "output_type": "display_data"
    }
   ],
   "source": [
    "dwells = spark.read.parquet(os.path.join(data_dyn, 'dwells_stores_homes'))\n",
    "\n",
    "dwells = (dwells.filter(F.col(\"stay_length_sec\") > 7200) # dwell for at least 2 hours to be considered a worker\n",
    "            \n",
    "         )\n"
   ]
  },
  {
   "cell_type": "code",
   "execution_count": null,
   "metadata": {},
   "outputs": [
    {
     "data": {
      "application/vnd.jupyter.widget-view+json": {
       "model_id": "fedcf706ba6b4208a6f5b1e1f10e0161",
       "version_major": 2,
       "version_minor": 0
      },
      "text/plain": [
       "VBox()"
      ]
     },
     "metadata": {},
     "output_type": "display_data"
    },
    {
     "data": {
      "application/vnd.jupyter.widget-view+json": {
       "model_id": "",
       "version_major": 2,
       "version_minor": 0
      },
      "text/plain": [
       "FloatProgress(value=0.0, bar_style='info', description='Progress:', layout=Layout(height='25px', width='50%'),…"
      ]
     },
     "metadata": {},
     "output_type": "display_data"
    }
   ],
   "source": [
    "# store polygons to sedona\n",
    "spend = spark.read.parquet(os.path.join(data_dyn, \"spend_places\")).select(\"placekey\", \"polygon_wkt\", 'wkt_area_sq_meters',\n",
    "                                                                     \"polygon_class\", \"latitude\", \"longitude\")\n",
    "# transform to local crs in meters\n",
    "polys = (spend.dropDuplicates([\"polygon_wkt\"])\n",
    "            .withColumn(\"polygon\", transform_geometry_udf(create_polygon_udf(F.col(\"polygon_wkt\"))))\n",
    "        )\n",
    "\n",
    "# use buffered centroid for shared polygons like malls\n",
    "polys = (polys.withColumn(\"polygon\", when(F.col(\"polygon_class\") == \"SHARED_POLYGON\", \n",
    "                                         shared_polygon_udf(F.col(\"longitude\"), F.col(\"latitude\")))\n",
    "                                    .otherwise(F.col(\"polygon\"))\n",
    "                        )\n",
    "             .withColumn(\"polygon\", transform_geometry_udf(buffer_udf(F.col(\"polygon\"), lit(25)), lit(\"epsg:9311\"), lit(\"epsg:4326\"))\n",
    "                        )\n",
    "             .select(\"placekey\", \"polygon\")\n",
    "    )\n"
   ]
  },
  {
   "cell_type": "code",
   "execution_count": null,
   "metadata": {},
   "outputs": [
    {
     "data": {
      "application/vnd.jupyter.widget-view+json": {
       "model_id": "36993efdfb2148169be6b5a7c5f3259b",
       "version_major": 2,
       "version_minor": 0
      },
      "text/plain": [
       "VBox()"
      ]
     },
     "metadata": {},
     "output_type": "display_data"
    },
    {
     "data": {
      "application/vnd.jupyter.widget-view+json": {
       "model_id": "",
       "version_major": 2,
       "version_minor": 0
      },
      "text/plain": [
       "FloatProgress(value=0.0, bar_style='info', description='Progress:', layout=Layout(height='25px', width='50%'),…"
      ]
     },
     "metadata": {},
     "output_type": "display_data"
    },
    {
     "name": "stdout",
     "output_type": "stream",
     "text": [
      "+-------------------+--------------------+\n",
      "|           placekey|             polygon|\n",
      "+-------------------+--------------------+\n",
      "|zzw-222@5r9-32h-yn5|POLYGON ((-100.87...|\n",
      "|zzw-222@5p2-m8v-kj9|POLYGON ((-101.24...|\n",
      "|zzy-222@5qy-b6g-cdv|POLYGON ((-101.36...|\n",
      "|225-223@5qy-dny-h89|POLYGON ((-101.86...|\n",
      "|228-223@5qz-2xt-q75|POLYGON ((-100.00...|\n",
      "|223-224@8tm-78d-2ff|POLYGON ((-100.00...|\n",
      "|zzy-222@8tm-37r-fvf|POLYGON ((-100.00...|\n",
      "|zzy-223@5t5-wsq-syv|POLYGON ((-102.92...|\n",
      "|zzw-223@8tk-69x-2c5|POLYGON ((-104.24...|\n",
      "|222-222@8tj-c27-fmk|POLYGON ((-104.52...|\n",
      "|224-222@5q8-5m4-ht9|POLYGON ((-104.69...|\n",
      "|222-222@5q9-7d2-v9f|POLYGON ((-100.00...|\n",
      "|223-222@5q9-b3b-6hq|POLYGON ((-104.79...|\n",
      "|222-223@5q9-7fy-sbk|POLYGON ((-104.82...|\n",
      "|222-222@5q6-7cg-5mk|POLYGON ((-104.97...|\n",
      "|zzw-223@8tm-nrr-pqf|POLYGON ((-105.97...|\n",
      "|226-224@5qh-fbj-nqz|POLYGON ((-106.31...|\n",
      "|222-222@8tm-psh-f9f|POLYGON ((-106.64...|\n",
      "|222-223@8tm-qqn-ks5|POLYGON ((-100.00...|\n",
      "|zzw-223@8tf-kp4-4jv|POLYGON ((-106.77...|\n",
      "+-------------------+--------------------+\n",
      "only showing top 20 rows"
     ]
    }
   ],
   "source": [
    "polys = polys.cache()\n",
    "polys.show()\n"
   ]
  },
  {
   "cell_type": "code",
   "execution_count": null,
   "metadata": {},
   "outputs": [
    {
     "data": {
      "application/vnd.jupyter.widget-view+json": {
       "model_id": "7da3d96f41d049b7855892b534282d8c",
       "version_major": 2,
       "version_minor": 0
      },
      "text/plain": [
       "VBox()"
      ]
     },
     "metadata": {},
     "output_type": "display_data"
    },
    {
     "data": {
      "application/vnd.jupyter.widget-view+json": {
       "model_id": "",
       "version_major": 2,
       "version_minor": 0
      },
      "text/plain": [
       "FloatProgress(value=0.0, bar_style='info', description='Progress:', layout=Layout(height='25px', width='50%'),…"
      ]
     },
     "metadata": {},
     "output_type": "display_data"
    }
   ],
   "source": [
    "dwells = dwells.join(polys, dwells.leftgeometry == polys.polygon)\n",
    "\n"
   ]
  },
  {
   "cell_type": "code",
   "execution_count": null,
   "metadata": {},
   "outputs": [
    {
     "data": {
      "application/vnd.jupyter.widget-view+json": {
       "model_id": "2e5f9f336e834f9da8953a8917defbf0",
       "version_major": 2,
       "version_minor": 0
      },
      "text/plain": [
       "VBox()"
      ]
     },
     "metadata": {},
     "output_type": "display_data"
    },
    {
     "data": {
      "application/vnd.jupyter.widget-view+json": {
       "model_id": "",
       "version_major": 2,
       "version_minor": 0
      },
      "text/plain": [
       "FloatProgress(value=0.0, bar_style='info', description='Progress:', layout=Layout(height='25px', width='50%'),…"
      ]
     },
     "metadata": {},
     "output_type": "display_data"
    }
   ],
   "source": [
    "dwells = (dwells.withColumn( \"date\", \n",
    "            from_utc_timestamp(\n",
    "                col(\"utc_timestamp_start\").cast(DoubleType()).cast(TimestampType()),\n",
    "                F.col('utc'),\n",
    "            )\n",
    "    )\n",
    "          .withColumn(\"hour\", F.hour(F.col(\"date\")))\n",
    "          .withColumn(\"day\", F.dayofweek(F.col(\"date\")))\n",
    "          .filter(F.col(\"day\").between(2,6))\n",
    ")\n",
    "\n"
   ]
  },
  {
   "cell_type": "code",
   "execution_count": null,
   "metadata": {},
   "outputs": [
    {
     "data": {
      "application/vnd.jupyter.widget-view+json": {
       "model_id": "41fbee833ec54f8499d1bc50639f5f5d",
       "version_major": 2,
       "version_minor": 0
      },
      "text/plain": [
       "VBox()"
      ]
     },
     "metadata": {},
     "output_type": "display_data"
    },
    {
     "data": {
      "application/vnd.jupyter.widget-view+json": {
       "model_id": "",
       "version_major": 2,
       "version_minor": 0
      },
      "text/plain": [
       "FloatProgress(value=0.0, bar_style='info', description='Progress:', layout=Layout(height='25px', width='50%'),…"
      ]
     },
     "metadata": {},
     "output_type": "display_data"
    }
   ],
   "source": [
    "# define the place where a device spent the most time for longer than 2 hours as its home location\n",
    "\n",
    "dwells = dwells.groupBy(\"placekey\", \"caid\").agg(F.count(\"caid\").alias(\"count\"))\n",
    "\n",
    "# Define a Window partitioned by 'caid' and ordered by 'count' in descending order\n",
    "window_spec = Window.partitionBy(\"caid\").orderBy(F.desc(\"count\"))\n",
    "\n",
    "# Add a 'rank' column to the DataFrame using the rank() function over the window_spec\n",
    "dwells = dwells.withColumn(\"rank\", F.rank().over(window_spec))\n",
    "\n",
    "# Filter rows with rank 1 to get the placekey with the largest count for each caid\n",
    "dwells = dwells.filter(F.col(\"rank\") == 1)"
   ]
  },
  {
   "cell_type": "code",
   "execution_count": null,
   "metadata": {},
   "outputs": [
    {
     "data": {
      "application/vnd.jupyter.widget-view+json": {
       "model_id": "b4958946daef4f5496efa740799d2a00",
       "version_major": 2,
       "version_minor": 0
      },
      "text/plain": [
       "VBox()"
      ]
     },
     "metadata": {},
     "output_type": "display_data"
    },
    {
     "data": {
      "application/vnd.jupyter.widget-view+json": {
       "model_id": "",
       "version_major": 2,
       "version_minor": 0
      },
      "text/plain": [
       "FloatProgress(value=0.0, bar_style='info', description='Progress:', layout=Layout(height='25px', width='50%'),…"
      ]
     },
     "metadata": {},
     "output_type": "display_data"
    }
   ],
   "source": [
    "dwells.write.mode(\"overwrite\").parquet(os.path.join(data_dyn, 'worker_homes'))\n",
    "\n"
   ]
  },
  {
   "cell_type": "markdown",
   "metadata": {},
   "source": [
    "## Restart from here"
   ]
  },
  {
   "cell_type": "code",
   "execution_count": 17,
   "metadata": {
    "execution": {
     "iopub.execute_input": "2024-02-29T18:51:46.416469Z",
     "iopub.status.busy": "2024-02-29T18:51:46.416157Z",
     "iopub.status.idle": "2024-02-29T18:51:55.688316Z",
     "shell.execute_reply": "2024-02-29T18:51:55.687705Z",
     "shell.execute_reply.started": "2024-02-29T18:51:46.416441Z"
    },
    "tags": []
   },
   "outputs": [
    {
     "data": {
      "application/vnd.jupyter.widget-view+json": {
       "model_id": "110c5a805c464bd090737819b367c80c",
       "version_major": 2,
       "version_minor": 0
      },
      "text/plain": [
       "VBox()"
      ]
     },
     "metadata": {},
     "output_type": "display_data"
    },
    {
     "data": {
      "application/vnd.jupyter.widget-view+json": {
       "model_id": "",
       "version_major": 2,
       "version_minor": 0
      },
      "text/plain": [
       "FloatProgress(value=0.0, bar_style='info', description='Progress:', layout=Layout(height='25px', width='50%'),…"
      ]
     },
     "metadata": {},
     "output_type": "display_data"
    }
   ],
   "source": [
    "dwomes = spark.read.parquet(os.path.join(data_dyn, 'worker_homes'))\n",
    "\n",
    "home_locations = spark.read.csv(\n",
    "    os.path.join(data_dyn, 'homes_candidates_stores'), header = True, inferSchema = True\n",
    ").withColumnRenamed('latitude', 'latitude_home').withColumnRenamed('longitude', 'longitude_home')\n",
    "\n",
    "\n",
    "dwomes = dwomes.join(home_locations, on = \"caid\", how = \"inner\")\n"
   ]
  },
  {
   "cell_type": "code",
   "execution_count": 18,
   "metadata": {
    "execution": {
     "iopub.execute_input": "2024-02-29T18:51:55.689516Z",
     "iopub.status.busy": "2024-02-29T18:51:55.689302Z",
     "iopub.status.idle": "2024-02-29T18:51:56.936527Z",
     "shell.execute_reply": "2024-02-29T18:51:56.935953Z",
     "shell.execute_reply.started": "2024-02-29T18:51:55.689495Z"
    },
    "tags": []
   },
   "outputs": [
    {
     "data": {
      "application/vnd.jupyter.widget-view+json": {
       "model_id": "4ba27d564d224635aa5d15f405a7164d",
       "version_major": 2,
       "version_minor": 0
      },
      "text/plain": [
       "VBox()"
      ]
     },
     "metadata": {},
     "output_type": "display_data"
    },
    {
     "data": {
      "application/vnd.jupyter.widget-view+json": {
       "model_id": "",
       "version_major": 2,
       "version_minor": 0
      },
      "text/plain": [
       "FloatProgress(value=0.0, bar_style='info', description='Progress:', layout=Layout(height='25px', width='50%'),…"
      ]
     },
     "metadata": {},
     "output_type": "display_data"
    }
   ],
   "source": [
    "spend = spark.read.parquet(os.path.join(data_dyn, \"spend_places\")).select(\"placekey\",  \"latitude\", \"longitude\")\n",
    "\n",
    "dwomes = dwomes.join(spend, on = \"placekey\", how = \"left\")\n"
   ]
  },
  {
   "cell_type": "code",
   "execution_count": 19,
   "metadata": {
    "execution": {
     "iopub.execute_input": "2024-02-29T18:51:56.938089Z",
     "iopub.status.busy": "2024-02-29T18:51:56.937800Z",
     "iopub.status.idle": "2024-02-29T18:52:04.199796Z",
     "shell.execute_reply": "2024-02-29T18:52:04.199089Z",
     "shell.execute_reply.started": "2024-02-29T18:51:56.938068Z"
    },
    "tags": []
   },
   "outputs": [
    {
     "data": {
      "application/vnd.jupyter.widget-view+json": {
       "model_id": "63505f214f5841febaab4908644bee07",
       "version_major": 2,
       "version_minor": 0
      },
      "text/plain": [
       "VBox()"
      ]
     },
     "metadata": {},
     "output_type": "display_data"
    },
    {
     "data": {
      "application/vnd.jupyter.widget-view+json": {
       "model_id": "",
       "version_major": 2,
       "version_minor": 0
      },
      "text/plain": [
       "FloatProgress(value=0.0, bar_style='info', description='Progress:', layout=Layout(height='25px', width='50%'),…"
      ]
     },
     "metadata": {},
     "output_type": "display_data"
    },
    {
     "name": "stdout",
     "output_type": "stream",
     "text": [
      "390153 unique grocery workers"
     ]
    }
   ],
   "source": [
    "print(str(dwomes.drop_duplicates([\"caid\"]).count()) + \" unique grocery workers\")"
   ]
  },
  {
   "cell_type": "code",
   "execution_count": 20,
   "metadata": {
    "execution": {
     "iopub.execute_input": "2024-02-29T18:52:04.201116Z",
     "iopub.status.busy": "2024-02-29T18:52:04.200897Z",
     "iopub.status.idle": "2024-02-29T18:52:04.438990Z",
     "shell.execute_reply": "2024-02-29T18:52:04.438389Z",
     "shell.execute_reply.started": "2024-02-29T18:52:04.201091Z"
    },
    "tags": []
   },
   "outputs": [
    {
     "data": {
      "application/vnd.jupyter.widget-view+json": {
       "model_id": "d7e35730e5824a02bd33d5ec7237c27b",
       "version_major": 2,
       "version_minor": 0
      },
      "text/plain": [
       "VBox()"
      ]
     },
     "metadata": {},
     "output_type": "display_data"
    },
    {
     "data": {
      "application/vnd.jupyter.widget-view+json": {
       "model_id": "",
       "version_major": 2,
       "version_minor": 0
      },
      "text/plain": [
       "FloatProgress(value=0.0, bar_style='info', description='Progress:', layout=Layout(height='25px', width='50%'),…"
      ]
     },
     "metadata": {},
     "output_type": "display_data"
    }
   ],
   "source": [
    "# function to calculate distance\n",
    "def haversine(lat1, lon1, lat2, lon2):\n",
    "    return 2*6378000*sqrt(pow(sin((lat2-lat1)/2),2) + cos(lat1)*cos(lat2)*pow(sin((lon2-lon1)/2),2)) # result in meters\n",
    "\n",
    "\n",
    "dist_udf=udf(haversine, DoubleType())\n",
    "\n",
    "\n",
    "dwomes = dwomes.withColumn('distance',dist_udf(pi * col('latitude') / 180, pi * col('longitude') / 180, \n",
    "                                      pi * col('latitude_home') / 180, pi * col('longitude_home') / 180))\n",
    "\n",
    "\n",
    "dwells = dwomes.groupBy(\"placekey\").agg(F.percentile_approx(\"distance\", 0.5).alias(\"distance_workers\"))\n",
    "\n"
   ]
  },
  {
   "cell_type": "code",
   "execution_count": 21,
   "metadata": {
    "execution": {
     "iopub.execute_input": "2024-02-29T18:52:04.440032Z",
     "iopub.status.busy": "2024-02-29T18:52:04.439807Z",
     "iopub.status.idle": "2024-02-29T18:52:17.726343Z",
     "shell.execute_reply": "2024-02-29T18:52:17.725765Z",
     "shell.execute_reply.started": "2024-02-29T18:52:04.440001Z"
    },
    "tags": []
   },
   "outputs": [
    {
     "data": {
      "application/vnd.jupyter.widget-view+json": {
       "model_id": "ef8643977b4d4ec68bd60498f285e36b",
       "version_major": 2,
       "version_minor": 0
      },
      "text/plain": [
       "VBox()"
      ]
     },
     "metadata": {},
     "output_type": "display_data"
    },
    {
     "data": {
      "application/vnd.jupyter.widget-view+json": {
       "model_id": "",
       "version_major": 2,
       "version_minor": 0
      },
      "text/plain": [
       "FloatProgress(value=0.0, bar_style='info', description='Progress:', layout=Layout(height='25px', width='50%'),…"
      ]
     },
     "metadata": {},
     "output_type": "display_data"
    },
    {
     "name": "stdout",
     "output_type": "stream",
     "text": [
      "+-------------------+--------------------+-----+----+-----------------+-------------------+---------+-----------+------------------+\n",
      "|           placekey|                caid|count|rank|    latitude_home|     longitude_home| latitude|  longitude|          distance|\n",
      "+-------------------+--------------------+-----+----+-----------------+-------------------+---------+-----------+------------------+\n",
      "|222-222@5s7-56g-xdv|002248f7e70756d67...|    5|   1|43.27304216449086| -86.21699796866841|43.407285| -86.309963| 16731.88807828247|\n",
      "|222-222@5s7-56g-xdv|002248f7e70756d67...|    5|   1|43.27304216449086| -86.21699796866841|43.407285| -86.309963| 16731.88807828247|\n",
      "|222-222@5s7-56g-xdv|002248f7e70756d67...|    5|   1|43.27304216449086| -86.21699796866841|43.407285| -86.309963| 16731.88807828247|\n",
      "|222-222@5s7-56g-xdv|002248f7e70756d67...|    5|   1|43.27304216449086| -86.21699796866841|43.407285| -86.309963| 16731.88807828247|\n",
      "|222-222@5s7-56g-xdv|002248f7e70756d67...|    5|   1|43.27304216449086| -86.21699796866841|43.407285| -86.309963| 16731.88807828247|\n",
      "|222-222@5s7-56g-xdv|002248f7e70756d67...|    5|   1|43.27304216449086| -86.21699796866841|43.407285| -86.309963| 16731.88807828247|\n",
      "|222-222@5s7-56g-xdv|002248f7e70756d67...|    5|   1|43.27304216449086| -86.21699796866841|43.407285| -86.309963| 16731.88807828247|\n",
      "|222-222@5s7-56g-xdv|002248f7e70756d67...|    5|   1|43.27304216449086| -86.21699796866841|43.407285| -86.309963| 16731.88807828247|\n",
      "|222-222@5s7-56g-xdv|002248f7e70756d67...|    5|   1|43.27304216449086| -86.21699796866841|43.407285| -86.309963| 16731.88807828247|\n",
      "|222-222@5s7-56g-xdv|002248f7e70756d67...|    5|   1|43.27304216449086| -86.21699796866841|43.407285| -86.309963| 16731.88807828247|\n",
      "|222-222@5s7-56g-xdv|002248f7e70756d67...|    5|   1|43.27304216449086| -86.21699796866841|43.407285| -86.309963| 16731.88807828247|\n",
      "|222-222@5s7-56g-xdv|002248f7e70756d67...|    5|   1|43.27304216449086| -86.21699796866841|43.407285| -86.309963| 16731.88807828247|\n",
      "|222-222@5z4-p26-nt9|00123566bcf3bafdf...|    2|   1|33.92506486666666|-116.94666800000002|33.924849|-116.944892|165.79531273855793|\n",
      "|222-222@5z4-p26-nt9|00123566bcf3bafdf...|    2|   1|33.92506486666666|-116.94666800000002|33.924849|-116.944892|165.79531273855793|\n",
      "|222-222@5z4-p26-nt9|00123566bcf3bafdf...|    2|   1|33.92506486666666|-116.94666800000002|33.924849|-116.944892|165.79531273855793|\n",
      "|222-222@5z4-p26-nt9|00123566bcf3bafdf...|    2|   1|33.92506486666666|-116.94666800000002|33.924849|-116.944892|165.79531273855793|\n",
      "|222-222@5z4-p26-nt9|00123566bcf3bafdf...|    2|   1|33.92506486666666|-116.94666800000002|33.924849|-116.944892|165.79531273855793|\n",
      "|222-222@5z4-p26-nt9|00123566bcf3bafdf...|    2|   1|33.92506486666666|-116.94666800000002|33.924849|-116.944892|165.79531273855793|\n",
      "|222-222@5z4-p26-nt9|00123566bcf3bafdf...|    2|   1|33.92506486666666|-116.94666800000002|33.924849|-116.944892|165.79531273855793|\n",
      "|222-222@5z4-p26-nt9|00123566bcf3bafdf...|    2|   1|33.92506486666666|-116.94666800000002|33.924849|-116.944892|165.79531273855793|\n",
      "+-------------------+--------------------+-----+----+-----------------+-------------------+---------+-----------+------------------+\n",
      "only showing top 20 rows"
     ]
    }
   ],
   "source": [
    "dwomes.show()"
   ]
  },
  {
   "cell_type": "code",
   "execution_count": 22,
   "metadata": {
    "execution": {
     "iopub.execute_input": "2024-02-29T18:52:17.727475Z",
     "iopub.status.busy": "2024-02-29T18:52:17.727157Z",
     "iopub.status.idle": "2024-02-29T18:52:51.055360Z",
     "shell.execute_reply": "2024-02-29T18:52:51.054759Z",
     "shell.execute_reply.started": "2024-02-29T18:52:17.727453Z"
    },
    "tags": []
   },
   "outputs": [
    {
     "data": {
      "application/vnd.jupyter.widget-view+json": {
       "model_id": "6273f13c20ee42e09b27ede3541c81ee",
       "version_major": 2,
       "version_minor": 0
      },
      "text/plain": [
       "VBox()"
      ]
     },
     "metadata": {},
     "output_type": "display_data"
    },
    {
     "data": {
      "application/vnd.jupyter.widget-view+json": {
       "model_id": "",
       "version_major": 2,
       "version_minor": 0
      },
      "text/plain": [
       "FloatProgress(value=0.0, bar_style='info', description='Progress:', layout=Layout(height='25px', width='50%'),…"
      ]
     },
     "metadata": {},
     "output_type": "display_data"
    }
   ],
   "source": [
    "\n",
    "patterns = (sqlContext.read.format('com.databricks.spark.csv')\n",
    "         .options(header='true', inferschema='true')\n",
    "         .option('escape','\"') # this is necessary because the fields contain \",\" as well but dont have quotes around them\n",
    "         .load(\"s3://external-safegraph/patterns/2022/09/\")).select(\"distance_from_home\", \"placekey\")\n",
    "\n"
   ]
  },
  {
   "cell_type": "code",
   "execution_count": 23,
   "metadata": {
    "execution": {
     "iopub.execute_input": "2024-02-29T18:52:51.056468Z",
     "iopub.status.busy": "2024-02-29T18:52:51.056255Z",
     "iopub.status.idle": "2024-02-29T18:52:51.293762Z",
     "shell.execute_reply": "2024-02-29T18:52:51.293174Z",
     "shell.execute_reply.started": "2024-02-29T18:52:51.056447Z"
    },
    "tags": []
   },
   "outputs": [
    {
     "data": {
      "application/vnd.jupyter.widget-view+json": {
       "model_id": "656fa7178a994c5f95c794af2d5640f8",
       "version_major": 2,
       "version_minor": 0
      },
      "text/plain": [
       "VBox()"
      ]
     },
     "metadata": {},
     "output_type": "display_data"
    },
    {
     "data": {
      "application/vnd.jupyter.widget-view+json": {
       "model_id": "",
       "version_major": 2,
       "version_minor": 0
      },
      "text/plain": [
       "FloatProgress(value=0.0, bar_style='info', description='Progress:', layout=Layout(height='25px', width='50%'),…"
      ]
     },
     "metadata": {},
     "output_type": "display_data"
    }
   ],
   "source": [
    "patterns = patterns.groupBy(\"placekey\").agg(F.percentile_approx(\"distance_from_home\", 0.5).alias(\"distance_shoppers\"))\n"
   ]
  },
  {
   "cell_type": "code",
   "execution_count": 24,
   "metadata": {
    "execution": {
     "iopub.execute_input": "2024-02-29T18:52:51.295666Z",
     "iopub.status.busy": "2024-02-29T18:52:51.295425Z",
     "iopub.status.idle": "2024-02-29T18:52:51.528985Z",
     "shell.execute_reply": "2024-02-29T18:52:51.528381Z",
     "shell.execute_reply.started": "2024-02-29T18:52:51.295643Z"
    },
    "tags": []
   },
   "outputs": [
    {
     "data": {
      "application/vnd.jupyter.widget-view+json": {
       "model_id": "d490bbefbe474c04bacf51da670b66b3",
       "version_major": 2,
       "version_minor": 0
      },
      "text/plain": [
       "VBox()"
      ]
     },
     "metadata": {},
     "output_type": "display_data"
    },
    {
     "data": {
      "application/vnd.jupyter.widget-view+json": {
       "model_id": "",
       "version_major": 2,
       "version_minor": 0
      },
      "text/plain": [
       "FloatProgress(value=0.0, bar_style='info', description='Progress:', layout=Layout(height='25px', width='50%'),…"
      ]
     },
     "metadata": {},
     "output_type": "display_data"
    }
   ],
   "source": [
    "dwells = dwells.join(patterns, on = \"placekey\", how = \"left\")"
   ]
  },
  {
   "cell_type": "code",
   "execution_count": 25,
   "metadata": {
    "execution": {
     "iopub.execute_input": "2024-02-29T18:52:51.530224Z",
     "iopub.status.busy": "2024-02-29T18:52:51.530011Z",
     "iopub.status.idle": "2024-02-29T18:53:38.907318Z",
     "shell.execute_reply": "2024-02-29T18:53:38.906733Z",
     "shell.execute_reply.started": "2024-02-29T18:52:51.530202Z"
    },
    "tags": []
   },
   "outputs": [
    {
     "data": {
      "application/vnd.jupyter.widget-view+json": {
       "model_id": "d106e99ae1b843718a75adbaa6bac9ea",
       "version_major": 2,
       "version_minor": 0
      },
      "text/plain": [
       "VBox()"
      ]
     },
     "metadata": {},
     "output_type": "display_data"
    },
    {
     "data": {
      "application/vnd.jupyter.widget-view+json": {
       "model_id": "",
       "version_major": 2,
       "version_minor": 0
      },
      "text/plain": [
       "FloatProgress(value=0.0, bar_style='info', description='Progress:', layout=Layout(height='25px', width='50%'),…"
      ]
     },
     "metadata": {},
     "output_type": "display_data"
    }
   ],
   "source": [
    "foo = dwells.toPandas()\n"
   ]
  },
  {
   "cell_type": "code",
   "execution_count": 26,
   "metadata": {
    "execution": {
     "iopub.execute_input": "2024-02-29T18:53:38.908382Z",
     "iopub.status.busy": "2024-02-29T18:53:38.908171Z",
     "iopub.status.idle": "2024-02-29T18:53:38.940283Z",
     "shell.execute_reply": "2024-02-29T18:53:38.939716Z",
     "shell.execute_reply.started": "2024-02-29T18:53:38.908361Z"
    },
    "tags": []
   },
   "outputs": [
    {
     "data": {
      "application/vnd.jupyter.widget-view+json": {
       "model_id": "a5746e5e14464238bd95f5d0ce2dfc17",
       "version_major": 2,
       "version_minor": 0
      },
      "text/plain": [
       "VBox()"
      ]
     },
     "metadata": {},
     "output_type": "display_data"
    },
    {
     "data": {
      "application/vnd.jupyter.widget-view+json": {
       "model_id": "",
       "version_major": 2,
       "version_minor": 0
      },
      "text/plain": [
       "FloatProgress(value=0.0, bar_style='info', description='Progress:', layout=Layout(height='25px', width='50%'),…"
      ]
     },
     "metadata": {},
     "output_type": "display_data"
    }
   ],
   "source": [
    "foo[['distance_workers', 'distance_shoppers']] = foo[['distance_workers', 'distance_shoppers']] / 1000"
   ]
  },
  {
   "cell_type": "code",
   "execution_count": 27,
   "metadata": {
    "execution": {
     "iopub.execute_input": "2024-02-29T18:53:38.941247Z",
     "iopub.status.busy": "2024-02-29T18:53:38.941041Z",
     "iopub.status.idle": "2024-02-29T18:53:38.974556Z",
     "shell.execute_reply": "2024-02-29T18:53:38.973986Z",
     "shell.execute_reply.started": "2024-02-29T18:53:38.941225Z"
    },
    "tags": []
   },
   "outputs": [
    {
     "data": {
      "application/vnd.jupyter.widget-view+json": {
       "model_id": "848e07295fdd4cd5bd21b4676f8a9e47",
       "version_major": 2,
       "version_minor": 0
      },
      "text/plain": [
       "VBox()"
      ]
     },
     "metadata": {},
     "output_type": "display_data"
    },
    {
     "data": {
      "application/vnd.jupyter.widget-view+json": {
       "model_id": "",
       "version_major": 2,
       "version_minor": 0
      },
      "text/plain": [
       "FloatProgress(value=0.0, bar_style='info', description='Progress:', layout=Layout(height='25px', width='50%'),…"
      ]
     },
     "metadata": {},
     "output_type": "display_data"
    },
    {
     "name": "stdout",
     "output_type": "stream",
     "text": [
      "98.38531933093999"
     ]
    }
   ],
   "source": [
    "foo['distance_workers'].quantile(0.98)"
   ]
  },
  {
   "cell_type": "code",
   "execution_count": 28,
   "metadata": {
    "execution": {
     "iopub.execute_input": "2024-02-29T18:53:38.975556Z",
     "iopub.status.busy": "2024-02-29T18:53:38.975326Z",
     "iopub.status.idle": "2024-02-29T18:53:39.007355Z",
     "shell.execute_reply": "2024-02-29T18:53:39.006801Z",
     "shell.execute_reply.started": "2024-02-29T18:53:38.975510Z"
    },
    "tags": []
   },
   "outputs": [
    {
     "data": {
      "application/vnd.jupyter.widget-view+json": {
       "model_id": "08ca3b7e9b744cc686a8a6ad23a3de2d",
       "version_major": 2,
       "version_minor": 0
      },
      "text/plain": [
       "VBox()"
      ]
     },
     "metadata": {},
     "output_type": "display_data"
    },
    {
     "data": {
      "application/vnd.jupyter.widget-view+json": {
       "model_id": "",
       "version_major": 2,
       "version_minor": 0
      },
      "text/plain": [
       "FloatProgress(value=0.0, bar_style='info', description='Progress:', layout=Layout(height='25px', width='50%'),…"
      ]
     },
     "metadata": {},
     "output_type": "display_data"
    }
   ],
   "source": [
    "# winsorize shopper and worker distribution\n",
    "foo = foo[(foo.distance_workers < 100) & (foo.distance_shoppers < 100)]\n"
   ]
  },
  {
   "cell_type": "code",
   "execution_count": 29,
   "metadata": {
    "execution": {
     "iopub.execute_input": "2024-02-29T18:53:39.008464Z",
     "iopub.status.busy": "2024-02-29T18:53:39.008253Z",
     "iopub.status.idle": "2024-02-29T18:53:40.251220Z",
     "shell.execute_reply": "2024-02-29T18:53:40.250609Z",
     "shell.execute_reply.started": "2024-02-29T18:53:39.008443Z"
    },
    "tags": []
   },
   "outputs": [
    {
     "data": {
      "application/vnd.jupyter.widget-view+json": {
       "model_id": "cb5d3f0170ed4067877d26738d7b653b",
       "version_major": 2,
       "version_minor": 0
      },
      "text/plain": [
       "VBox()"
      ]
     },
     "metadata": {},
     "output_type": "display_data"
    },
    {
     "data": {
      "application/vnd.jupyter.widget-view+json": {
       "model_id": "",
       "version_major": 2,
       "version_minor": 0
      },
      "text/plain": [
       "FloatProgress(value=0.0, bar_style='info', description='Progress:', layout=Layout(height='25px', width='50%'),…"
      ]
     },
     "metadata": {},
     "output_type": "display_data"
    }
   ],
   "source": [
    "foo.to_csv(data_dyn + \"distance_workers_shoppers.csv.gz\", index=False)\n"
   ]
  },
  {
   "cell_type": "code",
   "execution_count": null,
   "metadata": {},
   "outputs": [
    {
     "data": {
      "application/vnd.jupyter.widget-view+json": {
       "model_id": "637b4d8e90f84fedbbe6766125c0dad7",
       "version_major": 2,
       "version_minor": 0
      },
      "text/plain": [
       "VBox()"
      ]
     },
     "metadata": {},
     "output_type": "display_data"
    },
    {
     "data": {
      "application/vnd.jupyter.widget-view+json": {
       "model_id": "",
       "version_major": 2,
       "version_minor": 0
      },
      "text/plain": [
       "FloatProgress(value=0.0, bar_style='info', description='Progress:', layout=Layout(height='25px', width='50%'),…"
      ]
     },
     "metadata": {},
     "output_type": "display_data"
    }
   ],
   "source": [
    "foo[['distance_workers_log', 'distance_shoppers_log']] = np.log(foo[['distance_workers', 'distance_shoppers']])\n"
   ]
  },
  {
   "cell_type": "code",
   "execution_count": null,
   "metadata": {},
   "outputs": [
    {
     "data": {
      "application/vnd.jupyter.widget-view+json": {
       "model_id": "39230ca9aec943fdaf02e8742978dbdd",
       "version_major": 2,
       "version_minor": 0
      },
      "text/plain": [
       "VBox()"
      ]
     },
     "metadata": {},
     "output_type": "display_data"
    },
    {
     "data": {
      "application/vnd.jupyter.widget-view+json": {
       "model_id": "",
       "version_major": 2,
       "version_minor": 0
      },
      "text/plain": [
       "FloatProgress(value=0.0, bar_style='info', description='Progress:', layout=Layout(height='25px', width='50%'),…"
      ]
     },
     "metadata": {},
     "output_type": "display_data"
    },
    {
     "data": {
      "image/png": "[encoded data removed]",
      "text/plain": [
       "<IPython.core.display.Image object>"
      ]
     },
     "metadata": {},
     "output_type": "display_data"
    }
   ],
   "source": [
    "# scatterplot\n",
    "#foo = foo[(foo.distance_workers < 200) & (foo.distance_shoppers < 200)]\n",
    "fig, ax = plt.subplots(nrows=1, ncols=1)\n",
    "foo.plot.scatter(x = \"distance_workers\", y = \"distance_shoppers\", ax=ax)\n",
    "\n",
    "# foo = foo.sort_values(by='distance_workers')\n",
    "# coefs = np.polyfit(foo['distance_workers'], foo['distance_shoppers'], 2)\n",
    "# p = np.poly1d(coefs)\n",
    "# ax.plot(foo['distance_workers'], p(foo['distance_workers']), \"r-\")\n",
    "%matplot plt\n",
    "saveFigS3()"
   ]
  },
  {
   "cell_type": "code",
   "execution_count": null,
   "metadata": {},
   "outputs": [
    {
     "data": {
      "application/vnd.jupyter.widget-view+json": {
       "model_id": "1cfaae9c3c6f49fe9d15b5cabb9d2b64",
       "version_major": 2,
       "version_minor": 0
      },
      "text/plain": [
       "VBox()"
      ]
     },
     "metadata": {},
     "output_type": "display_data"
    },
    {
     "data": {
      "application/vnd.jupyter.widget-view+json": {
       "model_id": "",
       "version_major": 2,
       "version_minor": 0
      },
      "text/plain": [
       "FloatProgress(value=0.0, bar_style='info', description='Progress:', layout=Layout(height='25px', width='50%'),…"
      ]
     },
     "metadata": {},
     "output_type": "display_data"
    },
    {
     "name": "stdout",
     "output_type": "stream",
     "text": [
      "Collecting FixedEffectModel\n",
      "  Downloading https://files.pythonhosted.org/packages/96/85/e26f04464fa25e03c4c3dce38b84a8c4ee3aa0db46a12181c613669fb247/FixedEffectModel-0.0.5-py3-none-any.whl (50kB)\n",
      "Requirement already satisfied: scipy>=1.6.0 in /usr/local/lib64/python3.7/site-packages (from FixedEffectModel)\n",
      "Requirement already satisfied: pandas>=0.16.0 in /usr/local/lib64/python3.7/site-packages (from FixedEffectModel)\n",
      "Requirement already satisfied: networkx>=2.5 in /usr/local/lib/python3.7/site-packages (from FixedEffectModel)\n",
      "Requirement already satisfied: statsmodels>=0.12.2 in /usr/local/lib64/python3.7/site-packages (from FixedEffectModel)\n",
      "Requirement already satisfied: numpy>=1.9.2 in /usr/local/lib64/python3.7/site-packages (from FixedEffectModel)\n",
      "Requirement already satisfied: pytz>=2017.3 in /usr/local/lib/python3.7/site-packages (from pandas>=0.16.0->FixedEffectModel)\n",
      "Requirement already satisfied: python-dateutil>=2.7.3 in /usr/local/lib/python3.7/site-packages (from pandas>=0.16.0->FixedEffectModel)\n",
      "Requirement already satisfied: patsy>=0.5.2 in /usr/local/lib/python3.7/site-packages (from statsmodels>=0.12.2->FixedEffectModel)\n",
      "Requirement already satisfied: packaging>=21.3 in /usr/local/lib/python3.7/site-packages (from statsmodels>=0.12.2->FixedEffectModel)\n",
      "Requirement already satisfied: six>=1.5 in /usr/local/lib/python3.7/site-packages (from python-dateutil>=2.7.3->pandas>=0.16.0->FixedEffectModel)\n",
      "Installing collected packages: FixedEffectModel\n",
      "Successfully installed FixedEffectModel-0.0.5\n",
      "\n",
      "The directory '/home/.cache/pip/http' or its parent directory is not owned by the current user and the cache has been disabled. Please check the permissions and owner of that directory. If executing pip with sudo, you may want sudo's -H flag.\n",
      "The directory '/home/.cache/pip' or its parent directory is not owned by the current user and caching wheels has been disabled. check the permissions and owner of that directory. If executing pip with sudo, you may want sudo's -H flag.\n",
      "You are using pip version 9.0.1, however version 23.1 is available.\n",
      "You should consider upgrading via the 'pip install --upgrade pip' command."
     ]
    }
   ],
   "source": [
    "# fixed effects reg\n",
    "sc.install_pypi_package(\"FixedEffectModel\")\n",
    "from fixedeffect.iv import iv2sls, ivgmm, ivtest\n",
    "from fixedeffect.fe import fixedeffect, did, getfe\n",
    "from fixedeffect.utils.panel_dgp import gen_data\n"
   ]
  },
  {
   "cell_type": "code",
   "execution_count": null,
   "metadata": {},
   "outputs": [
    {
     "data": {
      "application/vnd.jupyter.widget-view+json": {
       "model_id": "742abac151e84855b9edfe75ada24aa7",
       "version_major": 2,
       "version_minor": 0
      },
      "text/plain": [
       "VBox()"
      ]
     },
     "metadata": {},
     "output_type": "display_data"
    },
    {
     "data": {
      "application/vnd.jupyter.widget-view+json": {
       "model_id": "",
       "version_major": 2,
       "version_minor": 0
      },
      "text/plain": [
       "FloatProgress(value=0.0, bar_style='info', description='Progress:', layout=Layout(height='25px', width='50%'),…"
      ]
     },
     "metadata": {},
     "output_type": "display_data"
    }
   ],
   "source": [
    "# # merge places back in\n",
    "spend = spark.read.parquet(os.path.join(data_dyn, \"spend_places\"))\n",
    "spend = spend.cache()\n",
    "spend = spend.drop_duplicates([\"placekey\"])\n"
   ]
  },
  {
   "cell_type": "code",
   "execution_count": null,
   "metadata": {},
   "outputs": [
    {
     "data": {
      "application/vnd.jupyter.widget-view+json": {
       "model_id": "6515687bfee64c0787b18f69e9ec65aa",
       "version_major": 2,
       "version_minor": 0
      },
      "text/plain": [
       "VBox()"
      ]
     },
     "metadata": {},
     "output_type": "display_data"
    },
    {
     "data": {
      "application/vnd.jupyter.widget-view+json": {
       "model_id": "",
       "version_major": 2,
       "version_minor": 0
      },
      "text/plain": [
       "FloatProgress(value=0.0, bar_style='info', description='Progress:', layout=Layout(height='25px', width='50%'),…"
      ]
     },
     "metadata": {},
     "output_type": "display_data"
    }
   ],
   "source": [
    "dwells = dwells.join(spend, on = \"placekey\", how = \"left\")\n",
    "\n"
   ]
  },
  {
   "cell_type": "code",
   "execution_count": null,
   "metadata": {},
   "outputs": [
    {
     "data": {
      "application/vnd.jupyter.widget-view+json": {
       "model_id": "d009a0f059af477bb04d63f2b6594a88",
       "version_major": 2,
       "version_minor": 0
      },
      "text/plain": [
       "VBox()"
      ]
     },
     "metadata": {},
     "output_type": "display_data"
    },
    {
     "data": {
      "application/vnd.jupyter.widget-view+json": {
       "model_id": "",
       "version_major": 2,
       "version_minor": 0
      },
      "text/plain": [
       "FloatProgress(value=0.0, bar_style='info', description='Progress:', layout=Layout(height='25px', width='50%'),…"
      ]
     },
     "metadata": {},
     "output_type": "display_data"
    },
    {
     "name": "stdout",
     "output_type": "stream",
     "text": [
      "+--------------------+\n",
      "| safegraph_brand_ids|\n",
      "+--------------------+\n",
      "|SG_BRAND_a4efb9d8...|\n",
      "|SG_BRAND_42aefbae...|\n",
      "|SG_BRAND_04a8ca7b...|\n",
      "|SG_BRAND_04a8ca7b...|\n",
      "|SG_BRAND_04a8ca7b...|\n",
      "|SG_BRAND_04a8ca7b...|\n",
      "|SG_BRAND_6db086b9...|\n",
      "|SG_BRAND_2e2448f1...|\n",
      "|                null|\n",
      "|SG_BRAND_a4efb9d8...|\n",
      "|                null|\n",
      "|SG_BRAND_b718bb44...|\n",
      "|SG_BRAND_04a8ca7b...|\n",
      "|SG_BRAND_cdba3261...|\n",
      "|SG_BRAND_42aefbae...|\n",
      "|SG_BRAND_04a8ca7b...|\n",
      "|SG_BRAND_6db086b9...|\n",
      "|SG_BRAND_6db086b9...|\n",
      "|SG_BRAND_04a8ca7b...|\n",
      "|SG_BRAND_2e2448f1...|\n",
      "+--------------------+\n",
      "only showing top 20 rows"
     ]
    }
   ],
   "source": [
    "dwells.select(\"safegraph_brand_ids\").show()"
   ]
  },
  {
   "cell_type": "code",
   "execution_count": null,
   "metadata": {},
   "outputs": [
    {
     "data": {
      "application/vnd.jupyter.widget-view+json": {
       "model_id": "c66e4c71d2a54d57be9c5a6696e14812",
       "version_major": 2,
       "version_minor": 0
      },
      "text/plain": [
       "VBox()"
      ]
     },
     "metadata": {},
     "output_type": "display_data"
    },
    {
     "data": {
      "application/vnd.jupyter.widget-view+json": {
       "model_id": "",
       "version_major": 2,
       "version_minor": 0
      },
      "text/plain": [
       "FloatProgress(value=0.0, bar_style='info', description='Progress:', layout=Layout(height='25px', width='50%'),…"
      ]
     },
     "metadata": {},
     "output_type": "display_data"
    }
   ],
   "source": [
    "dfe = dwells.select(\"placekey\", \"postal_code\", \"distance_workers\", \"distance_shoppers\", \"safegraph_brand_ids\").toPandas()"
   ]
  },
  {
   "cell_type": "code",
   "execution_count": null,
   "metadata": {},
   "outputs": [
    {
     "data": {
      "application/vnd.jupyter.widget-view+json": {
       "model_id": "2119c847c7ae431d80b1073883e61c95",
       "version_major": 2,
       "version_minor": 0
      },
      "text/plain": [
       "VBox()"
      ]
     },
     "metadata": {},
     "output_type": "display_data"
    },
    {
     "data": {
      "application/vnd.jupyter.widget-view+json": {
       "model_id": "",
       "version_major": 2,
       "version_minor": 0
      },
      "text/plain": [
       "FloatProgress(value=0.0, bar_style='info', description='Progress:', layout=Layout(height='25px', width='50%'),…"
      ]
     },
     "metadata": {},
     "output_type": "display_data"
    }
   ],
   "source": [
    "dfe[['distance_workers', 'distance_shoppers']] = dfe[['distance_workers', 'distance_shoppers']] / 1000\n",
    "dfe = dfe[(dfe.distance_workers < 100) & (dfe.distance_shoppers < 100)]\n"
   ]
  },
  {
   "cell_type": "code",
   "execution_count": null,
   "metadata": {},
   "outputs": [
    {
     "data": {
      "application/vnd.jupyter.widget-view+json": {
       "model_id": "3b53ff09443f4f178c926e0765fc3ee6",
       "version_major": 2,
       "version_minor": 0
      },
      "text/plain": [
       "VBox()"
      ]
     },
     "metadata": {},
     "output_type": "display_data"
    },
    {
     "data": {
      "application/vnd.jupyter.widget-view+json": {
       "model_id": "",
       "version_major": 2,
       "version_minor": 0
      },
      "text/plain": [
       "FloatProgress(value=0.0, bar_style='info', description='Progress:', layout=Layout(height='25px', width='50%'),…"
      ]
     },
     "metadata": {},
     "output_type": "display_data"
    }
   ],
   "source": [
    "dfe[['distance_workers_log', 'distance_shoppers_log']] = np.log(dfe[['distance_workers', 'distance_shoppers']])\n"
   ]
  },
  {
   "cell_type": "code",
   "execution_count": null,
   "metadata": {},
   "outputs": [
    {
     "data": {
      "application/vnd.jupyter.widget-view+json": {
       "model_id": "ddb04f27fe18491aac2520dbb014142f",
       "version_major": 2,
       "version_minor": 0
      },
      "text/plain": [
       "VBox()"
      ]
     },
     "metadata": {},
     "output_type": "display_data"
    },
    {
     "data": {
      "application/vnd.jupyter.widget-view+json": {
       "model_id": "",
       "version_major": 2,
       "version_minor": 0
      },
      "text/plain": [
       "FloatProgress(value=0.0, bar_style='info', description='Progress:', layout=Layout(height='25px', width='50%'),…"
      ]
     },
     "metadata": {},
     "output_type": "display_data"
    }
   ],
   "source": [
    "dfe['safegraph_brand_ids'] = pd.Categorical(dfe.safegraph_brand_ids)\n",
    "dfe['brand_ids'] = dfe.safegraph_brand_ids.cat.codes"
   ]
  },
  {
   "cell_type": "code",
   "execution_count": null,
   "metadata": {},
   "outputs": [
    {
     "data": {
      "application/vnd.jupyter.widget-view+json": {
       "model_id": "49d31befa46c457ca2e45ab92af8b36f",
       "version_major": 2,
       "version_minor": 0
      },
      "text/plain": [
       "VBox()"
      ]
     },
     "metadata": {},
     "output_type": "display_data"
    },
    {
     "data": {
      "application/vnd.jupyter.widget-view+json": {
       "model_id": "",
       "version_major": 2,
       "version_minor": 0
      },
      "text/plain": [
       "FloatProgress(value=0.0, bar_style='info', description='Progress:', layout=Layout(height='25px', width='50%'),…"
      ]
     },
     "metadata": {},
     "output_type": "display_data"
    },
    {
     "name": "stdout",
     "output_type": "stream",
     "text": [
      "                       High Dimensional Fixed Effect Regression Results                      \n",
      "=============================================================================================\n",
      "  Dep. Variable:      distance_shoppers   R-squared(proj model):                     0.0042  \n",
      "  No. Observations:               67889   Adj. R-squared(proj model):               -0.2983  \n",
      "  DoF of residual:              52072.0   R-squared(full model):                     0.6235  \n",
      "  Residual std err:              5.9893   Adj. R-squared(full model):                0.5091  \n",
      "  Covariance Type:            nonrobust   F-statistic(proj model):                  72.6712  \n",
      "  Cluster Method:            no_cluster   Prob (F-statistic (proj model)):        3.043e-32  \n",
      "                                          DoF of F-test (proj model):        [2.0, 52072.0]  \n",
      "                                          F-statistic(full model):                   5.4513  \n",
      "                                          Prob (F-statistic (full model)):                0  \n",
      "                                          DoF of F-test (full model):        [15817, 52072]  \n",
      "==============================================================================================\n",
      "                         coef nonrobust std err          t      P>|t|     [0.025     0.975]   \n",
      "----------------------------------------------------------------------------------------------\n",
      "  const               8.21415           0.03121   263.1706     0.0000     8.1530     8.2753   \n",
      "  distance_workers    0.07620           0.00632    12.0558     0.0000     0.0638     0.0886   \n",
      "  dist_workers_sq    -0.00069           0.00010    -6.7085     0.0000    -0.0009    -0.0005   \n",
      "=============================================================================================="
     ]
    }
   ],
   "source": [
    "dfe['dist_workers_sq'] = dfe['distance_workers']**2\n",
    "\n",
    "formula = 'distance_shoppers ~ distance_workers + dist_workers_sq  |postal_code + brand_ids |0|0'\n",
    "\n",
    "model_fe = fixedeffect(data_df = dfe,\n",
    "                       formula = formula,\n",
    "                       no_print=True)\n",
    "result = model_fe.fit()\n",
    "result.summary()\n"
   ]
  },
  {
   "cell_type": "code",
   "execution_count": null,
   "metadata": {},
   "outputs": [
    {
     "data": {
      "application/vnd.jupyter.widget-view+json": {
       "model_id": "4ca9b58a4ba04e30b6ae1fab820f9564",
       "version_major": 2,
       "version_minor": 0
      },
      "text/plain": [
       "VBox()"
      ]
     },
     "metadata": {},
     "output_type": "display_data"
    },
    {
     "data": {
      "application/vnd.jupyter.widget-view+json": {
       "model_id": "",
       "version_major": 2,
       "version_minor": 0
      },
      "text/plain": [
       "FloatProgress(value=0.0, bar_style='info', description='Progress:', layout=Layout(height='25px', width='50%'),…"
      ]
     },
     "metadata": {},
     "output_type": "display_data"
    },
    {
     "data": {
      "image/png": "[encoded data removed]",
      "text/plain": [
       "<IPython.core.display.Image object>"
      ]
     },
     "metadata": {},
     "output_type": "display_data"
    }
   ],
   "source": [
    "plt.figure()\n",
    "foo['ratio'] = foo['distance_workers'] / foo['distance_shoppers']\n",
    "foo['ratio'].hist(bins = 1000, density=True)\n",
    "plt.axvline(1, color = \"red\")\n",
    "plt.xlim(0,10)\n",
    "plt.title(\"Distance workers / distance shoppers\")\n",
    "%matplot plt\n"
   ]
  },
  {
   "cell_type": "code",
   "execution_count": null,
   "metadata": {},
   "outputs": [
    {
     "data": {
      "application/vnd.jupyter.widget-view+json": {
       "model_id": "43d52cb316e94aba8f9c1b1d202e10aa",
       "version_major": 2,
       "version_minor": 0
      },
      "text/plain": [
       "VBox()"
      ]
     },
     "metadata": {},
     "output_type": "display_data"
    },
    {
     "data": {
      "application/vnd.jupyter.widget-view+json": {
       "model_id": "",
       "version_major": 2,
       "version_minor": 0
      },
      "text/plain": [
       "FloatProgress(value=0.0, bar_style='info', description='Progress:', layout=Layout(height='25px', width='50%'),…"
      ]
     },
     "metadata": {},
     "output_type": "display_data"
    },
    {
     "name": "stdout",
     "output_type": "stream",
     "text": [
      "                   distance_workers  distance_shoppers\n",
      "distance_workers           1.000000           0.143993\n",
      "distance_shoppers          0.143993           1.000000"
     ]
    }
   ],
   "source": [
    "foo[['distance_workers', 'distance_shoppers']].corr()"
   ]
  },
  {
   "cell_type": "markdown",
   "metadata": {},
   "source": [
    "### Create price estimates"
   ]
  },
  {
   "cell_type": "code",
   "execution_count": null,
   "metadata": {},
   "outputs": [
    {
     "data": {
      "application/vnd.jupyter.widget-view+json": {
       "model_id": "114a9af098e640df824672c6de5a5cab",
       "version_major": 2,
       "version_minor": 0
      },
      "text/plain": [
       "VBox()"
      ]
     },
     "metadata": {},
     "output_type": "display_data"
    },
    {
     "data": {
      "application/vnd.jupyter.widget-view+json": {
       "model_id": "",
       "version_major": 2,
       "version_minor": 0
      },
      "text/plain": [
       "FloatProgress(value=0.0, bar_style='info', description='Progress:', layout=Layout(height='25px', width='50%'),…"
      ]
     },
     "metadata": {},
     "output_type": "display_data"
    }
   ],
   "source": [
    "spend = spark.read.parquet(os.path.join(data_dyn, \"spend_places\"))#.select(\"placekey\",  \"latitude\", \"longitude\")\n"
   ]
  },
  {
   "cell_type": "code",
   "execution_count": null,
   "metadata": {},
   "outputs": [
    {
     "data": {
      "application/vnd.jupyter.widget-view+json": {
       "model_id": "b155f7a57f494ef4afdf07c338ed83ff",
       "version_major": 2,
       "version_minor": 0
      },
      "text/plain": [
       "VBox()"
      ]
     },
     "metadata": {},
     "output_type": "display_data"
    },
    {
     "data": {
      "application/vnd.jupyter.widget-view+json": {
       "model_id": "",
       "version_major": 2,
       "version_minor": 0
      },
      "text/plain": [
       "FloatProgress(value=0.0, bar_style='info', description='Progress:', layout=Layout(height='25px', width='50%'),…"
      ]
     },
     "metadata": {},
     "output_type": "display_data"
    }
   ],
   "source": [
    "allstores = spend.toPandas()\n",
    "kroger = spend.filter(F.col(\"brands\") == \"Kroger\").toPandas()"
   ]
  },
  {
   "cell_type": "code",
   "execution_count": null,
   "metadata": {},
   "outputs": [
    {
     "data": {
      "application/vnd.jupyter.widget-view+json": {
       "model_id": "db40a37bc1ff4ea08df910d2b63d6dbe",
       "version_major": 2,
       "version_minor": 0
      },
      "text/plain": [
       "VBox()"
      ]
     },
     "metadata": {},
     "output_type": "display_data"
    },
    {
     "data": {
      "application/vnd.jupyter.widget-view+json": {
       "model_id": "",
       "version_major": 2,
       "version_minor": 0
      },
      "text/plain": [
       "FloatProgress(value=0.0, bar_style='info', description='Progress:', layout=Layout(height='25px', width='50%'),…"
      ]
     },
     "metadata": {},
     "output_type": "display_data"
    },
    {
     "data": {
      "image/png": "[encoded data removed]",
      "text/plain": [
       "<IPython.core.display.Image object>"
      ]
     },
     "metadata": {},
     "output_type": "display_data"
    }
   ],
   "source": [
    "plt.figure()\n",
    "kroger['median_spend_per_customer'].hist(bins = 100)\n",
    "%matplot plt\n"
   ]
  },
  {
   "cell_type": "code",
   "execution_count": null,
   "metadata": {},
   "outputs": [
    {
     "data": {
      "application/vnd.jupyter.widget-view+json": {
       "model_id": "10b389a25f2d422f83e35ae5b8b4c998",
       "version_major": 2,
       "version_minor": 0
      },
      "text/plain": [
       "VBox()"
      ]
     },
     "metadata": {},
     "output_type": "display_data"
    },
    {
     "data": {
      "application/vnd.jupyter.widget-view+json": {
       "model_id": "",
       "version_major": 2,
       "version_minor": 0
      },
      "text/plain": [
       "FloatProgress(value=0.0, bar_style='info', description='Progress:', layout=Layout(height='25px', width='50%'),…"
      ]
     },
     "metadata": {},
     "output_type": "display_data"
    },
    {
     "name": "stdout",
     "output_type": "stream",
     "text": [
      "(0.0, 1000.0)"
     ]
    }
   ],
   "source": [
    "plt.figure()\n",
    "fig, ax = plt.subplots(nrows=1, ncols=1)\n",
    "allstores['median_spend_per_customer'].hist(bins = 1000, ax=ax)\n",
    "plt.xlim(0, 1000)\n",
    "%matplot plt\n",
    "saveFigS3(figs_dir + \"price_dist.pdf\", fig)"
   ]
  },
  {
   "cell_type": "code",
   "execution_count": null,
   "metadata": {},
   "outputs": [
    {
     "data": {
      "application/vnd.jupyter.widget-view+json": {
       "model_id": "94de58dc54a94ebb96d58bffa2852e6c",
       "version_major": 2,
       "version_minor": 0
      },
      "text/plain": [
       "VBox()"
      ]
     },
     "metadata": {},
     "output_type": "display_data"
    },
    {
     "data": {
      "application/vnd.jupyter.widget-view+json": {
       "model_id": "",
       "version_major": 2,
       "version_minor": 0
      },
      "text/plain": [
       "FloatProgress(value=0.0, bar_style='info', description='Progress:', layout=Layout(height='25px', width='50%'),…"
      ]
     },
     "metadata": {},
     "output_type": "display_data"
    }
   ],
   "source": [
    "test = allstores.copy()\n",
    "test['brands'] = test['brands'].astype('category')\n",
    "test['brand_id'] = test.brands.cat.codes.astype(int)"
   ]
  },
  {
   "cell_type": "code",
   "execution_count": null,
   "metadata": {},
   "outputs": [
    {
     "data": {
      "application/vnd.jupyter.widget-view+json": {
       "model_id": "3269179822c24a65936527a6ff41b7d7",
       "version_major": 2,
       "version_minor": 0
      },
      "text/plain": [
       "VBox()"
      ]
     },
     "metadata": {},
     "output_type": "display_data"
    },
    {
     "data": {
      "application/vnd.jupyter.widget-view+json": {
       "model_id": "",
       "version_major": 2,
       "version_minor": 0
      },
      "text/plain": [
       "FloatProgress(value=0.0, bar_style='info', description='Progress:', layout=Layout(height='25px', width='50%'),…"
      ]
     },
     "metadata": {},
     "output_type": "display_data"
    }
   ],
   "source": [
    "test['date_start'] = pd.to_datetime(test['spend_date_range_start']).dt.date"
   ]
  },
  {
   "cell_type": "code",
   "execution_count": null,
   "metadata": {},
   "outputs": [
    {
     "data": {
      "application/vnd.jupyter.widget-view+json": {
       "model_id": "cd7bf9c246fe41aa8870712b28cb40b0",
       "version_major": 2,
       "version_minor": 0
      },
      "text/plain": [
       "VBox()"
      ]
     },
     "metadata": {},
     "output_type": "display_data"
    },
    {
     "data": {
      "application/vnd.jupyter.widget-view+json": {
       "model_id": "",
       "version_major": 2,
       "version_minor": 0
      },
      "text/plain": [
       "FloatProgress(value=0.0, bar_style='info', description='Progress:', layout=Layout(height='25px', width='50%'),…"
      ]
     },
     "metadata": {},
     "output_type": "display_data"
    },
    {
     "name": "stdout",
     "output_type": "stream",
     "text": [
      "/usr/local/lib64/python3.7/site-packages/pandas/core/ops/array_ops.py:73: FutureWarning: Comparison of Timestamp with datetime.date is deprecated in order to match the standard library behavior.  In a future version these will be considered non-comparable.Use 'ts == pd.Timestamp(date)' or 'ts.date() == date' instead.\n",
      "  result = libops.scalar_compare(x.ravel(), y, op)"
     ]
    }
   ],
   "source": [
    "test = test[test.date_start == pd.to_datetime(\"2022-09-01\")]"
   ]
  },
  {
   "cell_type": "code",
   "execution_count": null,
   "metadata": {},
   "outputs": [
    {
     "data": {
      "application/vnd.jupyter.widget-view+json": {
       "model_id": "fb5496a6c0304a95867d55007a2271bd",
       "version_major": 2,
       "version_minor": 0
      },
      "text/plain": [
       "VBox()"
      ]
     },
     "metadata": {},
     "output_type": "display_data"
    },
    {
     "data": {
      "application/vnd.jupyter.widget-view+json": {
       "model_id": "",
       "version_major": 2,
       "version_minor": 0
      },
      "text/plain": [
       "FloatProgress(value=0.0, bar_style='info', description='Progress:', layout=Layout(height='25px', width='50%'),…"
      ]
     },
     "metadata": {},
     "output_type": "display_data"
    },
    {
     "name": "stdout",
     "output_type": "stream",
     "text": [
      "                    placekey  ...  date_start\n",
      "7        222-222@5pt-374-b6k  ...  2022-09-01\n",
      "24       222-222@5qv-xj6-hqz  ...  2022-09-01\n",
      "36       222-222@5qw-ssf-68v  ...  2022-09-01\n",
      "48       222-222@5r8-56n-35z  ...  2022-09-01\n",
      "60       222-222@5vg-thb-mkz  ...  2022-09-01\n",
      "...                      ...  ...         ...\n",
      "1235992  zzy-223@8gh-663-rtv  ...  2022-09-01\n",
      "1236004  zzy-223@8sw-sqc-26k  ...  2022-09-01\n",
      "1236016  zzy-224@5s9-9tt-789  ...  2022-09-01\n",
      "1236028  zzy-229@5qv-x3q-mhq  ...  2022-09-01\n",
      "1236040  zzy-22c@627-s6m-rrk  ...  2022-09-01\n",
      "\n",
      "[106681 rows x 65 columns]"
     ]
    }
   ],
   "source": [
    "test"
   ]
  },
  {
   "cell_type": "code",
   "execution_count": null,
   "metadata": {},
   "outputs": [
    {
     "data": {
      "application/vnd.jupyter.widget-view+json": {
       "model_id": "6d644ac7e54d430b939382e654efc635",
       "version_major": 2,
       "version_minor": 0
      },
      "text/plain": [
       "VBox()"
      ]
     },
     "metadata": {},
     "output_type": "display_data"
    },
    {
     "data": {
      "application/vnd.jupyter.widget-view+json": {
       "model_id": "",
       "version_major": 2,
       "version_minor": 0
      },
      "text/plain": [
       "FloatProgress(value=0.0, bar_style='info', description='Progress:', layout=Layout(height='25px', width='50%'),…"
      ]
     },
     "metadata": {},
     "output_type": "display_data"
    },
    {
     "name": "stdout",
     "output_type": "stream",
     "text": [
      "                           High Dimensional Fixed Effect Regression Results                          \n",
      "=====================================================================================================\n",
      "  Dep. Variable:      median_spend_per_customer   R-squared(proj model):                          0  \n",
      "  No. Observations:                      106681   Adj. R-squared(proj model):               -0.2301  \n",
      "  DoF of residual:                      86726.0   R-squared(full model):                     0.1147  \n",
      "  Residual std err:                     90.6572   Adj. R-squared(full model):               -0.0891  \n",
      "  Covariance Type:                    nonrobust   F-statistic(proj model):                        0  \n",
      "  Cluster Method:                    no_cluster   Prob (F-statistic (proj model)):              nan  \n",
      "                                                  DoF of F-test (proj model):        [0.0, 86726.0]  \n",
      "                                                  F-statistic(full model):                   0.5628  \n",
      "                                                  Prob (F-statistic (full model)):           1.0000  \n",
      "                                                  DoF of F-test (full model):        [19955, 86726]  \n",
      "========================================================================================\n",
      "                   coef nonrobust std err          t      P>|t|     [0.025     0.975]   \n",
      "----------------------------------------------------------------------------------------\n",
      "  const        36.23071           0.27756   130.5331     0.0000    35.6867    36.7747   \n",
      "========================================================================================"
     ]
    }
   ],
   "source": [
    "formula = 'median_spend_per_customer ~ 0  | postal_code |0|0'\n",
    "\n",
    "model_fe = fixedeffect(data_df = test,\n",
    "                       formula = formula,\n",
    "                       no_print=True)\n",
    "result = model_fe.fit()\n",
    "result.summary()"
   ]
  },
  {
   "cell_type": "code",
   "execution_count": null,
   "metadata": {},
   "outputs": [
    {
     "data": {
      "application/vnd.jupyter.widget-view+json": {
       "model_id": "82fce0caaf544e4b8493cb7bce89d797",
       "version_major": 2,
       "version_minor": 0
      },
      "text/plain": [
       "VBox()"
      ]
     },
     "metadata": {},
     "output_type": "display_data"
    },
    {
     "data": {
      "application/vnd.jupyter.widget-view+json": {
       "model_id": "",
       "version_major": 2,
       "version_minor": 0
      },
      "text/plain": [
       "FloatProgress(value=0.0, bar_style='info', description='Progress:', layout=Layout(height='25px', width='50%'),…"
      ]
     },
     "metadata": {},
     "output_type": "display_data"
    }
   ],
   "source": [
    "test = test[test.longitude > -140]\n",
    "test = test[test.latitude.between(23, 51)]\n",
    "gdf = gpd.GeoDataFrame(test['median_spend_per_customer'], geometry = gpd.points_from_xy(test.longitude, test.latitude),\n",
    "                      crs = \"epsg:4326\")\n"
   ]
  },
  {
   "cell_type": "code",
   "execution_count": null,
   "metadata": {},
   "outputs": [
    {
     "data": {
      "application/vnd.jupyter.widget-view+json": {
       "model_id": "14eacd09ac9e4095a9f18cba9c02fd03",
       "version_major": 2,
       "version_minor": 0
      },
      "text/plain": [
       "VBox()"
      ]
     },
     "metadata": {},
     "output_type": "display_data"
    },
    {
     "data": {
      "application/vnd.jupyter.widget-view+json": {
       "model_id": "",
       "version_major": 2,
       "version_minor": 0
      },
      "text/plain": [
       "FloatProgress(value=0.0, bar_style='info', description='Progress:', layout=Layout(height='25px', width='50%'),…"
      ]
     },
     "metadata": {},
     "output_type": "display_data"
    }
   ],
   "source": [
    "fig, ax = plt.subplots(nrows=1, ncols=1)\n",
    "gdf.plot(column = \"median_spend_per_customer\", vmax = 200, markersize = 1, ax = ax)\n",
    "saveFigS3(figs_dir + \"map.pdf\", fig)"
   ]
  },
  {
   "cell_type": "code",
   "execution_count": null,
   "metadata": {},
   "outputs": [
    {
     "data": {
      "application/vnd.jupyter.widget-view+json": {
       "model_id": "b35ff266a1514bd2854c7d2be580a59f",
       "version_major": 2,
       "version_minor": 0
      },
      "text/plain": [
       "VBox()"
      ]
     },
     "metadata": {},
     "output_type": "display_data"
    },
    {
     "data": {
      "application/vnd.jupyter.widget-view+json": {
       "model_id": "",
       "version_major": 2,
       "version_minor": 0
      },
      "text/plain": [
       "FloatProgress(value=0.0, bar_style='info', description='Progress:', layout=Layout(height='25px', width='50%'),…"
      ]
     },
     "metadata": {},
     "output_type": "display_data"
    },
    {
     "name": "stdout",
     "output_type": "stream",
     "text": [
      "count    106681.000000\n",
      "mean        -90.928207\n",
      "std          14.898020\n",
      "min        -166.547635\n",
      "25%         -97.066328\n",
      "50%         -86.602995\n",
      "75%         -80.412108\n",
      "max         -64.746376\n",
      "Name: longitude, dtype: float64"
     ]
    }
   ],
   "source": [
    "test['longitude'].describe()"
   ]
  },
  {
   "cell_type": "code",
   "execution_count": null,
   "metadata": {},
   "outputs": [
    {
     "data": {
      "application/vnd.jupyter.widget-view+json": {
       "model_id": "9ba8181a2d9f49deb403ec1831c636df",
       "version_major": 2,
       "version_minor": 0
      },
      "text/plain": [
       "VBox()"
      ]
     },
     "metadata": {},
     "output_type": "display_data"
    },
    {
     "data": {
      "application/vnd.jupyter.widget-view+json": {
       "model_id": "",
       "version_major": 2,
       "version_minor": 0
      },
      "text/plain": [
       "FloatProgress(value=0.0, bar_style='info', description='Progress:', layout=Layout(height='25px', width='50%'),…"
      ]
     },
     "metadata": {},
     "output_type": "display_data"
    },
    {
     "name": "stdout",
     "output_type": "stream",
     "text": [
      "'s3://ipsos-dvd/dyn/results/figs/'"
     ]
    }
   ],
   "source": [
    "figs_dir"
   ]
  },
  {
   "cell_type": "markdown",
   "metadata": {},
   "source": [
    "### Grocery store descriptives"
   ]
  },
  {
   "cell_type": "code",
   "execution_count": null,
   "metadata": {},
   "outputs": [
    {
     "data": {
      "application/vnd.jupyter.widget-view+json": {
       "model_id": "9fa197812fe84c6fbaf1b58fd0781884",
       "version_major": 2,
       "version_minor": 0
      },
      "text/plain": [
       "VBox()"
      ]
     },
     "metadata": {},
     "output_type": "display_data"
    },
    {
     "data": {
      "application/vnd.jupyter.widget-view+json": {
       "model_id": "",
       "version_major": 2,
       "version_minor": 0
      },
      "text/plain": [
       "FloatProgress(value=0.0, bar_style='info', description='Progress:', layout=Layout(height='25px', width='50%'),…"
      ]
     },
     "metadata": {},
     "output_type": "display_data"
    }
   ],
   "source": [
    "spend = spark.read.parquet(os.path.join(data_dyn, \"spend_places\"))#.select(\"placekey\",  \"latitude\", \"longitude\")\n"
   ]
  },
  {
   "cell_type": "code",
   "execution_count": null,
   "metadata": {},
   "outputs": [
    {
     "data": {
      "application/vnd.jupyter.widget-view+json": {
       "model_id": "995298d8d08a4e759c91e595777ada33",
       "version_major": 2,
       "version_minor": 0
      },
      "text/plain": [
       "VBox()"
      ]
     },
     "metadata": {},
     "output_type": "display_data"
    },
    {
     "data": {
      "application/vnd.jupyter.widget-view+json": {
       "model_id": "",
       "version_major": 2,
       "version_minor": 0
      },
      "text/plain": [
       "FloatProgress(value=0.0, bar_style='info', description='Progress:', layout=Layout(height='25px', width='50%'),…"
      ]
     },
     "metadata": {},
     "output_type": "display_data"
    },
    {
     "name": "stdout",
     "output_type": "stream",
     "text": [
      "['placekey', 'safegraph_brand_ids', 'brands', 'spend_date_range_start', 'spend_date_range_end', 'raw_total_spend', 'raw_num_transactions', 'raw_num_customers', 'median_spend_per_transaction', 'median_spend_per_customer', 'spend_per_transaction_percentiles', 'spend_by_day', 'spend_per_transaction_by_day', 'spend_by_day_of_week', 'day_counts', 'spend_pct_change_vs_prev_month', 'spend_pct_change_vs_prev_year', 'online_transactions', 'online_spend', 'transaction_intermediary', 'spend_by_transaction_intermediary', 'bucketed_customer_frequency', 'mean_spend_per_customer_by_frequency', 'bucketed_customer_incomes', 'mean_spend_per_customer_by_income', 'customer_home_city', 'related_cross_shopping_physical_brands_pct', 'related_cross_shopping_online_merchants_pct', 'related_cross_shopping_same_category_brands_pct', 'related_cross_shopping_local_brands_pct', 'related_wireless_carrier_pct', 'related_streaming_cable_pct', 'related_delivery_service_pct', 'related_rideshare_service_pct', 'related_buynowpaylater_service_pct', 'related_payment_platform_pct', 'parent_placekey', 'location_name', 'store_id', 'top_category', 'sub_category', 'naics_code', 'latitude', 'longitude', 'street_address', 'city', 'region', 'postal_code', 'open_hours', 'category_tags', 'opened_on', 'closed_on', 'tracking_closed_since', 'websites', 'geometry_type', 'polygon_wkt', 'polygon_class', 'enclosed', 'phone_number', 'is_synthetic', 'includes_parking_lot', 'iso_country_code', 'wkt_area_sq_meters']"
     ]
    }
   ],
   "source": [
    "spend.columns"
   ]
  },
  {
   "cell_type": "code",
   "execution_count": null,
   "metadata": {},
   "outputs": [
    {
     "data": {
      "application/vnd.jupyter.widget-view+json": {
       "model_id": "6ad4c858dd9e4a649d6e749b6556bf19",
       "version_major": 2,
       "version_minor": 0
      },
      "text/plain": [
       "VBox()"
      ]
     },
     "metadata": {},
     "output_type": "display_data"
    },
    {
     "data": {
      "application/vnd.jupyter.widget-view+json": {
       "model_id": "",
       "version_major": 2,
       "version_minor": 0
      },
      "text/plain": [
       "FloatProgress(value=0.0, bar_style='info', description='Progress:', layout=Layout(height='25px', width='50%'),…"
      ]
     },
     "metadata": {},
     "output_type": "display_data"
    }
   ],
   "source": [
    "brands = spend.select(\"brands\").distinct().toPandas()"
   ]
  },
  {
   "cell_type": "code",
   "execution_count": null,
   "metadata": {},
   "outputs": [
    {
     "data": {
      "application/vnd.jupyter.widget-view+json": {
       "model_id": "49e3299ab32b431496e8d6d1d6762fe8",
       "version_major": 2,
       "version_minor": 0
      },
      "text/plain": [
       "VBox()"
      ]
     },
     "metadata": {},
     "output_type": "display_data"
    },
    {
     "data": {
      "application/vnd.jupyter.widget-view+json": {
       "model_id": "",
       "version_major": 2,
       "version_minor": 0
      },
      "text/plain": [
       "FloatProgress(value=0.0, bar_style='info', description='Progress:', layout=Layout(height='25px', width='50%'),…"
      ]
     },
     "metadata": {},
     "output_type": "display_data"
    }
   ],
   "source": [
    "brands.to_csv(data_dyn + \"brands.csv\")"
   ]
  },
  {
   "cell_type": "code",
   "execution_count": null,
   "metadata": {},
   "outputs": [],
   "source": [
    "known_large_chains = [\n",
    "    \"Costco\", \"Kroger\", \"Walmart\", \"Target\", \"Safeway\", \"Publix\",\n",
    "    \"Aldi\", \"Whole Foods\", \"Trader Joe's\", \"Wegmans\", \"Sam's Club\",\n",
    "    \"Lidl\", \"H-E-B\", \"Albertsons\", \"Hy-Vee\", \"Meijer\", \"Giant Food\",\n",
    "    \"Hannaford\", \"Stop & Shop\", \"WinCo Foods\", \"Sprouts Farmers Market\",\n",
    "    \"ShopRite\", \"Food Lion\", \"Harris Teeter\", \"Ralphs\", \"Fred Meyer\",\n",
    "    \"Vons\", \"Smith's\", \"Jewel-Osco\", \"Piggly Wiggly\", \"King Soopers\",\n",
    "    \"Acme Markets\", \"BI-LO\", \"Dillons\", \"Fry's Food and Drug\", \"QFC\",\n",
    "    \"Raley's\", \"Roundy's\", \"Save Mart Supermarkets\", \"Schnucks\",\n",
    "    \"Shaw's and Star Market\", \"Stater Bros. Markets\", \"Winn-Dixie\",\n",
    "    \"BJ's Wholesale Club\"\n",
    "]\n",
    "sub_major_chains = [\n",
    "    \"Dollar General\", \"Family Dollar\", \"Dollar Tree\", \n",
    "    \"Marshalls\", \"Burlington\",\n",
    "    \"Lowe's\", \"Home Depot\",\n",
    "    \"Menards\", \"Tractor Supply Company\"\n",
    "]\n",
    "\n",
    "# \"Amazon Fresh\", \"H Mart\", \"Family Dollar Stores\",\n",
    "#    \"Dollar General\", \"Dollar Tree\",\n",
    "\n",
    "grocery_chains = [\n",
    "    \"Costco\", \"Kroger\", \"Walmart\", \"Safeway\", \"Publix\", \"Aldi\", \"Whole Foods\", \n",
    "    \"Trader Joe's\", \"Wegmans\", \"Sam's Club\", \"Lidl\", \"H-E-B\", \"Albertsons\", \n",
    "    \"Hy-Vee\", \"Meijer\", \"Giant Food\", \"Hannaford\", \"Stop & Shop\", \n",
    "    \"WinCo Foods\", \"Sprouts Farmers Market\", \"ShopRite\", \"Food Lion\", \n",
    "    \"Harris Teeter\", \"Ralphs\", \"Fred Meyer\", \"Vons\", \"Smith's\", \n",
    "    \"Jewel-Osco\", \"Piggly Wiggly\", \"King Soopers\", \"Acme Markets\", \n",
    "    \"BI-LO\", \"Dillons\", \"Fry's Food and Drug\", \"QFC\", \"Raley's\", \n",
    "    \"Roundy's\", \"Save Mart Supermarkets\", \"Schnucks\", \"Shaw's and Star Market\", \n",
    "    \"Stater Bros. Markets\", \"Winn-Dixie\", \"Dollar General\", \"Family Dollar\", \n",
    "    \"Dollar Tree\", \"ALDI\", \"Grocery Outlet\", \"Price Chopper\", \"Fresh Thyme\", \n",
    "    \"The Fresh Market\", \"Market Basket\", \"Marc's\", \"Earth Fare\", \n",
    "    \"Lucky's Market\", \"Fareway\", \"Bashas'\", \"Brookshire's\", \"Harveys\", \n",
    "    \"Ingles\", \"Weis Markets\", \"Giant Eagle\", \"Cub Foods\", \"Heinen's\"\n",
    "]\n",
    "\n",
    "expanded_grocery_chains = [\n",
    "    \"Costco\", \"Kroger\", \"Walmart Supercenter\", \"Safeway\", \"Publix\", \"Aldi\", \"Whole Foods Market\", \n",
    "    \"Trader Joe's\", \"Wegmans\", \"Sam's Club\", \"Lidl\", \"H-E-B\", \"Albertsons\", \n",
    "    \"Hy-Vee\", \"Meijer\", \"Giant Food\", \"Hannaford\", \"Stop & Shop\", \n",
    "    \"WinCo Foods\", \"Sprouts Farmers Market\", \"ShopRite\", \"Food Lion\", \n",
    "    \"Harris Teeter\", \"Ralphs\", \"Fred Meyer\", \"Vons\", \"Smith's\", \n",
    "    \"Jewel-Osco\", \"Piggly Wiggly\", \"King Soopers\", \"Acme Markets\", \n",
    "    \"Dillons\", \"Fry's Food and Drug\", \"Fry's\", \"QFC\", \"Raley's\", \n",
    "    \"Roundy's\", \"Save Mart Supermarkets\", \"Schnucks\", \"Shaw's and Star Market\", \n",
    "    \"Stater Bros. Markets\", \"Winn-Dixie\", \"Dollar General\", \"Family Dollar\", \n",
    "    \"Dollar Tree\", \"ALDI\", \"Grocery Outlet\", \"Price Chopper\", \"Fresh Thyme\", \n",
    "    \"The Fresh Market\", \"Market Basket\", \"Marc's\", \"Earth Fare\", \n",
    "    \"Lucky's Market\", \"Fareway\", \"Bashas'\", \"Brookshire's\", \"Harveys\", \n",
    "    \"Weis Markets\", \"Giant Eagle\", \"Cub Foods\", \"Heinen's\",\n",
    "    # Including Walmart and Target as they have significant grocery sections\n",
    "    \"Walmart\", \"Target\", \"Smart & Final\", \"Lin's Fresh Market\", \"Harmons\", \n",
    "    \"Marketplace Foods\", \"Lowes Foods\", \"Harps Food Store\", \"Tops Friendly Markets\",\n",
    "    \"Foodtown\", \"Food City\", \"Ingles Markets\"\n",
    "]\n",
    "# IGA: alliance of independent stores\n",
    "# https://en.wikipedia.org/wiki/List_of_supermarket_chains_in_the_United_States\n",
    "# bankrupt : BI-LO\n",
    "# negligible: Harmons (20 stores), Lin's fresh market (7)"
   ]
  }
 ],
 "metadata": {
  "kernelspec": {
   "display_name": "PySpark",
   "language": "python",
   "name": "pysparkkernel"
  },
  "language_info": {
   "codemirror_mode": {
    "name": "python",
    "version": 3
   },
   "file_extension": ".py",
   "mimetype": "text/x-python",
   "name": "pyspark",
   "pygments_lexer": "python3"
  }
 },
 "nbformat": 4,
 "nbformat_minor": 4
}
