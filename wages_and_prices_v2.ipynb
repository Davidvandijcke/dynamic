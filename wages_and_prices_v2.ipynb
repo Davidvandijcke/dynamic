{
 "cells": [
  {
   "cell_type": "code",
   "execution_count": 1,
   "metadata": {
    "execution": {
     "iopub.execute_input": "2024-02-29T20:46:58.786927Z",
     "iopub.status.busy": "2024-02-29T20:46:58.786622Z",
     "iopub.status.idle": "2024-02-29T20:48:06.712022Z",
     "shell.execute_reply": "2024-02-29T20:48:06.711410Z",
     "shell.execute_reply.started": "2024-02-29T20:46:58.786900Z"
    },
    "tags": []
   },
   "outputs": [
    {
     "data": {
      "application/vnd.jupyter.widget-view+json": {
       "model_id": "7597044f47dc40db907025d10b3ebdcc",
       "version_major": 2,
       "version_minor": 0
      },
      "text/plain": [
       "VBox()"
      ]
     },
     "metadata": {},
     "output_type": "display_data"
    },
    {
     "name": "stdout",
     "output_type": "stream",
     "text": [
      "Starting Spark application\n"
     ]
    },
    {
     "data": {
      "text/html": [
       "<table>\n<tbody><tr><th>ID</th><th>YARN Application ID</th><th>Kind</th><th>State</th><th>Spark UI</th><th>Driver log</th><th>User</th><th>Current session?</th></tr><tr><td>10</td><td>application_1709223206931_0011</td><td>pyspark</td><td>idle</td><td><a target=\"_blank\" href=\"http://ip-172-31-44-23.ec2.internal:20888/proxy/application_1709223206931_0011/\" class=\"emr-proxy-link j-199GMEIT8NIF4 application_1709223206931_0011\" emr-resource=\"j-199GMEIT8NIF4\n\" application-id=\"application_1709223206931_0011\">Link</a></td><td><a target=\"_blank\" href=\"http://ip-172-31-40-78.ec2.internal:8042/node/containerlogs/container_1709223206931_0011_01_000001/livy\">Link</a></td><td>None</td><td>✔</td></tr></tbody></table>"
      ],
      "text/plain": [
       "<IPython.core.display.HTML object>"
      ]
     },
     "metadata": {},
     "output_type": "display_data"
    },
    {
     "data": {
      "application/vnd.jupyter.widget-view+json": {
       "model_id": "c209174d04104ba6a8b656887d581732",
       "version_major": 2,
       "version_minor": 0
      },
      "text/plain": [
       "FloatProgress(value=0.0, bar_style='info', description='Progress:', layout=Layout(height='25px', width='50%'),…"
      ]
     },
     "metadata": {},
     "output_type": "display_data"
    },
    {
     "name": "stdout",
     "output_type": "stream",
     "text": [
      "SparkSession available as 'spark'.\n"
     ]
    },
    {
     "data": {
      "application/vnd.jupyter.widget-view+json": {
       "model_id": "5c1206a85377486aa844ed89dfbb025b",
       "version_major": 2,
       "version_minor": 0
      },
      "text/plain": [
       "FloatProgress(value=0.0, bar_style='info', description='Progress:', layout=Layout(height='25px', width='50%'),…"
      ]
     },
     "metadata": {},
     "output_type": "display_data"
    },
    {
     "name": "stdout",
     "output_type": "stream",
     "text": [
      "Collecting plotly\n",
      "  Downloading plotly-5.18.0-py3-none-any.whl.metadata (7.0 kB)\n",
      "Collecting tenacity>=6.2.0 (from plotly)\n",
      "  Downloading tenacity-8.2.3-py3-none-any.whl.metadata (1.0 kB)\n",
      "Requirement already satisfied: packaging in /usr/local/lib/python3.7/site-packages (from plotly) (23.2)\n",
      "Downloading plotly-5.18.0-py3-none-any.whl (15.6 MB)\n",
      "   ━━━━━━━━━━━━━━━━━━━━━━━━━━━━━━━━━━━━━━━━ 15.6/15.6 MB 140.0 MB/s eta 0:00:00\n",
      "Downloading tenacity-8.2.3-py3-none-any.whl (24 kB)\n",
      "Installing collected packages: tenacity, plotly\n",
      "Successfully installed plotly-5.18.0 tenacity-8.2.3\n",
      "\n",
      "Collecting thefuzz\n",
      "  Downloading thefuzz-0.20.0-py3-none-any.whl.metadata (3.9 kB)\n",
      "Collecting rapidfuzz<4.0.0,>=3.0.0 (from thefuzz)\n",
      "  Downloading rapidfuzz-3.4.0-cp37-cp37m-manylinux_2_17_x86_64.manylinux2014_x86_64.whl.metadata (11 kB)\n",
      "Downloading thefuzz-0.20.0-py3-none-any.whl (15 kB)\n",
      "Downloading rapidfuzz-3.4.0-cp37-cp37m-manylinux_2_17_x86_64.manylinux2014_x86_64.whl (3.2 MB)\n",
      "   ━━━━━━━━━━━━━━━━━━━━━━━━━━━━━━━━━━━━━━━━ 3.2/3.2 MB 195.3 MB/s eta 0:00:00\n",
      "Installing collected packages: rapidfuzz, thefuzz\n",
      "Successfully installed rapidfuzz-3.4.0 thefuzz-0.20.0\n",
      "\n",
      "Collecting FixedEffectModel\n",
      "  Downloading FixedEffectModel-0.0.5-py3-none-any.whl.metadata (21 kB)\n",
      "Requirement already satisfied: pandas>=0.16.0 in /usr/local/lib64/python3.7/site-packages (from FixedEffectModel) (1.3.5)\n",
      "Requirement already satisfied: numpy>=1.9.2 in /usr/local/lib64/python3.7/site-packages (from FixedEffectModel) (1.21.6)\n",
      "Requirement already satisfied: scipy>=1.6.0 in /usr/local/lib64/python3.7/site-packages (from FixedEffectModel) (1.7.3)\n",
      "Requirement already satisfied: statsmodels>=0.12.2 in /usr/local/lib64/python3.7/site-packages (from FixedEffectModel) (0.13.5)\n",
      "Requirement already satisfied: networkx>=2.5 in /usr/local/lib/python3.7/site-packages (from FixedEffectModel) (2.6.3)\n",
      "Requirement already satisfied: python-dateutil>=2.7.3 in /usr/local/lib/python3.7/site-packages (from pandas>=0.16.0->FixedEffectModel) (2.8.2)\n",
      "Requirement already satisfied: pytz>=2017.3 in /usr/local/lib/python3.7/site-packages (from pandas>=0.16.0->FixedEffectModel) (2023.3)\n",
      "Requirement already satisfied: patsy>=0.5.2 in /usr/local/lib/python3.7/site-packages (from statsmodels>=0.12.2->FixedEffectModel) (0.5.6)\n",
      "Requirement already satisfied: packaging>=21.3 in /usr/local/lib/python3.7/site-packages (from statsmodels>=0.12.2->FixedEffectModel) (23.2)\n",
      "Requirement already satisfied: six in /usr/local/lib/python3.7/site-packages (from patsy>=0.5.2->statsmodels>=0.12.2->FixedEffectModel) (1.13.0)\n",
      "Downloading FixedEffectModel-0.0.5-py3-none-any.whl (50 kB)\n",
      "   ━━━━━━━━━━━━━━━━━━━━━━━━━━━━━━━━━━━━━━━━ 50.3/50.3 kB 170.4 MB/s eta 0:00:00\n",
      "Installing collected packages: FixedEffectModel\n",
      "Successfully installed FixedEffectModel-0.0.5\n",
      "\n",
      "Collecting name_matching\n",
      "  Downloading name_matching-0.8.9-py3-none-any.whl.metadata (4.0 kB)\n",
      "Collecting cleanco (from name_matching)\n",
      "  Downloading cleanco-2.2-py3-none-any.whl.metadata (3.4 kB)\n",
      "Requirement already satisfied: scikit-learn in /usr/local/lib64/python3.7/site-packages (from name_matching) (1.0.2)\n",
      "Requirement already satisfied: pandas in /usr/local/lib64/python3.7/site-packages (from name_matching) (1.3.5)\n",
      "Requirement already satisfied: numpy in /usr/local/lib64/python3.7/site-packages (from name_matching) (1.21.6)\n",
      "Requirement already satisfied: tqdm in /usr/local/lib64/python3.7/site-packages (from name_matching) (4.65.0)\n",
      "Requirement already satisfied: python-dateutil>=2.7.3 in /usr/local/lib/python3.7/site-packages (from pandas->name_matching) (2.8.2)\n",
      "Requirement already satisfied: pytz>=2017.3 in /usr/local/lib/python3.7/site-packages (from pandas->name_matching) (2023.3)\n",
      "Requirement already satisfied: scipy>=1.1.0 in /usr/local/lib64/python3.7/site-packages (from scikit-learn->name_matching) (1.7.3)\n",
      "Requirement already satisfied: joblib>=0.11 in /usr/local/lib64/python3.7/site-packages (from scikit-learn->name_matching) (1.3.1)\n",
      "Requirement already satisfied: threadpoolctl>=2.0.0 in /usr/local/lib/python3.7/site-packages (from scikit-learn->name_matching) (3.1.0)\n",
      "Requirement already satisfied: six>=1.5 in /usr/local/lib/python3.7/site-packages (from python-dateutil>=2.7.3->pandas->name_matching) (1.13.0)\n",
      "Downloading name_matching-0.8.9-py3-none-any.whl (114 kB)\n",
      "   ━━━━━━━━━━━━━━━━━━━━━━━━━━━━━━━━━━━━━━━━ 114.4/114.4 kB 65.3 MB/s eta 0:00:00\n",
      "Downloading cleanco-2.2-py3-none-any.whl (11 kB)\n",
      "Installing collected packages: cleanco, name_matching\n",
      "Successfully installed cleanco-2.2 name_matching-0.8.9\n",
      "\n",
      "WARNING: The directory '/home/.cache/pip' or its parent directory is not owned or is not writable by the current user. The cache has been disabled. Check the permissions and owner of that directory. If executing pip with sudo, you should use sudo's -H flag.\n",
      "\n",
      "WARNING: The directory '/home/.cache/pip' or its parent directory is not owned or is not writable by the current user. The cache has been disabled. Check the permissions and owner of that directory. If executing pip with sudo, you should use sudo's -H flag.\n",
      "\n",
      "WARNING: The directory '/home/.cache/pip' or its parent directory is not owned or is not writable by the current user. The cache has been disabled. Check the permissions and owner of that directory. If executing pip with sudo, you should use sudo's -H flag.\n",
      "\n",
      "WARNING: The directory '/home/.cache/pip' or its parent directory is not owned or is not writable by the current user. The cache has been disabled. Check the permissions and owner of that directory. If executing pip with sudo, you should use sudo's -H flag."
     ]
    }
   ],
   "source": [
    "\"\"\" Filter based on h3 hexagons mapped to polygons\n",
    "\n",
    "aws emr add-steps --cluster-id <Your EMR cluster id> --steps Type=spark,Name=TestJob,Args=[--deploy-mode,cluster,--master,yarn,--conf,spark.yarn.submit.waitAppCompletion=true,s3a://your-source-bucket/code/pythonjob.py,s3a://your-source-bucket/data/data.csv,s3a://your-destination-bucket/test-output/],ActionOnFailure=CONTINUE\n",
    "\"\"\"\n",
    "\n",
    "from collections import namedtuple\n",
    "import logging\n",
    "import sys\n",
    "\n",
    "from sedona.register import SedonaRegistrator  \n",
    "from sedona.utils import SedonaKryoRegistrator, KryoSerializer\n",
    "from pyspark.sql.functions import udf\n",
    "from sedona.utils.adapter import Adapter\n",
    "#from sedona.core.formatMapper.geojsonReader import GeoJsonReader\n",
    "from sedona.core.formatMapper.shapefileParser import ShapefileReader\n",
    "from sedona.core.SpatialRDD import PointRDD, SpatialRDD, CircleRDD\n",
    "from sedona.sql.types import GeometryType\n",
    "from sedona.core.enums import GridType\n",
    "from sedona.core.spatialOperator import JoinQueryRaw\n",
    "from sedona.core.spatialOperator import JoinQuery\n",
    "from sedona.core.enums import IndexType\n",
    "from sedona.core.formatMapper.disc_utils import load_spatial_rdd_from_disc, GeoType\n",
    "from sedona.core.formatMapper import WktReader\n",
    "\n",
    "\n",
    "import pyproj\n",
    "\n",
    "from geopy.distance import great_circle\n",
    "import pandas as pd\n",
    "import geopandas as gpd\n",
    "import os\n",
    "\n",
    "from datetime import timedelta, date, datetime\n",
    "from statistics import *\n",
    "\n",
    "from pyspark import SparkContext\n",
    "\n",
    "from pyspark.sql import SQLContext, SparkSession\n",
    "from pyspark.sql.window import Window\n",
    "from pyspark.sql.types import (\n",
    "    StructType,\n",
    "    LongType,\n",
    "    StructField,\n",
    "    IntegerType,\n",
    "    StringType,\n",
    "    DoubleType,\n",
    "    TimestampType,\n",
    "    ArrayType\n",
    ")\n",
    "from pyspark.sql.functions import (\n",
    "    from_utc_timestamp,\n",
    "    to_utc_timestamp,\n",
    "    dayofyear,\n",
    "    col,\n",
    "    unix_timestamp,\n",
    "    monotonically_increasing_id,\n",
    "    pandas_udf,\n",
    "    PandasUDFType,\n",
    "    col,\n",
    "    asc,\n",
    "    lit,\n",
    "    countDistinct,\n",
    ")\n",
    "import pyspark.sql.functions as F\n",
    "from math import *\n",
    "import time\n",
    "\n",
    "from shapely.wkt import loads as wkt_loads\n",
    "from shapely.geometry import Point, Polygon, shape\n",
    "from shapely.ops import transform\n",
    "import shapely\n",
    "\n",
    "from matplotlib import pyplot as plt\n",
    "from matplotlib.cm import ScalarMappable\n",
    "\n",
    "\n",
    "spark = (SparkSession.builder.appName(\"sedona\")\n",
    "                 .config(\"spark.serializer\", KryoSerializer.getName)          \n",
    "        .config(\"spark.kryo.registrator\",     \n",
    "                  SedonaKryoRegistrator.getName)    \n",
    "         .config(\"spark.driver.maxResultSize\", \"3g\")\n",
    "    .getOrCreate() \n",
    "        )\n",
    "\n",
    "\n",
    "# Register Sedona UDTs and UDFs\n",
    "SedonaRegistrator.registerAll(spark)\n",
    "\n",
    "spark.sparkContext.addPyFile(\"s3://ipsos-dvd/scripts/utils.py\")\n",
    "from utils import *\n",
    "import h3_pyspark as h3s\n",
    "#import h3pandas \n",
    "import h3 as h3\n",
    "import io\n",
    "import json\n",
    "\n",
    "\n",
    "s3 = boto3.client('s3')\n",
    "\n",
    "\n",
    "#------\n",
    "# parameters\n",
    "#------\n",
    "\n",
    "data_dir = \"s3://external-safegraph/\"\n",
    "data_dyn = \"s3://ipsos-dvd/dyn/data/\"\n",
    "figs_dir = \"s3://ipsos-dvd/dyn/results/figs/\"\n",
    "tabs_dir =  \"s3://ipsos-dvd/dyn/results/tabs/\"\n",
    "data_veraset = \"s3://external-veraset-data-us-west-2/us/\"\n",
    "data_wages = \"s3://external-wagescape/\"\n",
    "\n",
    "import s3fs\n",
    "fs = s3fs.S3FileSystem()\n",
    "\n",
    "# ----- install pypi packages\n",
    "sc.install_pypi_package(\"plotly\")\n",
    "sc.install_pypi_package(\"thefuzz\")\n",
    "sc.install_pypi_package(\"FixedEffectModel\")\n",
    "sc.install_pypi_package(\"name_matching\")\n",
    "\n",
    "from fixedeffect.iv import iv2sls, ivgmm, ivtest\n",
    "from fixedeffect.fe import fixedeffect, did, getfe\n",
    "from fixedeffect.utils.panel_dgp import gen_data\n",
    "\n",
    "from thefuzz import process, fuzz\n",
    "import plotly.express as px\n",
    "\n",
    "\n",
    "def saveFigS3(fig_prefix, bucket = \"ipsos-dvd\", **kwargs):\n",
    "    \n",
    "    # Create an s3 client\n",
    "    s3 = boto3.client('s3')\n",
    "    \n",
    "    plt.savefig(\"tempfig.pdf\", **kwargs)\n",
    "\n",
    "    s3.upload_file('tempfig.pdf',bucket, fig_prefix)\n",
    "\n",
    "    \n",
    "from name_matching.name_matcher import NameMatcher\n",
    "from name_matching.sparse_cosine import sparse_cosine_top_n\n"
   ]
  },
  {
   "cell_type": "code",
   "execution_count": 2,
   "metadata": {
    "execution": {
     "iopub.execute_input": "2024-02-29T20:48:06.713301Z",
     "iopub.status.busy": "2024-02-29T20:48:06.713089Z",
     "iopub.status.idle": "2024-02-29T20:48:06.750555Z",
     "shell.execute_reply": "2024-02-29T20:48:06.749921Z",
     "shell.execute_reply.started": "2024-02-29T20:48:06.713280Z"
    },
    "tags": []
   },
   "outputs": [
    {
     "data": {
      "application/vnd.jupyter.widget-view+json": {
       "model_id": "8c2e775e3dcb44d1ab81f33804a0f10f",
       "version_major": 2,
       "version_minor": 0
      },
      "text/plain": [
       "VBox()"
      ]
     },
     "metadata": {},
     "output_type": "display_data"
    },
    {
     "data": {
      "application/vnd.jupyter.widget-view+json": {
       "model_id": "797fb769b3444f32a2b77381f1feaf3b",
       "version_major": 2,
       "version_minor": 0
      },
      "text/plain": [
       "FloatProgress(value=0.0, bar_style='info', description='Progress:', layout=Layout(height='25px', width='50%'),…"
      ]
     },
     "metadata": {},
     "output_type": "display_data"
    }
   ],
   "source": [
    "#### Define functions\n",
    "\n",
    "def spatialIntersection(pings, poly, build_on_spatial_partitioned_rdd = True, using_index = True, origin_crs=\"epsg:4326\", crs=\"epsg:4326\", transform=True): \n",
    "    \n",
    "    poly_rdd = Adapter.toSpatialRdd(poly, \"geometry\")\n",
    "\n",
    "    pings.createOrReplaceTempView(\"pings\")\n",
    "\n",
    "    # Read Hive table\n",
    "    if transform:\n",
    "        pings = spark.sql(\n",
    "              f\"\"\"SELECT ST_Transform(ST_FlipCoordinates(ST_Point(pings.longitude, \n",
    "              pings.latitude)), \"{origin_crs}\", \"{crs}\") AS point, \n",
    "              *\n",
    "              FROM pings;\n",
    "              \"\"\"\n",
    "        )\n",
    "    else:\n",
    "        pings = spark.sql(\n",
    "              f\"\"\"SELECT ST_FlipCoordinates(ST_Transform(ST_FlipCoordinates(ST_Point(pings.longitude, \n",
    "              pings.latitude)), \"{origin_crs}\", \"{crs}\")) AS point, \n",
    "              *\n",
    "              FROM pings;\n",
    "              \"\"\"\n",
    "        )\n",
    "    num_partitions = 1000\n",
    "    pings = pings.repartition(num_partitions)\n",
    "    pings = pings.cache()\n",
    "    \n",
    "    grid_type = GridType.QUADTREE # this shit works so much better for skewed data\n",
    "\n",
    "    points_rdd = Adapter.toSpatialRdd(pings, \"point\")\n",
    "    points_rdd.analyze()\n",
    "    points_rdd.spatialPartitioning(grid_type)\n",
    "    \n",
    "    poly_rdd.analyze()\n",
    "    poly_rdd.spatialPartitioning(points_rdd.getPartitioner())\n",
    "    \n",
    "     ## Set to TRUE only if run join query\n",
    "    points_rdd.buildIndex(IndexType.QUADTREE, build_on_spatial_partitioned_rdd)\n",
    "    \n",
    "    result = JoinQueryRaw.SpatialJoinQueryFlat(points_rdd, poly_rdd, using_index, True)\n",
    "\n",
    "    return Adapter.toDf(result, poly_rdd.fieldNames, points_rdd.fieldNames, spark)\n",
    "\n",
    "\n",
    "def run_regression_and_get_r2(data_df, fixed_effect, yvar):\n",
    "    formula = yvar + f' ~  0 | {fixed_effect} |0|0'\n",
    "    model_fe = fixedeffect(data_df=data_df, formula=formula, noint=False, no_print=True)\n",
    "    result = model_fe.fit()\n",
    "    return result.full_rsquared, result.full_rsquared_adj, round(result.nobs), round(result.nobs - result.df)\n",
    "\n",
    "def getR2Df(pagg, fixed_effects = ['cz', 'brands', 'brands_cz'], yvar = \"spend_per_transaction\"):\n",
    "\n",
    "    # Data structure to hold the results\n",
    "    results = {'Fixed Effect': [], 'R-squared': [], 'Adjusted R-squared': [], \n",
    "              'No. Obs' : [], 'No. FEs' : []}\n",
    "\n",
    "    # Step 3: Loop over the fixed effects and run regressions\n",
    "    for fe in fixed_effects:\n",
    "        r_squared, r_squared_adj, nobs, nfes = run_regression_and_get_r2(pagg, fe, yvar=yvar)\n",
    "        results['Fixed Effect'].append(fe)\n",
    "        results['R-squared'].append(r_squared)\n",
    "        results['Adjusted R-squared'].append(r_squared_adj)\n",
    "        results['No. Obs'].append(nobs)\n",
    "        results['No. FEs'].append(nfes)\n",
    "                \n",
    "\n",
    "    # Step 4: Convert the results to a DataFrame for a nice table\n",
    "    results_df = pd.DataFrame(results).set_index('Fixed Effect').T\n",
    "            \n",
    "    return(results_df)"
   ]
  },
  {
   "cell_type": "markdown",
   "metadata": {},
   "source": [
    "## Filter wages on chains"
   ]
  },
  {
   "cell_type": "code",
   "execution_count": null,
   "metadata": {},
   "outputs": [
    {
     "data": {
      "application/vnd.jupyter.widget-view+json": {
       "model_id": "2adbd3b08a1a464c813967e4e6ab35ce",
       "version_major": 2,
       "version_minor": 0
      },
      "text/plain": [
       "VBox()"
      ]
     },
     "metadata": {},
     "output_type": "display_data"
    },
    {
     "data": {
      "application/vnd.jupyter.widget-view+json": {
       "model_id": "",
       "version_major": 2,
       "version_minor": 0
      },
      "text/plain": [
       "FloatProgress(value=0.0, bar_style='info', description='Progress:', layout=Layout(height='25px', width='50%'),…"
      ]
     },
     "metadata": {},
     "output_type": "display_data"
    }
   ],
   "source": [
    "## load wages \n",
    "wages = spark.read.csv(data_wages + \"wagescape_lag/2022-01-01/*\", header=True)\n",
    "\n",
    "\n"
   ]
  },
  {
   "cell_type": "markdown",
   "metadata": {},
   "source": [
    "### Cosine matching"
   ]
  },
  {
   "cell_type": "code",
   "execution_count": null,
   "metadata": {},
   "outputs": [
    {
     "data": {
      "application/vnd.jupyter.widget-view+json": {
       "model_id": "9e742ad43d5b445ea4e44a1eda2a75fc",
       "version_major": 2,
       "version_minor": 0
      },
      "text/plain": [
       "VBox()"
      ]
     },
     "metadata": {},
     "output_type": "display_data"
    },
    {
     "data": {
      "application/vnd.jupyter.widget-view+json": {
       "model_id": "",
       "version_major": 2,
       "version_minor": 0
      },
      "text/plain": [
       "FloatProgress(value=0.0, bar_style='info', description='Progress:', layout=Layout(height='25px', width='50%'),…"
      ]
     },
     "metadata": {},
     "output_type": "display_data"
    }
   ],
   "source": [
    "\n",
    "with fs.open(\"s3://ipsos-dvd/dyn/data/expanded_grocery_chains.json\", 'rb') as f:\n",
    "    s3_clientdata = json.load(f)\n",
    "chains = s3_clientdata['expanded_grocery_chains']\n",
    "# s3://ipsos-dvd/dyn/data/expanded_grocery_chains.json"
   ]
  },
  {
   "cell_type": "code",
   "execution_count": null,
   "metadata": {},
   "outputs": [
    {
     "data": {
      "application/vnd.jupyter.widget-view+json": {
       "model_id": "e55753f1730e4fba8b88dbb57e22fdd0",
       "version_major": 2,
       "version_minor": 0
      },
      "text/plain": [
       "VBox()"
      ]
     },
     "metadata": {},
     "output_type": "display_data"
    },
    {
     "data": {
      "application/vnd.jupyter.widget-view+json": {
       "model_id": "",
       "version_major": 2,
       "version_minor": 0
      },
      "text/plain": [
       "FloatProgress(value=0.0, bar_style='info', description='Progress:', layout=Layout(height='25px', width='50%'),…"
      ]
     },
     "metadata": {},
     "output_type": "display_data"
    }
   ],
   "source": [
    "test = wages.select(\"COMPANY\").distinct().toPandas()\n",
    "\n"
   ]
  },
  {
   "cell_type": "code",
   "execution_count": null,
   "metadata": {},
   "outputs": [
    {
     "data": {
      "application/vnd.jupyter.widget-view+json": {
       "model_id": "1b23fdcffbb7436ab212e35756f129b2",
       "version_major": 2,
       "version_minor": 0
      },
      "text/plain": [
       "VBox()"
      ]
     },
     "metadata": {},
     "output_type": "display_data"
    },
    {
     "data": {
      "application/vnd.jupyter.widget-view+json": {
       "model_id": "",
       "version_major": 2,
       "version_minor": 0
      },
      "text/plain": [
       "FloatProgress(value=0.0, bar_style='info', description='Progress:', layout=Layout(height='25px', width='50%'),…"
      ]
     },
     "metadata": {},
     "output_type": "display_data"
    }
   ],
   "source": [
    "test.to_csv(data_dyn + \"wagescape_unique_names.csv\", header=True, index=False)"
   ]
  },
  {
   "cell_type": "code",
   "execution_count": null,
   "metadata": {},
   "outputs": [
    {
     "data": {
      "application/vnd.jupyter.widget-view+json": {
       "model_id": "aa9e0588a0fc4ffd9f512ec3ce677245",
       "version_major": 2,
       "version_minor": 0
      },
      "text/plain": [
       "VBox()"
      ]
     },
     "metadata": {},
     "output_type": "display_data"
    },
    {
     "data": {
      "application/vnd.jupyter.widget-view+json": {
       "model_id": "",
       "version_major": 2,
       "version_minor": 0
      },
      "text/plain": [
       "FloatProgress(value=0.0, bar_style='info', description='Progress:', layout=Layout(height='25px', width='50%'),…"
      ]
     },
     "metadata": {},
     "output_type": "display_data"
    }
   ],
   "source": [
    "chains_df = pd.DataFrame({'chain' : chains})\n",
    "chains_df.to_csv(data_dyn + \"chains_unique_names.csv\", header=True, index=False)"
   ]
  },
  {
   "cell_type": "code",
   "execution_count": null,
   "metadata": {},
   "outputs": [
    {
     "data": {
      "application/vnd.jupyter.widget-view+json": {
       "model_id": "b7c9be8d39554df69fe2aad8930c8afd",
       "version_major": 2,
       "version_minor": 0
      },
      "text/plain": [
       "VBox()"
      ]
     },
     "metadata": {},
     "output_type": "display_data"
    },
    {
     "data": {
      "application/vnd.jupyter.widget-view+json": {
       "model_id": "",
       "version_major": 2,
       "version_minor": 0
      },
      "text/plain": [
       "FloatProgress(value=0.0, bar_style='info', description='Progress:', layout=Layout(height='25px', width='50%'),…"
      ]
     },
     "metadata": {},
     "output_type": "display_data"
    }
   ],
   "source": [
    "from sklearn.feature_extraction.text import TfidfVectorizer\n",
    "from sklearn.feature_extraction.text import CountVectorizer\n",
    "from sklearn.metrics.pairwise import cosine_similarity\n",
    "from scipy.sparse import csr_matrix\n",
    "def find_matches_in_submatrix(sources, targets, inputs_start_index,\n",
    "                              threshold=.7):\n",
    "    cosimilarities = cosine_similarity(sources, targets)\n",
    "    for i, cosimilarity in enumerate(cosimilarities):\n",
    "        cosimilarity = cosimilarity.flatten()\n",
    "        # Find the best match by using argsort()[-1]\n",
    "        target_index = cosimilarity.argsort()[-1]\n",
    "        source_index = inputs_start_index + i\n",
    "        similarity = cosimilarity[target_index]\n",
    "        if cosimilarity[target_index] >= threshold:\n",
    "            yield (source_index, target_index, similarity)\n",
    "def broadcast_matrix(mat):\n",
    "    bcast = sc.broadcast((mat.data, mat.indices, mat.indptr))\n",
    "    (data, indices, indptr) = bcast.value\n",
    "    bcast_mat = csr_matrix((data, indices, indptr), shape=mat.shape)\n",
    "    return bcast_mat\n",
    "def parallelize_matrix(scipy_mat, rows_per_chunk=100):\n",
    "    [rows, cols] = scipy_mat.shape\n",
    "    i = 0\n",
    "    submatrices = []\n",
    "    while i < rows:\n",
    "        current_chunk_size = min(rows_per_chunk, rows - i)\n",
    "        submat = scipy_mat[i:i + current_chunk_size]\n",
    "        submatrices.append((i, (submat.data, submat.indices, \n",
    "                                submat.indptr),\n",
    "                            (current_chunk_size, cols)))\n",
    "        i += current_chunk_size\n",
    "    return sc.parallelize(submatrices)\n",
    "\n",
    "# these would realistically get read from files or dataframes. \n",
    "a = list(test.loc[~test['COMPANY'].isna(), 'COMPANY'])\n",
    "b = chains\n",
    "stopwords = ['ltd', ...]\n",
    "vect = CountVectorizer(stop_words=stopwords)\n",
    "# this can be done with less memory overhead by using a generator\n",
    "vocabulary =  vect.fit(a + b).vocabulary_\n",
    "tfidf_vect = TfidfVectorizer(stop_words=stopwords,\n",
    "                             vocabulary=vocabulary)\n",
    "a_mat = tfidf_vect.fit_transform(a)\n",
    "b_mat = tfidf_vect.fit_transform(b)\n",
    "a_mat_para = parallelize_matrix(a_mat, rows_per_chunk=100)\n",
    "b_mat_dist = broadcast_matrix(b_mat)\n",
    "matchtest = a_mat_para.flatMap(\n",
    "        lambda submatrix:\n",
    "        find_matches_in_submatrix(csr_matrix(submatrix[1],\n",
    "                                             shape=submatrix[2]),\n",
    "                                   b_mat_dist,\n",
    "                                   submatrix[0]))\n"
   ]
  },
  {
   "cell_type": "code",
   "execution_count": null,
   "metadata": {},
   "outputs": [
    {
     "data": {
      "application/vnd.jupyter.widget-view+json": {
       "model_id": "380461ad67cd477e976cd10f0de26800",
       "version_major": 2,
       "version_minor": 0
      },
      "text/plain": [
       "VBox()"
      ]
     },
     "metadata": {},
     "output_type": "display_data"
    },
    {
     "data": {
      "application/vnd.jupyter.widget-view+json": {
       "model_id": "",
       "version_major": 2,
       "version_minor": 0
      },
      "text/plain": [
       "FloatProgress(value=0.0, bar_style='info', description='Progress:', layout=Layout(height='25px', width='50%'),…"
      ]
     },
     "metadata": {},
     "output_type": "display_data"
    }
   ],
   "source": [
    "results = matchtest.collect()"
   ]
  },
  {
   "cell_type": "code",
   "execution_count": null,
   "metadata": {},
   "outputs": [
    {
     "data": {
      "application/vnd.jupyter.widget-view+json": {
       "model_id": "b97910dedbed4c89ab0cae13241d2342",
       "version_major": 2,
       "version_minor": 0
      },
      "text/plain": [
       "VBox()"
      ]
     },
     "metadata": {},
     "output_type": "display_data"
    },
    {
     "data": {
      "application/vnd.jupyter.widget-view+json": {
       "model_id": "",
       "version_major": 2,
       "version_minor": 0
      },
      "text/plain": [
       "FloatProgress(value=0.0, bar_style='info', description='Progress:', layout=Layout(height='25px', width='50%'),…"
      ]
     },
     "metadata": {},
     "output_type": "display_data"
    }
   ],
   "source": [
    "matched = pd.DataFrame(results, columns = ['index_src', 'index_dest', 'Similarity'])"
   ]
  },
  {
   "cell_type": "code",
   "execution_count": null,
   "metadata": {},
   "outputs": [
    {
     "data": {
      "application/vnd.jupyter.widget-view+json": {
       "model_id": "b37be3f65053420bbfd7659fcb66aa37",
       "version_major": 2,
       "version_minor": 0
      },
      "text/plain": [
       "VBox()"
      ]
     },
     "metadata": {},
     "output_type": "display_data"
    },
    {
     "data": {
      "application/vnd.jupyter.widget-view+json": {
       "model_id": "",
       "version_major": 2,
       "version_minor": 0
      },
      "text/plain": [
       "FloatProgress(value=0.0, bar_style='info', description='Progress:', layout=Layout(height='25px', width='50%'),…"
      ]
     },
     "metadata": {},
     "output_type": "display_data"
    }
   ],
   "source": [
    "matched['name_src'] = matched['index_src'].apply(lambda x: a[x])\n",
    "matched['name_dest'] = matched['index_dest'].apply(lambda x: b[x])\n"
   ]
  },
  {
   "cell_type": "code",
   "execution_count": null,
   "metadata": {},
   "outputs": [
    {
     "data": {
      "application/vnd.jupyter.widget-view+json": {
       "model_id": "2d51151fa0d9492aa309f148c9293d63",
       "version_major": 2,
       "version_minor": 0
      },
      "text/plain": [
       "VBox()"
      ]
     },
     "metadata": {},
     "output_type": "display_data"
    },
    {
     "data": {
      "application/vnd.jupyter.widget-view+json": {
       "model_id": "",
       "version_major": 2,
       "version_minor": 0
      },
      "text/plain": [
       "FloatProgress(value=0.0, bar_style='info', description='Progress:', layout=Layout(height='25px', width='50%'),…"
      ]
     },
     "metadata": {},
     "output_type": "display_data"
    }
   ],
   "source": [
    "# add any name that verbatim contains the chain name\n",
    "# Assuming destination_names contains the destination names from your pandas DataFrame\n",
    "destination_names = matched['name_dest'].str.lower().tolist()\n",
    "\n",
    "# Initialize an empty DataFrame to store the results\n",
    "\n",
    "\n",
    "wages = wages.withColumn(\"comp_lower\", F.lower(F.col(\"COMPANY\")))\n",
    "for name in destination_names:\n",
    "    # For each name, filter the wages DataFrame for companies containing this name\n",
    "    filtered_companies = wages.filter(F.col(\"comp_lower\").contains(name)).select(\"COMPANY\").distinct()\n",
    "    \n",
    "    # Add the destination name as a column to the filtered result\n",
    "    filtered_companies = filtered_companies.withColumn(\"Destination Name\", F.lit(name))\n",
    "    \n",
    "    if name == destination_names[0]:\n",
    "        results_df = filtered_companies.alias(\"results_df\")\n",
    "    \n",
    "    # Union the result with the accumulating results DataFrame\n",
    "    results_df = results_df.unionByName(filtered_companies, allowMissingColumns=True)\n"
   ]
  },
  {
   "cell_type": "code",
   "execution_count": null,
   "metadata": {},
   "outputs": [
    {
     "data": {
      "application/vnd.jupyter.widget-view+json": {
       "model_id": "a2317d4cdee740a8835c16145d80abd2",
       "version_major": 2,
       "version_minor": 0
      },
      "text/plain": [
       "VBox()"
      ]
     },
     "metadata": {},
     "output_type": "display_data"
    },
    {
     "data": {
      "application/vnd.jupyter.widget-view+json": {
       "model_id": "5dd0e200335540d99c627609e62b579e",
       "version_major": 2,
       "version_minor": 0
      },
      "text/plain": [
       "FloatProgress(value=0.0, bar_style='info', description='Progress:', layout=Layout(height='25px', width='50%'),…"
      ]
     },
     "metadata": {},
     "output_type": "display_data"
    }
   ],
   "source": [
    "matched_lit = results_df.toPandas()"
   ]
  },
  {
   "cell_type": "code",
   "execution_count": null,
   "metadata": {},
   "outputs": [],
   "source": [
    "matched_lit.rename({'Destination Name': 'name_dest', 'COMPANY' : 'name_src'}, axis=1, inplace=True)"
   ]
  },
  {
   "cell_type": "code",
   "execution_count": null,
   "metadata": {},
   "outputs": [],
   "source": [
    "test = pd.concat([matched_lit, matched])\n",
    "test['name_dest'] = test['name_dest'].str.lower()\n",
    "test['name_src'] = test['name_src'].str.lower()\n",
    "\n",
    "test = test.groupby(['name_src', 'name_dest']).agg({'Similarity' : 'max'}).reset_index()"
   ]
  },
  {
   "cell_type": "code",
   "execution_count": null,
   "metadata": {},
   "outputs": [],
   "source": [
    "test = test.sort_values(by=['name_dest', 'Similarity'])\n"
   ]
  },
  {
   "cell_type": "code",
   "execution_count": null,
   "metadata": {},
   "outputs": [],
   "source": [
    "test.to_csv(data_dyn + 'cosine_matched.csv', index=False, header=True)\n"
   ]
  },
  {
   "cell_type": "markdown",
   "metadata": {},
   "source": [
    "### Load manual match"
   ]
  },
  {
   "cell_type": "code",
   "execution_count": null,
   "metadata": {},
   "outputs": [
    {
     "data": {
      "application/vnd.jupyter.widget-view+json": {
       "model_id": "ce10f12e4077413e8d4d5a10e3e0baf7",
       "version_major": 2,
       "version_minor": 0
      },
      "text/plain": [
       "VBox()"
      ]
     },
     "metadata": {},
     "output_type": "display_data"
    },
    {
     "data": {
      "application/vnd.jupyter.widget-view+json": {
       "model_id": "",
       "version_major": 2,
       "version_minor": 0
      },
      "text/plain": [
       "FloatProgress(value=0.0, bar_style='info', description='Progress:', layout=Layout(height='25px', width='50%'),…"
      ]
     },
     "metadata": {},
     "output_type": "display_data"
    }
   ],
   "source": [
    "matched = pd.read_csv(data_dyn + \"cosine_matched_manual.csv\")"
   ]
  },
  {
   "cell_type": "code",
   "execution_count": null,
   "metadata": {},
   "outputs": [
    {
     "data": {
      "application/vnd.jupyter.widget-view+json": {
       "model_id": "91bf4333869d4f4e93aefc736ffebfe6",
       "version_major": 2,
       "version_minor": 0
      },
      "text/plain": [
       "VBox()"
      ]
     },
     "metadata": {},
     "output_type": "display_data"
    },
    {
     "data": {
      "application/vnd.jupyter.widget-view+json": {
       "model_id": "",
       "version_major": 2,
       "version_minor": 0
      },
      "text/plain": [
       "FloatProgress(value=0.0, bar_style='info', description='Progress:', layout=Layout(height='25px', width='50%'),…"
      ]
     },
     "metadata": {},
     "output_type": "display_data"
    }
   ],
   "source": [
    "wages_chains = (wages.filter(F.lower(F.col(\"COMPANY\")).isin(list(matched['name_src']))))"
   ]
  },
  {
   "cell_type": "code",
   "execution_count": null,
   "metadata": {},
   "outputs": [
    {
     "data": {
      "application/vnd.jupyter.widget-view+json": {
       "model_id": "16778a5893784aca9ed33b0b99bb7fd1",
       "version_major": 2,
       "version_minor": 0
      },
      "text/plain": [
       "VBox()"
      ]
     },
     "metadata": {},
     "output_type": "display_data"
    },
    {
     "data": {
      "application/vnd.jupyter.widget-view+json": {
       "model_id": "",
       "version_major": 2,
       "version_minor": 0
      },
      "text/plain": [
       "FloatProgress(value=0.0, bar_style='info', description='Progress:', layout=Layout(height='25px', width='50%'),…"
      ]
     },
     "metadata": {},
     "output_type": "display_data"
    },
    {
     "name": "stdout",
     "output_type": "stream",
     "text": [
      "[Row(q02=14500.0, q98=144250.0)]"
     ]
    }
   ],
   "source": [
    "# winsorize\n",
    "quantiles = wages_chains.agg(F.percentile_approx(\"SALARY\", 0.02).alias(\"q02\"), F.percentile_approx(\"SALARY\", 0.98).alias(\"q98\")).collect()\n",
    "quantiles"
   ]
  },
  {
   "cell_type": "code",
   "execution_count": null,
   "metadata": {},
   "outputs": [
    {
     "data": {
      "application/vnd.jupyter.widget-view+json": {
       "model_id": "4a890063e680406e90fac56de43a2d56",
       "version_major": 2,
       "version_minor": 0
      },
      "text/plain": [
       "VBox()"
      ]
     },
     "metadata": {},
     "output_type": "display_data"
    },
    {
     "data": {
      "application/vnd.jupyter.widget-view+json": {
       "model_id": "",
       "version_major": 2,
       "version_minor": 0
      },
      "text/plain": [
       "FloatProgress(value=0.0, bar_style='info', description='Progress:', layout=Layout(height='25px', width='50%'),…"
      ]
     },
     "metadata": {},
     "output_type": "display_data"
    }
   ],
   "source": [
    "test = wages_chains.filter(F.col(\"SALARY\").between(quantiles[0]['q02'], quantiles[0]['q98']))"
   ]
  },
  {
   "cell_type": "code",
   "execution_count": null,
   "metadata": {},
   "outputs": [
    {
     "data": {
      "application/vnd.jupyter.widget-view+json": {
       "model_id": "c638dd8c3a984eff93233e49bdd0475a",
       "version_major": 2,
       "version_minor": 0
      },
      "text/plain": [
       "VBox()"
      ]
     },
     "metadata": {},
     "output_type": "display_data"
    },
    {
     "data": {
      "application/vnd.jupyter.widget-view+json": {
       "model_id": "",
       "version_major": 2,
       "version_minor": 0
      },
      "text/plain": [
       "FloatProgress(value=0.0, bar_style='info', description='Progress:', layout=Layout(height='25px', width='50%'),…"
      ]
     },
     "metadata": {},
     "output_type": "display_data"
    }
   ],
   "source": [
    "# add in official chain name\n",
    "matched_spark = spark.createDataFrame(matched.rename({'name_src' : 'comp_lower', 'name_dest' : 'chain'}, axis=1))\n",
    "test = test.withColumn(\"comp_lower\", F.lower(F.col(\"COMPANY\"))).join(matched_spark, on = \"comp_lower\", how = \"left\")\n"
   ]
  },
  {
   "cell_type": "code",
   "execution_count": null,
   "metadata": {},
   "outputs": [
    {
     "data": {
      "application/vnd.jupyter.widget-view+json": {
       "model_id": "9ae76ccd8c69434982ab2c09c8db1f45",
       "version_major": 2,
       "version_minor": 0
      },
      "text/plain": [
       "VBox()"
      ]
     },
     "metadata": {},
     "output_type": "display_data"
    },
    {
     "data": {
      "application/vnd.jupyter.widget-view+json": {
       "model_id": "",
       "version_major": 2,
       "version_minor": 0
      },
      "text/plain": [
       "FloatProgress(value=0.0, bar_style='info', description='Progress:', layout=Layout(height='25px', width='50%'),…"
      ]
     },
     "metadata": {},
     "output_type": "display_data"
    }
   ],
   "source": [
    "test.write.parquet(data_dyn + \"wagescape_chains\", mode=\"overwrite\")"
   ]
  },
  {
   "cell_type": "markdown",
   "metadata": {},
   "source": [
    "## Construct chain-by-zip panel"
   ]
  },
  {
   "cell_type": "code",
   "execution_count": null,
   "metadata": {},
   "outputs": [
    {
     "data": {
      "application/vnd.jupyter.widget-view+json": {
       "model_id": "12549b51986b4086ba465dfc2dd6c281",
       "version_major": 2,
       "version_minor": 0
      },
      "text/plain": [
       "VBox()"
      ]
     },
     "metadata": {},
     "output_type": "display_data"
    },
    {
     "data": {
      "application/vnd.jupyter.widget-view+json": {
       "model_id": "",
       "version_major": 2,
       "version_minor": 0
      },
      "text/plain": [
       "FloatProgress(value=0.0, bar_style='info', description='Progress:', layout=Layout(height='25px', width='50%'),…"
      ]
     },
     "metadata": {},
     "output_type": "display_data"
    }
   ],
   "source": [
    "wages_chains = spark.read.parquet(data_dyn + \"wagescape_chains\")\n",
    "\n",
    "# where we have correct counties, match county fips on that\n",
    "fips = pd.read_csv(data_dyn + \"geo/state_and_county_fips_master.csv\")\n",
    "fips['COUNTY'] = fips['name'].str.replace(\" County\", \"\")\n",
    "fips = fips.rename(columns={'state' : \"STATE\"}).drop(['name'], axis=1)\n",
    "fips = spark.createDataFrame(fips)\n",
    "wages_chains = wages_chains.join(fips, on = ['STATE', \"COUNTY\"], how = \"left\")\n",
    "\n",
    "# otherwise, use zip code (lat-long column is missing quite a bit)\n",
    "zips = pd.read_csv(data_dyn + \"geo/zip_to_county.csv\", encoding=\"latin\")\n",
    "zips = zips.rename(columns={'zcta' : \"ZIP\", \"county\" : \"fips_2\"}) # [['ZIP', 'fips_2']]\n",
    "\n",
    "# keep only zip-county combinations with largest overlap\n",
    "zips = zips.sort_values(by=['ZIP', 'fips_2', 'afact'], ascending=[True, True, False])\n",
    "zips = zips.drop_duplicates(subset=['ZIP'])\n",
    "zips = spark.createDataFrame(zips)\n",
    "wages_chains = wages_chains.join(zips, on = \"ZIP\", how=\"left\")\n",
    "wages_chains = wages_chains.withColumn(\"fips_county\", F.when(F.col(\"fips\").isNull(), F.col(\"fips_2\")).otherwise(F.col(\"fips\"))).drop(\"fips\", \"fips_2\")\n",
    "\n",
    "# pad county fips\n",
    "wages_chains = wages_chains.withColumn(\"fips_county\", F.lpad(\"fips_county\", 5, \"0\"))\n",
    "\n",
    "# now merge in CZ \n",
    "cz = spark.read.csv(data_dyn + \"geo/commuting_zones.csv\", header=True)\n",
    "cz = cz.withColumnRenamed(\"FIPS\", \"fips_county\").withColumnRenamed(\"Commuting Zone ID, 2000\", \"cz\").select(\"fips_county\", \"cz\")\n",
    "wages_chains = wages_chains.join(cz, on = \"fips_county\", how=\"left\")\n",
    "\n",
    "wages_chains.write.parquet(data_dyn + \"wagescape_chains_county\", mode=\"overwrite\")\n"
   ]
  },
  {
   "cell_type": "markdown",
   "metadata": {},
   "source": [
    "### Wages map"
   ]
  },
  {
   "cell_type": "code",
   "execution_count": null,
   "metadata": {},
   "outputs": [
    {
     "data": {
      "application/vnd.jupyter.widget-view+json": {
       "model_id": "b774c85533e94a599d254654acb5d8dd",
       "version_major": 2,
       "version_minor": 0
      },
      "text/plain": [
       "VBox()"
      ]
     },
     "metadata": {},
     "output_type": "display_data"
    },
    {
     "data": {
      "application/vnd.jupyter.widget-view+json": {
       "model_id": "",
       "version_major": 2,
       "version_minor": 0
      },
      "text/plain": [
       "FloatProgress(value=0.0, bar_style='info', description='Progress:', layout=Layout(height='25px', width='50%'),…"
      ]
     },
     "metadata": {},
     "output_type": "display_data"
    }
   ],
   "source": [
    "# map of average wages by zip \n",
    "wage_zip = wages_chains.groupBy(\"fips_county\").agg(F.avg(\"SALARY\").alias(\"SALARY\")).toPandas()\n"
   ]
  },
  {
   "cell_type": "code",
   "execution_count": null,
   "metadata": {},
   "outputs": [
    {
     "data": {
      "application/vnd.jupyter.widget-view+json": {
       "model_id": "2bc23a2511a94704b62aa4386ecdeaa8",
       "version_major": 2,
       "version_minor": 0
      },
      "text/plain": [
       "VBox()"
      ]
     },
     "metadata": {},
     "output_type": "display_data"
    },
    {
     "data": {
      "application/vnd.jupyter.widget-view+json": {
       "model_id": "",
       "version_major": 2,
       "version_minor": 0
      },
      "text/plain": [
       "FloatProgress(value=0.0, bar_style='info', description='Progress:', layout=Layout(height='25px', width='50%'),…"
      ]
     },
     "metadata": {},
     "output_type": "display_data"
    }
   ],
   "source": [
    "wage_zip = wage_zip[~wage_zip.fips_county.isnull()]"
   ]
  },
  {
   "cell_type": "code",
   "execution_count": null,
   "metadata": {},
   "outputs": [
    {
     "data": {
      "application/vnd.jupyter.widget-view+json": {
       "model_id": "5905731fa93345a084f82e68b8fe2db7",
       "version_major": 2,
       "version_minor": 0
      },
      "text/plain": [
       "VBox()"
      ]
     },
     "metadata": {},
     "output_type": "display_data"
    },
    {
     "data": {
      "application/vnd.jupyter.widget-view+json": {
       "model_id": "",
       "version_major": 2,
       "version_minor": 0
      },
      "text/plain": [
       "FloatProgress(value=0.0, bar_style='info', description='Progress:', layout=Layout(height='25px', width='50%'),…"
      ]
     },
     "metadata": {},
     "output_type": "display_data"
    }
   ],
   "source": [
    "wage_zip = wage_zip[wage_zip.SALARY.between(wage_zip.SALARY.quantile(0.01), wage_zip.SALARY.quantile(0.99))]"
   ]
  },
  {
   "cell_type": "code",
   "execution_count": null,
   "metadata": {},
   "outputs": [
    {
     "data": {
      "application/vnd.jupyter.widget-view+json": {
       "model_id": "723ef036ce014364b486d9fd1deeba6f",
       "version_major": 2,
       "version_minor": 0
      },
      "text/plain": [
       "VBox()"
      ]
     },
     "metadata": {},
     "output_type": "display_data"
    },
    {
     "data": {
      "application/vnd.jupyter.widget-view+json": {
       "model_id": "",
       "version_major": 2,
       "version_minor": 0
      },
      "text/plain": [
       "FloatProgress(value=0.0, bar_style='info', description='Progress:', layout=Layout(height='25px', width='50%'),…"
      ]
     },
     "metadata": {},
     "output_type": "display_data"
    }
   ],
   "source": [
    "\n",
    "s3.download_file('ipsos-dvd','dyn/data/geo/county_shapefile.zip','county_shapefile.zip')\n",
    "county_shp = gpd.read_file('county_shapefile.zip')\n",
    "county_shp = county_shp[['FIPS', 'geometry']].rename(columns={'FIPS' : 'fips_county'})\n",
    "\n",
    "\n",
    "# TODO: some missing, improve the match\n",
    "wage_zip_gdf = wage_zip.merge(county_shp[['fips_county', 'geometry']], on = \"fips_county\", how = \"left\")\n"
   ]
  },
  {
   "cell_type": "code",
   "execution_count": null,
   "metadata": {},
   "outputs": [
    {
     "data": {
      "application/vnd.jupyter.widget-view+json": {
       "model_id": "13e6cd5d5fd945e9b72a738592de392c",
       "version_major": 2,
       "version_minor": 0
      },
      "text/plain": [
       "VBox()"
      ]
     },
     "metadata": {},
     "output_type": "display_data"
    },
    {
     "data": {
      "application/vnd.jupyter.widget-view+json": {
       "model_id": "",
       "version_major": 2,
       "version_minor": 0
      },
      "text/plain": [
       "FloatProgress(value=0.0, bar_style='info', description='Progress:', layout=Layout(height='25px', width='50%'),…"
      ]
     },
     "metadata": {},
     "output_type": "display_data"
    }
   ],
   "source": [
    "wage_zip_gdf = gpd.GeoDataFrame(wage_zip_gdf, geometry=wage_zip_gdf.geometry)\n",
    "\n"
   ]
  },
  {
   "cell_type": "code",
   "execution_count": null,
   "metadata": {},
   "outputs": [
    {
     "data": {
      "application/vnd.jupyter.widget-view+json": {
       "model_id": "1f649cd31b8a411097f5d6702d106f20",
       "version_major": 2,
       "version_minor": 0
      },
      "text/plain": [
       "VBox()"
      ]
     },
     "metadata": {},
     "output_type": "display_data"
    },
    {
     "data": {
      "application/vnd.jupyter.widget-view+json": {
       "model_id": "",
       "version_major": 2,
       "version_minor": 0
      },
      "text/plain": [
       "FloatProgress(value=0.0, bar_style='info', description='Progress:', layout=Layout(height='25px', width='50%'),…"
      ]
     },
     "metadata": {},
     "output_type": "display_data"
    }
   ],
   "source": [
    "wage_zip_gdf.cx[-125:-60, 24:49].to_file(data_dyn + 'wage_zip_gdf.geojson', driver=\"GeoJSON\")"
   ]
  },
  {
   "cell_type": "code",
   "execution_count": null,
   "metadata": {},
   "outputs": [
    {
     "data": {
      "application/vnd.jupyter.widget-view+json": {
       "model_id": "0b0a585213e644a9809b8a8f0859e8d0",
       "version_major": 2,
       "version_minor": 0
      },
      "text/plain": [
       "VBox()"
      ]
     },
     "metadata": {},
     "output_type": "display_data"
    },
    {
     "data": {
      "application/vnd.jupyter.widget-view+json": {
       "model_id": "",
       "version_major": 2,
       "version_minor": 0
      },
      "text/plain": [
       "FloatProgress(value=0.0, bar_style='info', description='Progress:', layout=Layout(height='25px', width='50%'),…"
      ]
     },
     "metadata": {},
     "output_type": "display_data"
    }
   ],
   "source": [
    "from matplotlib.colors import LinearSegmentedColormap\n",
    "from matplotlib.ticker import FuncFormatter\n",
    "\n",
    "def thousands_formatter(x, pos):\n",
    "    return f\"{int(x/1000)}\"\n",
    "\n",
    "# Define the custom color palette\n",
    "colors = ['#f3e79b', '#fac484', '#f8a07e', '#eb7f86', '#ce6693', '#a059a0', '#5c53a5']\n",
    "\n",
    "colors.reverse()\n",
    "custom_cmap = LinearSegmentedColormap.from_list(\"custom_cmap\", colors)\n",
    "\n",
    "fig, ax = plt.subplots(1, 1, figsize=(10, 6))\n",
    "\n",
    "vmin = np.quantile(wage_zip_gdf['SALARY'], 0.1)\n",
    "vmax= np.quantile(wage_zip_gdf['SALARY'], 0.9)\n",
    "\n",
    "# Plot the GeoDataFrame\n",
    "wage_zip_gdf.cx[-125:-66, 25:49].plot(column='SALARY',\n",
    "                                      cmap=custom_cmap,\n",
    "                                      ax=ax, vmin=vmin, vmax=vmax,\n",
    "                                     rasterized=True)\n",
    "# Manually add a colorbar with custom formatting\n",
    "sm = plt.cm.ScalarMappable(cmap=custom_cmap, norm=plt.Normalize(vmin=vmin, vmax=vmax))\n",
    "sm._A = []  # Necessary for ScalarMappable\n",
    "cbar = fig.colorbar(sm, ax=ax, orientation='horizontal', shrink=0.5, format=FuncFormatter(thousands_formatter))\n",
    "cbar.set_label(\"Average Grocery Chain Salary, Annualized (k)\")\n",
    "cbar.outline.set_visible(False)\n",
    "\n",
    "ax.set_axis_off()\n",
    "\n",
    "plt.tight_layout()\n",
    "\n",
    "\n"
   ]
  },
  {
   "cell_type": "code",
   "execution_count": null,
   "metadata": {},
   "outputs": [
    {
     "data": {
      "application/vnd.jupyter.widget-view+json": {
       "model_id": "",
       "version_major": 2,
       "version_minor": 0
      },
      "text/plain": [
       "FloatProgress(value=0.0, bar_style='info', description='Progress:', layout=Layout(height='25px', width='50%'),…"
      ]
     },
     "metadata": {},
     "output_type": "display_data"
    },
    {
     "data": {
      "image/png": "[encoded data removed]",
      "text/plain": [
       "<IPython.core.display.Image object>"
      ]
     },
     "metadata": {},
     "output_type": "display_data"
    }
   ],
   "source": [
    "%matplot plt "
   ]
  },
  {
   "cell_type": "code",
   "execution_count": null,
   "metadata": {},
   "outputs": [
    {
     "data": {
      "application/vnd.jupyter.widget-view+json": {
       "model_id": "2a52a9ba95e94f9abaa380943b08a143",
       "version_major": 2,
       "version_minor": 0
      },
      "text/plain": [
       "VBox()"
      ]
     },
     "metadata": {},
     "output_type": "display_data"
    },
    {
     "data": {
      "application/vnd.jupyter.widget-view+json": {
       "model_id": "",
       "version_major": 2,
       "version_minor": 0
      },
      "text/plain": [
       "FloatProgress(value=0.0, bar_style='info', description='Progress:', layout=Layout(height='25px', width='50%'),…"
      ]
     },
     "metadata": {},
     "output_type": "display_data"
    }
   ],
   "source": [
    "saveFigS3(figs_dir.replace(\"s3://ipsos-dvd/\", \"\") + \"wages_chloropleth.pdf\", bucket = \"ipsos-dvd\")\n"
   ]
  },
  {
   "cell_type": "markdown",
   "metadata": {},
   "source": [
    "### Within vs. across county regression"
   ]
  },
  {
   "cell_type": "code",
   "execution_count": null,
   "metadata": {},
   "outputs": [
    {
     "data": {
      "application/vnd.jupyter.widget-view+json": {
       "model_id": "409caa2448c94236a09156600c6a1725",
       "version_major": 2,
       "version_minor": 0
      },
      "text/plain": [
       "VBox()"
      ]
     },
     "metadata": {},
     "output_type": "display_data"
    },
    {
     "data": {
      "application/vnd.jupyter.widget-view+json": {
       "model_id": "",
       "version_major": 2,
       "version_minor": 0
      },
      "text/plain": [
       "FloatProgress(value=0.0, bar_style='info', description='Progress:', layout=Layout(height='25px', width='50%'),…"
      ]
     },
     "metadata": {},
     "output_type": "display_data"
    }
   ],
   "source": [
    "\n",
    "wages_chains = spark.read.parquet(data_dyn + \"wagescape_chains_county\")\n"
   ]
  },
  {
   "cell_type": "code",
   "execution_count": null,
   "metadata": {},
   "outputs": [
    {
     "data": {
      "application/vnd.jupyter.widget-view+json": {
       "model_id": "a86e6fdc42124ed3a3d807ad3c388df9",
       "version_major": 2,
       "version_minor": 0
      },
      "text/plain": [
       "VBox()"
      ]
     },
     "metadata": {},
     "output_type": "display_data"
    },
    {
     "data": {
      "application/vnd.jupyter.widget-view+json": {
       "model_id": "",
       "version_major": 2,
       "version_minor": 0
      },
      "text/plain": [
       "FloatProgress(value=0.0, bar_style='info', description='Progress:', layout=Layout(height='25px', width='50%'),…"
      ]
     },
     "metadata": {},
     "output_type": "display_data"
    }
   ],
   "source": [
    "wages_chains = wages_chains.withColumn(\"week\", F.weekofyear(F.to_date(\"POST_DATE\")))"
   ]
  },
  {
   "cell_type": "code",
   "execution_count": null,
   "metadata": {},
   "outputs": [
    {
     "data": {
      "application/vnd.jupyter.widget-view+json": {
       "model_id": "9f658758be054c65ab2826b9edfd80cc",
       "version_major": 2,
       "version_minor": 0
      },
      "text/plain": [
       "VBox()"
      ]
     },
     "metadata": {},
     "output_type": "display_data"
    },
    {
     "data": {
      "application/vnd.jupyter.widget-view+json": {
       "model_id": "",
       "version_major": 2,
       "version_minor": 0
      },
      "text/plain": [
       "FloatProgress(value=0.0, bar_style='info', description='Progress:', layout=Layout(height='25px', width='50%'),…"
      ]
     },
     "metadata": {},
     "output_type": "display_data"
    }
   ],
   "source": [
    "wage_zip = (wages_chains.groupBy(\"cz\", \"chain\", \"fips_county\", \"COUNTY\", \"STATE\")\n",
    "            .agg(F.percentile_approx(\"SALARY\", 0.5).alias(\"SALARY_median\"), \n",
    "                F.avg(\"SALARY\").alias(\"SALARY\"), \n",
    "                F.count(\"JOB_ID\").alias(\"count\")).fillna(\"NA\")\n",
    "           ).toPandas()\n",
    "wage_zip[wage_zip == \"NA\"] = np.nan\n"
   ]
  },
  {
   "cell_type": "code",
   "execution_count": null,
   "metadata": {},
   "outputs": [
    {
     "data": {
      "application/vnd.jupyter.widget-view+json": {
       "model_id": "4f72558b67ef47cb8ef2a12649105476",
       "version_major": 2,
       "version_minor": 0
      },
      "text/plain": [
       "VBox()"
      ]
     },
     "metadata": {},
     "output_type": "display_data"
    },
    {
     "data": {
      "application/vnd.jupyter.widget-view+json": {
       "model_id": "",
       "version_major": 2,
       "version_minor": 0
      },
      "text/plain": [
       "FloatProgress(value=0.0, bar_style='info', description='Progress:', layout=Layout(height='25px', width='50%'),…"
      ]
     },
     "metadata": {},
     "output_type": "display_data"
    }
   ],
   "source": [
    "wage_zip = wage_zip[wage_zip['count'] > 5] # drop counties with few chain-county observations"
   ]
  },
  {
   "cell_type": "code",
   "execution_count": null,
   "metadata": {},
   "outputs": [
    {
     "data": {
      "application/vnd.jupyter.widget-view+json": {
       "model_id": "f20d1db38ab641479039c50470b5a252",
       "version_major": 2,
       "version_minor": 0
      },
      "text/plain": [
       "VBox()"
      ]
     },
     "metadata": {},
     "output_type": "display_data"
    },
    {
     "data": {
      "application/vnd.jupyter.widget-view+json": {
       "model_id": "",
       "version_major": 2,
       "version_minor": 0
      },
      "text/plain": [
       "FloatProgress(value=0.0, bar_style='info', description='Progress:', layout=Layout(height='25px', width='50%'),…"
      ]
     },
     "metadata": {},
     "output_type": "display_data"
    }
   ],
   "source": [
    "wage_zip['cz'] =  wage_zip['cz'].astype(str)\n",
    "# wage_zip['fips_county'] =  wage_zip['fips_county'].astype(str)\n",
    "\n",
    "wage_zip['chain_cz'] = wage_zip['chain'] + wage_zip['cz']\n"
   ]
  },
  {
   "cell_type": "code",
   "execution_count": null,
   "metadata": {},
   "outputs": [
    {
     "data": {
      "application/vnd.jupyter.widget-view+json": {
       "model_id": "1b1fb99cb8a644618e41826abb2c3a16",
       "version_major": 2,
       "version_minor": 0
      },
      "text/plain": [
       "VBox()"
      ]
     },
     "metadata": {},
     "output_type": "display_data"
    },
    {
     "data": {
      "application/vnd.jupyter.widget-view+json": {
       "model_id": "",
       "version_major": 2,
       "version_minor": 0
      },
      "text/plain": [
       "FloatProgress(value=0.0, bar_style='info', description='Progress:', layout=Layout(height='25px', width='50%'),…"
      ]
     },
     "metadata": {},
     "output_type": "display_data"
    }
   ],
   "source": [
    "# Step 4: Convert the results to a DataFrame for a nice table\n",
    "results_df = getR2Df(pagg=wage_zip, fixed_effects=['cz', 'chain', 'chain_cz'], yvar=\"SALARY\")\n"
   ]
  },
  {
   "cell_type": "code",
   "execution_count": null,
   "metadata": {},
   "outputs": [
    {
     "data": {
      "application/vnd.jupyter.widget-view+json": {
       "model_id": "bc5cc0abf2ce4fdca8399a233d3982cf",
       "version_major": 2,
       "version_minor": 0
      },
      "text/plain": [
       "VBox()"
      ]
     },
     "metadata": {},
     "output_type": "display_data"
    },
    {
     "data": {
      "application/vnd.jupyter.widget-view+json": {
       "model_id": "",
       "version_major": 2,
       "version_minor": 0
      },
      "text/plain": [
       "FloatProgress(value=0.0, bar_style='info', description='Progress:', layout=Layout(height='25px', width='50%'),…"
      ]
     },
     "metadata": {},
     "output_type": "display_data"
    },
    {
     "name": "stdout",
     "output_type": "stream",
     "text": [
      "Fixed Effect                 cz        chain     chain_cz\n",
      "R-squared              0.159506     0.358587     0.770755\n",
      "Adjusted R-squared     0.082791     0.351914     0.558928\n",
      "No. Obs             7090.000000  7090.000000  7090.000000\n",
      "No. FEs              593.000000    73.000000  3405.000000"
     ]
    }
   ],
   "source": [
    "results_df"
   ]
  },
  {
   "cell_type": "code",
   "execution_count": null,
   "metadata": {},
   "outputs": [
    {
     "data": {
      "application/vnd.jupyter.widget-view+json": {
       "model_id": "42ab76a3c42e42a9af385821a29a6f6b",
       "version_major": 2,
       "version_minor": 0
      },
      "text/plain": [
       "VBox()"
      ]
     },
     "metadata": {},
     "output_type": "display_data"
    },
    {
     "data": {
      "application/vnd.jupyter.widget-view+json": {
       "model_id": "",
       "version_major": 2,
       "version_minor": 0
      },
      "text/plain": [
       "FloatProgress(value=0.0, bar_style='info', description='Progress:', layout=Layout(height='25px', width='50%'),…"
      ]
     },
     "metadata": {},
     "output_type": "display_data"
    }
   ],
   "source": [
    "# Rename columns for LaTeX table\n",
    "df_renamed = results_df.rename(columns={'cz' : 'Market',\n",
    "                                'chain' : 'Chain',\n",
    "                                'chain_cz' : 'Market x Chain'}\n",
    "                       )\n",
    "\n",
    "# Convert the first part of the DataFrame to LaTeX, excluding the last two rows\n",
    "ltx = df_renamed.iloc[:-2].round(3).to_latex()\n",
    "\n",
    "# Manually create LaTeX strings for the \"No. Obs\" and \"No. FEs\" rows\n",
    "sum_row = df_renamed.iloc[-2:].astype(int).to_latex(header=False, index=True)\n",
    "\n",
    "# Concatenate the strings, adding a \\hline to separate the sections\n",
    "final_ltx = ltx.split(\"\\\\bottomrule\")[0]  + \"\\n\\\\hline\\n\" + \"\\n\" + sum_row.split(\"\\\\toprule\")[1]"
   ]
  },
  {
   "cell_type": "code",
   "execution_count": null,
   "metadata": {},
   "outputs": [
    {
     "data": {
      "application/vnd.jupyter.widget-view+json": {
       "model_id": "053e62c150944c7486e1887aa6e43b6b",
       "version_major": 2,
       "version_minor": 0
      },
      "text/plain": [
       "VBox()"
      ]
     },
     "metadata": {},
     "output_type": "display_data"
    },
    {
     "data": {
      "application/vnd.jupyter.widget-view+json": {
       "model_id": "",
       "version_major": 2,
       "version_minor": 0
      },
      "text/plain": [
       "FloatProgress(value=0.0, bar_style='info', description='Progress:', layout=Layout(height='25px', width='50%'),…"
      ]
     },
     "metadata": {},
     "output_type": "display_data"
    }
   ],
   "source": [
    "\n",
    "with open('temp.tex', 'w') as temp_file:\n",
    "    temp_file.write(final_ltx)\n",
    "s3_client = boto3.client('s3')\n",
    "s3_client.upload_file('temp.tex', 'ipsos-dvd', 'dyn/results/tabs/wages_r2.tex')"
   ]
  },
  {
   "cell_type": "markdown",
   "metadata": {},
   "source": [
    "#### Histogram"
   ]
  },
  {
   "cell_type": "code",
   "execution_count": null,
   "metadata": {},
   "outputs": [
    {
     "data": {
      "application/vnd.jupyter.widget-view+json": {
       "model_id": "5300dbd28f7d46a5b4af3fce659fbf98",
       "version_major": 2,
       "version_minor": 0
      },
      "text/plain": [
       "VBox()"
      ]
     },
     "metadata": {},
     "output_type": "display_data"
    },
    {
     "data": {
      "application/vnd.jupyter.widget-view+json": {
       "model_id": "",
       "version_major": 2,
       "version_minor": 0
      },
      "text/plain": [
       "FloatProgress(value=0.0, bar_style='info', description='Progress:', layout=Layout(height='25px', width='50%'),…"
      ]
     },
     "metadata": {},
     "output_type": "display_data"
    }
   ],
   "source": [
    "test = wages_chains.toPandas()\n",
    "\n"
   ]
  },
  {
   "cell_type": "code",
   "execution_count": null,
   "metadata": {},
   "outputs": [
    {
     "data": {
      "application/vnd.jupyter.widget-view+json": {
       "model_id": "a480d59e4fad4b1f9fd4b6abc79d9d0a",
       "version_major": 2,
       "version_minor": 0
      },
      "text/plain": [
       "VBox()"
      ]
     },
     "metadata": {},
     "output_type": "display_data"
    },
    {
     "data": {
      "application/vnd.jupyter.widget-view+json": {
       "model_id": "",
       "version_major": 2,
       "version_minor": 0
      },
      "text/plain": [
       "FloatProgress(value=0.0, bar_style='info', description='Progress:', layout=Layout(height='25px', width='50%'),…"
      ]
     },
     "metadata": {},
     "output_type": "display_data"
    },
    {
     "name": "stdout",
     "output_type": "stream",
     "text": [
      "['Solarize_Light2', '_classic_test_patch', '_mpl-gallery', '_mpl-gallery-nogrid', 'bmh', 'classic', 'dark_background', 'fast', 'fivethirtyeight', 'ggplot', 'grayscale', 'seaborn', 'seaborn-bright', 'seaborn-colorblind', 'seaborn-dark', 'seaborn-dark-palette', 'seaborn-darkgrid', 'seaborn-deep', 'seaborn-muted', 'seaborn-notebook', 'seaborn-paper', 'seaborn-pastel', 'seaborn-poster', 'seaborn-talk', 'seaborn-ticks', 'seaborn-white', 'seaborn-whitegrid', 'tableau-colorblind10']"
     ]
    }
   ],
   "source": [
    "plt.style.use('ggplot')\n",
    "plt.style.available"
   ]
  },
  {
   "cell_type": "code",
   "execution_count": null,
   "metadata": {},
   "outputs": [
    {
     "data": {
      "application/vnd.jupyter.widget-view+json": {
       "model_id": "6233f6103f2b42d7b06ff3df18edad97",
       "version_major": 2,
       "version_minor": 0
      },
      "text/plain": [
       "VBox()"
      ]
     },
     "metadata": {},
     "output_type": "display_data"
    },
    {
     "data": {
      "application/vnd.jupyter.widget-view+json": {
       "model_id": "",
       "version_major": 2,
       "version_minor": 0
      },
      "text/plain": [
       "FloatProgress(value=0.0, bar_style='info', description='Progress:', layout=Layout(height='25px', width='50%'),…"
      ]
     },
     "metadata": {},
     "output_type": "display_data"
    }
   ],
   "source": [
    "plt.style.use('default')\n",
    "\n",
    "fig, ax = plt.subplots(1,1)\n",
    "wage_zip['SALARY'].hist(bins=100, ax=ax)\n",
    "mdn = wage_zip['SALARY'].median()\n",
    "plt.axvline(mdn, color=\"red\")\n",
    "plt.annotate(f'Median: {round(mdn)}', xy=(mdn+30000, 250), xytext=(5, -5), textcoords='offset points',\n",
    "             horizontalalignment='right', verticalalignment='top', fontsize=14)\n",
    "plt.grid(False)\n",
    "plt.xlabel('Salary (Annualized)', fontsize=14)\n",
    "plt.ylabel('Frequency', fontsize=14)\n",
    "ax.spines['right'].set_visible(False)\n",
    "ax.spines['top'].set_visible(False)\n",
    "plt.tight_layout()\n",
    "\n",
    "# increase axis tick size\n",
    "ax.tick_params(axis='x', labelsize='large') # For x-axis tick labels\n",
    "ax.tick_params(axis='y', labelsize='large') # For y-axis tick labels\n",
    "\n",
    "saveFigS3(\"dyn/results/figs/wages_hist.pdf\", bucket = \"ipsos-dvd\")"
   ]
  },
  {
   "cell_type": "code",
   "execution_count": null,
   "metadata": {},
   "outputs": [
    {
     "data": {
      "application/vnd.jupyter.widget-view+json": {
       "model_id": "",
       "version_major": 2,
       "version_minor": 0
      },
      "text/plain": [
       "FloatProgress(value=0.0, bar_style='info', description='Progress:', layout=Layout(height='25px', width='50%'),…"
      ]
     },
     "metadata": {},
     "output_type": "display_data"
    },
    {
     "data": {
      "image/png": "[encoded data removed]",
      "text/plain": [
       "<IPython.core.display.Image object>"
      ]
     },
     "metadata": {},
     "output_type": "display_data"
    }
   ],
   "source": [
    "%matplot plt"
   ]
  },
  {
   "cell_type": "code",
   "execution_count": null,
   "metadata": {},
   "outputs": [
    {
     "data": {
      "application/vnd.jupyter.widget-view+json": {
       "model_id": "dabeca4662be4b49b9d3e407ccbf73fd",
       "version_major": 2,
       "version_minor": 0
      },
      "text/plain": [
       "VBox()"
      ]
     },
     "metadata": {},
     "output_type": "display_data"
    },
    {
     "data": {
      "application/vnd.jupyter.widget-view+json": {
       "model_id": "",
       "version_major": 2,
       "version_minor": 0
      },
      "text/plain": [
       "FloatProgress(value=0.0, bar_style='info', description='Progress:', layout=Layout(height='25px', width='50%'),…"
      ]
     },
     "metadata": {},
     "output_type": "display_data"
    },
    {
     "name": "stdout",
     "output_type": "stream",
     "text": [
      "       cz           chain  SALARY_median         SALARY           chain_cz\n",
      "79    200         walmart       101000.0  101875.000000         walmart200\n",
      "93    216         walmart       124507.0  124507.000000         walmart216\n",
      "104   227          costco       101000.0  101000.000000          costco227\n",
      "159    31      sam's club       101500.0  104250.000000       sam's club31\n",
      "223    45          costco       112500.0  112500.000000           costco45\n",
      "...   ...             ...            ...            ...                ...\n",
      "5297  492         walmart       100500.0  101000.000000         walmart492\n",
      "5345  540  dollar general       141280.0  141280.000000  dollar general540\n",
      "5418  630          target       115000.0  106187.500000          target630\n",
      "5447  695         safeway       114096.0  114096.000000         safeway695\n",
      "5509   97      sam's club       109000.0  106333.333333       sam's club97\n",
      "\n",
      "[88 rows x 5 columns]"
     ]
    }
   ],
   "source": [
    "wage_zip[wage_zip['SALARY'] > 100000]"
   ]
  },
  {
   "cell_type": "markdown",
   "metadata": {},
   "source": [
    "### Aggregated at ZIP level"
   ]
  },
  {
   "cell_type": "code",
   "execution_count": null,
   "metadata": {},
   "outputs": [
    {
     "data": {
      "application/vnd.jupyter.widget-view+json": {
       "model_id": "e5e9a59308be481fa43369f61d6cd61a",
       "version_major": 2,
       "version_minor": 0
      },
      "text/plain": [
       "VBox()"
      ]
     },
     "metadata": {},
     "output_type": "display_data"
    },
    {
     "data": {
      "application/vnd.jupyter.widget-view+json": {
       "model_id": "",
       "version_major": 2,
       "version_minor": 0
      },
      "text/plain": [
       "FloatProgress(value=0.0, bar_style='info', description='Progress:', layout=Layout(height='25px', width='50%'),…"
      ]
     },
     "metadata": {},
     "output_type": "display_data"
    }
   ],
   "source": [
    "\n",
    "wages_df_zip = wages_df.groupby(['chain', \"ZIP\", 'COUNTY', 'STATE', 'countystate', 'quarter']).agg({'SALARY' : 'mean'}).reset_index()\n",
    "\n"
   ]
  },
  {
   "cell_type": "code",
   "execution_count": null,
   "metadata": {},
   "outputs": [
    {
     "data": {
      "application/vnd.jupyter.widget-view+json": {
       "model_id": "48dc8c43af4944818f750754d331bb33",
       "version_major": 2,
       "version_minor": 0
      },
      "text/plain": [
       "VBox()"
      ]
     },
     "metadata": {},
     "output_type": "display_data"
    },
    {
     "data": {
      "application/vnd.jupyter.widget-view+json": {
       "model_id": "",
       "version_major": 2,
       "version_minor": 0
      },
      "text/plain": [
       "FloatProgress(value=0.0, bar_style='info', description='Progress:', layout=Layout(height='25px', width='50%'),…"
      ]
     },
     "metadata": {},
     "output_type": "display_data"
    }
   ],
   "source": [
    "wages_df_zip['countychain'] = wages_df_zip['countystate'] + wages_df_zip['chain']\n",
    "wages_df_zip['statechain'] = wages_df_zip['STATE'].astype(str) + wages_df_zip['chain']\n",
    "wages_df_zip['STATE'] = wages_df_zip['STATE'].astype(str)"
   ]
  },
  {
   "cell_type": "code",
   "execution_count": null,
   "metadata": {},
   "outputs": [
    {
     "data": {
      "application/vnd.jupyter.widget-view+json": {
       "model_id": "cecc95ae25ca46759abb9d63fa14928c",
       "version_major": 2,
       "version_minor": 0
      },
      "text/plain": [
       "VBox()"
      ]
     },
     "metadata": {},
     "output_type": "display_data"
    },
    {
     "data": {
      "application/vnd.jupyter.widget-view+json": {
       "model_id": "",
       "version_major": 2,
       "version_minor": 0
      },
      "text/plain": [
       "FloatProgress(value=0.0, bar_style='info', description='Progress:', layout=Layout(height='25px', width='50%'),…"
      ]
     },
     "metadata": {},
     "output_type": "display_data"
    }
   ],
   "source": [
    "wages_df_zip['countychain_q'] = wages_df_zip['countychain'] + wages_df_zip['quarter'].astype(str)\n",
    "wages_df_zip['comp_q'] = wages_df_zip['chain'] + wages_df_zip['quarter'].astype(str)\n",
    "wages_df_zip['county_q'] = wages_df_zip['countystate'] + wages_df_zip['quarter'].astype(str)\n",
    "wages_df_zip['statechain_q'] = wages_df_zip['statechain'] + wages_df_zip['quarter'].astype(str)\n",
    "\n",
    "wages_df_zip['zip_q'] = wages_df_zip['ZIP'] + wages_df_zip['quarter'].astype(str)\n"
   ]
  },
  {
   "cell_type": "code",
   "execution_count": null,
   "metadata": {},
   "outputs": [
    {
     "data": {
      "application/vnd.jupyter.widget-view+json": {
       "model_id": "41ab39454a02486eb4d79b4626d62f64",
       "version_major": 2,
       "version_minor": 0
      },
      "text/plain": [
       "VBox()"
      ]
     },
     "metadata": {},
     "output_type": "display_data"
    },
    {
     "data": {
      "application/vnd.jupyter.widget-view+json": {
       "model_id": "",
       "version_major": 2,
       "version_minor": 0
      },
      "text/plain": [
       "FloatProgress(value=0.0, bar_style='info', description='Progress:', layout=Layout(height='25px', width='50%'),…"
      ]
     },
     "metadata": {},
     "output_type": "display_data"
    },
    {
     "name": "stdout",
     "output_type": "stream",
     "text": [
      "                    High Dimensional Fixed Effect Regression Results                   \n",
      "=======================================================================================\n",
      "  Dep. Variable:          SALARY   R-squared(proj model):                    2.22e-16  \n",
      "  No. Observations:       177693   Adj. R-squared(proj model):                -1.7616  \n",
      "  DoF of residual:       64343.0   R-squared(full model):                      0.7818  \n",
      "  Residual std err:    1.768e+04   Adj. R-squared(full model):                 0.3975  \n",
      "  Covariance Type:     nonrobust   F-statistic(proj model):                         0  \n",
      "  Cluster Method:     no_cluster   Prob (F-statistic (proj model)):               nan  \n",
      "                                   DoF of F-test (proj model):         [0.0, 64343.0]  \n",
      "                                   F-statistic(full model):                    2.0341  \n",
      "                                   Prob (F-statistic (full model)):                 0  \n",
      "                                   DoF of F-test (full model):        [113350, 64343]  \n",
      "=========================================================================================\n",
      "                    coef nonrobust std err          t      P>|t|     [0.025     0.975]   \n",
      "-----------------------------------------------------------------------------------------\n",
      "  const      41460.84845          41.93926   988.5927     0.0000 41378.6475 41543.0494   \n",
      "========================================================================================="
     ]
    }
   ],
   "source": [
    "formula = 'SALARY ~  0 | countychain_q  |0|0'\n",
    "\n",
    "model_fe = fixedeffect(data_df = wages_df_zip,\n",
    "                       formula = formula, noint=False,\n",
    "                       no_print=True)\n",
    "result = model_fe.fit()\n",
    "result.summary()"
   ]
  },
  {
   "cell_type": "markdown",
   "metadata": {},
   "source": [
    "# Prices"
   ]
  },
  {
   "cell_type": "markdown",
   "metadata": {},
   "source": [
    "### Match to store data"
   ]
  },
  {
   "cell_type": "code",
   "execution_count": null,
   "metadata": {},
   "outputs": [
    {
     "data": {
      "application/vnd.jupyter.widget-view+json": {
       "model_id": "b8bd0f17799c40adbeacaa93df402cf6",
       "version_major": 2,
       "version_minor": 0
      },
      "text/plain": [
       "VBox()"
      ]
     },
     "metadata": {},
     "output_type": "display_data"
    },
    {
     "data": {
      "application/vnd.jupyter.widget-view+json": {
       "model_id": "",
       "version_major": 2,
       "version_minor": 0
      },
      "text/plain": [
       "FloatProgress(value=0.0, bar_style='info', description='Progress:', layout=Layout(height='25px', width='50%'),…"
      ]
     },
     "metadata": {},
     "output_type": "display_data"
    }
   ],
   "source": [
    "\n",
    "places = spark.read.option(\"multiLine\", \"true\") \\\n",
    "                .option(\"escape\", \"\\\"\") \\\n",
    "                .option(\"quote\", '\"').csv(data_dir + \"places/*.gz\", header=True)\n"
   ]
  },
  {
   "cell_type": "code",
   "execution_count": null,
   "metadata": {},
   "outputs": [
    {
     "data": {
      "application/vnd.jupyter.widget-view+json": {
       "model_id": "ef468392397f43b7a334449aa00c7427",
       "version_major": 2,
       "version_minor": 0
      },
      "text/plain": [
       "VBox()"
      ]
     },
     "metadata": {},
     "output_type": "display_data"
    },
    {
     "data": {
      "application/vnd.jupyter.widget-view+json": {
       "model_id": "",
       "version_major": 2,
       "version_minor": 0
      },
      "text/plain": [
       "FloatProgress(value=0.0, bar_style='info', description='Progress:', layout=Layout(height='25px', width='50%'),…"
      ]
     },
     "metadata": {},
     "output_type": "display_data"
    }
   ],
   "source": [
    "brands = places.select(\"brands\").distinct().toPandas()\n",
    "\n"
   ]
  },
  {
   "cell_type": "code",
   "execution_count": null,
   "metadata": {},
   "outputs": [
    {
     "data": {
      "application/vnd.jupyter.widget-view+json": {
       "model_id": "12e6d7c3a939411a9d04f03118e26530",
       "version_major": 2,
       "version_minor": 0
      },
      "text/plain": [
       "VBox()"
      ]
     },
     "metadata": {},
     "output_type": "display_data"
    },
    {
     "data": {
      "application/vnd.jupyter.widget-view+json": {
       "model_id": "",
       "version_major": 2,
       "version_minor": 0
      },
      "text/plain": [
       "FloatProgress(value=0.0, bar_style='info', description='Progress:', layout=Layout(height='25px', width='50%'),…"
      ]
     },
     "metadata": {},
     "output_type": "display_data"
    }
   ],
   "source": [
    "brands['brands'] = brands['brands'].str.lower()"
   ]
  },
  {
   "cell_type": "code",
   "execution_count": null,
   "metadata": {},
   "outputs": [
    {
     "data": {
      "application/vnd.jupyter.widget-view+json": {
       "model_id": "0c90eb539135441d9008bfd238f426f8",
       "version_major": 2,
       "version_minor": 0
      },
      "text/plain": [
       "VBox()"
      ]
     },
     "metadata": {},
     "output_type": "display_data"
    },
    {
     "data": {
      "application/vnd.jupyter.widget-view+json": {
       "model_id": "",
       "version_major": 2,
       "version_minor": 0
      },
      "text/plain": [
       "FloatProgress(value=0.0, bar_style='info', description='Progress:', layout=Layout(height='25px', width='50%'),…"
      ]
     },
     "metadata": {},
     "output_type": "display_data"
    }
   ],
   "source": [
    "with fs.open(\"s3://ipsos-dvd/dyn/data/expanded_grocery_chains.json\", 'rb') as f:\n",
    "    s3_clientdata = json.load(f)\n",
    "chains = s3_clientdata['expanded_grocery_chains']\n"
   ]
  },
  {
   "cell_type": "code",
   "execution_count": null,
   "metadata": {},
   "outputs": [
    {
     "data": {
      "application/vnd.jupyter.widget-view+json": {
       "model_id": "c81ffb9eb137439cbe4ee033dee8a230",
       "version_major": 2,
       "version_minor": 0
      },
      "text/plain": [
       "VBox()"
      ]
     },
     "metadata": {},
     "output_type": "display_data"
    },
    {
     "data": {
      "application/vnd.jupyter.widget-view+json": {
       "model_id": "",
       "version_major": 2,
       "version_minor": 0
      },
      "text/plain": [
       "FloatProgress(value=0.0, bar_style='info', description='Progress:', layout=Layout(height='25px', width='50%'),…"
      ]
     },
     "metadata": {},
     "output_type": "display_data"
    }
   ],
   "source": [
    "names = pd.DataFrame({'tech' : chains})\n"
   ]
  },
  {
   "cell_type": "code",
   "execution_count": null,
   "metadata": {},
   "outputs": [
    {
     "data": {
      "application/vnd.jupyter.widget-view+json": {
       "model_id": "21ce0b5e21e9462180699dfca561fd16",
       "version_major": 2,
       "version_minor": 0
      },
      "text/plain": [
       "VBox()"
      ]
     },
     "metadata": {},
     "output_type": "display_data"
    },
    {
     "data": {
      "application/vnd.jupyter.widget-view+json": {
       "model_id": "",
       "version_major": 2,
       "version_minor": 0
      },
      "text/plain": [
       "FloatProgress(value=0.0, bar_style='info', description='Progress:', layout=Layout(height='25px', width='50%'),…"
      ]
     },
     "metadata": {},
     "output_type": "display_data"
    }
   ],
   "source": [
    "names['tech'] = names['tech'].str.lower()\n",
    "names['tech_adj'] = names['tech']\n",
    "names.loc[names['tech_adj'] == \"hannaford\"] = \"hannaford supermarkets\"\n",
    "names.loc[names['tech_adj'] == \"dillons\"] = \"dillons food stores\"\n",
    "names.loc[names['tech_adj'] == \"harveys\"] = \"harveys supermarkets\"\n",
    "names.loc[names['tech_adj'] == \"super 1 foods\"] = \"super one foods\"\n",
    "names.loc[names['tech_adj'] == \"smith's\"] = \"smith's food and drug stores\"\n",
    "names.loc[names['tech_adj'] == \"fry's\"] = \"fry's food & drug\"\n",
    "names.loc[names['tech_adj'] == \"qfc\"] = \"quality food centers\"\n",
    "names = names[names['tech_adj'] != \"save mart\"]\n",
    "names = names[names['tech_adj'] != \"acme\"]\n",
    "names = names[names['tech_adj'] != \"stater bros.\"]\n",
    "names = names[names['tech_adj'] != \"brookshire\"]\n",
    "names = names[names['tech_adj'] != \"fresh by brookshire's\"]\n",
    "names = names[names['tech_adj'] != \"wegmans\"]\n",
    "names = names[names['tech_adj'] != \"roundy's\"] # doesnt operate under this brand, need to redo the supermarket list\n",
    "\n",
    "\n"
   ]
  },
  {
   "cell_type": "code",
   "execution_count": null,
   "metadata": {},
   "outputs": [
    {
     "data": {
      "application/vnd.jupyter.widget-view+json": {
       "model_id": "e037c41dabf9405c930b68daaf60a7b8",
       "version_major": 2,
       "version_minor": 0
      },
      "text/plain": [
       "VBox()"
      ]
     },
     "metadata": {},
     "output_type": "display_data"
    },
    {
     "data": {
      "application/vnd.jupyter.widget-view+json": {
       "model_id": "",
       "version_major": 2,
       "version_minor": 0
      },
      "text/plain": [
       "FloatProgress(value=0.0, bar_style='info', description='Progress:', layout=Layout(height='25px', width='50%'),…"
      ]
     },
     "metadata": {},
     "output_type": "display_data"
    }
   ],
   "source": [
    "\n",
    "names['matched'] = names.apply(lambda x: process.extractOne(x.tech_adj, list(brands['brands'])), axis=1)\n"
   ]
  },
  {
   "cell_type": "code",
   "execution_count": null,
   "metadata": {},
   "outputs": [
    {
     "data": {
      "application/vnd.jupyter.widget-view+json": {
       "model_id": "1ffc8e84619a4b4098ba6ade858b0748",
       "version_major": 2,
       "version_minor": 0
      },
      "text/plain": [
       "VBox()"
      ]
     },
     "metadata": {},
     "output_type": "display_data"
    },
    {
     "data": {
      "application/vnd.jupyter.widget-view+json": {
       "model_id": "",
       "version_major": 2,
       "version_minor": 0
      },
      "text/plain": [
       "FloatProgress(value=0.0, bar_style='info', description='Progress:', layout=Layout(height='25px', width='50%'),…"
      ]
     },
     "metadata": {},
     "output_type": "display_data"
    }
   ],
   "source": [
    "names['matched'] = names['matched'].apply(lambda x: x[0] if x != None else None)"
   ]
  },
  {
   "cell_type": "code",
   "execution_count": null,
   "metadata": {},
   "outputs": [
    {
     "data": {
      "application/vnd.jupyter.widget-view+json": {
       "model_id": "a51499a3396743de948573d744e9f8e2",
       "version_major": 2,
       "version_minor": 0
      },
      "text/plain": [
       "VBox()"
      ]
     },
     "metadata": {},
     "output_type": "display_data"
    },
    {
     "data": {
      "application/vnd.jupyter.widget-view+json": {
       "model_id": "",
       "version_major": 2,
       "version_minor": 0
      },
      "text/plain": [
       "FloatProgress(value=0.0, bar_style='info', description='Progress:', layout=Layout(height='25px', width='50%'),…"
      ]
     },
     "metadata": {},
     "output_type": "display_data"
    }
   ],
   "source": [
    "# # inspect exhaustiveness (see paper text)\n",
    "# print(places.filter((F.col(\"brands\") == \"Walmart\") & (F.col(\"iso_country_code\") == \"US\")).count())\n",
    "# print(places.filter(F.col(\"brands\") == \"Kroger\").count())\n",
    "# print(places.filter(F.col(\"brands\").contains(\"Wegmans Food Markets\")).count())"
   ]
  },
  {
   "cell_type": "code",
   "execution_count": null,
   "metadata": {},
   "outputs": [
    {
     "data": {
      "application/vnd.jupyter.widget-view+json": {
       "model_id": "c03b1ed115064f2a9b48764ccf0df9ff",
       "version_major": 2,
       "version_minor": 0
      },
      "text/plain": [
       "VBox()"
      ]
     },
     "metadata": {},
     "output_type": "display_data"
    },
    {
     "data": {
      "application/vnd.jupyter.widget-view+json": {
       "model_id": "",
       "version_major": 2,
       "version_minor": 0
      },
      "text/plain": [
       "FloatProgress(value=0.0, bar_style='info', description='Progress:', layout=Layout(height='25px', width='50%'),…"
      ]
     },
     "metadata": {},
     "output_type": "display_data"
    }
   ],
   "source": [
    "## filter places\n",
    "temp = places.filter(F.lower(F.col(\"brands\")).isin(list(names['matched'])))"
   ]
  },
  {
   "cell_type": "code",
   "execution_count": null,
   "metadata": {},
   "outputs": [
    {
     "data": {
      "application/vnd.jupyter.widget-view+json": {
       "model_id": "5932aaa4f1cf4dafad26f5248dfdfc44",
       "version_major": 2,
       "version_minor": 0
      },
      "text/plain": [
       "VBox()"
      ]
     },
     "metadata": {},
     "output_type": "display_data"
    },
    {
     "data": {
      "application/vnd.jupyter.widget-view+json": {
       "model_id": "",
       "version_major": 2,
       "version_minor": 0
      },
      "text/plain": [
       "FloatProgress(value=0.0, bar_style='info', description='Progress:', layout=Layout(height='25px', width='50%'),…"
      ]
     },
     "metadata": {},
     "output_type": "display_data"
    }
   ],
   "source": [
    "# # this is fucking bullshit, just intersect with CBG shapefile\n",
    "# redo_cbgs=False\n",
    "# if redo_cbgs:\n",
    "#     # add in cbg information from advan\n",
    "#     fn_advan = \"s3://external-advan/monthly_patterns/\"\n",
    "#     advan = spark.read.option(\"multiLine\", \"true\") \\\n",
    "#                     .option(\"escape\", \"\\\"\") \\\n",
    "#                    .option(\"quote\", '\"') \\\n",
    "#                     .option(\"recursiveFileLookup\", \"true\") \\\n",
    "#                 .csv(fn_advan + \"202{2,3}*\", header=True)\n",
    "#     advan = advan.repartition(1000, \"DATE_RANGE_START\")\n",
    "\n",
    "#     cbgs = advan.select(\"PLACEKEY\", \"POI_CBG\").dropDuplicates().toPandas()\n",
    "#     cbgs.to_csv(data_dyn + \"placekey_to_cbg.csv\", index=False)\n",
    "# cbgs = spark.read.csv(data_dyn + \"placekey_to_cbg.csv\", header=True)"
   ]
  },
  {
   "cell_type": "markdown",
   "metadata": {},
   "source": [
    "#### Intersect with CBGs"
   ]
  },
  {
   "cell_type": "code",
   "execution_count": null,
   "metadata": {},
   "outputs": [
    {
     "data": {
      "application/vnd.jupyter.widget-view+json": {
       "model_id": "49f29ddb0a0b4b47bf24e3d2f03625fc",
       "version_major": 2,
       "version_minor": 0
      },
      "text/plain": [
       "VBox()"
      ]
     },
     "metadata": {},
     "output_type": "display_data"
    },
    {
     "data": {
      "application/vnd.jupyter.widget-view+json": {
       "model_id": "",
       "version_major": 2,
       "version_minor": 0
      },
      "text/plain": [
       "FloatProgress(value=0.0, bar_style='info', description='Progress:', layout=Layout(height='25px', width='50%'),…"
      ]
     },
     "metadata": {},
     "output_type": "display_data"
    },
    {
     "name": "stdout",
     "output_type": "stream",
     "text": [
      "[('3.0', '2.12', '1.4.0')]"
     ]
    }
   ],
   "source": [
    "# merge on CBG shapefiles\n",
    "cbgs = ShapefileReader.readToGeometryRDD(sc, data_dyn + \"census_bg_merged/\")\n",
    "cbgs = (Adapter.toDf(cbgs, cbgs.fieldNames, spark))\n",
    "\n",
    "# gpd.read_file(\"s3://ipsos-dvd/ev/data/2020_cbgs/*\")\n",
    "\n",
    "cbgs = cbgs.repartition(1000)"
   ]
  },
  {
   "cell_type": "code",
   "execution_count": null,
   "metadata": {},
   "outputs": [
    {
     "data": {
      "application/vnd.jupyter.widget-view+json": {
       "model_id": "9ea34140a47040089fab0cde714ebb12",
       "version_major": 2,
       "version_minor": 0
      },
      "text/plain": [
       "VBox()"
      ]
     },
     "metadata": {},
     "output_type": "display_data"
    },
    {
     "data": {
      "application/vnd.jupyter.widget-view+json": {
       "model_id": "",
       "version_major": 2,
       "version_minor": 0
      },
      "text/plain": [
       "FloatProgress(value=0.0, bar_style='info', description='Progress:', layout=Layout(height='25px', width='50%'),…"
      ]
     },
     "metadata": {},
     "output_type": "display_data"
    },
    {
     "name": "stdout",
     "output_type": "stream",
     "text": [
      "['geometry', 'statefp', 'countyfp', 'tractce', 'blkgrpce', 'geoid', 'namelsad', 'mtfcc', 'funcstat', 'aland', 'awater', 'intptlat', 'intptlon']"
     ]
    }
   ],
   "source": [
    "cbgs.columns"
   ]
  },
  {
   "cell_type": "code",
   "execution_count": null,
   "metadata": {},
   "outputs": [
    {
     "data": {
      "application/vnd.jupyter.widget-view+json": {
       "model_id": "0aa720993bfa4406b70e4f65478ace5e",
       "version_major": 2,
       "version_minor": 0
      },
      "text/plain": [
       "VBox()"
      ]
     },
     "metadata": {},
     "output_type": "display_data"
    },
    {
     "data": {
      "application/vnd.jupyter.widget-view+json": {
       "model_id": "",
       "version_major": 2,
       "version_minor": 0
      },
      "text/plain": [
       "FloatProgress(value=0.0, bar_style='info', description='Progress:', layout=Layout(height='25px', width='50%'),…"
      ]
     },
     "metadata": {},
     "output_type": "display_data"
    }
   ],
   "source": [
    "joined = spatialIntersection(temp, cbgs.select(\"geoid\", \"geometry\").withColumnRenamed(\"geoid\", \"fips_cbg\"), transform=False)\n",
    "# I checked and all US locations are matched"
   ]
  },
  {
   "cell_type": "code",
   "execution_count": null,
   "metadata": {},
   "outputs": [
    {
     "data": {
      "application/vnd.jupyter.widget-view+json": {
       "model_id": "8ab7abc9f7524d21ad600f0ffb7ac9a5",
       "version_major": 2,
       "version_minor": 0
      },
      "text/plain": [
       "VBox()"
      ]
     },
     "metadata": {},
     "output_type": "display_data"
    },
    {
     "data": {
      "application/vnd.jupyter.widget-view+json": {
       "model_id": "",
       "version_major": 2,
       "version_minor": 0
      },
      "text/plain": [
       "FloatProgress(value=0.0, bar_style='info', description='Progress:', layout=Layout(height='25px', width='50%'),…"
      ]
     },
     "metadata": {},
     "output_type": "display_data"
    }
   ],
   "source": [
    "# merge in commuting zones \n",
    "cz = spark.read.csv(data_dyn + \"geo/commuting_zones.csv\", header=True)\n",
    "cz = cz.withColumnRenamed(\"FIPS\", \"fips_county\").withColumnRenamed(\"Commuting Zone ID, 2000\", \"cz\").select(\"fips_county\", \"cz\")"
   ]
  },
  {
   "cell_type": "code",
   "execution_count": null,
   "metadata": {},
   "outputs": [
    {
     "data": {
      "application/vnd.jupyter.widget-view+json": {
       "model_id": "429c8bc4392f416a8ff23eda3b8e4c2e",
       "version_major": 2,
       "version_minor": 0
      },
      "text/plain": [
       "VBox()"
      ]
     },
     "metadata": {},
     "output_type": "display_data"
    },
    {
     "data": {
      "application/vnd.jupyter.widget-view+json": {
       "model_id": "",
       "version_major": 2,
       "version_minor": 0
      },
      "text/plain": [
       "FloatProgress(value=0.0, bar_style='info', description='Progress:', layout=Layout(height='25px', width='50%'),…"
      ]
     },
     "metadata": {},
     "output_type": "display_data"
    }
   ],
   "source": [
    "joined = joined.withColumn(\"fips_county\", F.substring(\"fips_cbg\", 1,5)).join(cz, on = \"fips_county\", how = \"left\")"
   ]
  },
  {
   "cell_type": "code",
   "execution_count": null,
   "metadata": {},
   "outputs": [
    {
     "data": {
      "application/vnd.jupyter.widget-view+json": {
       "model_id": "b302a904567d4feba3a1ad284b74c95a",
       "version_major": 2,
       "version_minor": 0
      },
      "text/plain": [
       "VBox()"
      ]
     },
     "metadata": {},
     "output_type": "display_data"
    },
    {
     "data": {
      "application/vnd.jupyter.widget-view+json": {
       "model_id": "",
       "version_major": 2,
       "version_minor": 0
      },
      "text/plain": [
       "FloatProgress(value=0.0, bar_style='info', description='Progress:', layout=Layout(height='25px', width='50%'),…"
      ]
     },
     "metadata": {},
     "output_type": "display_data"
    }
   ],
   "source": [
    "joined.write.mode(\"overwrite\").parquet(data_dyn + \"places_chains_filtered_cbgs\")"
   ]
  },
  {
   "cell_type": "markdown",
   "metadata": {},
   "source": [
    "### Filter Spend"
   ]
  },
  {
   "cell_type": "code",
   "execution_count": null,
   "metadata": {},
   "outputs": [
    {
     "data": {
      "application/vnd.jupyter.widget-view+json": {
       "model_id": "c02a901c8b214cc89a4c983aa1cac562",
       "version_major": 2,
       "version_minor": 0
      },
      "text/plain": [
       "VBox()"
      ]
     },
     "metadata": {},
     "output_type": "display_data"
    },
    {
     "data": {
      "application/vnd.jupyter.widget-view+json": {
       "model_id": "",
       "version_major": 2,
       "version_minor": 0
      },
      "text/plain": [
       "FloatProgress(value=0.0, bar_style='info', description='Progress:', layout=Layout(height='25px', width='50%'),…"
      ]
     },
     "metadata": {},
     "output_type": "display_data"
    }
   ],
   "source": [
    "refilter_spend = False\n",
    "if refilter_spend:\n",
    "    spend = spark.read.parquet(os.path.join(data_dyn, \"spend_places\"))\n",
    "    spend = spend.filter(F.lower(F.col(\"brands\")).isin(list(names['matched'])))\n",
    "    \n",
    "    # add in chain names\n",
    "    \n",
    "    \n",
    "    # merge in county and commuting zone\n",
    "    places = spark.read.parquet(data_dyn + \"places_chains_filtered_cbgs\").select(\"placekey\", \"fips_cbg\", \"fips_county\", \"cz\")\n",
    "    spend = spend.join(places, on = \"placekey\", how = \"left\")\n",
    "\n",
    "    spend.write.parquet(data_dyn + \"spend_chains\", mode=\"overwrite\")"
   ]
  },
  {
   "cell_type": "code",
   "execution_count": null,
   "metadata": {},
   "outputs": [
    {
     "data": {
      "application/vnd.jupyter.widget-view+json": {
       "model_id": "30a9b89e26df4ba29a6f37d5fbb4d48a",
       "version_major": 2,
       "version_minor": 0
      },
      "text/plain": [
       "VBox()"
      ]
     },
     "metadata": {},
     "output_type": "display_data"
    },
    {
     "data": {
      "application/vnd.jupyter.widget-view+json": {
       "model_id": "",
       "version_major": 2,
       "version_minor": 0
      },
      "text/plain": [
       "FloatProgress(value=0.0, bar_style='info', description='Progress:', layout=Layout(height='25px', width='50%'),…"
      ]
     },
     "metadata": {},
     "output_type": "display_data"
    }
   ],
   "source": [
    "spend = spark.read.parquet(os.path.join(data_dyn, \"spend_places\"))\n",
    "spend = spend.filter(F.lower(F.col(\"brands\")).isin(list(names['matched'])))\n",
    "\n",
    "names_spark = names.rename(columns={'matched' : 'brands_lower', 'tech' : 'chain'})[['brands_lower', 'chain']]\n",
    "names_spark = spark.createDataFrame(names_spark)\n",
    "spend = spend.withColumn(\"brands_lower\", F.lower(F.col(\"brands\"))).join(names_spark, on = \"brands_lower\").drop(\"brands_lower\")\n",
    "\n",
    "\n",
    "\n",
    "# merge in county and commuting zone\n",
    "places = spark.read.parquet(data_dyn + \"places_chains_filtered_cbgs\").select(\"placekey\", \"fips_cbg\", \"fips_county\", \"cz\")\n",
    "spend = spend.join(places, on = \"placekey\", how = \"left\")\n",
    "\n",
    "spend.write.parquet(data_dyn + \"spend_chains\", mode=\"overwrite\")"
   ]
  },
  {
   "cell_type": "markdown",
   "metadata": {},
   "source": [
    "## Price analysis"
   ]
  },
  {
   "cell_type": "code",
   "execution_count": null,
   "metadata": {},
   "outputs": [
    {
     "data": {
      "application/vnd.jupyter.widget-view+json": {
       "model_id": "96654bf460b148e682da3b620ebeb5ea",
       "version_major": 2,
       "version_minor": 0
      },
      "text/plain": [
       "VBox()"
      ]
     },
     "metadata": {},
     "output_type": "display_data"
    },
    {
     "data": {
      "application/vnd.jupyter.widget-view+json": {
       "model_id": "",
       "version_major": 2,
       "version_minor": 0
      },
      "text/plain": [
       "FloatProgress(value=0.0, bar_style='info', description='Progress:', layout=Layout(height='25px', width='50%'),…"
      ]
     },
     "metadata": {},
     "output_type": "display_data"
    }
   ],
   "source": [
    "spend = spark.read.parquet(data_dyn + \"spend_chains\")"
   ]
  },
  {
   "cell_type": "code",
   "execution_count": null,
   "metadata": {},
   "outputs": [
    {
     "data": {
      "application/vnd.jupyter.widget-view+json": {
       "model_id": "bbaad8e4e7bc4b559cabe789e6816669",
       "version_major": 2,
       "version_minor": 0
      },
      "text/plain": [
       "VBox()"
      ]
     },
     "metadata": {},
     "output_type": "display_data"
    },
    {
     "data": {
      "application/vnd.jupyter.widget-view+json": {
       "model_id": "",
       "version_major": 2,
       "version_minor": 0
      },
      "text/plain": [
       "FloatProgress(value=0.0, bar_style='info', description='Progress:', layout=Layout(height='25px', width='50%'),…"
      ]
     },
     "metadata": {},
     "output_type": "display_data"
    }
   ],
   "source": [
    "# # check what's not matched\n",
    "# test = spend.select(F.lower(\"brands\").alias(\"brands\")).distinct().toPandas()\n",
    "# [x for x in names['matched'] if x not in test['brands'].tolist()]"
   ]
  },
  {
   "cell_type": "code",
   "execution_count": null,
   "metadata": {},
   "outputs": [
    {
     "data": {
      "application/vnd.jupyter.widget-view+json": {
       "model_id": "d755eff340944906865cd687d8d223b9",
       "version_major": 2,
       "version_minor": 0
      },
      "text/plain": [
       "VBox()"
      ]
     },
     "metadata": {},
     "output_type": "display_data"
    },
    {
     "data": {
      "application/vnd.jupyter.widget-view+json": {
       "model_id": "",
       "version_major": 2,
       "version_minor": 0
      },
      "text/plain": [
       "FloatProgress(value=0.0, bar_style='info', description='Progress:', layout=Layout(height='25px', width='50%'),…"
      ]
     },
     "metadata": {},
     "output_type": "display_data"
    }
   ],
   "source": [
    "# explode daily spend data\n",
    "spend_by_day_schema = ArrayType(DoubleType())\n",
    "spend_per_transaction_by_day_schema = ArrayType(DoubleType())\n",
    "\n",
    "boom = spend\\\n",
    "    .withColumn(\"spend_by_day\", F.from_json(\"spend_by_day\", spend_by_day_schema))\\\n",
    "    .withColumn(\"spend_per_transaction_by_day\", F.from_json(\"spend_per_transaction_by_day\", spend_per_transaction_by_day_schema))\\\n",
    "    .withColumn(\"date_range\", F.expr(\"sequence(spend_date_range_start, spend_date_range_end, interval 1 day)\"))\\\n",
    "    .withColumn(\"zipped\", F.arrays_zip(\"spend_by_day\", \"spend_per_transaction_by_day\", \"date_range\"))\\\n",
    "    .withColumn(\"exploded\", F.explode(\"zipped\"))\\\n",
    "    .selectExpr(\"placekey\", \"brands\", \"chain\", \"spend_date_range_start\", \"spend_date_range_end\", \n",
    "                \"exploded.spend_by_day as spend\", \"fips_county\", \"cz\", \"fips_cbg\",\n",
    "                \"exploded.spend_per_transaction_by_day as spend_per_transaction\",\n",
    "                \"exploded.date_range as transaction_date\")\\\n",
    "    .drop(\"zipped\", \"exploded\", \"date_range\", \"spend_by_day\", \"spend_per_transaction_by_day\")\n"
   ]
  },
  {
   "cell_type": "code",
   "execution_count": null,
   "metadata": {},
   "outputs": [
    {
     "data": {
      "application/vnd.jupyter.widget-view+json": {
       "model_id": "3eb6efdcffc8457eb9b43cc4418238f4",
       "version_major": 2,
       "version_minor": 0
      },
      "text/plain": [
       "VBox()"
      ]
     },
     "metadata": {},
     "output_type": "display_data"
    },
    {
     "data": {
      "application/vnd.jupyter.widget-view+json": {
       "model_id": "",
       "version_major": 2,
       "version_minor": 0
      },
      "text/plain": [
       "FloatProgress(value=0.0, bar_style='info', description='Progress:', layout=Layout(height='25px', width='50%'),…"
      ]
     },
     "metadata": {},
     "output_type": "display_data"
    }
   ],
   "source": [
    "quantiles = boom.agg(F.percentile_approx(\"spend_per_transaction\", 0.005).alias(\"lower\"), \n",
    "                     F.percentile_approx(\"spend_per_transaction\", 0.995).alias(\"upper\")).collect()"
   ]
  },
  {
   "cell_type": "code",
   "execution_count": null,
   "metadata": {},
   "outputs": [
    {
     "data": {
      "application/vnd.jupyter.widget-view+json": {
       "model_id": "aa9c9c0909274ae9bc03989c2b8fcad4",
       "version_major": 2,
       "version_minor": 0
      },
      "text/plain": [
       "VBox()"
      ]
     },
     "metadata": {},
     "output_type": "display_data"
    },
    {
     "data": {
      "application/vnd.jupyter.widget-view+json": {
       "model_id": "",
       "version_major": 2,
       "version_minor": 0
      },
      "text/plain": [
       "FloatProgress(value=0.0, bar_style='info', description='Progress:', layout=Layout(height='25px', width='50%'),…"
      ]
     },
     "metadata": {},
     "output_type": "display_data"
    }
   ],
   "source": [
    "# winsorize\n",
    "boom = boom.filter(F.col(\"spend_per_transaction\").between(quantiles[0]['lower'], \n",
    "                                                          quantiles[0]['upper']))\n",
    "boom.write.parquet(data_dyn + \"prices_boom\", mode=\"overwrite\")"
   ]
  },
  {
   "cell_type": "code",
   "execution_count": null,
   "metadata": {},
   "outputs": [
    {
     "data": {
      "application/vnd.jupyter.widget-view+json": {
       "model_id": "3dc5cab79e914f78ba3e6686c6514a46",
       "version_major": 2,
       "version_minor": 0
      },
      "text/plain": [
       "VBox()"
      ]
     },
     "metadata": {},
     "output_type": "display_data"
    },
    {
     "data": {
      "application/vnd.jupyter.widget-view+json": {
       "model_id": "",
       "version_major": 2,
       "version_minor": 0
      },
      "text/plain": [
       "FloatProgress(value=0.0, bar_style='info', description='Progress:', layout=Layout(height='25px', width='50%'),…"
      ]
     },
     "metadata": {},
     "output_type": "display_data"
    }
   ],
   "source": [
    "# now aggregate to weekly\n",
    "# Step 2: Calculate total spend per week for weighting\n",
    "windowSpec = Window.partitionBy(\"brands\", \"placekey\", \"week\")\n",
    "boom = boom.withColumn(\"week\", F.concat(F.weekofyear(\"transaction_date\"), \n",
    "                                           F.year(\"transaction_date\"))) \\\n",
    "    .withColumn(\"total_week_spend\", F.sum(\"spend\").over(windowSpec))\n",
    "\n",
    "boomweek = boom \\\n",
    "    .groupBy(\"brands\", \"placekey\", \"spend_date_range_start\", \"spend_date_range_end\", \"week\", \n",
    "             \"cz\", \"fips_county\", \"fips_cbg\",)\\\n",
    "    .agg(F.percentile_approx(\"spend_per_transaction\", 0.5).alias(\"spend_per_transaction\"))\n",
    "\n"
   ]
  },
  {
   "cell_type": "code",
   "execution_count": null,
   "metadata": {},
   "outputs": [
    {
     "data": {
      "application/vnd.jupyter.widget-view+json": {
       "model_id": "acf8fb80de9c4107b5832b0fdcac9e28",
       "version_major": 2,
       "version_minor": 0
      },
      "text/plain": [
       "VBox()"
      ]
     },
     "metadata": {},
     "output_type": "display_data"
    },
    {
     "data": {
      "application/vnd.jupyter.widget-view+json": {
       "model_id": "",
       "version_major": 2,
       "version_minor": 0
      },
      "text/plain": [
       "FloatProgress(value=0.0, bar_style='info', description='Progress:', layout=Layout(height='25px', width='50%'),…"
      ]
     },
     "metadata": {},
     "output_type": "display_data"
    }
   ],
   "source": [
    "prices = boomweek.toPandas()"
   ]
  },
  {
   "cell_type": "code",
   "execution_count": null,
   "metadata": {},
   "outputs": [
    {
     "data": {
      "application/vnd.jupyter.widget-view+json": {
       "model_id": "04e41a76e15c490dacc3951989e0de20",
       "version_major": 2,
       "version_minor": 0
      },
      "text/plain": [
       "VBox()"
      ]
     },
     "metadata": {},
     "output_type": "display_data"
    },
    {
     "data": {
      "application/vnd.jupyter.widget-view+json": {
       "model_id": "",
       "version_major": 2,
       "version_minor": 0
      },
      "text/plain": [
       "FloatProgress(value=0.0, bar_style='info', description='Progress:', layout=Layout(height='25px', width='50%'),…"
      ]
     },
     "metadata": {},
     "output_type": "display_data"
    }
   ],
   "source": [
    "# qtile = np.quantile(prices.loc[~prices['spend_per_transaction'].isna(), 'spend_per_transaction'], 0.99)\n",
    "# prices = prices.loc[prices['spend_per_transaction'] < qtile]"
   ]
  },
  {
   "cell_type": "code",
   "execution_count": null,
   "metadata": {},
   "outputs": [
    {
     "data": {
      "application/vnd.jupyter.widget-view+json": {
       "model_id": "9e5efdcc95d64d278a5534849733ac50",
       "version_major": 2,
       "version_minor": 0
      },
      "text/plain": [
       "VBox()"
      ]
     },
     "metadata": {},
     "output_type": "display_data"
    },
    {
     "data": {
      "application/vnd.jupyter.widget-view+json": {
       "model_id": "",
       "version_major": 2,
       "version_minor": 0
      },
      "text/plain": [
       "FloatProgress(value=0.0, bar_style='info', description='Progress:', layout=Layout(height='25px', width='50%'),…"
      ]
     },
     "metadata": {},
     "output_type": "display_data"
    },
    {
     "name": "stdout",
     "output_type": "stream",
     "text": [
      "111.99249999999999"
     ]
    }
   ],
   "source": [
    "qtile = np.quantile(prices.loc[~prices['spend_per_transaction'].isna(), 'spend_per_transaction'], 0.999)\n",
    "qtile"
   ]
  },
  {
   "cell_type": "code",
   "execution_count": null,
   "metadata": {},
   "outputs": [
    {
     "data": {
      "application/vnd.jupyter.widget-view+json": {
       "model_id": "49c01e69a173461287fb3ab610abaf2b",
       "version_major": 2,
       "version_minor": 0
      },
      "text/plain": [
       "VBox()"
      ]
     },
     "metadata": {},
     "output_type": "display_data"
    },
    {
     "data": {
      "application/vnd.jupyter.widget-view+json": {
       "model_id": "",
       "version_major": 2,
       "version_minor": 0
      },
      "text/plain": [
       "FloatProgress(value=0.0, bar_style='info', description='Progress:', layout=Layout(height='25px', width='50%'),…"
      ]
     },
     "metadata": {},
     "output_type": "display_data"
    },
    {
     "name": "stdout",
     "output_type": "stream",
     "text": [
      "count    3.186751e+06\n",
      "mean     2.343484e+01\n",
      "std      1.516905e+01\n",
      "min      2.000000e+00\n",
      "25%      1.170000e+01\n",
      "50%      2.025000e+01\n",
      "75%      3.232000e+01\n",
      "max      1.375000e+02\n",
      "Name: spend_per_transaction, dtype: float64"
     ]
    }
   ],
   "source": [
    "prices['spend_per_transaction'].describe()"
   ]
  },
  {
   "cell_type": "code",
   "execution_count": null,
   "metadata": {},
   "outputs": [
    {
     "data": {
      "application/vnd.jupyter.widget-view+json": {
       "model_id": "ec4018315a4540f4886e0d7d69e7fa69",
       "version_major": 2,
       "version_minor": 0
      },
      "text/plain": [
       "VBox()"
      ]
     },
     "metadata": {},
     "output_type": "display_data"
    },
    {
     "data": {
      "application/vnd.jupyter.widget-view+json": {
       "model_id": "",
       "version_major": 2,
       "version_minor": 0
      },
      "text/plain": [
       "FloatProgress(value=0.0, bar_style='info', description='Progress:', layout=Layout(height='25px', width='50%'),…"
      ]
     },
     "metadata": {},
     "output_type": "display_data"
    }
   ],
   "source": [
    "test = prices.copy()"
   ]
  },
  {
   "cell_type": "code",
   "execution_count": null,
   "metadata": {},
   "outputs": [
    {
     "data": {
      "application/vnd.jupyter.widget-view+json": {
       "model_id": "a399a9cf2a14433da62d2feb03515640",
       "version_major": 2,
       "version_minor": 0
      },
      "text/plain": [
       "VBox()"
      ]
     },
     "metadata": {},
     "output_type": "display_data"
    },
    {
     "data": {
      "application/vnd.jupyter.widget-view+json": {
       "model_id": "",
       "version_major": 2,
       "version_minor": 0
      },
      "text/plain": [
       "FloatProgress(value=0.0, bar_style='info', description='Progress:', layout=Layout(height='25px', width='50%'),…"
      ]
     },
     "metadata": {},
     "output_type": "display_data"
    },
    {
     "name": "stdout",
     "output_type": "stream",
     "text": [
      "             brands             placekey  ...      fips_cbg spend_per_transaction\n",
      "0              ALDI  222-222@5p7-2gj-zcq  ...  270414507012                 55.81\n",
      "1              ALDI  222-222@5p7-2gj-zcq  ...  270414507012                 30.67\n",
      "2              ALDI  222-222@5p7-2gj-zcq  ...  270414507012                 42.38\n",
      "3              ALDI  222-222@5p7-2gj-zcq  ...  270414507012                 54.59\n",
      "4              ALDI  222-222@5p7-2gj-zcq  ...  270414507012                 15.27\n",
      "...             ...                  ...  ...           ...                   ...\n",
      "3186746  Winn Dixie  zzy-22b@8dk-mwr-6rk  ...  120810020072                 26.29\n",
      "3186747  Winn Dixie  zzy-22b@8dk-mwr-6rk  ...  120810020072                 49.20\n",
      "3186748  Winn Dixie  zzy-22b@8dk-mwr-6rk  ...  120810020072                 17.10\n",
      "3186749  Winn Dixie  zzy-22b@8dk-mwr-6rk  ...  120810020072                 21.28\n",
      "3186750  Winn Dixie  zzy-22b@8dk-mwr-6rk  ...  120810020072                 29.95\n",
      "\n",
      "[3186751 rows x 9 columns]"
     ]
    }
   ],
   "source": [
    "prices"
   ]
  },
  {
   "cell_type": "code",
   "execution_count": null,
   "metadata": {},
   "outputs": [
    {
     "data": {
      "application/vnd.jupyter.widget-view+json": {
       "model_id": "70bd7b351d304bfa88e519a1ea7e321c",
       "version_major": 2,
       "version_minor": 0
      },
      "text/plain": [
       "VBox()"
      ]
     },
     "metadata": {},
     "output_type": "display_data"
    },
    {
     "data": {
      "application/vnd.jupyter.widget-view+json": {
       "model_id": "",
       "version_major": 2,
       "version_minor": 0
      },
      "text/plain": [
       "FloatProgress(value=0.0, bar_style='info', description='Progress:', layout=Layout(height='25px', width='50%'),…"
      ]
     },
     "metadata": {},
     "output_type": "display_data"
    }
   ],
   "source": [
    "# demean chain fixed effects\n",
    "formula = 'spend_per_transaction ~  0 | brands  |0|0'\n",
    "\n",
    "model_fe = fixedeffect(data_df = prices,\n",
    "                       formula = formula, noint=False,\n",
    "                       no_print=True)\n",
    "result = model_fe.fit()"
   ]
  },
  {
   "cell_type": "code",
   "execution_count": null,
   "metadata": {},
   "outputs": [
    {
     "data": {
      "application/vnd.jupyter.widget-view+json": {
       "model_id": "98502bb54ac34057812262df9b6e820c",
       "version_major": 2,
       "version_minor": 0
      },
      "text/plain": [
       "VBox()"
      ]
     },
     "metadata": {},
     "output_type": "display_data"
    },
    {
     "data": {
      "application/vnd.jupyter.widget-view+json": {
       "model_id": "",
       "version_major": 2,
       "version_minor": 0
      },
      "text/plain": [
       "FloatProgress(value=0.0, bar_style='info', description='Progress:', layout=Layout(height='25px', width='50%'),…"
      ]
     },
     "metadata": {},
     "output_type": "display_data"
    }
   ],
   "source": [
    "prices['resid'] = result.resid"
   ]
  },
  {
   "cell_type": "markdown",
   "metadata": {},
   "source": [
    "#### Histogram"
   ]
  },
  {
   "cell_type": "code",
   "execution_count": null,
   "metadata": {},
   "outputs": [
    {
     "data": {
      "application/vnd.jupyter.widget-view+json": {
       "model_id": "a3e3b739b91d4c3f82ee3e1a2f98030a",
       "version_major": 2,
       "version_minor": 0
      },
      "text/plain": [
       "VBox()"
      ]
     },
     "metadata": {},
     "output_type": "display_data"
    },
    {
     "data": {
      "application/vnd.jupyter.widget-view+json": {
       "model_id": "",
       "version_major": 2,
       "version_minor": 0
      },
      "text/plain": [
       "FloatProgress(value=0.0, bar_style='info', description='Progress:', layout=Layout(height='25px', width='50%'),…"
      ]
     },
     "metadata": {},
     "output_type": "display_data"
    },
    {
     "data": {
      "image/png": "[encoded data removed]",
      "text/plain": [
       "<IPython.core.display.Image object>"
      ]
     },
     "metadata": {},
     "output_type": "display_data"
    }
   ],
   "source": [
    "plt.style.use('default')\n",
    "\n",
    "fig, ax = plt.subplots(1,1)\n",
    "prices['spend_per_transaction'].hist(bins=100)\n",
    "mdn = prices['spend_per_transaction'].median()\n",
    "plt.axvline(mdn, color=\"red\")\n",
    "plt.annotate(f'Median: {mdn}', xy=(mdn+40, 100000), xytext=(5, -5), textcoords='offset points',\n",
    "             horizontalalignment='right', verticalalignment='top', fontsize=14)\n",
    "plt.grid(False)\n",
    "plt.xlabel('Median Spend Per Transaction (Weekly)', fontsize=14)\n",
    "plt.ylabel('Frequency', fontsize=14)\n",
    "ax.spines['right'].set_visible(False)\n",
    "ax.spines['top'].set_visible(False)\n",
    "plt.tight_layout()\n",
    "plt.show()\n",
    "\n",
    "# increase axis tick size\n",
    "ax.tick_params(axis='x', labelsize='large') # For x-axis tick labels\n",
    "ax.tick_params(axis='y', labelsize='large') # For y-axis tick labels\n",
    "\n",
    "saveFigS3(\"dyn/results/figs/prices_hist.pdf\", bucket = \"ipsos-dvd\")\n",
    "%matplot plt"
   ]
  },
  {
   "cell_type": "code",
   "execution_count": null,
   "metadata": {},
   "outputs": [
    {
     "data": {
      "application/vnd.jupyter.widget-view+json": {
       "model_id": "3fd0689983014fb5b54692ebed66c79a",
       "version_major": 2,
       "version_minor": 0
      },
      "text/plain": [
       "VBox()"
      ]
     },
     "metadata": {},
     "output_type": "display_data"
    },
    {
     "data": {
      "application/vnd.jupyter.widget-view+json": {
       "model_id": "",
       "version_major": 2,
       "version_minor": 0
      },
      "text/plain": [
       "FloatProgress(value=0.0, bar_style='info', description='Progress:', layout=Layout(height='25px', width='50%'),…"
      ]
     },
     "metadata": {},
     "output_type": "display_data"
    },
    {
     "data": {
      "image/png": "[encoded data removed]",
      "text/plain": [
       "<IPython.core.display.Image object>"
      ]
     },
     "metadata": {},
     "output_type": "display_data"
    }
   ],
   "source": [
    "plt.style.use('default')\n",
    "\n",
    "fig, ax = plt.subplots(1,1)\n",
    "prices['resid'].hist(bins=100)\n",
    "mdn = prices['resid'].median()\n",
    "plt.axvline(mdn, color=\"red\")\n",
    "# plt.annotate(f'Median: {mdn}', xy=(mdn+35000, 50000), xytext=(5, -5), textcoords='offset points',\n",
    "#              horizontalalignment='right', verticalalignment='top', fontsize=14)\n",
    "plt.grid(False)\n",
    "plt.xlabel('Median Spend Per Transaction (Weekly)', fontsize=14)\n",
    "plt.ylabel('Frequency', fontsize=14)\n",
    "ax.spines['right'].set_visible(False)\n",
    "ax.spines['top'].set_visible(False)\n",
    "plt.tight_layout()\n",
    "plt.show()\n",
    "\n",
    "# increase axis tick size\n",
    "ax.tick_params(axis='x', labelsize='large') # For x-axis tick labels\n",
    "ax.tick_params(axis='y', labelsize='large') # For y-axis tick labels\n",
    "\n",
    "saveFigS3(\"dyn/results/figs/prices_resid_hist.pdf\", bucket = \"ipsos-dvd\")\n",
    "#saveFigS3(\"dyn/results/figs/prices_hist.pdf\", bucket = \"ipsos-dvd\")\n",
    "%matplot plt"
   ]
  },
  {
   "cell_type": "markdown",
   "metadata": {},
   "source": [
    "#### Regressions"
   ]
  },
  {
   "cell_type": "code",
   "execution_count": null,
   "metadata": {},
   "outputs": [
    {
     "data": {
      "application/vnd.jupyter.widget-view+json": {
       "model_id": "f7c6766c500c4919af99aec599d4f435",
       "version_major": 2,
       "version_minor": 0
      },
      "text/plain": [
       "VBox()"
      ]
     },
     "metadata": {},
     "output_type": "display_data"
    },
    {
     "data": {
      "application/vnd.jupyter.widget-view+json": {
       "model_id": "",
       "version_major": 2,
       "version_minor": 0
      },
      "text/plain": [
       "FloatProgress(value=0.0, bar_style='info', description='Progress:', layout=Layout(height='25px', width='50%'),…"
      ]
     },
     "metadata": {},
     "output_type": "display_data"
    }
   ],
   "source": [
    "prices['cz_q'] = prices['cz'].astype(str) + prices['week'].astype(str)\n",
    "prices['brand_q'] = prices['brands'] + prices['week'].astype(str)"
   ]
  },
  {
   "cell_type": "code",
   "execution_count": null,
   "metadata": {},
   "outputs": [
    {
     "data": {
      "application/vnd.jupyter.widget-view+json": {
       "model_id": "da67ba35c73649fb833cd378b7d03fd0",
       "version_major": 2,
       "version_minor": 0
      },
      "text/plain": [
       "VBox()"
      ]
     },
     "metadata": {},
     "output_type": "display_data"
    },
    {
     "data": {
      "application/vnd.jupyter.widget-view+json": {
       "model_id": "",
       "version_major": 2,
       "version_minor": 0
      },
      "text/plain": [
       "FloatProgress(value=0.0, bar_style='info', description='Progress:', layout=Layout(height='25px', width='50%'),…"
      ]
     },
     "metadata": {},
     "output_type": "display_data"
    }
   ],
   "source": [
    "pagg = (prices.groupby(by=[\"placekey\", \"brands\", \"cz\", \"fips_county\", \"fips_cbg\"])\n",
    "            .agg({'spend_per_transaction' : 'median'})).reset_index()"
   ]
  },
  {
   "cell_type": "code",
   "execution_count": null,
   "metadata": {},
   "outputs": [],
   "source": [
    "pagg.to_csv(data_dir, \"prices_average.csv\")"
   ]
  },
  {
   "cell_type": "code",
   "execution_count": null,
   "metadata": {},
   "outputs": [
    {
     "data": {
      "application/vnd.jupyter.widget-view+json": {
       "model_id": "235e9574dd9a46ae9c3ab8c866873953",
       "version_major": 2,
       "version_minor": 0
      },
      "text/plain": [
       "VBox()"
      ]
     },
     "metadata": {},
     "output_type": "display_data"
    },
    {
     "data": {
      "application/vnd.jupyter.widget-view+json": {
       "model_id": "",
       "version_major": 2,
       "version_minor": 0
      },
      "text/plain": [
       "FloatProgress(value=0.0, bar_style='info', description='Progress:', layout=Layout(height='25px', width='50%'),…"
      ]
     },
     "metadata": {},
     "output_type": "display_data"
    }
   ],
   "source": [
    "pagg['cz'] = pagg['cz'].astype(str)\n",
    "pagg['fips_county'] = pagg['fips_county'].astype(str)\n",
    "pagg['fips_cbg'] = pagg['fips_cbg'].astype(str)\n",
    "pagg['brands_cz'] = pagg['brands'] + pagg['fips_county']"
   ]
  },
  {
   "cell_type": "code",
   "execution_count": null,
   "metadata": {},
   "outputs": [
    {
     "data": {
      "application/vnd.jupyter.widget-view+json": {
       "model_id": "e439387cac9942f4aa4ef831c4465cd1",
       "version_major": 2,
       "version_minor": 0
      },
      "text/plain": [
       "VBox()"
      ]
     },
     "metadata": {},
     "output_type": "display_data"
    },
    {
     "data": {
      "application/vnd.jupyter.widget-view+json": {
       "model_id": "",
       "version_major": 2,
       "version_minor": 0
      },
      "text/plain": [
       "FloatProgress(value=0.0, bar_style='info', description='Progress:', layout=Layout(height='25px', width='50%'),…"
      ]
     },
     "metadata": {},
     "output_type": "display_data"
    }
   ],
   "source": [
    "places = spark.read.parquet(data_dyn + \"places_chains_filtered_cbgs\").select('wkt_area_sq_meters', 'includes_parking_lot', \n",
    "                                                                            'placekey').toPandas()\n",
    "pagg = pagg.merge(places, on = \"placekey\", how=\"left\")\n",
    "pagg['wkt_area_sq_meters'] = pagg['wkt_area_sq_meters'].astype(float)\n",
    "pagg['area_2'] = pagg['wkt_area_sq_meters']**2\n"
   ]
  },
  {
   "cell_type": "code",
   "execution_count": null,
   "metadata": {},
   "outputs": [
    {
     "data": {
      "application/vnd.jupyter.widget-view+json": {
       "model_id": "5d369e00f7654fbca2059098eb68591f",
       "version_major": 2,
       "version_minor": 0
      },
      "text/plain": [
       "VBox()"
      ]
     },
     "metadata": {},
     "output_type": "display_data"
    },
    {
     "data": {
      "application/vnd.jupyter.widget-view+json": {
       "model_id": "",
       "version_major": 2,
       "version_minor": 0
      },
      "text/plain": [
       "FloatProgress(value=0.0, bar_style='info', description='Progress:', layout=Layout(height='25px', width='50%'),…"
      ]
     },
     "metadata": {},
     "output_type": "display_data"
    }
   ],
   "source": [
    "# Step 2: List of fixed effects to loop over\n",
    "results_df = getR2Df(pagg=pagg)\n",
    "\n"
   ]
  },
  {
   "cell_type": "code",
   "execution_count": null,
   "metadata": {},
   "outputs": [
    {
     "data": {
      "application/vnd.jupyter.widget-view+json": {
       "model_id": "05b05fd602d44f7a835ecd7df2080ea0",
       "version_major": 2,
       "version_minor": 0
      },
      "text/plain": [
       "VBox()"
      ]
     },
     "metadata": {},
     "output_type": "display_data"
    },
    {
     "data": {
      "application/vnd.jupyter.widget-view+json": {
       "model_id": "",
       "version_major": 2,
       "version_minor": 0
      },
      "text/plain": [
       "FloatProgress(value=0.0, bar_style='info', description='Progress:', layout=Layout(height='25px', width='50%'),…"
      ]
     },
     "metadata": {},
     "output_type": "display_data"
    }
   ],
   "source": [
    "# Rename columns for LaTeX table\n",
    "df_renamed = results_df.rename(columns={'cz' : 'Market', 'brands' : 'Chain', 'brands_cz' : 'Market x Chain'})\n",
    "\n",
    "# Convert the first part of the DataFrame to LaTeX, excluding the last two rows\n",
    "ltx = df_renamed.iloc[:-2].round(3).to_latex()\n",
    "\n",
    "# Manually create LaTeX strings for the \"No. Obs\" and \"No. FEs\" rows\n",
    "sum_row = df_renamed.iloc[-2:].astype(int).to_latex(header=False, index=True)\n",
    "\n",
    "# Concatenate the strings, adding a \\hline to separate the sections\n",
    "final_ltx = ltx.split(\"\\\\bottomrule\")[0]  + \"\\n\\\\hline\\n\" + \"\\n\" + sum_row.split(\"\\\\toprule\")[1]\n"
   ]
  },
  {
   "cell_type": "code",
   "execution_count": null,
   "metadata": {},
   "outputs": [
    {
     "data": {
      "application/vnd.jupyter.widget-view+json": {
       "model_id": "b8a8fb05464a470dba23c2f7d9ba4110",
       "version_major": 2,
       "version_minor": 0
      },
      "text/plain": [
       "VBox()"
      ]
     },
     "metadata": {},
     "output_type": "display_data"
    },
    {
     "data": {
      "application/vnd.jupyter.widget-view+json": {
       "model_id": "",
       "version_major": 2,
       "version_minor": 0
      },
      "text/plain": [
       "FloatProgress(value=0.0, bar_style='info', description='Progress:', layout=Layout(height='25px', width='50%'),…"
      ]
     },
     "metadata": {},
     "output_type": "display_data"
    }
   ],
   "source": [
    "with open('temp.tex', 'w') as temp_file:\n",
    "    temp_file.write(final_ltx)\n",
    "s3_client = boto3.client('s3')\n",
    "s3_client.upload_file('temp.tex', 'ipsos-dvd', 'dyn/results/tabs/prices_r2.tex')"
   ]
  },
  {
   "cell_type": "markdown",
   "metadata": {},
   "source": [
    "### Map"
   ]
  },
  {
   "cell_type": "code",
   "execution_count": null,
   "metadata": {},
   "outputs": [
    {
     "data": {
      "application/vnd.jupyter.widget-view+json": {
       "model_id": "b90700760cb145b3b8ebefe2b605de9d",
       "version_major": 2,
       "version_minor": 0
      },
      "text/plain": [
       "VBox()"
      ]
     },
     "metadata": {},
     "output_type": "display_data"
    },
    {
     "data": {
      "application/vnd.jupyter.widget-view+json": {
       "model_id": "",
       "version_major": 2,
       "version_minor": 0
      },
      "text/plain": [
       "FloatProgress(value=0.0, bar_style='info', description='Progress:', layout=Layout(height='25px', width='50%'),…"
      ]
     },
     "metadata": {},
     "output_type": "display_data"
    }
   ],
   "source": [
    "boomweek = boom \\\n",
    "    .groupBy(\"cz\", \"fips_county\")\\\n",
    "    .agg(F.percentile_approx(\"spend_per_transaction\", 0.5).alias(\"spend_per_transaction\"))\n"
   ]
  },
  {
   "cell_type": "code",
   "execution_count": null,
   "metadata": {},
   "outputs": [
    {
     "data": {
      "application/vnd.jupyter.widget-view+json": {
       "model_id": "d0934fb1b42442db8e46634fd0c8d04d",
       "version_major": 2,
       "version_minor": 0
      },
      "text/plain": [
       "VBox()"
      ]
     },
     "metadata": {},
     "output_type": "display_data"
    },
    {
     "data": {
      "application/vnd.jupyter.widget-view+json": {
       "model_id": "",
       "version_major": 2,
       "version_minor": 0
      },
      "text/plain": [
       "FloatProgress(value=0.0, bar_style='info', description='Progress:', layout=Layout(height='25px', width='50%'),…"
      ]
     },
     "metadata": {},
     "output_type": "display_data"
    }
   ],
   "source": [
    "prices_map = boomweek.toPandas()"
   ]
  },
  {
   "cell_type": "code",
   "execution_count": null,
   "metadata": {},
   "outputs": [
    {
     "data": {
      "application/vnd.jupyter.widget-view+json": {
       "model_id": "60a4946f4c3144608d60a08893fde7d9",
       "version_major": 2,
       "version_minor": 0
      },
      "text/plain": [
       "VBox()"
      ]
     },
     "metadata": {},
     "output_type": "display_data"
    },
    {
     "data": {
      "application/vnd.jupyter.widget-view+json": {
       "model_id": "",
       "version_major": 2,
       "version_minor": 0
      },
      "text/plain": [
       "FloatProgress(value=0.0, bar_style='info', description='Progress:', layout=Layout(height='25px', width='50%'),…"
      ]
     },
     "metadata": {},
     "output_type": "display_data"
    }
   ],
   "source": [
    "\n",
    "s3.download_file('ipsos-dvd','dyn/data/geo/county_shapefile.zip','county_shapefile.zip')\n",
    "county_shp = gpd.read_file('county_shapefile.zip')\n",
    "county_shp = county_shp[['FIPS', 'geometry']].rename(columns={'FIPS' : 'fips_county'})\n"
   ]
  },
  {
   "cell_type": "code",
   "execution_count": null,
   "metadata": {},
   "outputs": [
    {
     "data": {
      "application/vnd.jupyter.widget-view+json": {
       "model_id": "ae1800b3e5df417cb5e9dd38a6a17ba5",
       "version_major": 2,
       "version_minor": 0
      },
      "text/plain": [
       "VBox()"
      ]
     },
     "metadata": {},
     "output_type": "display_data"
    },
    {
     "data": {
      "application/vnd.jupyter.widget-view+json": {
       "model_id": "",
       "version_major": 2,
       "version_minor": 0
      },
      "text/plain": [
       "FloatProgress(value=0.0, bar_style='info', description='Progress:', layout=Layout(height='25px', width='50%'),…"
      ]
     },
     "metadata": {},
     "output_type": "display_data"
    }
   ],
   "source": [
    "# TODO: some missing, improve the match\n",
    "prices_map = prices_map.merge(county_shp, on = \"fips_county\", how = \"left\")\n"
   ]
  },
  {
   "cell_type": "code",
   "execution_count": null,
   "metadata": {},
   "outputs": [
    {
     "data": {
      "application/vnd.jupyter.widget-view+json": {
       "model_id": "12c873ac7cdc4c298497f6e6b8d1f083",
       "version_major": 2,
       "version_minor": 0
      },
      "text/plain": [
       "VBox()"
      ]
     },
     "metadata": {},
     "output_type": "display_data"
    },
    {
     "data": {
      "application/vnd.jupyter.widget-view+json": {
       "model_id": "",
       "version_major": 2,
       "version_minor": 0
      },
      "text/plain": [
       "FloatProgress(value=0.0, bar_style='info', description='Progress:', layout=Layout(height='25px', width='50%'),…"
      ]
     },
     "metadata": {},
     "output_type": "display_data"
    }
   ],
   "source": [
    "prices_map = gpd.GeoDataFrame(prices_map, geometry = prices_map.geometry)\n",
    "prices_map.to_file(data_dyn + 'prices_map.geojson', driver=\"GeoJSON\")"
   ]
  },
  {
   "cell_type": "code",
   "execution_count": null,
   "metadata": {},
   "outputs": [
    {
     "data": {
      "application/vnd.jupyter.widget-view+json": {
       "model_id": "1ef6a247c2b44e89ae03f7990e593a5a",
       "version_major": 2,
       "version_minor": 0
      },
      "text/plain": [
       "VBox()"
      ]
     },
     "metadata": {},
     "output_type": "display_data"
    },
    {
     "data": {
      "application/vnd.jupyter.widget-view+json": {
       "model_id": "",
       "version_major": 2,
       "version_minor": 0
      },
      "text/plain": [
       "FloatProgress(value=0.0, bar_style='info', description='Progress:', layout=Layout(height='25px', width='50%'),…"
      ]
     },
     "metadata": {},
     "output_type": "display_data"
    }
   ],
   "source": [
    "from matplotlib.colors import LinearSegmentedColormap\n",
    "from matplotlib.ticker import FuncFormatter\n",
    "\n",
    "def thousands_formatter(x, pos):\n",
    "    return f\"{int(x/1000)}\"\n",
    "\n",
    "# Define the custom color palette\n",
    "colors = ['#f3e79b', '#fac484', '#f8a07e', '#eb7f86', '#ce6693', '#a059a0', '#5c53a5']\n",
    "\n",
    "colors.reverse()\n",
    "custom_cmap = LinearSegmentedColormap.from_list(\"custom_cmap\", colors)\n",
    "\n",
    "fig, ax = plt.subplots(1, 1, figsize=(10, 6))\n",
    "\n",
    "\n",
    "vmin = np.quantile(prices_map['spend_per_transaction'], 0.1)\n",
    "vmax = np.quantile(prices_map['spend_per_transaction'], 0.9)\n",
    "# Plot the GeoDataFrame\n",
    "prices_map.cx[-125:-66, 25:49].plot(column='spend_per_transaction',\n",
    "                                      cmap=custom_cmap,\n",
    "                                      ax=ax, vmin=vmin, vmax=vmax,\n",
    "                                     rasterized=True)\n",
    "# Manually add a colorbar with custom formatting\n",
    "sm = plt.cm.ScalarMappable(cmap=custom_cmap, norm=plt.Normalize(vmin=vmin, vmax=vmax))\n",
    "sm._A = []  # Necessary for ScalarMappable\n",
    "cbar = fig.colorbar(sm, ax=ax, orientation='horizontal', shrink=0.5)\n",
    "cbar.set_label(\"Median Spend Per Transaction, USD\")\n",
    "cbar.outline.set_visible(False)\n",
    "\n",
    "ax.set_axis_off()\n",
    "\n",
    "plt.tight_layout()\n",
    "saveFigS3(figs_dir.replace(\"s3://ipsos-dvd/\", \"\") + \"prices_chloropleth.pdf\", bucket = \"ipsos-dvd\")\n"
   ]
  },
  {
   "cell_type": "code",
   "execution_count": null,
   "metadata": {},
   "outputs": [
    {
     "data": {
      "application/vnd.jupyter.widget-view+json": {
       "model_id": "",
       "version_major": 2,
       "version_minor": 0
      },
      "text/plain": [
       "FloatProgress(value=0.0, bar_style='info', description='Progress:', layout=Layout(height='25px', width='50%'),…"
      ]
     },
     "metadata": {},
     "output_type": "display_data"
    },
    {
     "data": {
      "image/png": "[encoded data removed]",
      "text/plain": [
       "<IPython.core.display.Image object>"
      ]
     },
     "metadata": {},
     "output_type": "display_data"
    }
   ],
   "source": [
    "%matplot plt"
   ]
  },
  {
   "cell_type": "markdown",
   "metadata": {},
   "source": [
    "## Wages and prices combined"
   ]
  },
  {
   "cell_type": "markdown",
   "metadata": {},
   "source": [
    "### County-chain-month level"
   ]
  },
  {
   "cell_type": "code",
   "execution_count": 3,
   "metadata": {
    "execution": {
     "iopub.execute_input": "2024-02-29T20:48:06.752119Z",
     "iopub.status.busy": "2024-02-29T20:48:06.751895Z",
     "iopub.status.idle": "2024-02-29T20:48:20.035333Z",
     "shell.execute_reply": "2024-02-29T20:48:20.034723Z",
     "shell.execute_reply.started": "2024-02-29T20:48:06.752096Z"
    },
    "tags": []
   },
   "outputs": [
    {
     "data": {
      "application/vnd.jupyter.widget-view+json": {
       "model_id": "5657d0f9d5524cc4afc1293e0001a9a9",
       "version_major": 2,
       "version_minor": 0
      },
      "text/plain": [
       "VBox()"
      ]
     },
     "metadata": {},
     "output_type": "display_data"
    },
    {
     "data": {
      "application/vnd.jupyter.widget-view+json": {
       "model_id": "bbcd5fc3760a4f52ac91c233fec56328",
       "version_major": 2,
       "version_minor": 0
      },
      "text/plain": [
       "FloatProgress(value=0.0, bar_style='info', description='Progress:', layout=Layout(height='25px', width='50%'),…"
      ]
     },
     "metadata": {},
     "output_type": "display_data"
    }
   ],
   "source": [
    "boom = spark.read.parquet(data_dyn + \"prices_boom\")\n",
    "price_panel = boom.withColumn(\"month\", F.concat(F.month(\"transaction_date\"), \n",
    "                                           F.year(\"transaction_date\"))) \\\n",
    "    .groupBy(\"chain\", \"spend_date_range_start\", \"spend_date_range_end\", \"month\", \n",
    "             \"cz\",) \\\n",
    "    .agg(F.percentile_approx(\"spend_per_transaction\", 0.5).alias(\"spend_per_transaction\")).toPandas()\n",
    "price_panel['month'] = price_panel['month'].astype(str).str[:-4]\n"
   ]
  },
  {
   "cell_type": "code",
   "execution_count": 4,
   "metadata": {
    "execution": {
     "iopub.execute_input": "2024-02-29T20:48:20.036600Z",
     "iopub.status.busy": "2024-02-29T20:48:20.036382Z",
     "iopub.status.idle": "2024-02-29T20:48:23.291078Z",
     "shell.execute_reply": "2024-02-29T20:48:23.290494Z",
     "shell.execute_reply.started": "2024-02-29T20:48:20.036579Z"
    },
    "tags": []
   },
   "outputs": [
    {
     "data": {
      "application/vnd.jupyter.widget-view+json": {
       "model_id": "d67bf69e9ea94d388e89ca292362a86e",
       "version_major": 2,
       "version_minor": 0
      },
      "text/plain": [
       "VBox()"
      ]
     },
     "metadata": {},
     "output_type": "display_data"
    },
    {
     "data": {
      "application/vnd.jupyter.widget-view+json": {
       "model_id": "63e3fa33925a463c83a85c4b0b306c74",
       "version_major": 2,
       "version_minor": 0
      },
      "text/plain": [
       "FloatProgress(value=0.0, bar_style='info', description='Progress:', layout=Layout(height='25px', width='50%'),…"
      ]
     },
     "metadata": {},
     "output_type": "display_data"
    }
   ],
   "source": [
    "wages_chains = spark.read.parquet(data_dyn + \"wagescape_chains_county\")\n",
    "wage_zip = (wages_chains.withColumn(\"month\", F.month(F.to_date(\"POST_DATE\")))\n",
    "            .groupBy(\"cz\", \"chain\", \"month\")\n",
    "            .agg(F.percentile_approx(\"SALARY\", 0.5).alias(\"SALARY_median\"), \n",
    "                F.avg(\"SALARY\").alias(\"SALARY\")).fillna(\"NA\")\n",
    "           ).toPandas()\n",
    "wage_zip[wage_zip == \"NA\"] = np.nan"
   ]
  },
  {
   "cell_type": "code",
   "execution_count": 5,
   "metadata": {
    "execution": {
     "iopub.execute_input": "2024-02-29T20:48:23.292246Z",
     "iopub.status.busy": "2024-02-29T20:48:23.292018Z",
     "iopub.status.idle": "2024-02-29T20:48:23.527867Z",
     "shell.execute_reply": "2024-02-29T20:48:23.527249Z",
     "shell.execute_reply.started": "2024-02-29T20:48:23.292223Z"
    }
   },
   "outputs": [
    {
     "data": {
      "application/vnd.jupyter.widget-view+json": {
       "model_id": "f236d8c4bf0c45c08a686081032850e7",
       "version_major": 2,
       "version_minor": 0
      },
      "text/plain": [
       "VBox()"
      ]
     },
     "metadata": {},
     "output_type": "display_data"
    },
    {
     "data": {
      "application/vnd.jupyter.widget-view+json": {
       "model_id": "27252be848114319b748b28ec90064c8",
       "version_major": 2,
       "version_minor": 0
      },
      "text/plain": [
       "FloatProgress(value=0.0, bar_style='info', description='Progress:', layout=Layout(height='25px', width='50%'),…"
      ]
     },
     "metadata": {},
     "output_type": "display_data"
    }
   ],
   "source": [
    "wage_zip['month'] = wage_zip['month'].astype(str)\n",
    "combined = price_panel.merge(wage_zip, on = ['chain', 'cz', 'month'], how=\"inner\")\n"
   ]
  },
  {
   "cell_type": "code",
   "execution_count": 8,
   "metadata": {
    "execution": {
     "iopub.execute_input": "2024-02-29T20:48:42.030968Z",
     "iopub.status.busy": "2024-02-29T20:48:42.030667Z",
     "iopub.status.idle": "2024-02-29T20:48:42.065728Z",
     "shell.execute_reply": "2024-02-29T20:48:42.064943Z",
     "shell.execute_reply.started": "2024-02-29T20:48:42.030942Z"
    },
    "tags": []
   },
   "outputs": [
    {
     "data": {
      "application/vnd.jupyter.widget-view+json": {
       "model_id": "801d43d954384ac2af116795fd3883fb",
       "version_major": 2,
       "version_minor": 0
      },
      "text/plain": [
       "VBox()"
      ]
     },
     "metadata": {},
     "output_type": "display_data"
    },
    {
     "data": {
      "application/vnd.jupyter.widget-view+json": {
       "model_id": "84796d419d5c4d0a831fbaa13c172f3e",
       "version_major": 2,
       "version_minor": 0
      },
      "text/plain": [
       "FloatProgress(value=0.0, bar_style='info', description='Progress:', layout=Layout(height='25px', width='50%'),…"
      ]
     },
     "metadata": {},
     "output_type": "display_data"
    }
   ],
   "source": [
    "combined['wage_log'] = np.log(combined['SALARY'])\n",
    "combined['price_log'] = np.log(combined['spend_per_transaction'])"
   ]
  },
  {
   "cell_type": "code",
   "execution_count": 9,
   "metadata": {
    "execution": {
     "iopub.execute_input": "2024-02-29T20:48:42.397439Z",
     "iopub.status.busy": "2024-02-29T20:48:42.397149Z",
     "iopub.status.idle": "2024-02-29T20:48:43.644203Z",
     "shell.execute_reply": "2024-02-29T20:48:43.643452Z",
     "shell.execute_reply.started": "2024-02-29T20:48:42.397413Z"
    },
    "tags": []
   },
   "outputs": [
    {
     "data": {
      "application/vnd.jupyter.widget-view+json": {
       "model_id": "83a6ebbd2c864393b5c94fb28e695dcb",
       "version_major": 2,
       "version_minor": 0
      },
      "text/plain": [
       "VBox()"
      ]
     },
     "metadata": {},
     "output_type": "display_data"
    },
    {
     "data": {
      "application/vnd.jupyter.widget-view+json": {
       "model_id": "9bec6c2601014b29ad15036e04f2d468",
       "version_major": 2,
       "version_minor": 0
      },
      "text/plain": [
       "FloatProgress(value=0.0, bar_style='info', description='Progress:', layout=Layout(height='25px', width='50%'),…"
      ]
     },
     "metadata": {},
     "output_type": "display_data"
    }
   ],
   "source": [
    "combined.to_csv(data_dyn + \"price_wage_panel_monthly.csv.gz\")\n"
   ]
  },
  {
   "cell_type": "markdown",
   "metadata": {},
   "source": [
    "### Wages, Prices, and Location"
   ]
  },
  {
   "cell_type": "code",
   "execution_count": 12,
   "metadata": {
    "execution": {
     "iopub.execute_input": "2024-02-29T21:06:59.246814Z",
     "iopub.status.busy": "2024-02-29T21:06:59.246515Z",
     "iopub.status.idle": "2024-02-29T21:07:00.492995Z",
     "shell.execute_reply": "2024-02-29T21:07:00.492377Z",
     "shell.execute_reply.started": "2024-02-29T21:06:59.246789Z"
    },
    "tags": []
   },
   "outputs": [
    {
     "data": {
      "application/vnd.jupyter.widget-view+json": {
       "model_id": "94ef316eb279458eb114f0935c242a1a",
       "version_major": 2,
       "version_minor": 0
      },
      "text/plain": [
       "VBox()"
      ]
     },
     "metadata": {},
     "output_type": "display_data"
    },
    {
     "data": {
      "application/vnd.jupyter.widget-view+json": {
       "model_id": "9762d2e1f61b4ee6b92c226d4beae394",
       "version_major": 2,
       "version_minor": 0
      },
      "text/plain": [
       "FloatProgress(value=0.0, bar_style='info', description='Progress:', layout=Layout(height='25px', width='50%'),…"
      ]
     },
     "metadata": {},
     "output_type": "display_data"
    },
    {
     "name": "stdout",
     "output_type": "stream",
     "text": [
      "16552006"
     ]
    }
   ],
   "source": [
    "# aggregate to chain level and merge in distances \n",
    "boom = spark.read.parquet(data_dyn + \"prices_boom\")\n",
    "boom.count()"
   ]
  },
  {
   "cell_type": "code",
   "execution_count": 13,
   "metadata": {
    "execution": {
     "iopub.execute_input": "2024-02-29T21:07:00.494247Z",
     "iopub.status.busy": "2024-02-29T21:07:00.494031Z",
     "iopub.status.idle": "2024-02-29T21:07:02.746677Z",
     "shell.execute_reply": "2024-02-29T21:07:02.746066Z",
     "shell.execute_reply.started": "2024-02-29T21:07:00.494224Z"
    },
    "tags": []
   },
   "outputs": [
    {
     "data": {
      "application/vnd.jupyter.widget-view+json": {
       "model_id": "4ef4071d3e224b64841e8a29c8da3458",
       "version_major": 2,
       "version_minor": 0
      },
      "text/plain": [
       "VBox()"
      ]
     },
     "metadata": {},
     "output_type": "display_data"
    },
    {
     "data": {
      "application/vnd.jupyter.widget-view+json": {
       "model_id": "d9e291ae0bdf4e1f9098918367c951b6",
       "version_major": 2,
       "version_minor": 0
      },
      "text/plain": [
       "FloatProgress(value=0.0, bar_style='info', description='Progress:', layout=Layout(height='25px', width='50%'),…"
      ]
     },
     "metadata": {},
     "output_type": "display_data"
    },
    {
     "name": "stdout",
     "output_type": "stream",
     "text": [
      "16552006"
     ]
    }
   ],
   "source": [
    "\n",
    "distances = spark.read.csv(data_dyn + \"distance_workers_shoppers.csv.gz\", header=True)\n",
    "boom = boom.join(distances.drop(\"cz\"), on = \"placekey\", how = \"left\")\n",
    "boom.count()"
   ]
  },
  {
   "cell_type": "code",
   "execution_count": 14,
   "metadata": {
    "execution": {
     "iopub.execute_input": "2024-02-29T21:07:02.748139Z",
     "iopub.status.busy": "2024-02-29T21:07:02.747920Z",
     "iopub.status.idle": "2024-02-29T21:07:10.029854Z",
     "shell.execute_reply": "2024-02-29T21:07:10.029257Z",
     "shell.execute_reply.started": "2024-02-29T21:07:02.748116Z"
    },
    "tags": []
   },
   "outputs": [
    {
     "data": {
      "application/vnd.jupyter.widget-view+json": {
       "model_id": "1e63907dce3841dcb947be83b83f3007",
       "version_major": 2,
       "version_minor": 0
      },
      "text/plain": [
       "VBox()"
      ]
     },
     "metadata": {},
     "output_type": "display_data"
    },
    {
     "data": {
      "application/vnd.jupyter.widget-view+json": {
       "model_id": "7660e2b9faaa4233a4838eaebb365626",
       "version_major": 2,
       "version_minor": 0
      },
      "text/plain": [
       "FloatProgress(value=0.0, bar_style='info', description='Progress:', layout=Layout(height='25px', width='50%'),…"
      ]
     },
     "metadata": {},
     "output_type": "display_data"
    }
   ],
   "source": [
    "price_panel = boom.groupBy(\"chain\", \"cz\",) \\\n",
    "    .agg(F.percentile_approx(\"spend_per_transaction\", 0.5).alias(\"spend_per_transaction\"), \n",
    "        F.percentile_approx(\"distance_workers\", 0.5).alias(\"distance_workers\"),\n",
    "        F.percentile_approx(\"distance_shoppers\", 0.5).alias(\"distance_shoppers\")).toPandas()\n",
    "\n",
    "wages_chains = spark.read.parquet(data_dyn + \"wagescape_chains_county\")\n",
    "wage_zip = (wages_chains.groupBy(\"cz\", \"chain\")\n",
    "            .agg(F.percentile_approx(\"SALARY\", 0.5).alias(\"SALARY_median\"), \n",
    "                F.avg(\"SALARY\").alias(\"SALARY\")).fillna(\"NA\")\n",
    "           ).toPandas()\n",
    "wage_zip[wage_zip == \"NA\"] = np.nan\n",
    "combined = price_panel.merge(wage_zip, on = ['chain', 'cz'], how=\"inner\")\n"
   ]
  },
  {
   "cell_type": "code",
   "execution_count": 15,
   "metadata": {
    "execution": {
     "iopub.execute_input": "2024-02-29T21:07:10.031070Z",
     "iopub.status.busy": "2024-02-29T21:07:10.030857Z",
     "iopub.status.idle": "2024-02-29T21:07:10.066263Z",
     "shell.execute_reply": "2024-02-29T21:07:10.065709Z",
     "shell.execute_reply.started": "2024-02-29T21:07:10.031048Z"
    },
    "tags": []
   },
   "outputs": [
    {
     "data": {
      "application/vnd.jupyter.widget-view+json": {
       "model_id": "356d3477e7bb4d35a3500473769824ed",
       "version_major": 2,
       "version_minor": 0
      },
      "text/plain": [
       "VBox()"
      ]
     },
     "metadata": {},
     "output_type": "display_data"
    },
    {
     "data": {
      "application/vnd.jupyter.widget-view+json": {
       "model_id": "ca4e02bc3cf541f3a2a68ffa8529e64e",
       "version_major": 2,
       "version_minor": 0
      },
      "text/plain": [
       "FloatProgress(value=0.0, bar_style='info', description='Progress:', layout=Layout(height='25px', width='50%'),…"
      ]
     },
     "metadata": {},
     "output_type": "display_data"
    }
   ],
   "source": [
    "combined[['wage_log', 'price_log', 'distance_workers_log', 'distance_shoppers_log']] = \\\n",
    "    combined[['SALARY', 'spend_per_transaction', 'distance_workers', 'distance_shoppers']].apply(np.log, axis=1)"
   ]
  },
  {
   "cell_type": "code",
   "execution_count": 16,
   "metadata": {
    "execution": {
     "iopub.execute_input": "2024-02-29T21:07:10.067679Z",
     "iopub.status.busy": "2024-02-29T21:07:10.067436Z",
     "iopub.status.idle": "2024-02-29T21:07:10.807484Z",
     "shell.execute_reply": "2024-02-29T21:07:10.806843Z",
     "shell.execute_reply.started": "2024-02-29T21:07:10.067656Z"
    }
   },
   "outputs": [
    {
     "data": {
      "application/vnd.jupyter.widget-view+json": {
       "model_id": "74b5d75fae6141e4b3f5d5215f64c7ad",
       "version_major": 2,
       "version_minor": 0
      },
      "text/plain": [
       "VBox()"
      ]
     },
     "metadata": {},
     "output_type": "display_data"
    },
    {
     "data": {
      "application/vnd.jupyter.widget-view+json": {
       "model_id": "597e5851f222464791adf1cd28e2f338",
       "version_major": 2,
       "version_minor": 0
      },
      "text/plain": [
       "FloatProgress(value=0.0, bar_style='info', description='Progress:', layout=Layout(height='25px', width='50%'),…"
      ]
     },
     "metadata": {},
     "output_type": "display_data"
    }
   ],
   "source": [
    "combined[['distance_workers_sq', 'distance_shoppers_sq']] = combined[['distance_workers', 'distance_shoppers']].apply(lambda x: x**2, axis=1)\n",
    "\n"
   ]
  },
  {
   "cell_type": "code",
   "execution_count": 17,
   "metadata": {
    "execution": {
     "iopub.execute_input": "2024-02-29T21:07:10.808636Z",
     "iopub.status.busy": "2024-02-29T21:07:10.808415Z",
     "iopub.status.idle": "2024-02-29T21:07:11.548643Z",
     "shell.execute_reply": "2024-02-29T21:07:11.547810Z",
     "shell.execute_reply.started": "2024-02-29T21:07:10.808615Z"
    },
    "tags": []
   },
   "outputs": [
    {
     "data": {
      "application/vnd.jupyter.widget-view+json": {
       "model_id": "4c54de7550364e14aa8e456ea37e4e7f",
       "version_major": 2,
       "version_minor": 0
      },
      "text/plain": [
       "VBox()"
      ]
     },
     "metadata": {},
     "output_type": "display_data"
    },
    {
     "data": {
      "application/vnd.jupyter.widget-view+json": {
       "model_id": "8f9523dbfe43469ebdaf2f7cdb23cc9a",
       "version_major": 2,
       "version_minor": 0
      },
      "text/plain": [
       "FloatProgress(value=0.0, bar_style='info', description='Progress:', layout=Layout(height='25px', width='50%'),…"
      ]
     },
     "metadata": {},
     "output_type": "display_data"
    }
   ],
   "source": [
    "combined.to_csv(data_dyn + \"price_wage_panel_distances.csv.gz\", index=False)\n"
   ]
  },
  {
   "cell_type": "code",
   "execution_count": 18,
   "metadata": {
    "execution": {
     "iopub.execute_input": "2024-02-29T21:08:35.516578Z",
     "iopub.status.busy": "2024-02-29T21:08:35.516271Z",
     "iopub.status.idle": "2024-02-29T21:08:35.754344Z",
     "shell.execute_reply": "2024-02-29T21:08:35.753763Z",
     "shell.execute_reply.started": "2024-02-29T21:08:35.516553Z"
    },
    "tags": []
   },
   "outputs": [
    {
     "data": {
      "application/vnd.jupyter.widget-view+json": {
       "model_id": "32c886e5ab1c45ad91e38732a01ebff1",
       "version_major": 2,
       "version_minor": 0
      },
      "text/plain": [
       "VBox()"
      ]
     },
     "metadata": {},
     "output_type": "display_data"
    },
    {
     "data": {
      "application/vnd.jupyter.widget-view+json": {
       "model_id": "09cf77d4feb44f29a5aaf898da977395",
       "version_major": 2,
       "version_minor": 0
      },
      "text/plain": [
       "FloatProgress(value=0.0, bar_style='info', description='Progress:', layout=Layout(height='25px', width='50%'),…"
      ]
     },
     "metadata": {},
     "output_type": "display_data"
    },
    {
     "name": "stdout",
     "output_type": "stream",
     "text": [
      "              chain   cz  ...  distance_workers_sq  distance_shoppers_sq\n",
      "0        albertsons  447  ...             0.146586             11.607649\n",
      "1        albertsons  581  ...            19.691098             14.915044\n",
      "2        albertsons  647  ...             1.790801             43.151761\n",
      "3              aldi  196  ...             0.178073            120.450625\n",
      "4              aldi  231  ...            33.073326             84.419344\n",
      "...             ...  ...  ...                  ...                   ...\n",
      "4737   trader joe's   80  ...             3.243416             84.474481\n",
      "4738   weis markets  113  ...             2.205566             51.394561\n",
      "4739       foodtown  250  ...             5.568561              2.039184\n",
      "4740  piggly wiggly  442  ...             0.699623             72.046144\n",
      "4741  piggly wiggly  416  ...             1.934463            183.412849\n",
      "\n",
      "[4742 rows x 13 columns]"
     ]
    }
   ],
   "source": [
    "combined.shape"
   ]
  },
  {
   "cell_type": "code",
   "execution_count": null,
   "metadata": {},
   "outputs": [],
   "source": []
  }
 ],
 "metadata": {
  "kernelspec": {
   "display_name": "PySpark",
   "language": "python",
   "name": "pysparkkernel"
  },
  "language_info": {
   "codemirror_mode": {
    "name": "python",
    "version": 3
   },
   "file_extension": ".py",
   "mimetype": "text/x-python",
   "name": "pyspark",
   "pygments_lexer": "python3"
  }
 },
 "nbformat": 4,
 "nbformat_minor": 4
}
