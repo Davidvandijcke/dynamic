{
 "cells": [
  {
   "cell_type": "code",
   "execution_count": 8,
   "metadata": {},
   "outputs": [],
   "source": [
    "import os\n",
    "import pandas as pd\n",
    "import geopandas as gpd\n",
    "\n",
    "from shapely import wkt"
   ]
  },
  {
   "cell_type": "code",
   "execution_count": 2,
   "metadata": {},
   "outputs": [],
   "source": [
    "path = os.path.dirname(os.getcwd())\n",
    "dir_data = os.path.join(path, \"data\")\n"
   ]
  },
  {
   "cell_type": "code",
   "execution_count": 4,
   "metadata": {},
   "outputs": [
    {
     "data": {
      "text/plain": [
       "'/Users/davidvandijcke/Dropbox (University of Michigan)/dynamic/repo/data'"
      ]
     },
     "execution_count": 4,
     "metadata": {},
     "output_type": "execute_result"
    }
   ],
   "source": [
    "dir_data"
   ]
  },
  {
   "cell_type": "code",
   "execution_count": null,
   "metadata": {},
   "outputs": [],
   "source": [
    "df = pd.read_csv(os.path.join(dir_data, \"places\", \"20221201-safegraph_pg_cpg_part1_0.csv.gz\"))\n"
   ]
  },
  {
   "cell_type": "code",
   "execution_count": 30,
   "metadata": {},
   "outputs": [
    {
     "data": {
      "text/plain": [
       "1    POLYGON ((18.207760500273412 59.22991419999999...\n",
       "2    POLYGON ((3.4705104839584946 50.93190159999999...\n",
       "3    POLYGON ((8.484332851456381 58.4124254, 8.4843...\n",
       "4    POLYGON ((56.20991556822229 58.006814, 56.2099...\n",
       "5    POLYGON ((-90.38067984499997 38.50321528000006...\n",
       "6    POLYGON ((28.914949125088167 41.0608163, 28.91...\n",
       "Name: polygon_wkt, dtype: object"
      ]
     },
     "execution_count": 30,
     "metadata": {},
     "output_type": "execute_result"
    }
   ],
   "source": [
    "\n",
    "# polygon_wkt to geodataframe\n",
    "df[\"polygon_wkt\"][1:7].apply(lambda x : wkt.loads(x))"
   ]
  },
  {
   "cell_type": "code",
   "execution_count": 31,
   "metadata": {},
   "outputs": [
    {
     "ename": "TypeError",
     "evalue": "Expected bytes or string, got float",
     "output_type": "error",
     "traceback": [
      "\u001b[0;31m---------------------------------------------------------------------------\u001b[0m",
      "\u001b[0;31mTypeError\u001b[0m                                 Traceback (most recent call last)",
      "Cell \u001b[0;32mIn[31], line 1\u001b[0m\n\u001b[0;32m----> 1\u001b[0m wkt\u001b[39m.\u001b[39;49mloads(df[\u001b[39m'\u001b[39;49m\u001b[39mpolygon_wkt\u001b[39;49m\u001b[39m'\u001b[39;49m][\u001b[39m7\u001b[39;49m])\n",
      "File \u001b[0;32m~/miniconda3/lib/python3.9/site-packages/shapely/wkt.py:22\u001b[0m, in \u001b[0;36mloads\u001b[0;34m(data)\u001b[0m\n\u001b[1;32m      9\u001b[0m \u001b[39mdef\u001b[39;00m \u001b[39mloads\u001b[39m(data):\n\u001b[1;32m     10\u001b[0m     \u001b[39m\"\"\"\u001b[39;00m\n\u001b[1;32m     11\u001b[0m \u001b[39m    Load a geometry from a WKT string.\u001b[39;00m\n\u001b[1;32m     12\u001b[0m \n\u001b[0;32m   (...)\u001b[0m\n\u001b[1;32m     20\u001b[0m \u001b[39m    Shapely geometry object\u001b[39;00m\n\u001b[1;32m     21\u001b[0m \u001b[39m    \"\"\"\u001b[39;00m\n\u001b[0;32m---> 22\u001b[0m     \u001b[39mreturn\u001b[39;00m shapely\u001b[39m.\u001b[39;49mfrom_wkt(data)\n",
      "File \u001b[0;32m~/miniconda3/lib/python3.9/site-packages/shapely/io.py:286\u001b[0m, in \u001b[0;36mfrom_wkt\u001b[0;34m(geometry, on_invalid, **kwargs)\u001b[0m\n\u001b[1;32m    282\u001b[0m     \u001b[39mraise\u001b[39;00m \u001b[39mTypeError\u001b[39;00m(\u001b[39m\"\u001b[39m\u001b[39mon_invalid only accepts scalar values\u001b[39m\u001b[39m\"\u001b[39m)\n\u001b[1;32m    284\u001b[0m invalid_handler \u001b[39m=\u001b[39m np\u001b[39m.\u001b[39muint8(DecodingErrorOptions\u001b[39m.\u001b[39mget_value(on_invalid))\n\u001b[0;32m--> 286\u001b[0m \u001b[39mreturn\u001b[39;00m lib\u001b[39m.\u001b[39;49mfrom_wkt(geometry, invalid_handler, \u001b[39m*\u001b[39;49m\u001b[39m*\u001b[39;49mkwargs)\n",
      "\u001b[0;31mTypeError\u001b[0m: Expected bytes or string, got float"
     ]
    }
   ],
   "source": [
    "wkt.loads(df['polygon_wkt'][7])"
   ]
  },
  {
   "cell_type": "code",
   "execution_count": 36,
   "metadata": {},
   "outputs": [
    {
     "data": {
      "text/plain": [
       "nan"
      ]
     },
     "execution_count": 36,
     "metadata": {},
     "output_type": "execute_result"
    }
   ],
   "source": [
    "df['polygon_wkt'][7]"
   ]
  },
  {
   "cell_type": "code",
   "execution_count": null,
   "metadata": {},
   "outputs": [],
   "source": []
  }
 ],
 "metadata": {
  "kernelspec": {
   "display_name": "Python 3.9.15 ('base')",
   "language": "python",
   "name": "python3"
  },
  "language_info": {
   "codemirror_mode": {
    "name": "ipython",
    "version": 3
   },
   "file_extension": ".py",
   "mimetype": "text/x-python",
   "name": "python",
   "nbconvert_exporter": "python",
   "pygments_lexer": "ipython3",
   "version": "3.9.15"
  },
  "orig_nbformat": 4,
  "vscode": {
   "interpreter": {
    "hash": "89a711df21b79e0881e4e85370e41e20fee60c0025d1889026abc2b6b2d458bb"
   }
  }
 },
 "nbformat": 4,
 "nbformat_minor": 2
}
