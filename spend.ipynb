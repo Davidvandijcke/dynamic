{
 "cells": [
  {
   "cell_type": "code",
   "execution_count": 1,
   "id": "23fbd369-62f3-4971-ad17-0ec504ba4b91",
   "metadata": {
    "execution": {
     "iopub.execute_input": "2023-03-07T02:31:27.531921Z",
     "iopub.status.busy": "2023-03-07T02:31:27.531684Z",
     "iopub.status.idle": "2023-03-07T02:32:03.384766Z",
     "shell.execute_reply": "2023-03-07T02:32:03.384154Z",
     "shell.execute_reply.started": "2023-03-07T02:31:27.531895Z"
    },
    "tags": []
   },
   "outputs": [
    {
     "data": {
      "application/vnd.jupyter.widget-view+json": {
       "model_id": "2ed5a5bb12b74ae285276e51a57ae694",
       "version_major": 2,
       "version_minor": 0
      },
      "text/plain": [
       "VBox()"
      ]
     },
     "metadata": {},
     "output_type": "display_data"
    },
    {
     "name": "stdout",
     "output_type": "stream",
     "text": [
      "Starting Spark application\n"
     ]
    },
    {
     "data": {
      "text/html": [
       "<table>\n",
       "<tbody><tr><th>ID</th><th>YARN Application ID</th><th>Kind</th><th>State</th><th>Spark UI</th><th>Driver log</th><th>Current session?</th></tr><tr><td>3</td><td>application_1678151895459_0004</td><td>pyspark</td><td>idle</td><td><a target=\"_blank\" href=\"http://ip-172-31-85-72.ec2.internal:20888/proxy/application_1678151895459_0004/\" class=\"emr-proxy-link j-31XCSTB6AY86G application_1678151895459_0004\" emr-resource=\"j-31XCSTB6AY86G\n",
       "\" application-id=\"application_1678151895459_0004\">Link</a></td><td><a target=\"_blank\" href=\"http://ip-172-31-95-231.ec2.internal:8042/node/containerlogs/container_1678151895459_0004_01_000001/livy\">Link</a></td><td>✔</td></tr></tbody></table>"
      ],
      "text/plain": [
       "<IPython.core.display.HTML object>"
      ]
     },
     "metadata": {},
     "output_type": "display_data"
    },
    {
     "data": {
      "application/vnd.jupyter.widget-view+json": {
       "model_id": "",
       "version_major": 2,
       "version_minor": 0
      },
      "text/plain": [
       "FloatProgress(value=0.0, bar_style='info', description='Progress:', layout=Layout(height='25px', width='50%'),…"
      ]
     },
     "metadata": {},
     "output_type": "display_data"
    },
    {
     "name": "stdout",
     "output_type": "stream",
     "text": [
      "SparkSession available as 'spark'.\n"
     ]
    },
    {
     "data": {
      "application/vnd.jupyter.widget-view+json": {
       "model_id": "",
       "version_major": 2,
       "version_minor": 0
      },
      "text/plain": [
       "FloatProgress(value=0.0, bar_style='info', description='Progress:', layout=Layout(height='25px', width='50%'),…"
      ]
     },
     "metadata": {},
     "output_type": "display_data"
    }
   ],
   "source": [
    "\"\"\" Filter based on h3 hexagons mapped to polygons\n",
    "\n",
    "aws emr add-steps --cluster-id <Your EMR cluster id> --steps Type=spark,Name=TestJob,Args=[--deploy-mode,cluster,--master,yarn,--conf,spark.yarn.submit.waitAppCompletion=true,s3a://your-source-bucket/code/pythonjob.py,s3a://your-source-bucket/data/data.csv,s3a://your-destination-bucket/test-output/],ActionOnFailure=CONTINUE\n",
    "\"\"\"\n",
    "\n",
    "from collections import namedtuple\n",
    "import logging\n",
    "import sys\n",
    "\n",
    "from geopy.distance import great_circle\n",
    "import pandas as pd\n",
    "import geopandas as gpd\n",
    "import os\n",
    "\n",
    "from datetime import timedelta, date, datetime\n",
    "from statistics import *\n",
    "\n",
    "from pyspark import SparkContext\n",
    "\n",
    "from pyspark.sql import SQLContext, SparkSession\n",
    "from pyspark.sql.window import Window\n",
    "from pyspark.sql.types import (\n",
    "    StructType,\n",
    "    LongType,\n",
    "    StructField,\n",
    "    IntegerType,\n",
    "    StringType,\n",
    "    DoubleType,\n",
    "    TimestampType,\n",
    "    ArrayType\n",
    ")\n",
    "from pyspark.sql.functions import (\n",
    "    from_utc_timestamp,\n",
    "    to_utc_timestamp,\n",
    "    dayofyear,\n",
    "    col,\n",
    "    unix_timestamp,\n",
    "    monotonically_increasing_id,\n",
    "    pandas_udf,\n",
    "    PandasUDFType,\n",
    "    col,\n",
    "    asc,\n",
    "    lit,\n",
    "    countDistinct,\n",
    ")\n",
    "import pyspark.sql.functions as F\n",
    "from math import *\n",
    "import time\n",
    "\n",
    "from shapely import wkt\n",
    "\n",
    "spark = SparkSession.builder.appName(f\"demographics_ev\").getOrCreate()\n",
    "spark.sparkContext.addPyFile(\"s3://ipsos-dvd/scripts/utils.py\")\n",
    "from utils import *\n",
    "import h3_pyspark as h3s\n",
    "import h3pandas \n",
    "import h3 as h3\n",
    "\n",
    "data_dir = \"s3://external-safegraph/\"\n",
    "data_dyn = \"s3://ipsos-dvd/dyn/data/\"\n",
    "data_veraset = \"s3://external-veraset-data-us-west-2/us/\"\n",
    "\n",
    "\n",
    "@udf(\"boolean\")\n",
    "def pip_filter(poly_wkt, point_x, point_y):\n",
    "    from shapely import wkt\n",
    "    from shapely import geometry\n",
    "    polygon = wkt.loads(poly_wkt)\n",
    "    point = geometry.Point(point_x, point_y)\n",
    "    return polygon.contains(point)\n",
    "\n",
    "schema = StructType([\n",
    "    StructField(\"dirty\", ArrayType(StringType()), False),\n",
    "    StructField(\"hexes\", ArrayType(StringType()), False)\n",
    "])\n",
    "\n",
    "\n",
    "def parse_dates(x):\n",
    "    if \"/\" in x:\n",
    "        start_date = datetime.strptime(x.split('/')[0], \"%Y-%m-%d\")\n",
    "        end_date = datetime.strptime(x.split('/')[1], \"%Y-%m-%d\")\n",
    "        delta = end_date - start_date\n",
    "        date_list = []\n",
    "        for i in range(delta.days + 1):\n",
    "            date = start_date + timedelta(days = i)\n",
    "            date_list.append(date.strftime(\"%Y/%m/%d\"))\n",
    "        return(date_list)\n",
    "    else: \n",
    "        return([x.replace(\"-\", \"/\")])\n"
   ]
  },
  {
   "cell_type": "markdown",
   "id": "3cbfc465-64b1-4aa1-a12f-c11e443ef701",
   "metadata": {},
   "source": [
    "## Join Places and Spend and Filter on Grocery Stores"
   ]
  },
  {
   "cell_type": "code",
   "execution_count": 12,
   "id": "f7ddf234-02a7-449b-b816-660a6a355bca",
   "metadata": {
    "execution": {
     "iopub.execute_input": "2023-03-06T14:15:54.999833Z",
     "iopub.status.busy": "2023-03-06T14:15:54.999578Z",
     "iopub.status.idle": "2023-03-06T14:16:24.360978Z",
     "shell.execute_reply": "2023-03-06T14:16:24.360506Z",
     "shell.execute_reply.started": "2023-03-06T14:15:54.999810Z"
    },
    "tags": []
   },
   "outputs": [
    {
     "data": {
      "application/vnd.jupyter.widget-view+json": {
       "model_id": "2c3841c3d95c4b2889434d5df5aa4041",
       "version_major": 2,
       "version_minor": 0
      },
      "text/plain": [
       "VBox()"
      ]
     },
     "metadata": {},
     "output_type": "display_data"
    },
    {
     "data": {
      "application/vnd.jupyter.widget-view+json": {
       "model_id": "",
       "version_major": 2,
       "version_minor": 0
      },
      "text/plain": [
       "FloatProgress(value=0.0, bar_style='info', description='Progress:', layout=Layout(height='25px', width='50%'),…"
      ]
     },
     "metadata": {},
     "output_type": "display_data"
    }
   ],
   "source": [
    "schema = StructType([\n",
    "    StructField(\"placekey\", StringType(), True),\n",
    "    StructField(\"parent_placekey\", StringType(), True),\n",
    "    StructField(\"safegraph_brand_ids\", StringType(), True),\n",
    "    StructField(\"location_name\", StringType(), True),\n",
    "    StructField(\"brands\", StringType(), True),\n",
    "    StructField(\"store_id\", StringType(), True),\n",
    "    StructField(\"top_category\", StringType(), True),\n",
    "    StructField(\"sub_category\", StringType(), True),\n",
    "    StructField(\"naics_code\", StringType(), True),\n",
    "    StructField(\"latitude\", StringType(), True),\n",
    "    StructField(\"longitude\", StringType(), True),\n",
    "    StructField(\"street_address\", StringType(), True),\n",
    "    StructField(\"city\", StringType(), True),\n",
    "    StructField(\"region\", StringType(), True),\n",
    "    StructField(\"postal_code\", StringType(), True),\n",
    "    StructField(\"open_hours\", StringType(), True),\n",
    "    StructField(\"category_tags\", StringType(), True),\n",
    "    StructField(\"opened_on\", StringType(), True),\n",
    "    StructField(\"closed_on\", StringType(), True),\n",
    "    StructField(\"tracking_closed_since\", StringType(), True),\n",
    "    StructField(\"websites\", StringType(), True),\n",
    "    StructField(\"geometry_type\", StringType(), True),\n",
    "    StructField(\"polygon_wkt\", StringType(), True),\n",
    "    StructField(\"polygon_class\", StringType(), True),\n",
    "    StructField(\"enclosed\", StringType(), True),\n",
    "    StructField(\"phone_number\", StringType(), True),\n",
    "    StructField(\"is_synthetic\", StringType(), True),\n",
    "    StructField(\"includes_parking_lot\", StringType(), True),\n",
    "    StructField(\"iso_country_code\", StringType(), True),\n",
    "    StructField(\"wkt_area_sq_meters\", StringType(), True)\n",
    "])\n",
    "\n",
    "places = (sqlContext.read.format('com.databricks.spark.csv')\n",
    "         .options(header='true', inferschema='true')\n",
    "         .option('escape','\"') # this is necessary because the fields contain \",\" as well but dont have quotes around them\n",
    "         .load(data_dir + \"places/*.gz\"))\n",
    "places = places.cache()"
   ]
  },
  {
   "cell_type": "code",
   "execution_count": 13,
   "id": "9fa56e27-e53a-4244-88fd-37f9dab9bdc2",
   "metadata": {
    "execution": {
     "iopub.execute_input": "2023-03-06T14:16:45.158829Z",
     "iopub.status.busy": "2023-03-06T14:16:45.158613Z",
     "iopub.status.idle": "2023-03-06T14:17:44.620205Z",
     "shell.execute_reply": "2023-03-06T14:17:44.619680Z",
     "shell.execute_reply.started": "2023-03-06T14:16:45.158806Z"
    }
   },
   "outputs": [
    {
     "data": {
      "application/vnd.jupyter.widget-view+json": {
       "model_id": "4ef48c004e264706ac5ac56b832358de",
       "version_major": 2,
       "version_minor": 0
      },
      "text/plain": [
       "VBox()"
      ]
     },
     "metadata": {},
     "output_type": "display_data"
    },
    {
     "data": {
      "application/vnd.jupyter.widget-view+json": {
       "model_id": "",
       "version_major": 2,
       "version_minor": 0
      },
      "text/plain": [
       "FloatProgress(value=0.0, bar_style='info', description='Progress:', layout=Layout(height='25px', width='50%'),…"
      ]
     },
     "metadata": {},
     "output_type": "display_data"
    }
   ],
   "source": [
    "schema = StructType([\n",
    "    StructField(\"placekey\", StringType(), True),\n",
    "    StructField(\"safegraph_brand_ids\", StringType(), True),\n",
    "    StructField(\"brands\", StringType(), True),\n",
    "    StructField(\"spend_date_range_start\", StringType(), True),\n",
    "    StructField(\"spend_date_range_end\", StringType(), True),\n",
    "    StructField(\"raw_total_spend\", StringType(), True),\n",
    "    StructField(\"raw_num_transactions\", StringType(), True),\n",
    "    StructField(\"raw_num_customers\", StringType(), True),\n",
    "    StructField(\"median_spend_per_transaction\", StringType(), True),\n",
    "    StructField(\"median_spend_per_customer\", StringType(), True),\n",
    "    StructField(\"spend_per_transaction_percentiles\", StringType(), True),\n",
    "    StructField(\"spend_by_day\", StringType(), True),\n",
    "    StructField(\"spend_per_transaction_by_day\", StringType(), True),\n",
    "    StructField(\"spend_by_day_of_week\", StringType(), True),\n",
    "    StructField(\"day_counts\", StringType(), True),\n",
    "    StructField(\"spend_pct_change_vs_prev_month\", StringType(), True),\n",
    "    StructField(\"spend_pct_change_vs_prev_year\", StringType(), True),\n",
    "    StructField(\"online_transactions\", StringType(), True),\n",
    "    StructField(\"online_spend\", StringType(), True),\n",
    "    StructField(\"transaction_intermediary\", StringType(), True),\n",
    "    StructField(\"spend_by_transaction_intermediary\", StringType(), True),\n",
    "    StructField(\"bucketed_customer_frequency\", StringType(), True),\n",
    "    StructField(\"mean_spend_per_customer_by_frequency\", StringType(), True),\n",
    "    StructField(\"bucketed_customer_incomes\", StringType(), True),\n",
    "    StructField(\"mean_spend_per_customer_by_income\", StringType(), True),\n",
    "    StructField(\"customer_home_city\", StringType(), True),\n",
    "    StructField(\"related_cross_shopping_physical_brands_pct\", StringType(), True),\n",
    "    StructField(\"related_cross_shopping_online_merchants_pct\", StringType(), True),\n",
    "    StructField(\"related_cross_shopping_same_category_brands_pct\", StringType(), True),\n",
    "    StructField(\"related_cross_shopping_local_brands_pct\", StringType(), True),\n",
    "    StructField(\"related_wireless_carrier_pct\", StringType(), True),\n",
    "    StructField(\"related_streaming_cable_pct\", StringType(), True),\n",
    "    StructField(\"related_delivery_service_pct\", StringType(), True),\n",
    "    StructField(\"related_rideshare_service_pct\", StringType(), True),\n",
    "    StructField(\"related_buynowpaylater_service_pct\", StringType(), True),\n",
    "    StructField(\"related_payment_platform_pct\", StringType(), True)\n",
    "])\n",
    "spend = (sqlContext.read.format('com.databricks.spark.csv')\n",
    "         .options(header='true', inferschema='true')\n",
    "         .option('escape','\"') # this is necessary because the fields contain \",\" as well but dont have quotes around them\n",
    "         .load(data_dir + \"spend/*.gz\"))\n",
    "spend = spend.cache()"
   ]
  },
  {
   "cell_type": "code",
   "execution_count": 14,
   "id": "58364104-a066-4e71-8b5e-587112606d3b",
   "metadata": {
    "execution": {
     "iopub.execute_input": "2023-03-06T14:18:05.500377Z",
     "iopub.status.busy": "2023-03-06T14:18:05.500153Z",
     "iopub.status.idle": "2023-03-06T14:18:05.546499Z",
     "shell.execute_reply": "2023-03-06T14:18:05.545848Z",
     "shell.execute_reply.started": "2023-03-06T14:18:05.500354Z"
    },
    "tags": []
   },
   "outputs": [
    {
     "data": {
      "application/vnd.jupyter.widget-view+json": {
       "model_id": "ffe4edffd539427cabbde4e07a2e6a50",
       "version_major": 2,
       "version_minor": 0
      },
      "text/plain": [
       "VBox()"
      ]
     },
     "metadata": {},
     "output_type": "display_data"
    },
    {
     "data": {
      "application/vnd.jupyter.widget-view+json": {
       "model_id": "",
       "version_major": 2,
       "version_minor": 0
      },
      "text/plain": [
       "FloatProgress(value=0.0, bar_style='info', description='Progress:', layout=Layout(height='25px', width='50%'),…"
      ]
     },
     "metadata": {},
     "output_type": "display_data"
    }
   ],
   "source": [
    "colskeep = [x for x in places.columns if x not in spend.columns or x == \"placekey\"]\n",
    "places = places.select(colskeep)"
   ]
  },
  {
   "cell_type": "code",
   "execution_count": 17,
   "id": "d5247a63-3f22-4fdd-b5bc-f91e57361350",
   "metadata": {
    "execution": {
     "iopub.execute_input": "2023-03-06T14:18:40.722132Z",
     "iopub.status.busy": "2023-03-06T14:18:40.721909Z",
     "iopub.status.idle": "2023-03-06T14:18:40.972758Z",
     "shell.execute_reply": "2023-03-06T14:18:40.972269Z",
     "shell.execute_reply.started": "2023-03-06T14:18:40.722108Z"
    },
    "tags": []
   },
   "outputs": [
    {
     "data": {
      "application/vnd.jupyter.widget-view+json": {
       "model_id": "1b4acb2c1f8e4608a541db959f2cb6a2",
       "version_major": 2,
       "version_minor": 0
      },
      "text/plain": [
       "VBox()"
      ]
     },
     "metadata": {},
     "output_type": "display_data"
    },
    {
     "data": {
      "application/vnd.jupyter.widget-view+json": {
       "model_id": "",
       "version_major": 2,
       "version_minor": 0
      },
      "text/plain": [
       "FloatProgress(value=0.0, bar_style='info', description='Progress:', layout=Layout(height='25px', width='50%'),…"
      ]
     },
     "metadata": {},
     "output_type": "display_data"
    }
   ],
   "source": [
    "spend = spend.join(places, on = \"placekey\", how = \"left\")"
   ]
  },
  {
   "cell_type": "code",
   "execution_count": 23,
   "id": "3b3a6007-c4e9-4b3b-96fe-4de0f31c6ff1",
   "metadata": {
    "execution": {
     "iopub.execute_input": "2023-03-06T14:24:20.685509Z",
     "iopub.status.busy": "2023-03-06T14:24:20.685292Z",
     "iopub.status.idle": "2023-03-06T14:24:20.935954Z",
     "shell.execute_reply": "2023-03-06T14:24:20.935454Z",
     "shell.execute_reply.started": "2023-03-06T14:24:20.685486Z"
    }
   },
   "outputs": [
    {
     "data": {
      "application/vnd.jupyter.widget-view+json": {
       "model_id": "3a79391ac6d14f07bd54f2f79d5d64f5",
       "version_major": 2,
       "version_minor": 0
      },
      "text/plain": [
       "VBox()"
      ]
     },
     "metadata": {},
     "output_type": "display_data"
    },
    {
     "data": {
      "application/vnd.jupyter.widget-view+json": {
       "model_id": "",
       "version_major": 2,
       "version_minor": 0
      },
      "text/plain": [
       "FloatProgress(value=0.0, bar_style='info', description='Progress:', layout=Layout(height='25px', width='50%'),…"
      ]
     },
     "metadata": {},
     "output_type": "display_data"
    }
   ],
   "source": [
    "# filter on grocery stores\n",
    "category_list =  [\"Grocery Stores\", 'Grocery and Related Product Merchant Wholesalers', \n",
    "              \"General Merchandise Stores, including Warehouse Clubs and Supercenters\", \n",
    "              ]\n",
    "\n",
    "spend = spend.filter(F.col(\"top_category\").isin(category_list))"
   ]
  },
  {
   "cell_type": "code",
   "execution_count": 28,
   "id": "a43e66dc-c807-416e-92b1-ffc796a88df8",
   "metadata": {
    "execution": {
     "iopub.execute_input": "2023-03-06T14:25:44.396392Z",
     "iopub.status.busy": "2023-03-06T14:25:44.396160Z",
     "iopub.status.idle": "2023-03-06T14:25:53.682360Z",
     "shell.execute_reply": "2023-03-06T14:25:53.681797Z",
     "shell.execute_reply.started": "2023-03-06T14:25:44.396368Z"
    },
    "tags": []
   },
   "outputs": [
    {
     "data": {
      "application/vnd.jupyter.widget-view+json": {
       "model_id": "5cff1dab9c334264ad3ce684c8ad94d0",
       "version_major": 2,
       "version_minor": 0
      },
      "text/plain": [
       "VBox()"
      ]
     },
     "metadata": {},
     "output_type": "display_data"
    },
    {
     "data": {
      "application/vnd.jupyter.widget-view+json": {
       "model_id": "",
       "version_major": 2,
       "version_minor": 0
      },
      "text/plain": [
       "FloatProgress(value=0.0, bar_style='info', description='Progress:', layout=Layout(height='25px', width='50%'),…"
      ]
     },
     "metadata": {},
     "output_type": "display_data"
    }
   ],
   "source": [
    "spend.write.mode(\"overwrite\").parquet(os.path.join(data_dyn, \"spend_places\"))"
   ]
  },
  {
   "cell_type": "markdown",
   "id": "12b21667-d50e-48d8-8ddc-f8fd6b2e4f22",
   "metadata": {},
   "source": [
    "## Find Veraset devices visiting shops"
   ]
  },
  {
   "cell_type": "code",
   "execution_count": 2,
   "id": "f119aae6-626d-46bd-acc9-382b8757c2f8",
   "metadata": {
    "execution": {
     "iopub.execute_input": "2023-03-07T02:32:03.385888Z",
     "iopub.status.busy": "2023-03-07T02:32:03.385712Z",
     "iopub.status.idle": "2023-03-07T02:32:03.435231Z",
     "shell.execute_reply": "2023-03-07T02:32:03.434763Z",
     "shell.execute_reply.started": "2023-03-07T02:32:03.385866Z"
    },
    "tags": []
   },
   "outputs": [
    {
     "data": {
      "application/vnd.jupyter.widget-view+json": {
       "model_id": "106bfd92a356491884ac85e3a01d131a",
       "version_major": 2,
       "version_minor": 0
      },
      "text/plain": [
       "VBox()"
      ]
     },
     "metadata": {},
     "output_type": "display_data"
    },
    {
     "data": {
      "application/vnd.jupyter.widget-view+json": {
       "model_id": "",
       "version_major": 2,
       "version_minor": 0
      },
      "text/plain": [
       "FloatProgress(value=0.0, bar_style='info', description='Progress:', layout=Layout(height='25px', width='50%'),…"
      ]
     },
     "metadata": {},
     "output_type": "display_data"
    }
   ],
   "source": [
    "resolution = 11"
   ]
  },
  {
   "cell_type": "code",
   "execution_count": 4,
   "id": "b353fe12-1c8c-489f-831b-30be7d1004a4",
   "metadata": {
    "execution": {
     "iopub.execute_input": "2023-03-06T21:21:37.668502Z",
     "iopub.status.busy": "2023-03-06T21:21:37.668273Z",
     "iopub.status.idle": "2023-03-06T21:21:40.947829Z",
     "shell.execute_reply": "2023-03-06T21:21:40.947347Z",
     "shell.execute_reply.started": "2023-03-06T21:21:37.668481Z"
    },
    "tags": []
   },
   "outputs": [
    {
     "data": {
      "application/vnd.jupyter.widget-view+json": {
       "model_id": "a21c5b79769d4ce9b936514821b3e50d",
       "version_major": 2,
       "version_minor": 0
      },
      "text/plain": [
       "VBox()"
      ]
     },
     "metadata": {},
     "output_type": "display_data"
    },
    {
     "data": {
      "application/vnd.jupyter.widget-view+json": {
       "model_id": "",
       "version_major": 2,
       "version_minor": 0
      },
      "text/plain": [
       "FloatProgress(value=0.0, bar_style='info', description='Progress:', layout=Layout(height='25px', width='50%'),…"
      ]
     },
     "metadata": {},
     "output_type": "display_data"
    }
   ],
   "source": [
    "spend = spark.read.parquet(os.path.join(data_dyn, \"spend_places\"))"
   ]
  },
  {
   "cell_type": "code",
   "execution_count": 5,
   "id": "e5ca0eec-a096-4642-8616-cae5231eea63",
   "metadata": {
    "execution": {
     "iopub.execute_input": "2023-03-06T21:21:40.948744Z",
     "iopub.status.busy": "2023-03-06T21:21:40.948571Z",
     "iopub.status.idle": "2023-03-06T21:21:41.194270Z",
     "shell.execute_reply": "2023-03-06T21:21:41.193765Z",
     "shell.execute_reply.started": "2023-03-06T21:21:40.948723Z"
    },
    "tags": []
   },
   "outputs": [
    {
     "data": {
      "application/vnd.jupyter.widget-view+json": {
       "model_id": "21a75c3e720d421593618699ab6f0a5b",
       "version_major": 2,
       "version_minor": 0
      },
      "text/plain": [
       "VBox()"
      ]
     },
     "metadata": {},
     "output_type": "display_data"
    },
    {
     "data": {
      "application/vnd.jupyter.widget-view+json": {
       "model_id": "",
       "version_major": 2,
       "version_minor": 0
      },
      "text/plain": [
       "FloatProgress(value=0.0, bar_style='info', description='Progress:', layout=Layout(height='25px', width='50%'),…"
      ]
     },
     "metadata": {},
     "output_type": "display_data"
    }
   ],
   "source": [
    "polys = spend.select(\"placekey\", \"polygon_wkt\").dropDuplicates([\"polygon_wkt\"])"
   ]
  },
  {
   "cell_type": "code",
   "execution_count": 7,
   "id": "669152e2-3ee3-40c7-baf1-44ad4064d15b",
   "metadata": {
    "execution": {
     "iopub.execute_input": "2023-03-06T21:21:48.607402Z",
     "iopub.status.busy": "2023-03-06T21:21:48.607245Z",
     "iopub.status.idle": "2023-03-06T21:21:48.648330Z",
     "shell.execute_reply": "2023-03-06T21:21:48.647874Z",
     "shell.execute_reply.started": "2023-03-06T21:21:48.607382Z"
    },
    "tags": []
   },
   "outputs": [
    {
     "data": {
      "application/vnd.jupyter.widget-view+json": {
       "model_id": "24de560879014bdabff0571f519e0d22",
       "version_major": 2,
       "version_minor": 0
      },
      "text/plain": [
       "VBox()"
      ]
     },
     "metadata": {},
     "output_type": "display_data"
    },
    {
     "data": {
      "application/vnd.jupyter.widget-view+json": {
       "model_id": "",
       "version_major": 2,
       "version_minor": 0
      },
      "text/plain": [
       "FloatProgress(value=0.0, bar_style='info', description='Progress:', layout=Layout(height='25px', width='50%'),…"
      ]
     },
     "metadata": {},
     "output_type": "display_data"
    },
    {
     "name": "stdout",
     "output_type": "stream",
     "text": [
      "'8c283470d921dff'"
     ]
    }
   ],
   "source": [
    "test = h3.geo_to_h3(37.3615593, -122.0553238, 12)\n",
    "test"
   ]
  },
  {
   "cell_type": "code",
   "execution_count": 8,
   "id": "7f5ac7ee-f603-41ff-b4cf-9c6668c6461e",
   "metadata": {
    "execution": {
     "iopub.execute_input": "2023-03-06T21:21:48.649634Z",
     "iopub.status.busy": "2023-03-06T21:21:48.649475Z",
     "iopub.status.idle": "2023-03-06T21:21:51.919875Z",
     "shell.execute_reply": "2023-03-06T21:21:51.919391Z",
     "shell.execute_reply.started": "2023-03-06T21:21:48.649614Z"
    },
    "tags": []
   },
   "outputs": [
    {
     "data": {
      "application/vnd.jupyter.widget-view+json": {
       "model_id": "afef1d3f8b2e43e38bb976ec4a550036",
       "version_major": 2,
       "version_minor": 0
      },
      "text/plain": [
       "VBox()"
      ]
     },
     "metadata": {},
     "output_type": "display_data"
    },
    {
     "data": {
      "application/vnd.jupyter.widget-view+json": {
       "model_id": "",
       "version_major": 2,
       "version_minor": 0
      },
      "text/plain": [
       "FloatProgress(value=0.0, bar_style='info', description='Progress:', layout=Layout(height='25px', width='50%'),…"
      ]
     },
     "metadata": {},
     "output_type": "display_data"
    },
    {
     "name": "stdout",
     "output_type": "stream",
     "text": [
      "+-------------------+--------------------+\n",
      "|           placekey|         polygon_wkt|\n",
      "+-------------------+--------------------+\n",
      "|223-223@5vg-3sp-w49|POLYGON ((-122.00...|\n",
      "|222-222@63v-6px-2x5|POLYGON ((-81.839...|\n",
      "|223-226@63g-5td-d35|POLYGON ((-80.034...|\n",
      "|zzw-225@5pr-2zg-hdv|POLYGON ((-94.441...|\n",
      "|226-222@5xd-qfh-z9f|POLYGON ((-122.99...|\n",
      "|225-222@5py-swz-bc5|POLYGON ((-87.161...|\n",
      "|zzw-222@8g8-3xy-5fz|POLYGON ((-84.684...|\n",
      "|225-222@63s-9vc-k75|POLYGON ((-76.586...|\n",
      "|222-222@63t-rpf-w8v|POLYGON ((-80.360...|\n",
      "|zzw-222@62k-f4f-6rk|POLYGON ((-71.705...|\n",
      "|zzw-222@5st-562-g49|POLYGON ((-103.81...|\n",
      "|222-223@5q9-bqt-8jv|POLYGON ((-104.99...|\n",
      "|222-226@63g-46t-435|POLYGON ((-80.087...|\n",
      "|222-222@5qz-n2g-b8v|POLYGON ((-100.80...|\n",
      "|222-223@8fz-5j5-f2k|POLYGON ((-80.235...|\n",
      "|zzy-222@5py-882-8sq|POLYGON ((-85.710...|\n",
      "|zzw-224@5px-7dy-p35|POLYGON ((-85.686...|\n",
      "|229-222@5z8-p2f-dsq|POLYGON ((-119.02...|\n",
      "|223-225@5z5-wkf-vcq|POLYGON ((-117.08...|\n",
      "|zzy-222@8gg-sy3-xdv|POLYGON ((-82.257...|\n",
      "+-------------------+--------------------+\n",
      "only showing top 20 rows"
     ]
    }
   ],
   "source": [
    "# Add a new salt column with random values between 0 and 100\n",
    "polys = polys.withColumn(\"salt\", (F.rand() * 1000000).cast(\"integer\"))\n",
    "\n",
    "# Repartition the dataframe using the salt column and the desired number of partitions\n",
    "num_partitions = 10000\n",
    "polys = polys.repartition(num_partitions, \"salt\")\n",
    "\n",
    "# Drop the salt column from the dataframe\n",
    "polys = polys.drop(\"salt\")\n",
    "polys = polys.cache()\n",
    "polys.show()"
   ]
  },
  {
   "cell_type": "code",
   "execution_count": 8,
   "id": "857b122b-823c-43fd-b343-6690e00bb55b",
   "metadata": {
    "execution": {
     "iopub.execute_input": "2023-03-06T20:00:20.008318Z",
     "iopub.status.busy": "2023-03-06T20:00:20.008090Z",
     "iopub.status.idle": "2023-03-06T20:00:20.255916Z",
     "shell.execute_reply": "2023-03-06T20:00:20.255402Z",
     "shell.execute_reply.started": "2023-03-06T20:00:20.008293Z"
    }
   },
   "outputs": [
    {
     "data": {
      "application/vnd.jupyter.widget-view+json": {
       "model_id": "15f159d5847b47d59a6df8ac5051f2ef",
       "version_major": 2,
       "version_minor": 0
      },
      "text/plain": [
       "VBox()"
      ]
     },
     "metadata": {},
     "output_type": "display_data"
    },
    {
     "data": {
      "application/vnd.jupyter.widget-view+json": {
       "model_id": "",
       "version_major": 2,
       "version_minor": 0
      },
      "text/plain": [
       "FloatProgress(value=0.0, bar_style='info', description='Progress:', layout=Layout(height='25px', width='50%'),…"
      ]
     },
     "metadata": {},
     "output_type": "display_data"
    },
    {
     "name": "stdout",
     "output_type": "stream",
     "text": [
      "1000"
     ]
    }
   ],
   "source": [
    "polys.rdd.getNumPartitions()"
   ]
  },
  {
   "cell_type": "code",
   "execution_count": 5,
   "id": "57c5f4f4-d160-4f2a-9c67-ef18e3679636",
   "metadata": {
    "execution": {
     "iopub.execute_input": "2023-03-06T20:18:51.537734Z",
     "iopub.status.busy": "2023-03-06T20:18:51.537511Z",
     "iopub.status.idle": "2023-03-06T20:19:08.998122Z",
     "shell.execute_reply": "2023-03-06T20:19:08.997629Z",
     "shell.execute_reply.started": "2023-03-06T20:18:51.537712Z"
    },
    "tags": []
   },
   "outputs": [
    {
     "data": {
      "application/vnd.jupyter.widget-view+json": {
       "model_id": "9cf71e2b24dc4c1aad534e79eefb9ffb",
       "version_major": 2,
       "version_minor": 0
      },
      "text/plain": [
       "VBox()"
      ]
     },
     "metadata": {},
     "output_type": "display_data"
    },
    {
     "data": {
      "application/vnd.jupyter.widget-view+json": {
       "model_id": "",
       "version_major": 2,
       "version_minor": 0
      },
      "text/plain": [
       "FloatProgress(value=0.0, bar_style='info', description='Progress:', layout=Layout(height='25px', width='50%'),…"
      ]
     },
     "metadata": {},
     "output_type": "display_data"
    },
    {
     "name": "stdout",
     "output_type": "stream",
     "text": [
      "122333"
     ]
    }
   ],
   "source": [
    "polys.count()"
   ]
  },
  {
   "cell_type": "code",
   "execution_count": 3,
   "id": "e8b5c6c8-e77d-49e8-936f-02c5735ea054",
   "metadata": {
    "execution": {
     "iopub.execute_input": "2023-03-07T02:32:03.436431Z",
     "iopub.status.busy": "2023-03-07T02:32:03.436259Z",
     "iopub.status.idle": "2023-03-07T02:32:32.794955Z",
     "shell.execute_reply": "2023-03-07T02:32:32.794451Z",
     "shell.execute_reply.started": "2023-03-07T02:32:03.436410Z"
    },
    "tags": []
   },
   "outputs": [
    {
     "data": {
      "application/vnd.jupyter.widget-view+json": {
       "model_id": "ea368c86aca84968bc067a7010140277",
       "version_major": 2,
       "version_minor": 0
      },
      "text/plain": [
       "VBox()"
      ]
     },
     "metadata": {},
     "output_type": "display_data"
    },
    {
     "data": {
      "application/vnd.jupyter.widget-view+json": {
       "model_id": "",
       "version_major": 2,
       "version_minor": 0
      },
      "text/plain": [
       "FloatProgress(value=0.0, bar_style='info', description='Progress:', layout=Layout(height='25px', width='50%'),…"
      ]
     },
     "metadata": {},
     "output_type": "display_data"
    }
   ],
   "source": [
    "# get h3 hexes for store polygons\n",
    "\n",
    "redo_h3 = False\n",
    "\n",
    "if redo_h3:\n",
    "    def getAllHexes(polygon, resolution):\n",
    "        import h3pandas\n",
    "        import h3 as h3\n",
    "#         #import pyspark.sql.functions as F\n",
    "        from shapely import wkt\n",
    "        #resolution = 7\n",
    "\n",
    "        polygon = wkt.loads(polygon)\n",
    "\n",
    "        centers = gpd.GeoDataFrame(geometry = gpd.GeoSeries(polygon), crs = 'epsg:4326').h3.polyfill_resample(resolution)\n",
    "\n",
    "        if not centers.empty:\n",
    "            centers['dirty'] = list(~centers.apply(lambda x: polygon.contains(x['geometry']), axis = 1))\n",
    "            queue = list(centers[centers.dirty == True].index)\n",
    "            dirty = list(centers.dirty)\n",
    "            hexes = list(centers.index)\n",
    "        else: # not all cbgs have a hexagon's center contained in them, in that case get the hex covering their centroid\n",
    "            #return [[\"\"], [\"\"]]\n",
    "            hexes = [h3.geo_to_h3(polygon.centroid.x,polygon.centroid.y, resolution)]\n",
    "            queue = hexes.copy()\n",
    "            dirty = [True]\n",
    "        while queue:\n",
    "            idx = queue.pop()\n",
    "            for neighbor in h3.k_ring(idx, 1):\n",
    "                if not neighbor in hexes:\n",
    "                    if polygon.intersects(Polygon(h3.h3_to_geo_boundary(neighbor, geo_json = True))):\n",
    "                        dirty.append(True)\n",
    "                        hexes.append(neighbor)\n",
    "                        queue.append(neighbor)\n",
    "        return [dirty, hexes]\n",
    "\n",
    "    schema = StructType([\n",
    "        StructField(\"dirty\", ArrayType(StringType()), False),\n",
    "        StructField(\"hexes\", ArrayType(StringType()), False)\n",
    "    ])\n",
    "    getAllHexes_udf = F.udf(getAllHexes,schema)  \n",
    "\n",
    "    polys = polys.withColumn(\"resolution\", lit(resolution).cast(IntegerType())).withColumn('new', getAllHexes_udf('polygon_wkt', 'resolution')).cache().drop(\"resolution\")\n",
    "\n",
    "    polys = (polys.withColumn('new', F.explode(F.arrays_zip(F.col('new.dirty').alias('dirty'), F.col('new.hexes').alias('h3'))))\n",
    "               .withColumn('dirty', F.col('new.dirty')).withColumn('h3', F.col('new.hexes')).drop('new', 'index', 'geometry')\n",
    "    )\n",
    "    polys.write.option(\"header\",\"true\").mode(\"overwrite\").parquet(data_dyn + \"poly_h3\")\n",
    "\n",
    "else:\n",
    "    polys = spark.read.parquet(data_dyn + \"poly_h3\")\n",
    "\n",
    "\n",
    "polys = polys.withColumn(\"dirty\", col(\"dirty\") == \"true\").select(\"polygon_wkt\", \"placekey\", \"dirty\", \"h3\")\n",
    "\n"
   ]
  },
  {
   "cell_type": "code",
   "execution_count": 4,
   "id": "ef69befe-3274-4613-9c2b-21d54f0972bc",
   "metadata": {
    "execution": {
     "iopub.execute_input": "2023-03-07T02:32:32.796084Z",
     "iopub.status.busy": "2023-03-07T02:32:32.795892Z",
     "iopub.status.idle": "2023-03-07T02:32:32.837452Z",
     "shell.execute_reply": "2023-03-07T02:32:32.836956Z",
     "shell.execute_reply.started": "2023-03-07T02:32:32.796062Z"
    },
    "tags": []
   },
   "outputs": [
    {
     "data": {
      "application/vnd.jupyter.widget-view+json": {
       "model_id": "8dd0931123704273aae22c6efcd2f371",
       "version_major": 2,
       "version_minor": 0
      },
      "text/plain": [
       "VBox()"
      ]
     },
     "metadata": {},
     "output_type": "display_data"
    },
    {
     "data": {
      "application/vnd.jupyter.widget-view+json": {
       "model_id": "",
       "version_major": 2,
       "version_minor": 0
      },
      "text/plain": [
       "FloatProgress(value=0.0, bar_style='info', description='Progress:', layout=Layout(height='25px', width='50%'),…"
      ]
     },
     "metadata": {},
     "output_type": "display_data"
    }
   ],
   "source": [
    "# set up date ranges in path form\n",
    "datelist = []\n",
    "\n",
    "dates = [\"2022-06-02\" + \"/\" + \"2022-06-30\", \"2022-09-01\" + \"/\" + \"2022-09-30\"]\n",
    "\n",
    "for arg in dates:\n",
    "    temp = parse_dates(arg)\n",
    "    datelist.extend(temp)\n",
    "\n"
   ]
  },
  {
   "cell_type": "code",
   "execution_count": null,
   "id": "72a22b5b-af97-4d10-8b24-2ac8f30b8b79",
   "metadata": {
    "execution": {
     "iopub.execute_input": "2023-03-07T02:33:06.371267Z",
     "iopub.status.busy": "2023-03-07T02:33:06.371048Z"
    },
    "tags": []
   },
   "outputs": [
    {
     "data": {
      "application/vnd.jupyter.widget-view+json": {
       "model_id": "e915fa96fbac4a0f97def6129a30941f",
       "version_major": 2,
       "version_minor": 0
      },
      "text/plain": [
       "VBox()"
      ]
     },
     "metadata": {},
     "output_type": "display_data"
    },
    {
     "data": {
      "application/vnd.jupyter.widget-view+json": {
       "model_id": "69aed55979824071945e720ebf82079b",
       "version_major": 2,
       "version_minor": 0
      },
      "text/plain": [
       "FloatProgress(value=0.0, bar_style='info', description='Progress:', layout=Layout(height='25px', width='50%'),…"
      ]
     },
     "metadata": {},
     "output_type": "display_data"
    }
   ],
   "source": [
    "polys = polys.cache()\n",
    "\n",
    "count = 0\n",
    "for date in datelist:\n",
    "    \n",
    "    print(date)\n",
    "\n",
    "    path = data_veraset + date\n",
    "    start_date = end_date = \"-\".join(date.split(\"/\"))\n",
    "\n",
    "    essential_fields = [\n",
    "            StructField(\"utc_timestamp\",LongType(),False),\n",
    "            StructField(\"caid\",StringType(),False),\n",
    "            StructField(\"latitude\",DoubleType(),False),\n",
    "            StructField(\"longitude\",DoubleType(),False),\n",
    "            StructField(\"altitude\",DoubleType(),False),\n",
    "    ]\n",
    "    raw_schema = StructType(\n",
    "        essential_fields + [\n",
    "            StructField(\"id_type\",StringType(),False),\n",
    "            StructField(\"geo_hash\",StringType(),False),\n",
    "            StructField(\"horizontal_accuracy\",DoubleType(),False),\n",
    "            StructField(\"ip_address\",StringType(),False),\n",
    "            #StructField(\"altitude\",DoubleType(),False),\n",
    "            StructField(\"iso_country_code\",StringType(),False)]\n",
    "    )\n",
    "    pings = spark.read.schema(raw_schema).parquet(path).select(\"latitude\", \"longitude\", \"caid\")\n",
    "    \n",
    "    pings = (pings.withColumn('resolution', lit(resolution)).withColumn('h3', h3s.geo_to_h3('latitude', 'longitude', \"resolution\"))\n",
    "                                    .drop('resolution')\n",
    "                .join(polys, \n",
    "                      on = \"h3\", how = \"inner\") \n",
    "                .where((~F.col(\"dirty\")) | (pip_filter(\"polygon_wkt\", \"longitude\", \"latitude\")))\n",
    "                .select(\"caid\").dropDuplicates([\"caid\"])\n",
    "                .withColumn(\"start_date\", lit(start_date))\n",
    "       )\n",
    "\n",
    "    \n",
    "\n",
    "    pings.write.mode(\"overwrite\").parquet(os.path.join(data_dyn, \"caids_shops/\" + start_date))\n",
    "    \n",
    "    pings.unpersist()\n",
    "    \n",
    "    "
   ]
  },
  {
   "cell_type": "code",
   "execution_count": 2,
   "id": "fe5cd049-ad09-4ce5-b097-b488935ff983",
   "metadata": {
    "execution": {
     "iopub.execute_input": "2023-03-07T02:08:34.895960Z",
     "iopub.status.busy": "2023-03-07T02:08:34.895737Z",
     "iopub.status.idle": "2023-03-07T02:08:40.176515Z",
     "shell.execute_reply": "2023-03-07T02:08:40.176036Z",
     "shell.execute_reply.started": "2023-03-07T02:08:34.895935Z"
    }
   },
   "outputs": [
    {
     "data": {
      "application/vnd.jupyter.widget-view+json": {
       "model_id": "025d41c3ebb746acbfcfa69aeb023ae8",
       "version_major": 2,
       "version_minor": 0
      },
      "text/plain": [
       "VBox()"
      ]
     },
     "metadata": {},
     "output_type": "display_data"
    },
    {
     "data": {
      "application/vnd.jupyter.widget-view+json": {
       "model_id": "",
       "version_major": 2,
       "version_minor": 0
      },
      "text/plain": [
       "FloatProgress(value=0.0, bar_style='info', description='Progress:', layout=Layout(height='25px', width='50%'),…"
      ]
     },
     "metadata": {},
     "output_type": "display_data"
    }
   ],
   "source": [
    "test = spark.read.parquet(\"s3://ipsos-dvd/dyn/data/caids_shops/2022-06-01/\")"
   ]
  },
  {
   "cell_type": "code",
   "execution_count": 3,
   "id": "675e85ca-e871-40f8-85f3-7d7826c96fec",
   "metadata": {
    "execution": {
     "iopub.execute_input": "2023-03-07T02:08:40.343951Z",
     "iopub.status.busy": "2023-03-07T02:08:40.343742Z",
     "iopub.status.idle": "2023-03-07T02:08:43.758815Z",
     "shell.execute_reply": "2023-03-07T02:08:43.758354Z",
     "shell.execute_reply.started": "2023-03-07T02:08:40.343928Z"
    }
   },
   "outputs": [
    {
     "data": {
      "application/vnd.jupyter.widget-view+json": {
       "model_id": "707d29eb6d1c4e12a41460d8f05423d5",
       "version_major": 2,
       "version_minor": 0
      },
      "text/plain": [
       "VBox()"
      ]
     },
     "metadata": {},
     "output_type": "display_data"
    },
    {
     "data": {
      "application/vnd.jupyter.widget-view+json": {
       "model_id": "",
       "version_major": 2,
       "version_minor": 0
      },
      "text/plain": [
       "FloatProgress(value=0.0, bar_style='info', description='Progress:', layout=Layout(height='25px', width='50%'),…"
      ]
     },
     "metadata": {},
     "output_type": "display_data"
    },
    {
     "name": "stdout",
     "output_type": "stream",
     "text": [
      "+----+----------+\n",
      "|caid|start_date|\n",
      "+----+----------+\n",
      "+----+----------+"
     ]
    }
   ],
   "source": [
    "test.show()"
   ]
  },
  {
   "cell_type": "code",
   "execution_count": null,
   "id": "3cd77baa-e80f-4da3-bc11-803839909fa1",
   "metadata": {},
   "outputs": [],
   "source": []
  }
 ],
 "metadata": {
  "kernelspec": {
   "display_name": "base",
   "language": "python",
   "name": "python3"
  },
  "language_info": {
   "codemirror_mode": {
    "name": "python",
    "version": 3
   },
   "mimetype": "text/x-python",
   "name": "python",
   "pygments_lexer": "python3",
   "version": "3.9.16"
  }
 },
 "nbformat": 4,
 "nbformat_minor": 5
}
