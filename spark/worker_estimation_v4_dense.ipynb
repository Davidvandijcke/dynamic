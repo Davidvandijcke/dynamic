{
 "cells": [
  {
   "cell_type": "code",
   "execution_count": 54,
   "metadata": {
    "execution": {
     "iopub.execute_input": "2024-03-22T04:44:13.499244Z",
     "iopub.status.busy": "2024-03-22T04:44:13.498940Z",
     "iopub.status.idle": "2024-03-22T04:44:16.758297Z",
     "shell.execute_reply": "2024-03-22T04:44:16.757695Z",
     "shell.execute_reply.started": "2024-03-22T04:44:13.499220Z"
    },
    "tags": []
   },
   "outputs": [
    {
     "data": {
      "application/vnd.jupyter.widget-view+json": {
       "model_id": "dbd3356d6be84aaeb79ce695ae48ff2a",
       "version_major": 2,
       "version_minor": 0
      },
      "text/plain": [
       "VBox()"
      ]
     },
     "metadata": {},
     "output_type": "display_data"
    },
    {
     "data": {
      "application/vnd.jupyter.widget-view+json": {
       "model_id": "",
       "version_major": 2,
       "version_minor": 0
      },
      "text/plain": [
       "FloatProgress(value=0.0, bar_style='info', description='Progress:', layout=Layout(height='25px', width='50%'),…"
      ]
     },
     "metadata": {},
     "output_type": "display_data"
    }
   ],
   "source": [
    "\"\"\" Filter based on h3 hexagons mapped to polygons\n",
    "\n",
    "aws emr add-steps --cluster-id <Your EMR cluster id> --steps Type=spark,Name=TestJob,Args=[--deploy-mode,cluster,--master,yarn,--conf,spark.yarn.submit.waitAppCompletion=true,s3a://your-source-bucket/code/pythonjob.py,s3a://your-source-bucket/data/data.csv,s3a://your-destination-bucket/test-output/],ActionOnFailure=CONTINUE\n",
    "\"\"\"\n",
    "\n",
    "from collections import namedtuple\n",
    "import logging\n",
    "import sys\n",
    "\n",
    "from sedona.register import SedonaRegistrator  \n",
    "from sedona.utils import SedonaKryoRegistrator, KryoSerializer\n",
    "from pyspark.sql.functions import udf\n",
    "from sedona.utils.adapter import Adapter\n",
    "#from sedona.core.formatMapper.geojsonReader import GeoJsonReader\n",
    "from sedona.core.formatMapper.shapefileParser import ShapefileReader\n",
    "from sedona.core.SpatialRDD import PointRDD, SpatialRDD, CircleRDD\n",
    "from sedona.sql.types import GeometryType\n",
    "from sedona.core.enums import GridType\n",
    "from sedona.core.spatialOperator import JoinQueryRaw\n",
    "from sedona.core.spatialOperator import JoinQuery\n",
    "from sedona.core.enums import IndexType\n",
    "from sedona.core.formatMapper.disc_utils import load_spatial_rdd_from_disc, GeoType\n",
    "from sedona.core.formatMapper import WktReader\n",
    "\n",
    "\n",
    "import pyproj\n",
    "\n",
    "from geopy.distance import great_circle\n",
    "import pandas as pd\n",
    "import geopandas as gpd\n",
    "import os\n",
    "\n",
    "from datetime import timedelta, date, datetime\n",
    "from statistics import *\n",
    "\n",
    "from pyspark import SparkContext\n",
    "\n",
    "from pyspark.sql import SQLContext, SparkSession\n",
    "from pyspark.sql.window import Window\n",
    "from pyspark.sql.types import (\n",
    "    StructType,\n",
    "    LongType,\n",
    "    StructField,\n",
    "    IntegerType,\n",
    "    StringType,\n",
    "    DoubleType,\n",
    "    TimestampType,\n",
    "    ArrayType\n",
    ")\n",
    "from pyspark.sql.functions import (\n",
    "    from_utc_timestamp,\n",
    "    to_utc_timestamp,\n",
    "    dayofyear,\n",
    "    col,\n",
    "    unix_timestamp,\n",
    "    monotonically_increasing_id,\n",
    "    pandas_udf,\n",
    "    PandasUDFType,\n",
    "    col,\n",
    "    asc,\n",
    "    lit,\n",
    "    countDistinct,\n",
    ")\n",
    "import pyspark.sql.functions as F\n",
    "\n",
    "from pyspark.ml import Pipeline\n",
    "from pyspark.ml.feature import StringIndexer, OneHotEncoder, VectorAssembler, VectorSlicer\n",
    "from pyspark.ml.classification import LogisticRegression\n",
    "from pyspark.sql.functions import concat, lit, col, when\n",
    "from pyspark.ml.linalg import VectorUDT, SparseVector, Vectors\n",
    "\n",
    "\n",
    "from math import *\n",
    "import time\n",
    "\n",
    "from shapely.wkt import loads as wkt_loads\n",
    "from shapely.geometry import Point, Polygon, shape\n",
    "from shapely.ops import transform\n",
    "import shapely\n",
    "\n",
    "from matplotlib import pyplot as plt\n",
    "\n",
    "spark = (SparkSession.builder.appName(\"sedona\")\n",
    "                 .config(\"spark.serializer\", KryoSerializer.getName)          \n",
    "        .config(\"spark.kryo.registrator\",     \n",
    "                  SedonaKryoRegistrator.getName)    \n",
    "         .config(\"spark.driver.maxResultSize\", \"3g\")\n",
    "    .getOrCreate() \n",
    "        )\n",
    "\n",
    "\n",
    "# Register Sedona UDTs and UDFs\n",
    "SedonaRegistrator.registerAll(spark)\n",
    "\n",
    "spark.sparkContext.addPyFile(\"s3://ipsos-dvd/scripts/utils.py\")\n",
    "from utils import *\n",
    "import h3_pyspark as h3s\n",
    "#import h3pandas \n",
    "import h3 as h3\n",
    "import io\n",
    "\n",
    "\n",
    "\n",
    "@udf(\"boolean\")\n",
    "def pip_filter(poly_wkt, point_x, point_y):\n",
    "    from shapely import wkt\n",
    "    from shapely import geometry\n",
    "    polygon = wkt.loads(poly_wkt)\n",
    "    point = geometry.Point(point_x, point_y)\n",
    "    return polygon.contains(point)\n",
    "\n",
    "schema = StructType([\n",
    "    StructField(\"dirty\", ArrayType(StringType()), False),\n",
    "    StructField(\"hexes\", ArrayType(StringType()), False)\n",
    "])\n",
    "\n",
    "\n",
    "def parse_dates(x):\n",
    "    if \"/\" in x:\n",
    "        start_date = datetime.strptime(x.split('/')[0], \"%Y-%m-%d\")\n",
    "        end_date = datetime.strptime(x.split('/')[1], \"%Y-%m-%d\")\n",
    "        delta = end_date - start_date\n",
    "        date_list = []\n",
    "        for i in range(delta.days + 1):\n",
    "            date = start_date + timedelta(days = i)\n",
    "            date_list.append(date.strftime(\"%Y/%m/%d\"))\n",
    "        return(date_list)\n",
    "    else: \n",
    "        return([x.replace(\"-\", \"/\")])\n",
    "    \n",
    "def create_point(longitude: float, latitude: float):\n",
    "    return Point(longitude, latitude)\n",
    "\n",
    "create_point_udf = udf(create_point, GeometryType())\n",
    "\n",
    "\n",
    "def create_polygon(wkt: str):\n",
    "    return wkt_loads(wkt)\n",
    "\n",
    "create_polygon_udf = udf(create_polygon, GeometryType())\n",
    "\n",
    "def transform_geometry(geom, crs_from = 'EPSG:4326', crs_to = 'EPSG:9311'):\n",
    "    wgs84 = pyproj.CRS(crs_from)\n",
    "    utm = pyproj.CRS(crs_to)\n",
    "\n",
    "    project = pyproj.Transformer.from_crs(wgs84, utm, always_xy=True).transform\n",
    "\n",
    "    # Ensure that the input geometry is a shapely geometry object\n",
    "    if not isinstance(geom, (shapely.geometry.base.BaseGeometry, shapely.geometry.base.BaseMultipartGeometry)):\n",
    "        geom = shape(geom)\n",
    "\n",
    "    utm_point = transform(project, geom)\n",
    "    \n",
    "    return utm_point\n",
    "\n",
    "transform_geometry_udf = udf(transform_geometry, GeometryType())\n",
    "\n",
    "\n",
    "def shared_polygon(long, lat):\n",
    "    return Point(long, lat).buffer(35)\n",
    "shared_polygon_udf = udf(shared_polygon, GeometryType())\n",
    "\n",
    "def buffer(geom, meters):\n",
    "    return geom.buffer(meters)\n",
    "buffer_udf = udf(buffer, GeometryType())\n",
    "\n",
    "def parse_dates(x):\n",
    "    if \"/\" in x:\n",
    "        start_date = datetime.strptime(x.split('/')[0], \"%Y-%m-%d\")\n",
    "        end_date = datetime.strptime(x.split('/')[1], \"%Y-%m-%d\")\n",
    "        delta = end_date - start_date\n",
    "        date_list = []\n",
    "        for i in range(delta.days + 1):\n",
    "            date = start_date + timedelta(days = i)\n",
    "            date_list.append(date.strftime(\"%Y/%m/%d\"))\n",
    "        return(date_list)\n",
    "    else: \n",
    "        return([x.replace(\"-\", \"/\")])\n",
    "    \n",
    "def saveFigS3(fn, fig):\n",
    "    \n",
    "    # Create an s3 client\n",
    "    s3 = boto3.resource('s3')\n",
    "\n",
    "    # Set the bucket name and object name\n",
    "    bucket = s3.Bucket('ipsos-dvd')\n",
    "\n",
    "    img_data = io.BytesIO()\n",
    "    fig.savefig(img_data, format='png', bbox_inches='tight')\n",
    "    img_data.seek(0)\n",
    "    \n",
    "\n",
    "    # Upload the plot to s3\n",
    "    bucket.put_object(Body=img_data, ContentType='image/png', Key=fn)\n",
    "    \n",
    "def spatialIntersection(pings, poly, build_on_spatial_partitioned_rdd = True, using_index = True, origin_crs=\"epsg:4326\", crs=\"epsg:4326\", \n",
    "                        transform=True, poly_spatial=False): \n",
    "    \n",
    "    if not poly_spatial:\n",
    "        poly_rdd = Adapter.toSpatialRdd(poly, \"geometry\")\n",
    "    else:\n",
    "        poly_rdd = poly\n",
    "\n",
    "    pings.createOrReplaceTempView(\"pings\")\n",
    "\n",
    "    # Read Hive table\n",
    "    if transform:\n",
    "        pings = spark.sql(\n",
    "              f\"\"\"SELECT ST_Transform(ST_FlipCoordinates(ST_Point(pings.longitude, \n",
    "              pings.latitude)), \"{origin_crs}\", \"{crs}\") AS point, \n",
    "              *\n",
    "              FROM pings;\n",
    "              \"\"\"\n",
    "        )\n",
    "    else:\n",
    "        pings = spark.sql(\n",
    "              f\"\"\"SELECT ST_FlipCoordinates(ST_Transform(ST_FlipCoordinates(ST_Point(pings.longitude, \n",
    "              pings.latitude)), \"{origin_crs}\", \"{crs}\")) AS point, \n",
    "              *\n",
    "              FROM pings;\n",
    "              \"\"\"\n",
    "        )\n",
    "#     num_partitions = 1000\n",
    "#     pings = pings.repartition(num_partitions)\n",
    "#    pings = pings.cache()\n",
    "    \n",
    "    grid_type = GridType.QUADTREE # this shit works so much better for skewed data\n",
    "\n",
    "    points_rdd = Adapter.toSpatialRdd(pings, \"point\")\n",
    "    points_rdd.analyze()\n",
    "    points_rdd.spatialPartitioning(grid_type)\n",
    "    \n",
    "    poly_rdd.analyze()\n",
    "    poly_rdd.spatialPartitioning(points_rdd.getPartitioner())\n",
    "    \n",
    "     ## Set to TRUE only if run join query\n",
    "    points_rdd.buildIndex(IndexType.QUADTREE, build_on_spatial_partitioned_rdd)\n",
    "    \n",
    "    result = JoinQueryRaw.SpatialJoinQueryFlat(points_rdd, poly_rdd, using_index, True)\n",
    "\n",
    "    return Adapter.toDf(result, poly_rdd.fieldNames, points_rdd.fieldNames, spark)\n",
    "\n",
    "    \n",
    "essential_fields = [\n",
    "        StructField(\"utc_timestamp\",LongType(),False),\n",
    "        StructField(\"caid\",StringType(),False),\n",
    "        StructField(\"latitude\",DoubleType(),False),\n",
    "        StructField(\"longitude\",DoubleType(),False),\n",
    "        StructField(\"altitude\",DoubleType(),False),\n",
    "]\n",
    "raw_schema = StructType(\n",
    "    essential_fields + [\n",
    "        StructField(\"id_type\",StringType(),False),\n",
    "        StructField(\"geo_hash\",StringType(),False),\n",
    "        StructField(\"horizontal_accuracy\",DoubleType(),False),\n",
    "        StructField(\"ip_address\",StringType(),False),\n",
    "        #StructField(\"altitude\",DoubleType(),False),\n",
    "        StructField(\"iso_country_code\",StringType(),False)]\n",
    ")\n",
    "\n",
    "#------\n",
    "# parameters\n",
    "#------\n",
    "\n",
    "data_dir = \"s3://external-safegraph/\"\n",
    "data_dyn = \"s3://ipsos-dvd/dyn/data/\"\n",
    "figs_dir = \"s3://ipsos-dvd/dyn/results/figs/\"\n",
    "data_veraset = \"s3://external-veraset-data-us-west-2/us/\"\n",
    "\n",
    "\n"
   ]
  },
  {
   "cell_type": "markdown",
   "metadata": {},
   "source": [
    "## Construct Worker-Store Panel"
   ]
  },
  {
   "cell_type": "code",
   "execution_count": null,
   "metadata": {},
   "outputs": [
    {
     "data": {
      "application/vnd.jupyter.widget-view+json": {
       "model_id": "7aacb9cf37904406ad56c0a812bd3c0a",
       "version_major": 2,
       "version_minor": 0
      },
      "text/plain": [
       "VBox()"
      ]
     },
     "metadata": {},
     "output_type": "display_data"
    },
    {
     "data": {
      "application/vnd.jupyter.widget-view+json": {
       "model_id": "352f8593dca94a35b1cb994db2dae11f",
       "version_major": 2,
       "version_minor": 0
      },
      "text/plain": [
       "FloatProgress(value=0.0, bar_style='info', description='Progress:', layout=Layout(height='25px', width='50%'),…"
      ]
     },
     "metadata": {},
     "output_type": "display_data"
    }
   ],
   "source": [
    "## grab workers' employment and home locations  \n",
    "\n",
    "dwomes = spark.read.parquet(os.path.join(data_dyn, 'worker_homes')) # checked and no duplicates in placekey, caid, week combo\n",
    "\n",
    "home_locations = spark.read.parquet( # no duplicates in here either\n",
    "    os.path.join(data_dyn, 'homes_candidates_stores_cz'),inferSchema = True\n",
    ").drop(\"leftgeometry\", \"rightgeometry\", \"fips_county\") \\\n",
    "    .withColumnRenamed('latitude', 'latitude_home').withColumnRenamed('longitude', 'longitude_home') \\\n",
    "    .withColumnRenamed('cz', 'cz_home').withColumnRenamed('fips_cbg', 'fips_cbg_home')\n",
    "    \n",
    "\n",
    "dwomes = dwomes.join(home_locations, on = \"caid\", how = \"inner\")\n",
    "\n",
    "## merge in places data\n",
    "place = spark.read.parquet(data_dyn + \"places_chains_filtered_cbgs\") # some duplicates in here! \n",
    "place = place.dropDuplicates(subset=['placekey'])\n",
    "dwomes = dwomes.join(place, on = \"placekey\", how=\"left\")\n",
    "\n",
    "# there are some devices that had a tie (visited different placekey same number of times), drop those\n",
    "# TODO: in general I guess I want to drop devices that \"work at\" multiple stores in a given week\n",
    "temp = dwomes.groupBy(['caid', 'week']).agg(F.count(\"count\").alias(\"cnt\")).filter(F.col(\"cnt\") > 1)\n",
    "dwomes = dwomes.join(temp, on = ['caid', 'week'], how = \"leftanti\")\n",
    "\n",
    "dwomes = dwomes.cache()"
   ]
  },
  {
   "cell_type": "code",
   "execution_count": null,
   "metadata": {},
   "outputs": [
    {
     "data": {
      "application/vnd.jupyter.widget-view+json": {
       "model_id": "85f006e373d048578e08c66190eeeb69",
       "version_major": 2,
       "version_minor": 0
      },
      "text/plain": [
       "VBox()"
      ]
     },
     "metadata": {},
     "output_type": "display_data"
    },
    {
     "data": {
      "application/vnd.jupyter.widget-view+json": {
       "model_id": "c8d54c78775c416d813fe8acd0d3bb99",
       "version_major": 2,
       "version_minor": 0
      },
      "text/plain": [
       "FloatProgress(value=0.0, bar_style='info', description='Progress:', layout=Layout(height='25px', width='50%'),…"
      ]
     },
     "metadata": {},
     "output_type": "display_data"
    }
   ],
   "source": [
    "redo_other_places = False\n",
    "if redo_other_places: \n",
    "    # get the market for the non-chain stores\n",
    "    # merge on CBG shapefiles\n",
    "    cbgs = ShapefileReader.readToGeometryRDD(sc, data_dyn + \"census_bg_merged/\")\n",
    "    cbgs = (Adapter.toDf(cbgs, cbgs.fieldNames, spark))\n",
    "\n",
    "    # gpd.read_file(\"s3://ipsos-dvd/ev/data/2020_cbgs/*\")\n",
    "\n",
    "    cbgs = cbgs.repartition(1000)\n",
    "\n",
    "    places = spark.read.parquet(os.path.join(data_dyn, \"spend_places\")).select(\"placekey\", \"latitude\", \"longitude\")\n",
    "    places = places.dropDuplicates(subset=['placekey'])\n",
    "\n",
    "    places = places.join(place.select(\"placekey\", \"chain\"), on = \"placekey\", how = \"leftanti\")\n",
    "\n",
    "\n",
    "    # intersect remaining places with cbg\n",
    "    joined = spatialIntersection(places, cbgs.select(\"geoid\", \"geometry\").withColumnRenamed(\"geoid\", \"fips_cbg\"), transform=False)\n",
    "\n",
    "    # merge in commuting zones \n",
    "    cz = spark.read.csv(data_dyn + \"geo/commuting_zones.csv\", header=True)\n",
    "    cz = cz.withColumnRenamed(\"FIPS\", \"fips_county\").withColumnRenamed(\"Commuting Zone ID, 2000\", \"cz\").select(\"fips_county\", \"cz\")\n",
    "\n",
    "    joined = joined.withColumn(\"fips_county\", F.substring(\"fips_cbg\", 1,5)).join(cz, on = \"fips_county\", how = \"left\")\n",
    "    joined.write.parquet(data_dyn + \"places_nonchains_cbg\", mode=\"overwrite\")\n",
    "    \n",
    "joined = spark.read.parquet(data_dyn + \"places_nonchains_cbg\", mode=\"overwrite\").drop(\"rightgeometry\", \"fips_cbg\",\n",
    "                                                                                      \"leftgeometry\", \"latitude\", \"longitude\")"
   ]
  },
  {
   "cell_type": "code",
   "execution_count": null,
   "metadata": {},
   "outputs": [
    {
     "data": {
      "application/vnd.jupyter.widget-view+json": {
       "model_id": "5b33f8839ae84043b92e97a71cb7b044",
       "version_major": 2,
       "version_minor": 0
      },
      "text/plain": [
       "VBox()"
      ]
     },
     "metadata": {},
     "output_type": "display_data"
    },
    {
     "data": {
      "application/vnd.jupyter.widget-view+json": {
       "model_id": "6ecfc2d3852041d1a4918fea411da362",
       "version_major": 2,
       "version_minor": 0
      },
      "text/plain": [
       "FloatProgress(value=0.0, bar_style='info', description='Progress:', layout=Layout(height='25px', width='50%'),…"
      ]
     },
     "metadata": {},
     "output_type": "display_data"
    }
   ],
   "source": [
    "dwomes = dwomes.join(joined.withColumnRenamed(\"cz\", \"cz_other\").withColumnRenamed(\"fips_county\", \"fips_county_other\"), on = \"placekey\", how=\"left\")\n",
    "\n",
    "# encode the outside option\n",
    "dwomes = dwomes.withColumn(\"outside_option\", F.when(F.col(\"cz\").isNotNull(), F.lit(0)).otherwise(F.lit(1)))\\\n",
    "        .withColumn(\"cz_combined\", F.when(F.col(\"outside_option\") == 0, F.col(\"cz\")).otherwise(F.col(\"cz_other\")))\\\n",
    "        .withColumn(\"fips_county_combined\", F.when(F.col(\"outside_option\") == 0, F.col(\"fips_county\")).otherwise(F.col(\"fips_county_other\")))\\\n",
    "        .withColumn(\"placekey_chains\", F.when(F.col(\"cz\").isNotNull(), F.col(\"placekey\")).otherwise(F.lit(\"outside-option\"))) \n"
   ]
  },
  {
   "cell_type": "code",
   "execution_count": null,
   "metadata": {},
   "outputs": [
    {
     "data": {
      "application/vnd.jupyter.widget-view+json": {
       "model_id": "96d34ca4d4b848b1871a57581254db6b",
       "version_major": 2,
       "version_minor": 0
      },
      "text/plain": [
       "VBox()"
      ]
     },
     "metadata": {},
     "output_type": "display_data"
    },
    {
     "data": {
      "application/vnd.jupyter.widget-view+json": {
       "model_id": "3346699e708b4a01b10b6b8a079e4c61",
       "version_major": 2,
       "version_minor": 0
      },
      "text/plain": [
       "FloatProgress(value=0.0, bar_style='info', description='Progress:', layout=Layout(height='25px', width='50%'),…"
      ]
     },
     "metadata": {},
     "output_type": "display_data"
    }
   ],
   "source": [
    "# Convert week_year to quarter\n",
    "dwomes = dwomes.withColumn(\n",
    "    \"year\", F.col(\"week\").substr(3, 5)  # Extract the year part\n",
    ").withColumn(\n",
    "    \"week_simple\", F.col(\"week\").substr(1, 2).cast(IntegerType())  # Extract the week part\n",
    ").withColumn(\n",
    "    \"first_day_of_year\", \n",
    "    F.to_date(F.concat(F.col(\"year\"), F.lpad(F.lit(\"1\"), 2, \"0\"), F.lpad(F.lit(\"1\"), 2, \"0\")), \"yyyyMMdd\")  # Construct the first day of the year\n",
    ").withColumn(\n",
    "    \"target_week_date\",\n",
    "    F.expr(\"date_add(first_day_of_year, (week_simple - 1) * 7)\")  # Calculate the date of the first day of the target week\n",
    ").withColumn(\n",
    "    \"quarter\", \n",
    "    F.quarter(\"target_week_date\")  # Determine the quarter from the date\n",
    ")\n"
   ]
  },
  {
   "cell_type": "code",
   "execution_count": null,
   "metadata": {},
   "outputs": [
    {
     "data": {
      "application/vnd.jupyter.widget-view+json": {
       "model_id": "ad1530904c794f9ab928d8cb0baf2999",
       "version_major": 2,
       "version_minor": 0
      },
      "text/plain": [
       "VBox()"
      ]
     },
     "metadata": {},
     "output_type": "display_data"
    },
    {
     "data": {
      "application/vnd.jupyter.widget-view+json": {
       "model_id": "db01a98025314d75986ea96248a95527",
       "version_major": 2,
       "version_minor": 0
      },
      "text/plain": [
       "FloatProgress(value=0.0, bar_style='info', description='Progress:', layout=Layout(height='25px', width='50%'),…"
      ]
     },
     "metadata": {},
     "output_type": "display_data"
    }
   ],
   "source": [
    "# only use devices that are observed to choose the non-outside option in multiple weeks OR that choose the outside option\n",
    "# NB there actually are devices that choose oo and also choose chains\n",
    "temp = dwomes.groupby(\"caid\").agg(F.count(\"week\").alias(\"cnt_wk\"), \n",
    "                                  F.sum((F.col(\"outside_option\") == 1).cast(IntegerType())).alias(\"cnt_oo\"), \n",
    "                                  F.countDistinct(\"placekey\").alias(\"switchers\"), \n",
    "                                 F.countDistinct(\"quarter\").alias(\"quarters\"))\n",
    "# temp = temp.filter(( F.col(\"cnt_oo\") == F.col(\"cnt_wk\")) | ((F.col(\"cnt_wk\") - F.col(\"cnt_oo\")) >= 4)) # either JUST oo or oo AND at least 2 other visits\n",
    "# temp = temp.filter(F.col(\"cnt_wk\") >= 6)\n",
    "# temp = \n",
    "# temp = temp.filter( ((F.col(\"cnt_wk\") - F.col(\"cnt_oo\")) >= 2)) # either JUST oo or oo AND at least 3 other visits\n",
    "temp = temp.filter((F.col(\"quarters\") == 2) & ((F.col(\"cnt_wk\") - F.col(\"cnt_oo\")) >= 4) | ((F.col(\"cnt_wk\") == F.col(\"cnt_oo\"))))\n",
    "\n",
    "# only keep caids of dwomes that are in temp\n",
    "dwomes = dwomes.join(temp.select(\"caid\"), on = \"caid\", how = \"inner\")"
   ]
  },
  {
   "cell_type": "code",
   "execution_count": null,
   "metadata": {},
   "outputs": [
    {
     "data": {
      "application/vnd.jupyter.widget-view+json": {
       "model_id": "1358e634cdd54e3886ac734cc0ccfef4",
       "version_major": 2,
       "version_minor": 0
      },
      "text/plain": [
       "VBox()"
      ]
     },
     "metadata": {},
     "output_type": "display_data"
    },
    {
     "data": {
      "application/vnd.jupyter.widget-view+json": {
       "model_id": "97f845a6f58c4cba8dd7670d16ee865e",
       "version_major": 2,
       "version_minor": 0
      },
      "text/plain": [
       "FloatProgress(value=0.0, bar_style='info', description='Progress:', layout=Layout(height='25px', width='50%'),…"
      ]
     },
     "metadata": {},
     "output_type": "display_data"
    },
    {
     "name": "stdout",
     "output_type": "stream",
     "text": [
      "['caid', 'placekey', 'week', 'count', 'rank', 'fips_cbg_home', 'latitude_home', 'longitude_home', 'cz_home', 'fips_county', 'leftgeometry', 'fips_cbg', 'rightgeometry', 'parent_placekey', 'safegraph_brand_ids', 'location_name', 'brands', 'store_id', 'top_category', 'sub_category', 'naics_code', 'latitude', 'longitude', 'street_address', 'city', 'region', 'postal_code', 'open_hours', 'category_tags', 'opened_on', 'closed_on', 'tracking_closed_since', 'websites', 'geometry_type', 'polygon_wkt', 'polygon_class', 'enclosed', 'phone_number', 'is_synthetic', 'includes_parking_lot', 'iso_country_code', 'wkt_area_sq_meters', 'chain', 'cz', 'fips_county_other', 'cz_other', 'outside_option', 'cz_combined', 'fips_county_combined', 'placekey_chains', 'year', 'week_simple', 'first_day_of_year', 'target_week_date', 'quarter']"
     ]
    }
   ],
   "source": [
    "dwomes.columns"
   ]
  },
  {
   "cell_type": "code",
   "execution_count": null,
   "metadata": {},
   "outputs": [
    {
     "data": {
      "application/vnd.jupyter.widget-view+json": {
       "model_id": "610d8864be4b492198ed16b756118505",
       "version_major": 2,
       "version_minor": 0
      },
      "text/plain": [
       "VBox()"
      ]
     },
     "metadata": {},
     "output_type": "display_data"
    },
    {
     "data": {
      "application/vnd.jupyter.widget-view+json": {
       "model_id": "aa0c421d9b254eefabf833540332f07b",
       "version_major": 2,
       "version_minor": 0
      },
      "text/plain": [
       "FloatProgress(value=0.0, bar_style='info', description='Progress:', layout=Layout(height='25px', width='50%'),…"
      ]
     },
     "metadata": {},
     "output_type": "display_data"
    }
   ],
   "source": [
    "# filter out devices that aren't working in their home cz\n",
    "dwomes = dwomes.withColumn(\"fips_county_home\", F.substring(\"fips_cbg_home\", 1,5))\n",
    "dwomes = dwomes.filter((dwomes.fips_county_combined == dwomes.fips_county_home) | (dwomes.fips_county_combined.isNull()))\n"
   ]
  },
  {
   "cell_type": "code",
   "execution_count": null,
   "metadata": {},
   "outputs": [
    {
     "data": {
      "application/vnd.jupyter.widget-view+json": {
       "model_id": "48e9202075404daea83a0ee18fcc04ff",
       "version_major": 2,
       "version_minor": 0
      },
      "text/plain": [
       "VBox()"
      ]
     },
     "metadata": {},
     "output_type": "display_data"
    },
    {
     "data": {
      "application/vnd.jupyter.widget-view+json": {
       "model_id": "4773c157ed1140f99a35d8f93d4134d8",
       "version_major": 2,
       "version_minor": 0
      },
      "text/plain": [
       "FloatProgress(value=0.0, bar_style='info', description='Progress:', layout=Layout(height='25px', width='50%'),…"
      ]
     },
     "metadata": {},
     "output_type": "display_data"
    }
   ],
   "source": [
    "## merge in wages\n",
    "wages_chains = spark.read.parquet(data_dyn + \"wagescape_chains_county\")\n",
    "wage_zip = (wages_chains.withColumn(\"quarter\", F.quarter(\"POST_DATE\"))\n",
    "            .groupBy(\"chain\", \"quarter\", \"cz\")\n",
    "            .agg(F.percentile_approx(\"SALARY\", 0.5).alias(\"SALARY\")).fillna(\"NA\")\n",
    "           )\n",
    "\n",
    "dwomes = dwomes.join(wage_zip, on = ['chain', \"quarter\", \"cz\"], how=\"left\")\n",
    "\n",
    "# dwomes = dwomes.filter(F.col(\"SALARY\").isNotNull())\n",
    "\n",
    "# # filter out markets where we don't have wages for all the chains\n",
    "mkts = (dwomes.filter(F.col(\"placekey_chains\").isNotNull()) # this is important cause I didnt collect salary data for non chains\n",
    "        .groupby(\"cz\").agg(F.avg(F.col(\"SALARY\").isNull().cast(IntegerType())).alias(\"missing_wages\"))\n",
    "    ).withColumnRenamed(\"cz\", \"cz_combined\")\n",
    "# filter out market where more than 1% of salary observations are missing\n",
    "mkts = mkts.filter(F.col(\"missing_wages\") < 0.5) # TODO: need to revisit this, maybe use wages from neighboring markets or drop smaller chains\n",
    "# now filter those out of ext_dwomes_wages\n",
    "dwomes = dwomes.join(mkts.drop(\"missing_wages\"), on = \"cz_combined\", how = \"inner\")\n"
   ]
  },
  {
   "cell_type": "code",
   "execution_count": null,
   "metadata": {},
   "outputs": [
    {
     "data": {
      "application/vnd.jupyter.widget-view+json": {
       "model_id": "6f36a1b3ec624d8c9f1330a56bba67e2",
       "version_major": 2,
       "version_minor": 0
      },
      "text/plain": [
       "VBox()"
      ]
     },
     "metadata": {},
     "output_type": "display_data"
    },
    {
     "data": {
      "application/vnd.jupyter.widget-view+json": {
       "model_id": "83866e12d84343b3b4af93e8142c5341",
       "version_major": 2,
       "version_minor": 0
      },
      "text/plain": [
       "FloatProgress(value=0.0, bar_style='info', description='Progress:', layout=Layout(height='25px', width='50%'),…"
      ]
     },
     "metadata": {},
     "output_type": "display_data"
    }
   ],
   "source": [
    "# Step 1: Generate all possible caid-placekey combinations within each cz_home at a given month\n",
    "# Get unique caids and placekeys within each cz_home\n",
    "unique_caids = dwomes.select(\"caid\", \"fips_county_combined\", \"week\", 'quarter')\\\n",
    "            .withColumnRenamed(\"fips_county_combined\", \"fips_county\")\\\n",
    "            .distinct()\n",
    "unique_placekeys = place.select(\"placekey\", \"fips_county\") \\\n",
    "                    .filter(F.col(\"placekey\").isNotNull() & F.col(\"fips_county\").isNotNull()) \\\n",
    "                    .withColumnRenamed(\"placekey\", \"placekey_chains\").distinct() # \n",
    "\n",
    "# # add outside-option for each market\n",
    "new_rows_df = unique_placekeys.select(\"fips_county\").distinct().withColumn(\"placekey_chains\", F.lit(\"outside-option\"))\n",
    "unique_placekeys = unique_placekeys.unionByName(new_rows_df)\n",
    "\n",
    "# Cross join unique_caids and unique_placekeys on cz_home and month to get all combinations\n",
    "all_combinations = unique_caids.alias(\"a\").join(\n",
    "    unique_placekeys.alias(\"b\"),\n",
    "    ['fips_county'],\n",
    "    \"left\"\n",
    ").select(\n",
    "    F.col(\"a.caid\"),\n",
    "    F.col(\"b.placekey_chains\"),\n",
    "    F.col(\"a.fips_county\"),\n",
    "    F.col(\"a.week\"), \n",
    "    F.col(\"a.quarter\")\n",
    ")\n",
    "\n",
    "# Step 2: Mark actual employment\n",
    "# Join all_combinations with dwomes to find actual employment records\n",
    "extended_dwomes = all_combinations.join(\n",
    "    dwomes.select(\"caid\", \"placekey_chains\", \"week\", \"cz_combined\"),  # select relevant columns to avoid duplicates\n",
    "    on=[\"caid\", \"placekey_chains\", \"week\"],\n",
    "    how=\"left\"\n",
    ")\n",
    "\n",
    "# Add pr_work column: 1 if the combination exists in dwomes, 0 otherwise\n",
    "extended_dwomes = extended_dwomes.withColumn(\n",
    "    \"pr_work\",\n",
    "    F.when(F.col(\"cz_combined\").isNotNull(), 1).otherwise(0) # using the cz column to check whether actually visited because it's never missing in dwomes. Caids with null placekeys (outside option) will have 0 everywhere\n",
    ").drop(\"cz_combined\")\n",
    "\n",
    "# now merge in all the other information on the place\n",
    "extended_dwomes = extended_dwomes.join(place.drop(\"fips_county\"), on = extended_dwomes.placekey_chains == place.placekey, how=\"left\") # left join because place df only includes chains\n",
    "\n",
    "# merge home information back in\n",
    "extended_dwomes = extended_dwomes.join(home_locations, on = \"caid\", how = \"inner\")\n",
    "\n",
    "# and wage information \n",
    "extended_dwomes = extended_dwomes.join(wage_zip, on = ['chain', 'quarter', \"cz\"], how=\"left\")\n",
    "\n",
    "cols_keep = ['chain', 'quarter', 'cz', 'cz_combined', 'caid', 'placekey_chains', 'week', 'pr_work','fips_cbg', 'open_hours', 'includes_parking_lot', \n",
    "             'wkt_area_sq_meters', 'fips_cbg_home', 'cz_home', 'SALARY', 'latitude', 'longitude', 'latitude_home', 'longitude_home', ]\n",
    "\n",
    "extended_dwomes.select(cols_keep).write.parquet(data_dyn + \"extended_dwomes\", mode=\"overwrite\")\n"
   ]
  },
  {
   "cell_type": "markdown",
   "metadata": {},
   "source": [
    "## Regression Prep"
   ]
  },
  {
   "cell_type": "code",
   "execution_count": 62,
   "metadata": {
    "execution": {
     "iopub.execute_input": "2024-03-22T04:45:18.240535Z",
     "iopub.status.busy": "2024-03-22T04:45:18.240213Z",
     "iopub.status.idle": "2024-03-22T04:45:18.981082Z",
     "shell.execute_reply": "2024-03-22T04:45:18.980352Z",
     "shell.execute_reply.started": "2024-03-22T04:45:18.240507Z"
    },
    "tags": []
   },
   "outputs": [
    {
     "data": {
      "application/vnd.jupyter.widget-view+json": {
       "model_id": "fc3d2f1a74c944a4be7779c649418a5e",
       "version_major": 2,
       "version_minor": 0
      },
      "text/plain": [
       "VBox()"
      ]
     },
     "metadata": {},
     "output_type": "display_data"
    },
    {
     "data": {
      "application/vnd.jupyter.widget-view+json": {
       "model_id": "",
       "version_major": 2,
       "version_minor": 0
      },
      "text/plain": [
       "FloatProgress(value=0.0, bar_style='info', description='Progress:', layout=Layout(height='25px', width='50%'),…"
      ]
     },
     "metadata": {},
     "output_type": "display_data"
    }
   ],
   "source": [
    "extended_dwomes = spark.read.parquet(data_dyn + \"extended_dwomes\") \\\n",
    "                .select('cz_combined', \"cz\", 'chain', 'caid', 'week', 'pr_work', 'placekey_chains',\n",
    "                        'open_hours', 'includes_parking_lot', 'latitude', 'longitude', \n",
    "                        'latitude_home', 'longitude_home', 'cz_home', 'SALARY', 'wkt_area_sq_meters') \\\n",
    "                    .withColumnRenamed(\"placekey_chains\", \"placekey\") \n",
    "    # filter on columns to reduce data size"
   ]
  },
  {
   "cell_type": "code",
   "execution_count": 63,
   "metadata": {
    "execution": {
     "iopub.execute_input": "2024-03-22T04:45:18.982447Z",
     "iopub.status.busy": "2024-03-22T04:45:18.982216Z",
     "iopub.status.idle": "2024-03-22T04:45:19.015888Z",
     "shell.execute_reply": "2024-03-22T04:45:19.015181Z",
     "shell.execute_reply.started": "2024-03-22T04:45:18.982423Z"
    },
    "tags": []
   },
   "outputs": [
    {
     "data": {
      "application/vnd.jupyter.widget-view+json": {
       "model_id": "d5b91c09b27342a18101781bee8063a0",
       "version_major": 2,
       "version_minor": 0
      },
      "text/plain": [
       "VBox()"
      ]
     },
     "metadata": {},
     "output_type": "display_data"
    },
    {
     "data": {
      "application/vnd.jupyter.widget-view+json": {
       "model_id": "",
       "version_major": 2,
       "version_minor": 0
      },
      "text/plain": [
       "FloatProgress(value=0.0, bar_style='info', description='Progress:', layout=Layout(height='25px', width='50%'),…"
      ]
     },
     "metadata": {},
     "output_type": "display_data"
    }
   ],
   "source": [
    "## this gives issues cause cz column not complete\n",
    "# temp = extended_dwomes.groupby(\"cz\").agg(F.countDistinct(\"caid\")).toPandas()\n",
    "# temp = temp[temp['count(caid)'] >= 100] \n",
    "# czs = list(temp['cz'])\n",
    "# extended_dwomes = extended_dwomes.filter(F.col(\"cz\").isin(czs))"
   ]
  },
  {
   "cell_type": "code",
   "execution_count": 64,
   "metadata": {
    "execution": {
     "iopub.execute_input": "2024-03-22T04:45:19.017373Z",
     "iopub.status.busy": "2024-03-22T04:45:19.017146Z",
     "iopub.status.idle": "2024-03-22T04:45:22.270715Z",
     "shell.execute_reply": "2024-03-22T04:45:22.270115Z",
     "shell.execute_reply.started": "2024-03-22T04:45:19.017350Z"
    },
    "tags": []
   },
   "outputs": [
    {
     "data": {
      "application/vnd.jupyter.widget-view+json": {
       "model_id": "c012e701e50f45baa10b311908cdfc40",
       "version_major": 2,
       "version_minor": 0
      },
      "text/plain": [
       "VBox()"
      ]
     },
     "metadata": {},
     "output_type": "display_data"
    },
    {
     "data": {
      "application/vnd.jupyter.widget-view+json": {
       "model_id": "",
       "version_major": 2,
       "version_minor": 0
      },
      "text/plain": [
       "FloatProgress(value=0.0, bar_style='info', description='Progress:', layout=Layout(height='25px', width='50%'),…"
      ]
     },
     "metadata": {},
     "output_type": "display_data"
    }
   ],
   "source": [
    "# balance number of outside-option only caids vs the rest\n",
    "temp = extended_dwomes.filter(F.col(\"pr_work\")==1)\\\n",
    "            .groupby(\"caid\")\\\n",
    "            .agg(F.mean((F.col(\"placekey\") == \"outside-option\").cast(IntegerType())).alias(\"cnt\")).toPandas()\n"
   ]
  },
  {
   "cell_type": "code",
   "execution_count": 65,
   "metadata": {
    "execution": {
     "iopub.execute_input": "2024-03-22T04:45:22.272029Z",
     "iopub.status.busy": "2024-03-22T04:45:22.271809Z",
     "iopub.status.idle": "2024-03-22T04:45:25.528538Z",
     "shell.execute_reply": "2024-03-22T04:45:25.527911Z",
     "shell.execute_reply.started": "2024-03-22T04:45:22.272008Z"
    },
    "tags": []
   },
   "outputs": [
    {
     "data": {
      "application/vnd.jupyter.widget-view+json": {
       "model_id": "d7728f6b768144999709b0198436b8df",
       "version_major": 2,
       "version_minor": 0
      },
      "text/plain": [
       "VBox()"
      ]
     },
     "metadata": {},
     "output_type": "display_data"
    },
    {
     "data": {
      "application/vnd.jupyter.widget-view+json": {
       "model_id": "",
       "version_major": 2,
       "version_minor": 0
      },
      "text/plain": [
       "FloatProgress(value=0.0, bar_style='info', description='Progress:', layout=Layout(height='25px', width='50%'),…"
      ]
     },
     "metadata": {},
     "output_type": "display_data"
    }
   ],
   "source": [
    "oo = list(temp[temp.cnt == 1]['caid'])\n",
    "option = list(temp[temp.cnt < 1]['caid'])\n",
    "import random\n",
    "\n",
    "smpl = 0.1\n",
    "option = random.sample(option, round(smpl * len(option)))\n",
    "poo = random.sample(oo, round(0.05 * len(option)))\n",
    "caids_sample = option + poo\n",
    "\n",
    "extended_dwomes = extended_dwomes.filter(F.col(\"caid\").isin(caids_sample))\n"
   ]
  },
  {
   "cell_type": "code",
   "execution_count": 66,
   "metadata": {
    "execution": {
     "iopub.execute_input": "2024-03-22T04:45:25.529657Z",
     "iopub.status.busy": "2024-03-22T04:45:25.529439Z",
     "iopub.status.idle": "2024-03-22T04:45:27.775748Z",
     "shell.execute_reply": "2024-03-22T04:45:27.775098Z",
     "shell.execute_reply.started": "2024-03-22T04:45:25.529636Z"
    },
    "tags": []
   },
   "outputs": [
    {
     "data": {
      "application/vnd.jupyter.widget-view+json": {
       "model_id": "a43d457e85f5431eaaf1fefe55d136a3",
       "version_major": 2,
       "version_minor": 0
      },
      "text/plain": [
       "VBox()"
      ]
     },
     "metadata": {},
     "output_type": "display_data"
    },
    {
     "data": {
      "application/vnd.jupyter.widget-view+json": {
       "model_id": "",
       "version_major": 2,
       "version_minor": 0
      },
      "text/plain": [
       "FloatProgress(value=0.0, bar_style='info', description='Progress:', layout=Layout(height='25px', width='50%'),…"
      ]
     },
     "metadata": {},
     "output_type": "display_data"
    },
    {
     "name": "stdout",
     "output_type": "stream",
     "text": [
      "+-----------+\n",
      "|count(caid)|\n",
      "+-----------+\n",
      "|       3284|\n",
      "+-----------+"
     ]
    }
   ],
   "source": [
    "extended_dwomes.agg(F.countDistinct(\"caid\")).show()"
   ]
  },
  {
   "cell_type": "code",
   "execution_count": 67,
   "metadata": {
    "execution": {
     "iopub.execute_input": "2024-03-22T04:45:27.777208Z",
     "iopub.status.busy": "2024-03-22T04:45:27.776986Z",
     "iopub.status.idle": "2024-03-22T04:45:28.075145Z",
     "shell.execute_reply": "2024-03-22T04:45:28.074495Z",
     "shell.execute_reply.started": "2024-03-22T04:45:27.777186Z"
    }
   },
   "outputs": [
    {
     "data": {
      "application/vnd.jupyter.widget-view+json": {
       "model_id": "6518977a46f74d18b2da0ac92ddf427c",
       "version_major": 2,
       "version_minor": 0
      },
      "text/plain": [
       "VBox()"
      ]
     },
     "metadata": {},
     "output_type": "display_data"
    },
    {
     "data": {
      "application/vnd.jupyter.widget-view+json": {
       "model_id": "",
       "version_major": 2,
       "version_minor": 0
      },
      "text/plain": [
       "FloatProgress(value=0.0, bar_style='info', description='Progress:', layout=Layout(height='25px', width='50%'),…"
      ]
     },
     "metadata": {},
     "output_type": "display_data"
    }
   ],
   "source": [
    "for col in ['latitude', 'longitude']:\n",
    "    extended_dwomes = extended_dwomes.withColumn(col, F.when(F.col(\"placekey\") == 'outside-option', F.lit(0)).otherwise(F.col(col)))"
   ]
  },
  {
   "cell_type": "code",
   "execution_count": 68,
   "metadata": {
    "execution": {
     "iopub.execute_input": "2024-03-22T04:45:30.896900Z",
     "iopub.status.busy": "2024-03-22T04:45:30.896606Z",
     "iopub.status.idle": "2024-03-22T04:45:31.132150Z",
     "shell.execute_reply": "2024-03-22T04:45:31.131525Z",
     "shell.execute_reply.started": "2024-03-22T04:45:30.896875Z"
    }
   },
   "outputs": [
    {
     "data": {
      "application/vnd.jupyter.widget-view+json": {
       "model_id": "f737a94d50d14135a0b86750d48385ec",
       "version_major": 2,
       "version_minor": 0
      },
      "text/plain": [
       "VBox()"
      ]
     },
     "metadata": {},
     "output_type": "display_data"
    },
    {
     "data": {
      "application/vnd.jupyter.widget-view+json": {
       "model_id": "",
       "version_major": 2,
       "version_minor": 0
      },
      "text/plain": [
       "FloatProgress(value=0.0, bar_style='info', description='Progress:', layout=Layout(height='25px', width='50%'),…"
      ]
     },
     "metadata": {},
     "output_type": "display_data"
    }
   ],
   "source": [
    "# now prepare and run the logit regression\n",
    "from pyspark.ml.classification import LogisticRegression\n",
    "\n",
    "# calculate distance \n",
    "\n",
    "# function to calculate distance\n",
    "def haversine(lat1, lon1, lat2, lon2):\n",
    "    return 2*6378000*sqrt(pow(sin((lat2-lat1)/2),2) + cos(lat1)*cos(lat2)*pow(sin((lon2-lon1)/2),2)) # result in meters\n",
    "\n",
    "\n",
    "dist_udf=udf(haversine, DoubleType())\n",
    "\n",
    "\n",
    "extended_dwomes = extended_dwomes.withColumn('distance', (dist_udf(pi * F.col('latitude') / 180, pi * F.col('longitude') / 180, \n",
    "                                      pi * F.col('latitude_home') / 180, pi * F.col('longitude_home') / 180)) / 1000)\\\n",
    "                                .withColumn(\"distance_sq\", F.col(\"distance\")**2) #in km"
   ]
  },
  {
   "cell_type": "code",
   "execution_count": 69,
   "metadata": {
    "execution": {
     "iopub.execute_input": "2024-03-22T04:45:31.225232Z",
     "iopub.status.busy": "2024-03-22T04:45:31.224954Z",
     "iopub.status.idle": "2024-03-22T04:45:31.964999Z",
     "shell.execute_reply": "2024-03-22T04:45:31.964397Z",
     "shell.execute_reply.started": "2024-03-22T04:45:31.225208Z"
    }
   },
   "outputs": [
    {
     "data": {
      "application/vnd.jupyter.widget-view+json": {
       "model_id": "493ccfb5041149a68f02cc529268a760",
       "version_major": 2,
       "version_minor": 0
      },
      "text/plain": [
       "VBox()"
      ]
     },
     "metadata": {},
     "output_type": "display_data"
    },
    {
     "data": {
      "application/vnd.jupyter.widget-view+json": {
       "model_id": "",
       "version_major": 2,
       "version_minor": 0
      },
      "text/plain": [
       "FloatProgress(value=0.0, bar_style='info', description='Progress:', layout=Layout(height='25px', width='50%'),…"
      ]
     },
     "metadata": {},
     "output_type": "display_data"
    }
   ],
   "source": [
    "# calculate store employment\n",
    "dwomes = spark.read.parquet(os.path.join(data_dyn, 'worker_homes'))\n",
    "emp = dwomes.groupBy(['placekey', 'week']).agg(F.countDistinct(\"caid\").alias(\"total_caids\"))\n",
    "# calculate conditional average across time periods\n",
    "emp = emp.groupBy(['placekey']).agg(F.avg(\"total_caids\").alias(\"total_caids\"))\n",
    "extended_dwomes = extended_dwomes.join(emp, on = ['placekey'], how = 'left')\n",
    "\n",
    "extended_dwomes = extended_dwomes.withColumn(\"total_caids\", \n",
    "                                             F.when(F.col(\"total_caids\").isNull(),\n",
    "                                                    0).otherwise(F.col(\"total_caids\")))\\\n",
    "                        .withColumn(\"total_caids_sq\", F.col(\"total_caids\")**2)"
   ]
  },
  {
   "cell_type": "code",
   "execution_count": 70,
   "metadata": {
    "execution": {
     "iopub.execute_input": "2024-03-22T04:45:33.657841Z",
     "iopub.status.busy": "2024-03-22T04:45:33.657545Z",
     "iopub.status.idle": "2024-03-22T04:45:33.690997Z",
     "shell.execute_reply": "2024-03-22T04:45:33.690417Z",
     "shell.execute_reply.started": "2024-03-22T04:45:33.657817Z"
    }
   },
   "outputs": [
    {
     "data": {
      "application/vnd.jupyter.widget-view+json": {
       "model_id": "647f478ae545498baad4db1285cd05a9",
       "version_major": 2,
       "version_minor": 0
      },
      "text/plain": [
       "VBox()"
      ]
     },
     "metadata": {},
     "output_type": "display_data"
    },
    {
     "data": {
      "application/vnd.jupyter.widget-view+json": {
       "model_id": "",
       "version_major": 2,
       "version_minor": 0
      },
      "text/plain": [
       "FloatProgress(value=0.0, bar_style='info', description='Progress:', layout=Layout(height='25px', width='50%'),…"
      ]
     },
     "metadata": {},
     "output_type": "display_data"
    }
   ],
   "source": [
    "# # Define the UDF\n",
    "# import json\n",
    "# def calculate_weekend_hours(open_hours_str):\n",
    "#     open_hours = json.loads(open_hours_str)\n",
    "#     weekend_hours = 0\n",
    "#     # Loop through Saturday and Sunday\n",
    "#     for day in ['Sat', 'Sun']:\n",
    "#         if day in open_hours:\n",
    "#             for period in open_hours[day]:\n",
    "#                 start, end = period[0], period[1]\n",
    "#                 start_hour, start_minute = map(int, start.split(':'))\n",
    "#                 end_hour, end_minute = map(int, end.split(':'))\n",
    "#                 weekend_hours += (end_hour - start_hour) + (end_minute - start_minute) / 60.0\n",
    "#     return int(weekend_hours)\n",
    "\n",
    "# # Register UDF\n",
    "# calculate_weekend_hours_udf = udf(calculate_weekend_hours, IntegerType())\n",
    "\n",
    "# # Apply the UDF to calculate weekend hours\n",
    "# extended_dwomes = extended_dwomes.withColumn(\"weekend_hours\", calculate_weekend_hours_udf(extended_dwomes[\"open_hours\"]))\n"
   ]
  },
  {
   "cell_type": "code",
   "execution_count": 71,
   "metadata": {
    "execution": {
     "iopub.execute_input": "2024-03-22T04:45:33.989862Z",
     "iopub.status.busy": "2024-03-22T04:45:33.989555Z",
     "iopub.status.idle": "2024-03-22T04:45:34.224888Z",
     "shell.execute_reply": "2024-03-22T04:45:34.224289Z",
     "shell.execute_reply.started": "2024-03-22T04:45:33.989831Z"
    }
   },
   "outputs": [
    {
     "data": {
      "application/vnd.jupyter.widget-view+json": {
       "model_id": "3824b905cae548baa3b951b3255383aa",
       "version_major": 2,
       "version_minor": 0
      },
      "text/plain": [
       "VBox()"
      ]
     },
     "metadata": {},
     "output_type": "display_data"
    },
    {
     "data": {
      "application/vnd.jupyter.widget-view+json": {
       "model_id": "",
       "version_major": 2,
       "version_minor": 0
      },
      "text/plain": [
       "FloatProgress(value=0.0, bar_style='info', description='Progress:', layout=Layout(height='25px', width='50%'),…"
      ]
     },
     "metadata": {},
     "output_type": "display_data"
    }
   ],
   "source": [
    "# set outside option variables to 0\n",
    "extended_dwomes = extended_dwomes.withColumn(\"wage_log\", \n",
    "                                             F.when(F.col(\"placekey\") == 'outside-option', 0).otherwise(F.log(\"SALARY\")))\\\n",
    "                                .filter(F.col(\"wage_log\").isNotNull()) # now filter out chain stores without salary info\n",
    "extended_dwomes = extended_dwomes.withColumn(\"SALARY\", F.col(\"SALARY\") / 2000)\n",
    "cols_other = [\"distance\", \"distance_sq\", \"SALARY\"]\n",
    "\n",
    "for col in ['chain', 'week', 'wage_log', 'cz_combined'] + cols_other:\n",
    "    extended_dwomes = extended_dwomes.withColumn(col, F.when(F.col(\"placekey\") == 'outside-option', F.lit(0)).otherwise(F.col(col)))\n",
    "    \n"
   ]
  },
  {
   "cell_type": "code",
   "execution_count": 72,
   "metadata": {
    "execution": {
     "iopub.execute_input": "2024-03-22T04:45:35.316128Z",
     "iopub.status.busy": "2024-03-22T04:45:35.315824Z",
     "iopub.status.idle": "2024-03-22T04:46:28.689196Z",
     "shell.execute_reply": "2024-03-22T04:46:28.688598Z",
     "shell.execute_reply.started": "2024-03-22T04:45:35.316104Z"
    }
   },
   "outputs": [
    {
     "data": {
      "application/vnd.jupyter.widget-view+json": {
       "model_id": "9f32782f7a9c475c8b898a8dd3ecf135",
       "version_major": 2,
       "version_minor": 0
      },
      "text/plain": [
       "VBox()"
      ]
     },
     "metadata": {},
     "output_type": "display_data"
    },
    {
     "data": {
      "application/vnd.jupyter.widget-view+json": {
       "model_id": "",
       "version_major": 2,
       "version_minor": 0
      },
      "text/plain": [
       "FloatProgress(value=0.0, bar_style='info', description='Progress:', layout=Layout(height='25px', width='50%'),…"
      ]
     },
     "metadata": {},
     "output_type": "display_data"
    }
   ],
   "source": [
    "# # create individual wage coefficients\n",
    "\n",
    "# # get vector of caids that don't only choose outside option\n",
    "# oo = extended_dwomes.groupBy(\"caid\").agg(F.sum(F.col(\"pr_work\") * (F.col(\"placekey\") != \n",
    "#                                                                    \"outside-option\").cast(IntegerType())).alias(\"nooo\"))\n",
    "# oo = oo.filter(F.col(\"nooo\") > 0).select(\"caid\").toPandas()                                  \n",
    "\n",
    "# for caid in list(oo['caid']): \n",
    "#     extended_dwomes = extended_dwomes.withColumn(\"salary_\" + caid, F.col(\"SALARY\") * \n",
    "#                                                  (F.col(\"caid\") == caid).cast(IntegerType()))\n",
    "    \n",
    "    \n",
    "# Define a UDF that returns salary if the condition matches, otherwise returns 0 (or null)\n",
    "def calculate_salary_for_caid(target_caid):\n",
    "    def inner(salary, caid):\n",
    "        if caid == target_caid:\n",
    "            return salary\n",
    "        else:\n",
    "            return 0.0 # Or return None if you prefer nulls in non-matching rows\n",
    "    return udf(inner, DoubleType())\n",
    "\n",
    "oo = extended_dwomes.groupBy(\"caid\").agg(F.sum(F.col(\"pr_work\") * (F.col(\"placekey\") != \n",
    "                                                                   \"outside-option\").cast(IntegerType())).alias(\"nooo\"))\n",
    "oo = oo.filter(F.col(\"nooo\") > 0).select(\"caid\").toPandas()   \n",
    "distinct_caids = list(oo['caid'])\n",
    "\n",
    "# Start with the base columns you want to retain\n",
    "select_expr = [F.col(column_name) for column_name in extended_dwomes.columns]\n",
    "\n",
    "# Add the dynamically generated columns for each caid\n",
    "select_expr += [calculate_salary_for_caid(caid)(F.col(\"SALARY\"), F.col(\"caid\")).alias(f\"salary_{caid}\") for caid in distinct_caids]\n",
    "\n",
    "# Apply the select expression\n",
    "extended_dwomes = extended_dwomes.select(*select_expr)\n",
    "\n"
   ]
  },
  {
   "cell_type": "code",
   "execution_count": 73,
   "metadata": {
    "execution": {
     "iopub.execute_input": "2024-03-22T04:46:28.690475Z",
     "iopub.status.busy": "2024-03-22T04:46:28.690241Z",
     "iopub.status.idle": "2024-03-22T04:46:31.939326Z",
     "shell.execute_reply": "2024-03-22T04:46:31.938723Z",
     "shell.execute_reply.started": "2024-03-22T04:46:28.690453Z"
    }
   },
   "outputs": [
    {
     "data": {
      "application/vnd.jupyter.widget-view+json": {
       "model_id": "64091bfa16e24cf1bc93d16cc20f30ca",
       "version_major": 2,
       "version_minor": 0
      },
      "text/plain": [
       "VBox()"
      ]
     },
     "metadata": {},
     "output_type": "display_data"
    },
    {
     "data": {
      "application/vnd.jupyter.widget-view+json": {
       "model_id": "",
       "version_major": 2,
       "version_minor": 0
      },
      "text/plain": [
       "FloatProgress(value=0.0, bar_style='info', description='Progress:', layout=Layout(height='25px', width='50%'),…"
      ]
     },
     "metadata": {},
     "output_type": "display_data"
    }
   ],
   "source": [
    "assert(extended_dwomes.agg(F.mean(\"pr_work\")).collect()[0][0] > 0)"
   ]
  },
  {
   "cell_type": "code",
   "execution_count": 74,
   "metadata": {
    "execution": {
     "iopub.execute_input": "2024-03-22T04:46:31.940904Z",
     "iopub.status.busy": "2024-03-22T04:46:31.940679Z",
     "iopub.status.idle": "2024-03-22T04:46:35.192545Z",
     "shell.execute_reply": "2024-03-22T04:46:35.191934Z",
     "shell.execute_reply.started": "2024-03-22T04:46:31.940882Z"
    }
   },
   "outputs": [
    {
     "data": {
      "application/vnd.jupyter.widget-view+json": {
       "model_id": "05fa516a11c74a37add19ee4fe6e0bc3",
       "version_major": 2,
       "version_minor": 0
      },
      "text/plain": [
       "VBox()"
      ]
     },
     "metadata": {},
     "output_type": "display_data"
    },
    {
     "data": {
      "application/vnd.jupyter.widget-view+json": {
       "model_id": "",
       "version_major": 2,
       "version_minor": 0
      },
      "text/plain": [
       "FloatProgress(value=0.0, bar_style='info', description='Progress:', layout=Layout(height='25px', width='50%'),…"
      ]
     },
     "metadata": {},
     "output_type": "display_data"
    }
   ],
   "source": [
    "assert(extended_dwomes.filter(F.col(\"placekey\") == \"outside-option\").count() > 0)"
   ]
  },
  {
   "cell_type": "code",
   "execution_count": 75,
   "metadata": {
    "execution": {
     "iopub.execute_input": "2024-03-22T04:46:35.193901Z",
     "iopub.status.busy": "2024-03-22T04:46:35.193684Z",
     "iopub.status.idle": "2024-03-22T04:52:19.305071Z",
     "shell.execute_reply": "2024-03-22T04:52:19.304397Z",
     "shell.execute_reply.started": "2024-03-22T04:46:35.193879Z"
    },
    "tags": []
   },
   "outputs": [
    {
     "data": {
      "application/vnd.jupyter.widget-view+json": {
       "model_id": "7cf5f152909b458ab02db826afd4da14",
       "version_major": 2,
       "version_minor": 0
      },
      "text/plain": [
       "VBox()"
      ]
     },
     "metadata": {},
     "output_type": "display_data"
    },
    {
     "data": {
      "application/vnd.jupyter.widget-view+json": {
       "model_id": "",
       "version_major": 2,
       "version_minor": 0
      },
      "text/plain": [
       "FloatProgress(value=0.0, bar_style='info', description='Progress:', layout=Layout(height='25px', width='50%'),…"
      ]
     },
     "metadata": {},
     "output_type": "display_data"
    }
   ],
   "source": [
    "extended_dwomes.write.parquet(data_dyn + \"dwomes_dense\", mode=\"overwrite\")\n",
    "\n"
   ]
  },
  {
   "cell_type": "markdown",
   "metadata": {},
   "source": [
    "### Fit Model in Statsmodels"
   ]
  },
  {
   "cell_type": "code",
   "execution_count": 76,
   "metadata": {
    "execution": {
     "iopub.execute_input": "2024-03-22T04:52:19.306111Z",
     "iopub.status.busy": "2024-03-22T04:52:19.305898Z",
     "iopub.status.idle": "2024-03-22T04:52:20.044933Z",
     "shell.execute_reply": "2024-03-22T04:52:20.044247Z",
     "shell.execute_reply.started": "2024-03-22T04:52:19.306089Z"
    }
   },
   "outputs": [
    {
     "data": {
      "application/vnd.jupyter.widget-view+json": {
       "model_id": "ca86cb4ff086414cb539eaf05d1e58a1",
       "version_major": 2,
       "version_minor": 0
      },
      "text/plain": [
       "VBox()"
      ]
     },
     "metadata": {},
     "output_type": "display_data"
    },
    {
     "data": {
      "application/vnd.jupyter.widget-view+json": {
       "model_id": "",
       "version_major": 2,
       "version_minor": 0
      },
      "text/plain": [
       "FloatProgress(value=0.0, bar_style='info', description='Progress:', layout=Layout(height='25px', width='50%'),…"
      ]
     },
     "metadata": {},
     "output_type": "display_data"
    }
   ],
   "source": [
    "temp = spark.read.parquet(data_dyn + \"dwomes_dense\")"
   ]
  },
  {
   "cell_type": "code",
   "execution_count": 79,
   "metadata": {
    "execution": {
     "iopub.execute_input": "2024-03-22T04:53:34.721874Z",
     "iopub.status.busy": "2024-03-22T04:53:34.721581Z",
     "iopub.status.idle": "2024-03-22T05:06:30.256227Z",
     "shell.execute_reply": "2024-03-22T05:06:30.255520Z",
     "shell.execute_reply.started": "2024-03-22T04:53:34.721851Z"
    },
    "tags": []
   },
   "outputs": [
    {
     "data": {
      "application/vnd.jupyter.widget-view+json": {
       "model_id": "a628085e77304d38b637e1b2a33cfeae",
       "version_major": 2,
       "version_minor": 0
      },
      "text/plain": [
       "VBox()"
      ]
     },
     "metadata": {},
     "output_type": "display_data"
    },
    {
     "data": {
      "application/vnd.jupyter.widget-view+json": {
       "model_id": "",
       "version_major": 2,
       "version_minor": 0
      },
      "text/plain": [
       "FloatProgress(value=0.0, bar_style='info', description='Progress:', layout=Layout(height='25px', width='50%'),…"
      ]
     },
     "metadata": {},
     "output_type": "display_data"
    }
   ],
   "source": [
    "temp.repartition(1).write.csv(data_dyn + \"dwomes_dense_csv\", mode=\"overwrite\")"
   ]
  },
  {
   "cell_type": "code",
   "execution_count": 78,
   "metadata": {
    "execution": {
     "iopub.execute_input": "2024-03-22T04:52:51.376005Z",
     "iopub.status.busy": "2024-03-22T04:52:51.375674Z",
     "iopub.status.idle": "2024-03-22T04:53:34.718590Z",
     "shell.execute_reply": "2024-03-22T04:53:34.717974Z",
     "shell.execute_reply.started": "2024-03-22T04:52:51.375981Z"
    },
    "tags": []
   },
   "outputs": [
    {
     "data": {
      "application/vnd.jupyter.widget-view+json": {
       "model_id": "5471f9b5d6764d68ba2219d3fbfdf066",
       "version_major": 2,
       "version_minor": 0
      },
      "text/plain": [
       "VBox()"
      ]
     },
     "metadata": {},
     "output_type": "display_data"
    },
    {
     "data": {
      "application/vnd.jupyter.widget-view+json": {
       "model_id": "",
       "version_major": 2,
       "version_minor": 0
      },
      "text/plain": [
       "FloatProgress(value=0.0, bar_style='info', description='Progress:', layout=Layout(height='25px', width='50%'),…"
      ]
     },
     "metadata": {},
     "output_type": "display_data"
    }
   ],
   "source": [
    "workers.to_csv(data_dyn + \"dwomes_dense.csv\", index=False)"
   ]
  },
  {
   "cell_type": "code",
   "execution_count": 53,
   "metadata": {
    "execution": {
     "iopub.execute_input": "2024-03-22T04:37:43.931268Z",
     "iopub.status.busy": "2024-03-22T04:37:43.930959Z",
     "iopub.status.idle": "2024-03-22T04:38:27.270137Z",
     "shell.execute_reply": "2024-03-22T04:38:27.269532Z",
     "shell.execute_reply.started": "2024-03-22T04:37:43.931242Z"
    }
   },
   "outputs": [
    {
     "data": {
      "application/vnd.jupyter.widget-view+json": {
       "model_id": "f11cf8028882429b91d1618a54b4e9af",
       "version_major": 2,
       "version_minor": 0
      },
      "text/plain": [
       "VBox()"
      ]
     },
     "metadata": {},
     "output_type": "display_data"
    },
    {
     "data": {
      "application/vnd.jupyter.widget-view+json": {
       "model_id": "",
       "version_major": 2,
       "version_minor": 0
      },
      "text/plain": [
       "FloatProgress(value=0.0, bar_style='info', description='Progress:', layout=Layout(height='25px', width='50%'),…"
      ]
     },
     "metadata": {},
     "output_type": "display_data"
    }
   ],
   "source": [
    "workers = pd.read_csv(data_dyn + \"dwomes_dense.csv\")"
   ]
  },
  {
   "cell_type": "code",
   "execution_count": null,
   "metadata": {},
   "outputs": [
    {
     "data": {
      "application/vnd.jupyter.widget-view+json": {
       "model_id": "a11c265adb49494a9df7fbb944b255f1",
       "version_major": 2,
       "version_minor": 0
      },
      "text/plain": [
       "VBox()"
      ]
     },
     "metadata": {},
     "output_type": "display_data"
    },
    {
     "data": {
      "application/vnd.jupyter.widget-view+json": {
       "model_id": "cffa7e9e5076407e83c1b7811196a0f7",
       "version_major": 2,
       "version_minor": 0
      },
      "text/plain": [
       "FloatProgress(value=0.0, bar_style='info', description='Progress:', layout=Layout(height='25px', width='50%'),…"
      ]
     },
     "metadata": {},
     "output_type": "display_data"
    }
   ],
   "source": [
    "from statsmodels.discrete.conditional_models import ConditionalLogit\n",
    "\n",
    "workers['strata'] = workers['caid'] + workers['week'].astype(str)\n",
    "\n",
    "# create chain fixed effects\n",
    "test = pd.concat([workers, pd.get_dummies(workers['chain'], prefix=\"chain_\")])\n",
    "\n",
    "allcols = workers.columns\n",
    "endog_names = [x for x in allcols if \"salary\" in x or \"chain_\" in x]\n",
    "endog_names = endog_names + ['distance', 'distance_sq']\n",
    "exog_names = 'pr_work'\n",
    "\n",
    "mdl = ConditionalLogit( # **kwargs are for LikelihoodModel Class\n",
    "    endog = np.array(workers[exog_names]),\n",
    "    exog = np.array(workers[endog_names]),\n",
    "    groups = np.array(workers['strata'])\n",
    ")\n",
    "\n",
    "res = mdl.fit(method=\"lbfgs\", display=True)\n",
    "\n",
    "resdf = pd.DataFrame([(res.params[i], endog_names[i]) for i in range(len(endog_names))], columns = ['beta', 'name'])\n",
    "\n",
    "resdf.to_csv(data_dyn + \"clogit_out.csv\", index=False)"
   ]
  },
  {
   "cell_type": "markdown",
   "metadata": {},
   "source": [
    "### Older stuff"
   ]
  },
  {
   "cell_type": "code",
   "execution_count": null,
   "metadata": {},
   "outputs": [
    {
     "data": {
      "application/vnd.jupyter.widget-view+json": {
       "model_id": "ea173d43ff0d43328807706410ea0f2f",
       "version_major": 2,
       "version_minor": 0
      },
      "text/plain": [
       "VBox()"
      ]
     },
     "metadata": {},
     "output_type": "display_data"
    },
    {
     "data": {
      "application/vnd.jupyter.widget-view+json": {
       "model_id": "",
       "version_major": 2,
       "version_minor": 0
      },
      "text/plain": [
       "FloatProgress(value=0.0, bar_style='info', description='Progress:', layout=Layout(height='25px', width='50%'),…"
      ]
     },
     "metadata": {},
     "output_type": "display_data"
    }
   ],
   "source": [
    "## create dummies\n",
    "\n",
    "def dummiesWithRef(df, ref = \"0_0\", inputCol = \"chain_week\", dropLast=False):\n",
    "    # Step 1: Preprocess Data\n",
    "    # Create a unique identifier for each 'chain-week' combination\n",
    "\n",
    "\n",
    "    # First, convert 'date' into numeric indices\n",
    "    inputIndex = inputCol + \"_index\"\n",
    "    chainWeekIndexer = StringIndexer(inputCol=inputCol, outputCol=inputIndex).fit(df)\n",
    "    df = chainWeekIndexer.transform(df)\n",
    "\n",
    "\n",
    "    # Apply OneHotEncoder without dropping the last category\n",
    "    inputVec = inputCol + \"_vec\"\n",
    "    chainWeekEncoder = OneHotEncoder(inputCol=inputIndex, outputCol=inputVec, \n",
    "                                     dropLast=dropLast) # !! change if including outside option\n",
    "\n",
    "    # Define a Pipeline that includes both the indexer and the encoder\n",
    "    pipeline = Pipeline(stages=[chainWeekEncoder])\n",
    "\n",
    "    # Fit the pipeline to the data\n",
    "    pipelineModel = pipeline.fit(df)\n",
    "\n",
    "    # Transform the data\n",
    "    df = pipelineModel.transform(df)\n",
    "\n",
    "    if not dropLast:\n",
    "        # now reset the reference category to the outside option\n",
    "\n",
    "        # Assuming you want to exclude the minimum label similar to the Scala code\n",
    "        # First, get the array of labels from the StringIndexer, sorted by index\n",
    "        labels = chainWeekIndexer.labels\n",
    "\n",
    "        # Exclude the 0_0 label\n",
    "        indexOfExcludedLabel = labels.index(ref)\n",
    "\n",
    "        # Prepare the indices to keep (all except the index of the excluded label)\n",
    "        indicesToKeep = list(range(len(labels)))\n",
    "        indicesToKeep.remove(indexOfExcludedLabel)\n",
    "\n",
    "        # Use VectorSlicer to select the indices\n",
    "        slicer = VectorSlicer(inputCol=inputVec, outputCol=inputVec + \"_reference\", indices=indicesToKeep)\n",
    "\n",
    "        # Transform to get the final DataFrame with selected features\n",
    "        df = slicer.transform(df)\n",
    "\n",
    "    return df, chainWeekIndexer\n",
    "\n",
    "extended_dwomes = extended_dwomes.withColumn(\"chain_week\", F.concat(F.col(\"chain\"), F.lit(\"_\"), F.col(\"week\")))\n",
    "extended_dwomes, chainWeekIndexer = dummiesWithRef(extended_dwomes.drop(\"chain_week_index\", \n",
    "                                                                        \"chain_week_vec_reference\", \n",
    "                                                                        \"chain_week_vec\"), \n",
    "                                                   ref = \"0_0\", \n",
    "                                                   inputCol = \"chain_week\", dropLast=False)\n",
    "\n",
    "# extended_dwomes, weekIndexer = dummiesWithRef(extended_dwomes.drop(\"chain_week_index\", \n",
    "#                                                                         \"chain_week_vec_reference\", \n",
    "#                                                                         \"chain_week_vec\"), \n",
    "#                                                    ref = \"0\", \n",
    "#                                                    inputCol = \"week\")\n",
    "\n",
    "# extended_dwomes, czIndexer = dummiesWithRef(extended_dwomes.drop(\"chain_week_index\", \n",
    "#                                                                         \"chain_week_vec_reference\", \n",
    "#                                                                         \"chain_week_vec\"), \n",
    "#                                                    ref = \"0\", \n",
    "#                                                    inputCol = \"cz\")\n"
   ]
  },
  {
   "cell_type": "code",
   "execution_count": null,
   "metadata": {},
   "outputs": [
    {
     "data": {
      "application/vnd.jupyter.widget-view+json": {
       "model_id": "3c3d9fa8dbc14ea4868204e7beeae7ad",
       "version_major": 2,
       "version_minor": 0
      },
      "text/plain": [
       "VBox()"
      ]
     },
     "metadata": {},
     "output_type": "display_data"
    },
    {
     "data": {
      "application/vnd.jupyter.widget-view+json": {
       "model_id": "",
       "version_major": 2,
       "version_minor": 0
      },
      "text/plain": [
       "FloatProgress(value=0.0, bar_style='info', description='Progress:', layout=Layout(height='25px', width='50%'),…"
      ]
     },
     "metadata": {},
     "output_type": "display_data"
    }
   ],
   "source": [
    "# # generate choice-level dummies\n",
    "# extended_dwomes = extended_dwomes.withColumn(\"cs_index\", F.concat(F.col(\"caid\"), F.col(\"week\")))\n",
    "# extended_dwomes, csIndexer = dummiesWithRef(extended_dwomes, ref = \"outside-option\", inputCol = \"cs_index\",\n",
    "#                                                  dropLast=False)\n"
   ]
  },
  {
   "cell_type": "code",
   "execution_count": null,
   "metadata": {},
   "outputs": [
    {
     "data": {
      "application/vnd.jupyter.widget-view+json": {
       "model_id": "a8b4a70648b44a0aada8200fbb13801f",
       "version_major": 2,
       "version_minor": 0
      },
      "text/plain": [
       "VBox()"
      ]
     },
     "metadata": {},
     "output_type": "display_data"
    },
    {
     "data": {
      "application/vnd.jupyter.widget-view+json": {
       "model_id": "",
       "version_major": 2,
       "version_minor": 0
      },
      "text/plain": [
       "FloatProgress(value=0.0, bar_style='info', description='Progress:', layout=Layout(height='25px', width='50%'),…"
      ]
     },
     "metadata": {},
     "output_type": "display_data"
    }
   ],
   "source": [
    "# # generate store-level dummies\n",
    "# inputCol = \"placekey\"\n",
    "# extended_dwomes, placekeyIndexer = dummiesWithRef(extended_dwomes.drop(\"placekey_index\",\n",
    "#                                                   \"placekey_vec\", \"placekey_vec_reference\"), \n",
    "#                                                   ref = \"outside-option\", inputCol = inputCol,\n",
    "#                                                  dropLast=False)\n"
   ]
  },
  {
   "cell_type": "code",
   "execution_count": null,
   "metadata": {},
   "outputs": [
    {
     "data": {
      "application/vnd.jupyter.widget-view+json": {
       "model_id": "9dd513f01e85478298777f970c79a090",
       "version_major": 2,
       "version_minor": 0
      },
      "text/plain": [
       "VBox()"
      ]
     },
     "metadata": {},
     "output_type": "display_data"
    },
    {
     "data": {
      "application/vnd.jupyter.widget-view+json": {
       "model_id": "",
       "version_major": 2,
       "version_minor": 0
      },
      "text/plain": [
       "FloatProgress(value=0.0, bar_style='info', description='Progress:', layout=Layout(height='25px', width='50%'),…"
      ]
     },
     "metadata": {},
     "output_type": "display_data"
    }
   ],
   "source": [
    "extended_dwomes = extended_dwomes.withColumn(\"wkt_area_sq_meters\", F.col(\"wkt_area_sq_meters\").cast(LongType()))"
   ]
  },
  {
   "cell_type": "markdown",
   "metadata": {},
   "source": [
    "### Fit Model"
   ]
  },
  {
   "cell_type": "code",
   "execution_count": null,
   "metadata": {},
   "outputs": [
    {
     "data": {
      "application/vnd.jupyter.widget-view+json": {
       "model_id": "19ceb252d8de4aa1bdede6408bccfc48",
       "version_major": 2,
       "version_minor": 0
      },
      "text/plain": [
       "VBox()"
      ]
     },
     "metadata": {},
     "output_type": "display_data"
    },
    {
     "data": {
      "application/vnd.jupyter.widget-view+json": {
       "model_id": "",
       "version_major": 2,
       "version_minor": 0
      },
      "text/plain": [
       "FloatProgress(value=0.0, bar_style='info', description='Progress:', layout=Layout(height='25px', width='50%'),…"
      ]
     },
     "metadata": {},
     "output_type": "display_data"
    },
    {
     "name": "stderr",
     "output_type": "stream",
     "text": [
      "An error was encountered:\n",
      "cs_index_vec does not exist. Available: placekey, cz, chain, caid, week, pr_work, open_hours, includes_parking_lot, latitude, longitude, latitude_home, longitude_home, cz_home, SALARY, wkt_area_sq_meters, distance, distance_sq, total_caids, total_caids_sq, wage_log, caidIndex, caid_salary, chain_week, chain_week_index, chain_week_vec, chain_week_vec_reference, cs_index, placekey_index, placekey_vec, placekey_vec_reference\n",
      "Traceback (most recent call last):\n",
      "  File \"/mnt1/yarn/usercache/livy/appcache/application_1710859788853_0005/container_1710859788853_0005_01_000001/pyspark.zip/pyspark/ml/base.py\", line 205, in fit\n",
      "    return self._fit(dataset)\n",
      "  File \"/mnt1/yarn/usercache/livy/appcache/application_1710859788853_0005/container_1710859788853_0005_01_000001/pyspark.zip/pyspark/ml/pipeline.py\", line 132, in _fit\n",
      "    dataset = stage.transform(dataset)\n",
      "  File \"/mnt1/yarn/usercache/livy/appcache/application_1710859788853_0005/container_1710859788853_0005_01_000001/pyspark.zip/pyspark/ml/base.py\", line 262, in transform\n",
      "    return self._transform(dataset)\n",
      "  File \"/mnt1/yarn/usercache/livy/appcache/application_1710859788853_0005/container_1710859788853_0005_01_000001/pyspark.zip/pyspark/ml/wrapper.py\", line 398, in _transform\n",
      "    return DataFrame(self._java_obj.transform(dataset._jdf), dataset.sparkSession)\n",
      "  File \"/mnt1/yarn/usercache/livy/appcache/application_1710859788853_0005/container_1710859788853_0005_01_000001/py4j-0.10.9.7-src.zip/py4j/java_gateway.py\", line 1323, in __call__\n",
      "    answer, self.gateway_client, self.target_id, self.name)\n",
      "  File \"/mnt1/yarn/usercache/livy/appcache/application_1710859788853_0005/container_1710859788853_0005_01_000001/pyspark.zip/pyspark/errors/exceptions/captured.py\", line 175, in deco\n",
      "    raise converted from None\n",
      "pyspark.errors.exceptions.captured.IllegalArgumentException: cs_index_vec does not exist. Available: placekey, cz, chain, caid, week, pr_work, open_hours, includes_parking_lot, latitude, longitude, latitude_home, longitude_home, cz_home, SALARY, wkt_area_sq_meters, distance, distance_sq, total_caids, total_caids_sq, wage_log, caidIndex, caid_salary, chain_week, chain_week_index, chain_week_vec, chain_week_vec_reference, cs_index, placekey_index, placekey_vec, placekey_vec_reference\n",
      "\n"
     ]
    }
   ],
   "source": [
    "\n",
    "# Assume 'total_caids', 'total_caids_sq', and 'weekend_hours' are already in the DataFrame\n",
    "\n",
    "# Step 2: Assemble Features\n",
    "cols_other = [\"distance\", \"distance_sq\"]\n",
    "\n",
    "# Assuming 'caid_salary' is your caid-specific salary column and already exists\n",
    "featureCols =  cols_other + [\"caid_salary\", \"cs_index_vec\", \"chain_week_vec_reference\"] \n",
    "assembler = VectorAssembler(inputCols=featureCols, outputCol=\"features\", handleInvalid=\"skip\")\n",
    "\n",
    "\n",
    "# # Step 3: Train the Model\n",
    "lr = LogisticRegression(featuresCol=\"features\", labelCol=\"pr_work\", fitIntercept=True,\n",
    "                        standardization=True, maxIter=5000) #  GeneralizedLinearRegression(family=\"binomial\", link=\"logit\", featuresCol=\"features\", labelCol=\"pr_work\")\n",
    "\n",
    "# Create the pipeline\n",
    "pipeline = Pipeline(stages=[assembler, lr]) \n",
    "\n",
    "# Fit the pipeline to the training data\n",
    "pipelineModel = pipeline.fit(extended_dwomes)\n",
    "\n"
   ]
  },
  {
   "cell_type": "code",
   "execution_count": null,
   "metadata": {},
   "outputs": [
    {
     "data": {
      "application/vnd.jupyter.widget-view+json": {
       "model_id": "bdbb3a9a8e984e43a9fc1be5afedfaa1",
       "version_major": 2,
       "version_minor": 0
      },
      "text/plain": [
       "VBox()"
      ]
     },
     "metadata": {},
     "output_type": "display_data"
    },
    {
     "data": {
      "application/vnd.jupyter.widget-view+json": {
       "model_id": "",
       "version_major": 2,
       "version_minor": 0
      },
      "text/plain": [
       "FloatProgress(value=0.0, bar_style='info', description='Progress:', layout=Layout(height='25px', width='50%'),…"
      ]
     },
     "metadata": {},
     "output_type": "display_data"
    }
   ],
   "source": [
    "# extended_dwomes.filter(F.greatest(*[F.col(i).isNull() for i in cols_other])).select(cols_other + ['placekey']).show(5)\n"
   ]
  },
  {
   "cell_type": "code",
   "execution_count": null,
   "metadata": {},
   "outputs": [
    {
     "data": {
      "application/vnd.jupyter.widget-view+json": {
       "model_id": "4380e57bf41a4aa19755a814af340d01",
       "version_major": 2,
       "version_minor": 0
      },
      "text/plain": [
       "VBox()"
      ]
     },
     "metadata": {},
     "output_type": "display_data"
    },
    {
     "data": {
      "application/vnd.jupyter.widget-view+json": {
       "model_id": "",
       "version_major": 2,
       "version_minor": 0
      },
      "text/plain": [
       "FloatProgress(value=0.0, bar_style='info', description='Progress:', layout=Layout(height='25px', width='50%'),…"
      ]
     },
     "metadata": {},
     "output_type": "display_data"
    },
    {
     "name": "stderr",
     "output_type": "stream",
     "text": [
      "An error was encountered:\n",
      "name 'pipelineModel' is not defined\n",
      "Traceback (most recent call last):\n",
      "NameError: name 'pipelineModel' is not defined\n",
      "\n"
     ]
    }
   ],
   "source": [
    "# Extract the Logistic Regression model from the fitted pipeline\n",
    "glmModel = pipelineModel.stages[-1]\n",
    "\n",
    "# Retrieve the coefficients\n",
    "coefficients = glmModel.coefficients"
   ]
  },
  {
   "cell_type": "code",
   "execution_count": null,
   "metadata": {},
   "outputs": [
    {
     "data": {
      "application/vnd.jupyter.widget-view+json": {
       "model_id": "e0f4cf1e774e426884b5bb8cac134b6d",
       "version_major": 2,
       "version_minor": 0
      },
      "text/plain": [
       "VBox()"
      ]
     },
     "metadata": {},
     "output_type": "display_data"
    },
    {
     "data": {
      "application/vnd.jupyter.widget-view+json": {
       "model_id": "",
       "version_major": 2,
       "version_minor": 0
      },
      "text/plain": [
       "FloatProgress(value=0.0, bar_style='info', description='Progress:', layout=Layout(height='25px', width='50%'),…"
      ]
     },
     "metadata": {},
     "output_type": "display_data"
    },
    {
     "name": "stderr",
     "output_type": "stream",
     "text": [
      "An error was encountered:\n",
      "name 'glmModel' is not defined\n",
      "Traceback (most recent call last):\n",
      "NameError: name 'glmModel' is not defined\n",
      "\n"
     ]
    }
   ],
   "source": [
    "# Objective history\n",
    "summary = glmModel.summary\n",
    "\n",
    "objectiveHistory = summary.objectiveHistory\n",
    "print(\"Objective History:\")\n",
    "# for objective in objectiveHistory:\n",
    "#     print(objective)\n",
    "\n",
    "# Check for convergence by examining the reduction in objective function value\n",
    "if len(objectiveHistory) < lr.getMaxIter() and abs(objectiveHistory[-1] - objectiveHistory[-2]) < lr.getTol():\n",
    "    print(\"Model likely converged.\")\n",
    "else:\n",
    "    print(\"Model may not have converged.\")"
   ]
  },
  {
   "cell_type": "code",
   "execution_count": null,
   "metadata": {},
   "outputs": [
    {
     "data": {
      "application/vnd.jupyter.widget-view+json": {
       "model_id": "22b21bb493564a7fbba7e54082a472bb",
       "version_major": 2,
       "version_minor": 0
      },
      "text/plain": [
       "VBox()"
      ]
     },
     "metadata": {},
     "output_type": "display_data"
    },
    {
     "data": {
      "application/vnd.jupyter.widget-view+json": {
       "model_id": "",
       "version_major": 2,
       "version_minor": 0
      },
      "text/plain": [
       "FloatProgress(value=0.0, bar_style='info', description='Progress:', layout=Layout(height='25px', width='50%'),…"
      ]
     },
     "metadata": {},
     "output_type": "display_data"
    }
   ],
   "source": [
    "cols_other = [\"distance\", \"distance_sq\"]\n",
    "coefficients_labels = cols_other + ['salary_' + caid for caid in model_caids.labels] +csIndexer.labels # + chainWeekIndexer.labels + placekeyIndexer.labels\n"
   ]
  },
  {
   "cell_type": "code",
   "execution_count": null,
   "metadata": {},
   "outputs": [
    {
     "data": {
      "application/vnd.jupyter.widget-view+json": {
       "model_id": "86a9b28ad8534c16ba6743f981c775cc",
       "version_major": 2,
       "version_minor": 0
      },
      "text/plain": [
       "VBox()"
      ]
     },
     "metadata": {},
     "output_type": "display_data"
    },
    {
     "data": {
      "application/vnd.jupyter.widget-view+json": {
       "model_id": "",
       "version_major": 2,
       "version_minor": 0
      },
      "text/plain": [
       "FloatProgress(value=0.0, bar_style='info', description='Progress:', layout=Layout(height='25px', width='50%'),…"
      ]
     },
     "metadata": {},
     "output_type": "display_data"
    }
   ],
   "source": [
    "coefficientsMapping = [(coefficients_labels[i], coefficients[i]) for i in range(len(coefficients))]\n"
   ]
  },
  {
   "cell_type": "code",
   "execution_count": null,
   "metadata": {},
   "outputs": [
    {
     "data": {
      "application/vnd.jupyter.widget-view+json": {
       "model_id": "49955d6c057e41b1b0a96465aec2a503",
       "version_major": 2,
       "version_minor": 0
      },
      "text/plain": [
       "VBox()"
      ]
     },
     "metadata": {},
     "output_type": "display_data"
    },
    {
     "data": {
      "application/vnd.jupyter.widget-view+json": {
       "model_id": "",
       "version_major": 2,
       "version_minor": 0
      },
      "text/plain": [
       "FloatProgress(value=0.0, bar_style='info', description='Progress:', layout=Layout(height='25px', width='50%'),…"
      ]
     },
     "metadata": {},
     "output_type": "display_data"
    }
   ],
   "source": [
    "coeffs = pd.DataFrame(coefficientsMapping, columns = ['name', 'beta'])"
   ]
  },
  {
   "cell_type": "code",
   "execution_count": null,
   "metadata": {},
   "outputs": [
    {
     "data": {
      "application/vnd.jupyter.widget-view+json": {
       "model_id": "2b7fff738b804c23a47ccdc63daee7d6",
       "version_major": 2,
       "version_minor": 0
      },
      "text/plain": [
       "VBox()"
      ]
     },
     "metadata": {},
     "output_type": "display_data"
    },
    {
     "data": {
      "application/vnd.jupyter.widget-view+json": {
       "model_id": "",
       "version_major": 2,
       "version_minor": 0
      },
      "text/plain": [
       "FloatProgress(value=0.0, bar_style='info', description='Progress:', layout=Layout(height='25px', width='50%'),…"
      ]
     },
     "metadata": {},
     "output_type": "display_data"
    },
    {
     "name": "stdout",
     "output_type": "stream",
     "text": [
      "                                                  name      beta\n",
      "2    salary_bae3e332ed8194117fd4bb2d44913d7b932c376... -0.150854\n",
      "3    salary_f545f25950a0ad02dd4b516eb0fecfa8c40d5c6... -0.199497\n",
      "4    salary_4d6082621266178b35772d13fc725b7d639dbf6...  0.078731\n",
      "5    salary_9b3942a5d88a1a847e47096881ddc74d220287e...  0.058730\n",
      "6    salary_ca4c1bfb518650077c1ce82aac50c50bd2eb555... -0.573626\n",
      "..                                                 ...       ...\n",
      "650  salary_3a71d902f989953d6b3d55087caf6ab7fc396b4... -0.351000\n",
      "651  salary_c44171c5538c839556b2a35f405317a19422237... -0.380415\n",
      "652  salary_34959dfe163dda68f4039b32884e3b2cd3116a7... -0.177261\n",
      "653  salary_6e5ab2ee3c29b7688dcc423f556d8f0b41e8ab1... -0.172911\n",
      "654  salary_250a6cfcd02347701659d761a8223d396ed41da... -0.136042\n",
      "\n",
      "[653 rows x 2 columns]"
     ]
    }
   ],
   "source": [
    "coeffs[coeffs.name.str.contains(\"salary\")]"
   ]
  },
  {
   "cell_type": "code",
   "execution_count": null,
   "metadata": {},
   "outputs": [
    {
     "data": {
      "application/vnd.jupyter.widget-view+json": {
       "model_id": "f4a2c302f41e42aabcef9a711f1c21c9",
       "version_major": 2,
       "version_minor": 0
      },
      "text/plain": [
       "VBox()"
      ]
     },
     "metadata": {},
     "output_type": "display_data"
    },
    {
     "data": {
      "application/vnd.jupyter.widget-view+json": {
       "model_id": "",
       "version_major": 2,
       "version_minor": 0
      },
      "text/plain": [
       "FloatProgress(value=0.0, bar_style='info', description='Progress:', layout=Layout(height='25px', width='50%'),…"
      ]
     },
     "metadata": {},
     "output_type": "display_data"
    },
    {
     "data": {
      "image/png": "[encoded data removed]",
      "text/plain": [
       "<IPython.core.display.Image object>"
      ]
     },
     "metadata": {},
     "output_type": "display_data"
    }
   ],
   "source": [
    "# NB the distribution is bimodal with negative wage coefficients when I have week-chain fixed effects and I have no idea why\n",
    "fig, ax = plt.subplots(1,1)\n",
    "coeffs[coeffs.name.str.contains('salary')]['beta'].hist(bins = 1000, ax=ax)\n",
    "plt.xlim(-2,2)\n",
    "%matplot plt"
   ]
  },
  {
   "cell_type": "code",
   "execution_count": null,
   "metadata": {},
   "outputs": [
    {
     "data": {
      "application/vnd.jupyter.widget-view+json": {
       "model_id": "87db50cc7cae41bb9fb2be757b135dfc",
       "version_major": 2,
       "version_minor": 0
      },
      "text/plain": [
       "VBox()"
      ]
     },
     "metadata": {},
     "output_type": "display_data"
    },
    {
     "data": {
      "application/vnd.jupyter.widget-view+json": {
       "model_id": "",
       "version_major": 2,
       "version_minor": 0
      },
      "text/plain": [
       "FloatProgress(value=0.0, bar_style='info', description='Progress:', layout=Layout(height='25px', width='50%'),…"
      ]
     },
     "metadata": {},
     "output_type": "display_data"
    },
    {
     "name": "stdout",
     "output_type": "stream",
     "text": [
      "+---+\n",
      "| cz|\n",
      "+---+\n",
      "|356|\n",
      "|583|\n",
      "| 54|\n",
      "|151|\n",
      "|196|\n",
      "|349|\n",
      "|284|\n",
      "|214|\n",
      "|144|\n",
      "| 31|\n",
      "|230|\n",
      "|566|\n",
      "|625|\n",
      "|436|\n",
      "|127|\n",
      "|640|\n",
      "| 83|\n",
      "|185|\n",
      "|465|\n",
      "|637|\n",
      "+---+\n",
      "only showing top 20 rows"
     ]
    }
   ],
   "source": [
    " extended_dwomes.select(\"cz\").distinct().show()"
   ]
  },
  {
   "cell_type": "code",
   "execution_count": null,
   "metadata": {},
   "outputs": [
    {
     "data": {
      "application/vnd.jupyter.widget-view+json": {
       "model_id": "e203f3165d22481aa643eecbd9abb864",
       "version_major": 2,
       "version_minor": 0
      },
      "text/plain": [
       "VBox()"
      ]
     },
     "metadata": {},
     "output_type": "display_data"
    },
    {
     "data": {
      "application/vnd.jupyter.widget-view+json": {
       "model_id": "",
       "version_major": 2,
       "version_minor": 0
      },
      "text/plain": [
       "FloatProgress(value=0.0, bar_style='info', description='Progress:', layout=Layout(height='25px', width='50%'),…"
      ]
     },
     "metadata": {},
     "output_type": "display_data"
    }
   ],
   "source": [
    "# check what caids the coefficients belong to\n",
    "coeffs = coeffs[coeffs.name.str.contains(\"salary\")]\n",
    "coeffs['caid'] = coeffs['name'].str.split(\"_\").str[-1]\n",
    "coeffs.drop('name', axis=1, inplace=True)\n"
   ]
  },
  {
   "cell_type": "code",
   "execution_count": null,
   "metadata": {},
   "outputs": [
    {
     "data": {
      "application/vnd.jupyter.widget-view+json": {
       "model_id": "2d7190df0a684ec5ab99c3ed07460e35",
       "version_major": 2,
       "version_minor": 0
      },
      "text/plain": [
       "VBox()"
      ]
     },
     "metadata": {},
     "output_type": "display_data"
    },
    {
     "data": {
      "application/vnd.jupyter.widget-view+json": {
       "model_id": "",
       "version_major": 2,
       "version_minor": 0
      },
      "text/plain": [
       "FloatProgress(value=0.0, bar_style='info', description='Progress:', layout=Layout(height='25px', width='50%'),…"
      ]
     },
     "metadata": {},
     "output_type": "display_data"
    }
   ],
   "source": [
    "coeffs.to_csv(data_dyn +\"coeffs_inspect.csv\")\n"
   ]
  },
  {
   "cell_type": "code",
   "execution_count": null,
   "metadata": {},
   "outputs": [
    {
     "data": {
      "application/vnd.jupyter.widget-view+json": {
       "model_id": "ca3ac3ef7b7841459a91f966b8994596",
       "version_major": 2,
       "version_minor": 0
      },
      "text/plain": [
       "VBox()"
      ]
     },
     "metadata": {},
     "output_type": "display_data"
    },
    {
     "data": {
      "application/vnd.jupyter.widget-view+json": {
       "model_id": "",
       "version_major": 2,
       "version_minor": 0
      },
      "text/plain": [
       "FloatProgress(value=0.0, bar_style='info', description='Progress:', layout=Layout(height='25px', width='50%'),…"
      ]
     },
     "metadata": {},
     "output_type": "display_data"
    }
   ],
   "source": [
    "coeffs = pd.read_csv(data_dyn + \"coeffs_inspect.csv\")"
   ]
  },
  {
   "cell_type": "code",
   "execution_count": null,
   "metadata": {},
   "outputs": [
    {
     "data": {
      "application/vnd.jupyter.widget-view+json": {
       "model_id": "7d6c0b21ee6443d0bfc80beb1e066d50",
       "version_major": 2,
       "version_minor": 0
      },
      "text/plain": [
       "VBox()"
      ]
     },
     "metadata": {},
     "output_type": "display_data"
    },
    {
     "data": {
      "application/vnd.jupyter.widget-view+json": {
       "model_id": "",
       "version_major": 2,
       "version_minor": 0
      },
      "text/plain": [
       "FloatProgress(value=0.0, bar_style='info', description='Progress:', layout=Layout(height='25px', width='50%'),…"
      ]
     },
     "metadata": {},
     "output_type": "display_data"
    }
   ],
   "source": [
    "temp = spark.read.csv(data_dyn + \"coeffs_inspect.csv\", header=True)\n",
    "waza = extended_dwomes.join(temp, on = ['caid'], how = 'inner')"
   ]
  },
  {
   "cell_type": "code",
   "execution_count": null,
   "metadata": {},
   "outputs": [
    {
     "data": {
      "application/vnd.jupyter.widget-view+json": {
       "model_id": "9bbf5486e04e4cd3a192d3956943438d",
       "version_major": 2,
       "version_minor": 0
      },
      "text/plain": [
       "VBox()"
      ]
     },
     "metadata": {},
     "output_type": "display_data"
    },
    {
     "data": {
      "application/vnd.jupyter.widget-view+json": {
       "model_id": "",
       "version_major": 2,
       "version_minor": 0
      },
      "text/plain": [
       "FloatProgress(value=0.0, bar_style='info', description='Progress:', layout=Layout(height='25px', width='50%'),…"
      ]
     },
     "metadata": {},
     "output_type": "display_data"
    }
   ],
   "source": [
    "waza = waza.groupBy(['caid']).agg(F.avg(\"cz\").alias(\"cz\"), F.avg(\"beta\").alias(\"beta\"))\n"
   ]
  },
  {
   "cell_type": "code",
   "execution_count": null,
   "metadata": {},
   "outputs": [
    {
     "data": {
      "application/vnd.jupyter.widget-view+json": {
       "model_id": "51a1c06657de4f6584d9a446c9863c36",
       "version_major": 2,
       "version_minor": 0
      },
      "text/plain": [
       "VBox()"
      ]
     },
     "metadata": {},
     "output_type": "display_data"
    },
    {
     "data": {
      "application/vnd.jupyter.widget-view+json": {
       "model_id": "",
       "version_major": 2,
       "version_minor": 0
      },
      "text/plain": [
       "FloatProgress(value=0.0, bar_style='info', description='Progress:', layout=Layout(height='25px', width='50%'),…"
      ]
     },
     "metadata": {},
     "output_type": "display_data"
    }
   ],
   "source": [
    "waza = waza.groupBy(['caid']).agg(F.sum(((F.col(\"placekey\") == 'outside-option') & \n",
    "                                         (F.col(\"pr_work\") == 1)).cast(IntegerType())).alias(\"cnt\"), F.avg(\"beta\").alias(\"beta\"))\n"
   ]
  },
  {
   "cell_type": "code",
   "execution_count": null,
   "metadata": {},
   "outputs": [
    {
     "data": {
      "application/vnd.jupyter.widget-view+json": {
       "model_id": "508abf4fcba64da4bea2a6032c74e43a",
       "version_major": 2,
       "version_minor": 0
      },
      "text/plain": [
       "VBox()"
      ]
     },
     "metadata": {},
     "output_type": "display_data"
    },
    {
     "data": {
      "application/vnd.jupyter.widget-view+json": {
       "model_id": "",
       "version_major": 2,
       "version_minor": 0
      },
      "text/plain": [
       "FloatProgress(value=0.0, bar_style='info', description='Progress:', layout=Layout(height='25px', width='50%'),…"
      ]
     },
     "metadata": {},
     "output_type": "display_data"
    },
    {
     "name": "stdout",
     "output_type": "stream",
     "text": [
      "+------------------+\n",
      "|          avg(cnt)|\n",
      "+------------------+\n",
      "|0.9501096612685261|\n",
      "+------------------+"
     ]
    }
   ],
   "source": [
    "# waza.filter((F.col(\"beta\") > 0)).agg(F.avg((F.col(\"placekey\") == \"outside-option\").cast(IntegerType()))).show()\n",
    "waza.filter(F.col(\"beta\") > 0).agg(F.avg(\"cnt\")).show()"
   ]
  },
  {
   "cell_type": "code",
   "execution_count": null,
   "metadata": {},
   "outputs": [
    {
     "data": {
      "application/vnd.jupyter.widget-view+json": {
       "model_id": "ada7c6d7b5f14e28af2201a6ae36239d",
       "version_major": 2,
       "version_minor": 0
      },
      "text/plain": [
       "VBox()"
      ]
     },
     "metadata": {},
     "output_type": "display_data"
    },
    {
     "data": {
      "application/vnd.jupyter.widget-view+json": {
       "model_id": "",
       "version_major": 2,
       "version_minor": 0
      },
      "text/plain": [
       "FloatProgress(value=0.0, bar_style='info', description='Progress:', layout=Layout(height='25px', width='50%'),…"
      ]
     },
     "metadata": {},
     "output_type": "display_data"
    },
    {
     "name": "stdout",
     "output_type": "stream",
     "text": [
      "+------------------+\n",
      "|          avg(cnt)|\n",
      "+------------------+\n",
      "|1.1446198432388521|\n",
      "+------------------+"
     ]
    }
   ],
   "source": [
    "# waza.filter((F.col(\"beta\") < -0.5) & \n",
    "# (F.col(\"pr_work\") == 1)).agg(F.avg(F.col(\"pr_work\") * (F.col(\"placekey\") == \"outside-option\").cast(IntegerType()))).show()\n",
    "\n",
    "waza.filter(F.col(\"beta\") < -0.5).agg(F.avg(\"cnt\")).show()\n"
   ]
  },
  {
   "cell_type": "markdown",
   "metadata": {},
   "source": [
    "## Test Conditional Likelihood Implementation"
   ]
  },
  {
   "cell_type": "code",
   "execution_count": null,
   "metadata": {},
   "outputs": [],
   "source": []
  }
 ],
 "metadata": {
  "kernelspec": {
   "display_name": "PySpark",
   "language": "python",
   "name": "pysparkkernel"
  },
  "language_info": {
   "codemirror_mode": {
    "name": "python",
    "version": 3
   },
   "file_extension": ".py",
   "mimetype": "text/x-python",
   "name": "pyspark",
   "pygments_lexer": "python3"
  }
 },
 "nbformat": 4,
 "nbformat_minor": 4
}
